{
  "cells": [
    {
      "cell_type": "code",
      "execution_count": null,
      "metadata": {
        "colab": {
          "base_uri": "https://localhost:8080/"
        },
        "id": "EZt7_CyMYP9Z",
        "outputId": "fced7b8b-c5fb-4b1d-c2ab-e8d9d630c95e"
      },
      "outputs": [
        {
          "name": "stdout",
          "output_type": "stream",
          "text": [
            "Mounted at /content/drive\n"
          ]
        }
      ],
      "source": [
        "from google.colab import drive\n",
        "import os\n",
        "\n",
        "drive.mount('/content/drive')\n",
        "\n",
        "# ↓ 若已解壓可跳過\n",
        "!unzip -q \"/content/drive/MyDrive/Colab Notebooks/8_4_8dataset/cor.zip\" -d /content"
      ]
    },
    {
      "cell_type": "code",
      "execution_count": null,
      "metadata": {
        "id": "7jrOlwimV7Ua"
      },
      "outputs": [],
      "source": [
        "!unzip -q \"/content/drive/MyDrive/Colab Notebooks/新csv.zip\" -d /content"
      ]
    },
    {
      "cell_type": "code",
      "execution_count": null,
      "metadata": {
        "id": "jPFZy7YoOaZW"
      },
      "outputs": [],
      "source": [
        "import os, glob\n",
        "import numpy as np\n",
        "import pandas as pd\n",
        "import matplotlib.pyplot as plt\n",
        "from tqdm import tqdm\n",
        "from pathlib import Path\n",
        "from sklearn.model_selection import train_test_split\n",
        "from sklearn.metrics import mean_absolute_error\n",
        "\n",
        "import torch\n",
        "import torch.nn as nn\n",
        "import torch.nn.functional as F\n",
        "import torch.optim as optim\n",
        "from torch.utils.data import Dataset, DataLoader"
      ]
    },
    {
      "cell_type": "code",
      "execution_count": null,
      "metadata": {
        "colab": {
          "base_uri": "https://localhost:8080/"
        },
        "id": "5ymogVePObeg",
        "outputId": "815abcb8-74fd-483d-8453-73c1f73127bc"
      },
      "outputs": [
        {
          "name": "stdout",
          "output_type": "stream",
          "text": [
            " 本次使用隨機種子：2908\n",
            " 原始資料筆數：7649\n",
            "測試集切分完成：Test = 1148\n",
            "Fold 1 完成：Train = 5200, Val = 1301\n",
            "Fold 2 完成：Train = 5201, Val = 1300\n",
            "Fold 3 完成：Train = 5201, Val = 1300\n",
            "Fold 4 完成：Train = 5201, Val = 1300\n",
            "Fold 5 完成：Train = 5201, Val = 1300\n"
          ]
        }
      ],
      "source": [
        "import pandas as pd\n",
        "import numpy as np\n",
        "from sklearn.model_selection import train_test_split, KFold\n",
        "\n",
        "# 隨機種子（可固定）\n",
        "seed = np.random.randint(1, 10000)\n",
        "print(f\" 本次使用隨機種子：{seed}\")\n",
        "\n",
        "# 原始資料\n",
        "full_df = pd.read_csv(\"/content/新csv/8_4_9dataset.csv\")\n",
        "print(f\" 原始資料筆數：{len(full_df)}\")\n",
        "\n",
        "# STEP 2. 切出 10% test\n",
        "train_val_df, test_df = train_test_split(full_df, test_size=0.15, random_state=seed, shuffle=True)\n",
        "test_df.to_csv(\"/content/8_4_8dataset_12ch/csv/test.csv\", index=False)\n",
        "print(f\"測試集切分完成：Test = {len(test_df)}\")\n",
        "\n",
        "# STEP 3. 對剩下資料做 5-fold split\n",
        "kf = KFold(n_splits=5, shuffle=True, random_state=seed + 42)\n",
        "for fold, (train_idx, val_idx) in enumerate(kf.split(train_val_df)):\n",
        "    train_df = train_val_df.iloc[train_idx].reset_index(drop=True)\n",
        "    val_df   = train_val_df.iloc[val_idx].reset_index(drop=True)\n",
        "    train_df.to_csv(f\"/content/8_4_8dataset_12ch/csv/fold{fold+1}_train.csv\", index=False)\n",
        "    val_df.to_csv(f\"/content/8_4_8dataset_12ch/csv/fold{fold+1}_val.csv\", index=False)\n",
        "    print(f\"Fold {fold+1} 完成：Train = {len(train_df)}, Val = {len(val_df)}\")\n"
      ]
    },
    {
      "cell_type": "code",
      "execution_count": null,
      "metadata": {
        "id": "HUE-Szt8bpxB"
      },
      "outputs": [],
      "source": [
        "import glob\n",
        "import torch\n",
        "import torch.nn as nn\n",
        "import torch.optim as optim\n",
        "from torch.utils.data import Dataset, DataLoader\n",
        "from sklearn.metrics import mean_absolute_error\n",
        "from tqdm import tqdm\n",
        "from pathlib import Path\n",
        "import matplotlib.pyplot as plt\n",
        "import os\n",
        "\n",
        "class Config:\n",
        "    BATCH_SIZE = 4\n",
        "    IMG_DIR = \"/content/cor\"\n",
        "    TEST_CSV = \"/content/8_4_8dataset_12ch/csv/test.csv\"\n",
        "    SAVE_DIR = \"/content/drive/MyDrive/brain_age_models\"\n",
        "    N_SPLITS = 5\n",
        "\n",
        "os.makedirs(Config.SAVE_DIR, exist_ok=True)\n",
        "\n",
        "cfg = Config()\n",
        "device = torch.device(\"cuda\" if torch.cuda.is_available() else \"cpu\")"
      ]
    },
    {
      "cell_type": "code",
      "execution_count": null,
      "metadata": {
        "id": "oCx20oxQGHIh"
      },
      "outputs": [],
      "source": [
        "################################################################################\n",
        "# 在現有代碼中集成加權損失 - 最小改動版本\n",
        "################################################################################\n",
        "\n",
        "# 1. 添加年齡組計算函數\n",
        "def get_age_group(age):\n",
        "    \"\"\"將年齡映射到年齡組\"\"\"\n",
        "    if age < 5: return \"0-4\"\n",
        "    elif age < 10: return \"5-9\"\n",
        "    elif age < 15: return \"10-14\"\n",
        "    elif age < 20: return \"15-19\"\n",
        "    elif age < 25: return \"20-24\"\n",
        "    elif age < 30: return \"25-29\"\n",
        "    elif age < 35: return \"30-34\"\n",
        "    elif age < 40: return \"35-39\"\n",
        "    elif age < 45: return \"40-44\"\n",
        "    elif age < 50: return \"45-49\"\n",
        "    elif age < 55: return \"50-54\"\n",
        "    elif age < 60: return \"55-59\"\n",
        "    elif age < 65: return \"60-64\"\n",
        "    elif age < 70: return \"65-69\"\n",
        "    elif age < 75: return \"70-74\"\n",
        "    elif age < 80: return \"75-79\"\n",
        "    elif age < 85: return \"80-84\"\n",
        "    elif age < 90: return \"85-89\"\n",
        "    elif age < 95: return \"90-94\"\n",
        "    else: return \"95-99\"\n",
        "\n",
        "# 2. 計算年齡組權重\n",
        "def calculate_age_weights(df, smoothing=0.5, max_weight=20.0):\n",
        "    \"\"\"\n",
        "    計算年齡組權重\n",
        "    Args:\n",
        "        df: 包含AGE列的DataFrame\n",
        "        smoothing: 平滑參數 (0.1-1.0)，越小權重差異越大，越大權重越平均\n",
        "        max_weight: 權重上限，避免極端樣本過度主導\n",
        "    \"\"\"\n",
        "    df['age_group'] = df['AGE'].apply(get_age_group)\n",
        "    age_group_counts = df['age_group'].value_counts().to_dict()\n",
        "    total_samples = len(df)\n",
        "\n",
        "    # 計算權重：權重與樣本數成反比，並加入平滑\n",
        "    age_group_weights = {}\n",
        "    for group, count in age_group_counts.items():\n",
        "        raw_weight = total_samples / count\n",
        "        # 平滑處理：權重 = (1-smoothing) * 原始權重 + smoothing * 1.0\n",
        "        smoothed_weight = (1 - smoothing) * raw_weight + smoothing\n",
        "        #  新增：設置權重上限\n",
        "        age_group_weights[group] = min(smoothed_weight, max_weight)\n",
        "\n",
        "    #  修正：直接返回年齡組權重字典，不是個別年齡權重\n",
        "    print(\" 年齡組權重分佈:\")\n",
        "    for group in sorted(age_group_weights.keys(), key=lambda x: int(x.split('-')[0])):\n",
        "        count = age_group_counts[group]\n",
        "        weight = age_group_weights[group]\n",
        "        raw_weight = total_samples / count\n",
        "        smoothed_weight = (1 - smoothing) * raw_weight + smoothing\n",
        "\n",
        "        # 顯示是否被限制\n",
        "        capped_indicator = \" (限制)\" if smoothed_weight > max_weight else \"\"\n",
        "        print(f\"  {group:>6}: {count:>4} 樣本, 權重 = {weight:.3f}{capped_indicator}\")\n",
        "\n",
        "    return age_group_weights"
      ]
    },
    {
      "cell_type": "code",
      "execution_count": null,
      "metadata": {
        "id": "pAFa-ujGObj-"
      },
      "outputs": [],
      "source": [
        "class GlobalOnlyDatasetWeighted(Dataset):\n",
        "    def __init__(self, df: pd.DataFrame, img_dir: str, age_group_weights_dict=None):\n",
        "        self.df = df.reset_index(drop=True)\n",
        "        self.dir = Path(img_dir)\n",
        "        self.age_group_weights_dict = age_group_weights_dict or {}\n",
        "\n",
        "    def __len__(self):\n",
        "        return len(self.df)\n",
        "\n",
        "    def __getitem__(self, idx):\n",
        "        row = self.df.iloc[idx]\n",
        "        arr = np.load(self.dir / f\"{row['NIfTI_ID']}.npy\")\n",
        "        if arr.shape[0] != 6:\n",
        "            arr = arr.transpose(2, 0, 1)\n",
        "\n",
        "        img = torch.tensor(arr, dtype=torch.float32)\n",
        "        age = torch.tensor(row['AGE'], dtype=torch.float32)\n",
        "        sex = torch.tensor(row['SEX'], dtype=torch.float32)\n",
        "\n",
        "        #  用年齡組獲取權重\n",
        "        age_group = get_age_group(row['AGE'])\n",
        "        weight = self.age_group_weights_dict.get(age_group, 1.0)\n",
        "        sample_weight = torch.tensor(weight, dtype=torch.float32)\n",
        "\n",
        "        return img, age, sex, sample_weight, row['NIfTI_ID']\n",
        "\n",
        "# ===============================================\n",
        "# STEP 2. Dataset 定義\n",
        "# ===============================================\n",
        "class GlobalOnlyDataset(Dataset):\n",
        "    def __init__(self, df: pd.DataFrame, img_dir: str):\n",
        "        self.df = df.reset_index(drop=True)\n",
        "        self.dir = Path(img_dir)\n",
        "\n",
        "    def __len__(self):\n",
        "        return len(self.df)\n",
        "\n",
        "    def __getitem__(self, idx):\n",
        "        row = self.df.iloc[idx]\n",
        "        arr = np.load(self.dir / f\"{row['NIfTI_ID']}.npy\")\n",
        "        if arr.shape[0] != 6:\n",
        "            arr = arr.transpose(2, 0, 1)\n",
        "        img = torch.tensor(arr, dtype=torch.float32)\n",
        "        age = torch.tensor(row['AGE'], dtype=torch.float32)\n",
        "        sex = torch.tensor(row['SEX'], dtype=torch.float32)\n",
        "        return img, age, sex, row['NIfTI_ID']\n",
        "\n",
        "class MixupDualDataset(Dataset):\n",
        "    def __init__(self, dataset, alpha=0.4):\n",
        "        self.original = dataset\n",
        "        self.alpha = alpha\n",
        "        self.df = dataset.df.reset_index(drop=True)\n",
        "        self.dir = dataset.dir\n",
        "        self.sex0_indices = self.df[self.df['SEX'] == 0].index.tolist()\n",
        "        self.sex1_indices = self.df[self.df['SEX'] == 1].index.tolist()\n",
        "\n",
        "    def __len__(self):\n",
        "        return len(self.original) * 2\n",
        "\n",
        "    def __getitem__(self, idx):\n",
        "        if idx < len(self.original):\n",
        "            return self.original[idx]\n",
        "        else:\n",
        "            mix_idx = idx - len(self.original)\n",
        "            anchor = self.df.iloc[mix_idx]\n",
        "            anchor_sex = anchor['SEX']\n",
        "            pool = self.sex0_indices if anchor_sex == 0 else self.sex1_indices\n",
        "            pair_idx = np.random.choice(pool)\n",
        "            pair = self.df.iloc[pair_idx]\n",
        "            lam = np.random.beta(self.alpha, self.alpha)\n",
        "            arr1 = np.load(self.dir / f\"{anchor['NIfTI_ID']}.npy\")\n",
        "            arr2 = np.load(self.dir / f\"{pair['NIfTI_ID']}.npy\")\n",
        "            if arr1.shape[0] != 16: arr1 = arr1.transpose(2, 0, 1)\n",
        "            if arr2.shape[0] != 16: arr2 = arr2.transpose(2, 0, 1)\n",
        "            mixed_img = lam * arr1 + (1 - lam) * arr2\n",
        "            mixed_age = lam * anchor['AGE'] + (1 - lam) * pair['AGE']\n",
        "            img = torch.tensor(mixed_img, dtype=torch.float32)\n",
        "            age = torch.tensor(mixed_age, dtype=torch.float32)\n",
        "            sex = torch.tensor(anchor_sex, dtype=torch.float32)\n",
        "            label = f\"Mix({anchor['NIfTI_ID']},{pair['NIfTI_ID']},λ={lam:.2f})\"\n",
        "            return img, age, sex, label\n",
        "\n"
      ]
    },
    {
      "cell_type": "code",
      "execution_count": null,
      "metadata": {
        "id": "ZAa1hhqWObmn"
      },
      "outputs": [],
      "source": [
        "class BrainAgeModelWithSex(nn.Module):\n",
        "    def __init__(self, in_ch=6, hid=128):\n",
        "        super().__init__()\n",
        "        self.block1 = nn.Sequential(nn.Conv2d(in_ch, 64, 3, padding=1), nn.BatchNorm2d(64), nn.ReLU(), nn.MaxPool2d(2))\n",
        "        self.block2 = nn.Sequential(nn.Conv2d(64, 128, 3, padding=1), nn.BatchNorm2d(128), nn.ReLU(), nn.MaxPool2d(2))\n",
        "        self.block3 = nn.Sequential(nn.Conv2d(128, 256, 3, padding=1), nn.BatchNorm2d(256), nn.ReLU())\n",
        "        self.gap = nn.AdaptiveAvgPool2d(1)\n",
        "        with torch.no_grad():\n",
        "            dummy = torch.zeros(1, in_ch, 218, 218)\n",
        "            x = self.block1(dummy)\n",
        "            x = self.block2(x)\n",
        "            x = self.block3(x)\n",
        "            x = self.gap(x).flatten(1)\n",
        "            img_feature_dim = x.shape[1]\n",
        "        self.fc = nn.Sequential(\n",
        "            nn.Linear(img_feature_dim + 1, hid), nn.ReLU(), nn.Dropout(0.2),\n",
        "            nn.Linear(hid, hid // 2), nn.ReLU(),\n",
        "            nn.Linear(hid // 2, 1)\n",
        "        )\n",
        "\n",
        "    def forward(self, x, sex):\n",
        "        x = self.block1(x)\n",
        "        x = self.block2(x)\n",
        "        x = self.block3(x)\n",
        "        x = self.gap(x).flatten(1)\n",
        "        x = torch.cat([x, sex.unsqueeze(1)], dim=1)\n",
        "        return self.fc(x).squeeze(-1)\n",
        "\n"
      ]
    },
    {
      "cell_type": "code",
      "execution_count": null,
      "metadata": {
        "id": "k1j790k0ObpW"
      },
      "outputs": [],
      "source": [
        "def mse_loss(pred, target):\n",
        "    return 0.5 * torch.mean((pred - target) ** 2)\n",
        "\n",
        "def mae_loss(pred, target):\n",
        "    return torch.mean(torch.abs(pred - target))\n",
        "\n",
        "from tqdm import tqdm\n",
        "\n",
        "def train_one_epoch_weighted(model, loader, opt, loss_type='mae', use_weights=True, scheduler=None):\n",
        "    model.train()\n",
        "    total_loss, total_raw_mae, total_samples = 0.0, 0.0, 0\n",
        "\n",
        "    for batch in tqdm(loader, desc=f'Train({loss_type.upper()})', leave=False):\n",
        "        if len(batch) == 5:\n",
        "            imgs, ages, sex, weights, _ = batch\n",
        "            weights = weights.to(device)\n",
        "        else:\n",
        "            imgs, ages, sex, _ = batch\n",
        "            weights = torch.ones_like(ages)\n",
        "\n",
        "        imgs, ages, sex = imgs.to(device), ages.to(device), sex.to(device)\n",
        "\n",
        "        if use_weights:\n",
        "            weights = weights / (weights.mean() + 1e-8)\n",
        "\n",
        "        opt.zero_grad(set_to_none=True)\n",
        "        preds = model(imgs, sex)\n",
        "\n",
        "        if loss_type == 'mse':\n",
        "            errors = 0.5 * (preds - ages) ** 2\n",
        "        else:\n",
        "            errors = torch.abs(preds - ages)\n",
        "\n",
        "        loss = (weights * errors).mean()\n",
        "        raw_mae = torch.mean(torch.abs(preds - ages)).item()\n",
        "\n",
        "        loss.backward()\n",
        "        opt.step()\n",
        "\n",
        "        if scheduler is not None:\n",
        "            scheduler.step()\n",
        "\n",
        "        total_loss += loss.item() * len(ages)\n",
        "        total_raw_mae += raw_mae * len(ages)\n",
        "        total_samples += len(ages)\n",
        "\n",
        "    avg_loss = total_loss / total_samples\n",
        "    avg_raw_mae = total_raw_mae / total_samples\n",
        "    return avg_loss, avg_raw_mae\n",
        "\n",
        "def validate_one_epoch(model, loader):\n",
        "    model.eval()\n",
        "    total_mae, total_mse, n = 0.0, 0.0, 0\n",
        "\n",
        "    with torch.no_grad():\n",
        "        for batch_data in tqdm(loader, desc='Val', leave=False):\n",
        "            if len(batch_data) == 5:\n",
        "                imgs, ages, sex, _, _ = batch_data\n",
        "            else:\n",
        "                imgs, ages, sex, _ = batch_data\n",
        "\n",
        "            imgs, ages, sex = imgs.to(device), ages.to(device), sex.to(device)\n",
        "            pred = model(imgs, sex)\n",
        "\n",
        "            mae = torch.mean(torch.abs(pred - ages))\n",
        "            mse = torch.mean((pred - ages) ** 2)\n",
        "\n",
        "            total_mae += mae.item() * len(ages)\n",
        "            total_mse += mse.item() * len(ages)\n",
        "            n += len(ages)\n",
        "\n",
        "    return total_mae / n, total_mse / n"
      ]
    },
    {
      "cell_type": "code",
      "execution_count": null,
      "metadata": {
        "id": "CtCyXPFaObu8"
      },
      "outputs": [],
      "source": [
        "def train_with_weights(loss_type: str = 'mae'):\n",
        "\n",
        "    TOTAL_EPOCHS = 400\n",
        "    MAX_LR = 5e-4\n",
        "    PCT_START = 0.1\n",
        "    DIV_FACTOR = 5\n",
        "    FINAL_DIV_FACTOR = 20\n",
        "\n",
        "    for fold in range(1, 6):\n",
        "        print(f\"\\n開始訓練 Fold {fold} (加權 {loss_type.upper()} 損失)...\")\n",
        "\n",
        "        train_df = pd.read_csv(f\"/content/8_4_8dataset_12ch/csv/fold{fold}_train.csv\")\n",
        "        val_df = pd.read_csv(f\"/content/8_4_8dataset_12ch/csv/fold{fold}_val.csv\")\n",
        "\n",
        "        age_group_weights = calculate_age_weights(train_df, smoothing=1, max_weight=80.0)\n",
        "\n",
        "        train_ds = GlobalOnlyDatasetWeighted(train_df, cfg.IMG_DIR, age_group_weights)\n",
        "        val_ds = GlobalOnlyDataset(val_df, cfg.IMG_DIR)\n",
        "\n",
        "        train_ld = DataLoader(train_ds, batch_size=cfg.BATCH_SIZE, shuffle=True, num_workers=2)\n",
        "        val_ld = DataLoader(val_ds, batch_size=cfg.BATCH_SIZE, shuffle=False, num_workers=2)\n",
        "\n",
        "        model = BrainAgeModelWithSex().to(device)\n",
        "\n",
        "        base_lr = MAX_LR / DIV_FACTOR\n",
        "        opt = optim.Adam(model.parameters(), lr=base_lr, weight_decay=1e-5)\n",
        "\n",
        "        steps_per_epoch = len(train_ld)\n",
        "        scheduler = optim.lr_scheduler.OneCycleLR(\n",
        "            opt,\n",
        "            max_lr=MAX_LR,\n",
        "            epochs=TOTAL_EPOCHS,\n",
        "            steps_per_epoch=steps_per_epoch,\n",
        "            pct_start=PCT_START,\n",
        "            div_factor=DIV_FACTOR,\n",
        "            final_div_factor=FINAL_DIV_FACTOR,\n",
        "            anneal_strategy='cos',\n",
        "            three_phase=False\n",
        "        )\n",
        "\n",
        "        best_val_mae = float('inf')\n",
        "        best_state = None\n",
        "\n",
        "        train_hist, val_mae_hist, val_mse_hist = [], [], []\n",
        "\n",
        "        try:\n",
        "            for epoch in range(1, TOTAL_EPOCHS + 1):\n",
        "                curr_lr = opt.param_groups[0]['lr']\n",
        "                print(f\"\\n[FOLD {fold}] === Epoch {epoch}/{TOTAL_EPOCHS} ===  (LR: {curr_lr:.6g})\")\n",
        "\n",
        "                train_loss, train_raw_mae = train_one_epoch_weighted(\n",
        "                    model, train_ld, opt,\n",
        "                    loss_type=loss_type,\n",
        "                    use_weights=True,\n",
        "                    scheduler=scheduler\n",
        "                )\n",
        "\n",
        "                val_mae, val_mse = validate_one_epoch(model, val_ld)\n",
        "\n",
        "                train_hist.append(train_loss)\n",
        "                val_mae_hist.append(val_mae)\n",
        "                val_mse_hist.append(val_mse)\n",
        "\n",
        "                print(f\"Train Loss(加權): {train_loss:.4f} | \"\n",
        "                      f\"Train Raw MAE: {train_raw_mae:.4f} | \"\n",
        "                      f\"Val MAE: {val_mae:.4f}\")\n",
        "\n",
        "                if val_mae < best_val_mae:\n",
        "                    best_val_mae = val_mae\n",
        "                    best_state = model.state_dict()\n",
        "                    print(f\"New best Val MAE: {val_mae:.4f}\")\n",
        "\n",
        "        except KeyboardInterrupt:\n",
        "            print(f\"手動中斷 Fold {fold}\")\n",
        "\n",
        "        finally:\n",
        "            if best_state is not None:\n",
        "                torch.save(best_state, f\"{cfg.SAVE_DIR}/fold{fold}_{loss_type}_best.pth\")\n",
        "                print(f\"Fold {fold} 最佳模型已儲存\")\n",
        "\n",
        "            if train_hist:\n",
        "                plt.figure(figsize=(12, 5))\n",
        "\n",
        "                plt.subplot(1, 2, 1)\n",
        "                plt.plot(train_hist, label=f'Train {loss_type.upper()}', color='blue')\n",
        "                plt.plot(val_mae_hist, label='Val MAE', color='red')\n",
        "                plt.xlabel('Epoch'); plt.ylabel('Loss / Error'); plt.grid(alpha=0.3); plt.legend()\n",
        "\n",
        "                plt.subplot(1, 2, 2)\n",
        "                plt.plot(val_mae_hist, label='Val MAE', color='red')\n",
        "                plt.plot([np.sqrt(m) for m in val_mse_hist], label='Val RMSE', color='orange')\n",
        "                plt.xlabel('Epoch'); plt.ylabel('Error'); plt.grid(alpha=0.3); plt.legend()\n",
        "\n",
        "                plt.tight_layout()\n",
        "                plt.savefig(f\"{cfg.SAVE_DIR}/fold{fold}_{loss_type}_curves.png\", dpi=150)\n",
        "                plt.close()\n",
        "\n",
        "            if 'model' in locals():\n",
        "                model.cpu()\n",
        "            for vname in ['model', 'opt', 'scheduler', 'train_ld', 'val_ld', 'train_ds', 'val_ds']:\n",
        "                if vname in locals():\n",
        "                    del locals()[vname]\n",
        "                elif vname in globals():\n",
        "                    del globals()[vname]\n",
        "            torch.cuda.empty_cache()"
      ]
    },
    {
      "cell_type": "code",
      "execution_count": null,
      "metadata": {
        "id": "d5REhJTUHQoa"
      },
      "outputs": [],
      "source": [
        "def analyze_age_group_performance(model_path, test_csv, img_dir):\n",
        "    test_df = pd.read_csv(test_csv)\n",
        "    test_ds = GlobalOnlyDataset(test_df, img_dir)\n",
        "    test_ld = DataLoader(test_ds, batch_size=4, shuffle=False, num_workers=2)\n",
        "\n",
        "    model = BrainAgeModelWithSex().to(device)\n",
        "    model.load_state_dict(torch.load(model_path, map_location=device))\n",
        "    model.eval()\n",
        "\n",
        "    preds, gts = [], []\n",
        "    with torch.no_grad():\n",
        "        for imgs, ages, sex, _ in tqdm(test_ld, desc='Testing'):\n",
        "            output = model(imgs.to(device), sex.to(device)).cpu().numpy()\n",
        "            preds.extend(output.tolist())\n",
        "            gts.extend(ages.numpy().tolist())\n",
        "\n",
        "    test_df['predicted_age'] = preds\n",
        "    test_df['age_group'] = test_df['AGE'].apply(get_age_group)\n",
        "    test_df['error'] = test_df['predicted_age'] - test_df['AGE']\n",
        "    test_df['abs_error'] = np.abs(test_df['error'])\n",
        "    test_df['squared_error'] = test_df['error'] ** 2\n",
        "\n",
        "    print(f\"\\n年齡組詳細表現分析 ({os.path.basename(model_path)}):\")\n",
        "    print(f\"{'Age Group':>10} {'Count':>6} {'MAE':>8} {'RMSE':>8} {'Bias':>8} {'Low Est %':>10}\")\n",
        "    print(\"-\" * 62)\n",
        "\n",
        "    results = []\n",
        "    for age_group in sorted(test_df['age_group'].unique(), key=lambda x: int(x.split('-')[0])):\n",
        "        group_data = test_df[test_df['age_group'] == age_group]\n",
        "        if len(group_data) > 0:\n",
        "            mae = group_data['abs_error'].mean()\n",
        "            rmse = np.sqrt(group_data['squared_error'].mean())\n",
        "            bias = group_data['error'].mean()\n",
        "            count = len(group_data)\n",
        "\n",
        "            underestimate_pct = (group_data['error'] < 0).mean() * 100\n",
        "\n",
        "            results.append({\n",
        "                'age_group': age_group,\n",
        "                'count': count,\n",
        "                'mae': mae,\n",
        "                'rmse': rmse,\n",
        "                'bias': bias,\n",
        "                'underestimate_pct': underestimate_pct\n",
        "            })\n",
        "\n",
        "            print(f\"{age_group:>10} {count:>6} {mae:>8.3f} {rmse:>8.3f} {bias:>8.3f} {underestimate_pct:>9.1f}%\")\n",
        "\n",
        "    overall_mae = test_df['abs_error'].mean()\n",
        "    overall_rmse = np.sqrt(test_df['squared_error'].mean())\n",
        "    overall_bias = test_df['error'].mean()\n",
        "    overall_underestimate = (test_df['error'] < 0).mean() * 100\n",
        "\n",
        "    print(\"-\" * 62)\n",
        "    print(f\"{'Overall':>10} {len(test_df):>6} {overall_mae:>8.3f} {overall_rmse:>8.3f} {overall_bias:>8.3f} {overall_underestimate:>9.1f}%\")\n",
        "\n",
        "    elderly_data = test_df[test_df['AGE'] >= 65]\n",
        "    if len(elderly_data) > 0:\n",
        "        elderly_mae = elderly_data['abs_error'].mean()\n",
        "        elderly_bias = elderly_data['error'].mean()\n",
        "        elderly_under = (elderly_data['error'] < 0).mean() * 100\n",
        "        print(f\"\\n老年組 (>=65歲) 特別分析:\")\n",
        "        print(f\"   樣本數: {len(elderly_data)}\")\n",
        "        print(f\"   MAE: {elderly_mae:.3f}\")\n",
        "        print(f\"   平均偏差: {elderly_bias:.3f} ({'低估' if elderly_bias < 0 else '高估'})\")\n",
        "        print(f\"   低估比例: {elderly_under:.1f}%\")\n",
        "\n",
        "    middle_data = test_df[(test_df['AGE'] >= 35) & (test_df['AGE'] <= 59)]\n",
        "    if len(middle_data) > 0:\n",
        "        middle_mae = middle_data['abs_error'].mean()\n",
        "        middle_bias = middle_data['error'].mean()\n",
        "        middle_under = (middle_data['error'] < 0).mean() * 100\n",
        "        print(f\"\\n中年組 (40–64歲) 特別分析:\")\n",
        "        print(f\"   樣本數: {len(middle_data)}\")\n",
        "        print(f\"   MAE: {middle_mae:.3f}\")\n",
        "        print(f\"   平均偏差: {middle_bias:.3f} ({'低估' if middle_bias < 0 else '高估'})\")\n",
        "        print(f\"   低估比例: {middle_under:.1f}%\")\n",
        "\n",
        "    return results"
      ]
    },
    {
      "cell_type": "code",
      "execution_count": null,
      "metadata": {
        "colab": {
          "base_uri": "https://localhost:8080/"
        },
        "id": "muDvzyaaUn1V",
        "outputId": "0afb538b-8ba5-41aa-d730-e66afb1ea1ab"
      },
      "outputs": [
        {
          "name": "stdout",
          "output_type": "stream",
          "text": [
            "\n",
            "📂 所有模型將統一儲存在: /content/drive/MyDrive/Colab Notebooks/8_4_model_pth/cor_6ch_smooting_1\n",
            "\n",
            "============================================================\n",
            "🚀 開始 MAE 訓練 (統一存檔)...\n",
            "============================================================\n",
            "\n",
            "🚀 開始訓練 Fold 1 (論文式加權 MAE 損失)...\n",
            "📊 年齡組權重分佈:\n",
            "     5-9:  624 樣本, 權重 = 1.000\n",
            "   10-14:  645 樣本, 權重 = 1.000\n",
            "   15-19:  877 樣本, 權重 = 1.000\n",
            "   20-24: 1371 樣本, 權重 = 1.000\n",
            "   25-29:  434 樣本, 權重 = 1.000\n",
            "   30-34:  148 樣本, 權重 = 1.000\n",
            "   35-39:   53 樣本, 權重 = 1.000\n",
            "   40-44:   48 樣本, 權重 = 1.000\n",
            "   45-49:   70 樣本, 權重 = 1.000\n",
            "   50-54:   65 樣本, 權重 = 1.000\n",
            "   55-59:  102 樣本, 權重 = 1.000\n",
            "   60-64:  134 樣本, 權重 = 1.000\n",
            "   65-69:  219 樣本, 權重 = 1.000\n",
            "   70-74:  218 樣本, 權重 = 1.000\n",
            "   75-79:  115 樣本, 權重 = 1.000\n",
            "   80-84:   52 樣本, 權重 = 1.000\n",
            "   85-89:   26 樣本, 權重 = 1.000\n",
            "   90-94:    2 樣本, 權重 = 1.000\n",
            "   95-99:    1 樣本, 權重 = 1.000\n",
            "\n",
            "[FOLD 1] === Epoch 1/400 ===  (LR: 0.0001)\n"
          ]
        },
        {
          "name": "stderr",
          "output_type": "stream",
          "text": []
        },
        {
          "name": "stdout",
          "output_type": "stream",
          "text": [
            "Train Loss(加權): 14.0332 | Train Raw MAE: 14.0332 | Val MAE: 8.9715\n",
            "🎯 New best Val MAE: 8.9715\n",
            "\n",
            "[FOLD 1] === Epoch 2/400 ===  (LR: 0.000100617)\n"
          ]
        },
        {
          "name": "stderr",
          "output_type": "stream",
          "text": []
        },
        {
          "name": "stdout",
          "output_type": "stream",
          "text": [
            "Train Loss(加權): 10.9616 | Train Raw MAE: 10.9616 | Val MAE: 8.4836\n",
            "🎯 New best Val MAE: 8.4836\n",
            "\n",
            "[FOLD 1] === Epoch 3/400 ===  (LR: 0.000102462)\n"
          ]
        },
        {
          "name": "stderr",
          "output_type": "stream",
          "text": []
        },
        {
          "name": "stdout",
          "output_type": "stream",
          "text": [
            "Train Loss(加權): 10.6251 | Train Raw MAE: 10.6251 | Val MAE: 7.9599\n",
            "🎯 New best Val MAE: 7.9599\n",
            "\n",
            "[FOLD 1] === Epoch 4/400 ===  (LR: 0.000105526)\n"
          ]
        },
        {
          "name": "stderr",
          "output_type": "stream",
          "text": []
        },
        {
          "name": "stdout",
          "output_type": "stream",
          "text": [
            "Train Loss(加權): 10.3635 | Train Raw MAE: 10.3635 | Val MAE: 7.9219\n",
            "🎯 New best Val MAE: 7.9219\n",
            "\n",
            "[FOLD 1] === Epoch 5/400 ===  (LR: 0.000109789)\n"
          ]
        },
        {
          "name": "stderr",
          "output_type": "stream",
          "text": []
        },
        {
          "name": "stdout",
          "output_type": "stream",
          "text": [
            "Train Loss(加權): 9.9472 | Train Raw MAE: 9.9472 | Val MAE: 7.3198\n",
            "🎯 New best Val MAE: 7.3198\n",
            "\n",
            "[FOLD 1] === Epoch 6/400 ===  (LR: 0.000115225)\n"
          ]
        },
        {
          "name": "stderr",
          "output_type": "stream",
          "text": []
        },
        {
          "name": "stdout",
          "output_type": "stream",
          "text": [
            "Train Loss(加權): 9.9520 | Train Raw MAE: 9.9520 | Val MAE: 7.6481\n",
            "\n",
            "[FOLD 1] === Epoch 7/400 ===  (LR: 0.0001218)\n"
          ]
        },
        {
          "name": "stderr",
          "output_type": "stream",
          "text": []
        },
        {
          "name": "stdout",
          "output_type": "stream",
          "text": [
            "Train Loss(加權): 9.8192 | Train Raw MAE: 9.8192 | Val MAE: 7.7985\n",
            "\n",
            "[FOLD 1] === Epoch 8/400 ===  (LR: 0.000129473)\n"
          ]
        },
        {
          "name": "stderr",
          "output_type": "stream",
          "text": []
        },
        {
          "name": "stdout",
          "output_type": "stream",
          "text": [
            "Train Loss(加權): 9.6416 | Train Raw MAE: 9.6416 | Val MAE: 6.8978\n",
            "🎯 New best Val MAE: 6.8978\n",
            "\n",
            "[FOLD 1] === Epoch 9/400 ===  (LR: 0.000138198)\n"
          ]
        },
        {
          "name": "stderr",
          "output_type": "stream",
          "text": []
        },
        {
          "name": "stdout",
          "output_type": "stream",
          "text": [
            "Train Loss(加權): 9.4269 | Train Raw MAE: 9.4269 | Val MAE: 6.3275\n",
            "🎯 New best Val MAE: 6.3275\n",
            "\n",
            "[FOLD 1] === Epoch 10/400 ===  (LR: 0.000147921)\n"
          ]
        },
        {
          "name": "stderr",
          "output_type": "stream",
          "text": []
        },
        {
          "name": "stdout",
          "output_type": "stream",
          "text": [
            "🛑 手動中斷 Fold 1\n",
            "✅ Fold 1 最佳模型已儲存\n",
            "\n",
            "🚀 開始訓練 Fold 2 (論文式加權 MAE 損失)...\n",
            "📊 年齡組權重分佈:\n",
            "     5-9:  629 樣本, 權重 = 1.000\n",
            "   10-14:  637 樣本, 權重 = 1.000\n",
            "   15-19:  888 樣本, 權重 = 1.000\n",
            "   20-24: 1399 樣本, 權重 = 1.000\n",
            "   25-29:  442 樣本, 權重 = 1.000\n",
            "   30-34:  161 樣本, 權重 = 1.000\n",
            "   35-39:   55 樣本, 權重 = 1.000\n",
            "   40-44:   52 樣本, 權重 = 1.000\n",
            "   45-49:   62 樣本, 權重 = 1.000\n",
            "   50-54:   66 樣本, 權重 = 1.000\n",
            "   55-59:   94 樣本, 權重 = 1.000\n",
            "   60-64:  121 樣本, 權重 = 1.000\n",
            "   65-69:  208 樣本, 權重 = 1.000\n",
            "   70-74:  208 樣本, 權重 = 1.000\n",
            "   75-79:  108 樣本, 權重 = 1.000\n",
            "   80-84:   48 樣本, 權重 = 1.000\n",
            "   85-89:   22 樣本, 權重 = 1.000\n",
            "   90-94:    2 樣本, 權重 = 1.000\n",
            "   95-99:    2 樣本, 權重 = 1.000\n",
            "\n",
            "[FOLD 2] === Epoch 1/400 ===  (LR: 0.0001)\n"
          ]
        },
        {
          "name": "stderr",
          "output_type": "stream",
          "text": []
        },
        {
          "name": "stdout",
          "output_type": "stream",
          "text": [
            "Train Loss(加權): 13.6124 | Train Raw MAE: 13.6124 | Val MAE: 10.3198\n",
            "🎯 New best Val MAE: 10.3198\n",
            "\n",
            "[FOLD 2] === Epoch 2/400 ===  (LR: 0.000100617)\n"
          ]
        },
        {
          "name": "stderr",
          "output_type": "stream",
          "text": []
        },
        {
          "name": "stdout",
          "output_type": "stream",
          "text": [
            "Train Loss(加權): 10.9263 | Train Raw MAE: 10.9263 | Val MAE: 11.4255\n",
            "\n",
            "[FOLD 2] === Epoch 3/400 ===  (LR: 0.000102462)\n"
          ]
        },
        {
          "name": "stderr",
          "output_type": "stream",
          "text": []
        },
        {
          "name": "stdout",
          "output_type": "stream",
          "text": [
            "Train Loss(加權): 10.5089 | Train Raw MAE: 10.5089 | Val MAE: 9.8572\n",
            "🎯 New best Val MAE: 9.8572\n",
            "\n",
            "[FOLD 2] === Epoch 4/400 ===  (LR: 0.000105526)\n"
          ]
        },
        {
          "name": "stderr",
          "output_type": "stream",
          "text": []
        },
        {
          "name": "stdout",
          "output_type": "stream",
          "text": [
            "Train Loss(加權): 10.2408 | Train Raw MAE: 10.2408 | Val MAE: 12.0292\n",
            "\n",
            "[FOLD 2] === Epoch 5/400 ===  (LR: 0.000109789)\n"
          ]
        },
        {
          "name": "stderr",
          "output_type": "stream",
          "text": []
        },
        {
          "name": "stdout",
          "output_type": "stream",
          "text": [
            "Train Loss(加權): 9.9109 | Train Raw MAE: 9.9109 | Val MAE: 11.2801\n",
            "\n",
            "[FOLD 2] === Epoch 6/400 ===  (LR: 0.000115225)\n"
          ]
        },
        {
          "name": "stderr",
          "output_type": "stream",
          "text": []
        },
        {
          "name": "stdout",
          "output_type": "stream",
          "text": [
            "Train Loss(加權): 9.6778 | Train Raw MAE: 9.6778 | Val MAE: 9.4514\n",
            "🎯 New best Val MAE: 9.4514\n",
            "\n",
            "[FOLD 2] === Epoch 7/400 ===  (LR: 0.0001218)\n"
          ]
        },
        {
          "name": "stderr",
          "output_type": "stream",
          "text": []
        },
        {
          "name": "stdout",
          "output_type": "stream",
          "text": [
            "Train Loss(加權): 9.3794 | Train Raw MAE: 9.3794 | Val MAE: 13.6574\n",
            "\n",
            "[FOLD 2] === Epoch 8/400 ===  (LR: 0.000129473)\n"
          ]
        },
        {
          "name": "stderr",
          "output_type": "stream",
          "text": []
        },
        {
          "name": "stdout",
          "output_type": "stream",
          "text": [
            "Train Loss(加權): 9.3192 | Train Raw MAE: 9.3192 | Val MAE: 8.6482\n",
            "🎯 New best Val MAE: 8.6482\n",
            "\n",
            "[FOLD 2] === Epoch 9/400 ===  (LR: 0.000138198)\n"
          ]
        },
        {
          "name": "stderr",
          "output_type": "stream",
          "text": []
        },
        {
          "name": "stdout",
          "output_type": "stream",
          "text": [
            "Train Loss(加權): 9.0623 | Train Raw MAE: 9.0623 | Val MAE: 9.3559\n",
            "\n",
            "[FOLD 2] === Epoch 10/400 ===  (LR: 0.000147921)\n"
          ]
        },
        {
          "name": "stderr",
          "output_type": "stream",
          "text": []
        },
        {
          "name": "stdout",
          "output_type": "stream",
          "text": [
            "Train Loss(加權): 8.8657 | Train Raw MAE: 8.8657 | Val MAE: 6.8146\n",
            "🎯 New best Val MAE: 6.8146\n",
            "\n",
            "[FOLD 2] === Epoch 11/400 ===  (LR: 0.000158581)\n"
          ]
        },
        {
          "name": "stderr",
          "output_type": "stream",
          "text": []
        },
        {
          "name": "stdout",
          "output_type": "stream",
          "text": [
            "Train Loss(加權): 8.9875 | Train Raw MAE: 8.9875 | Val MAE: 13.4204\n",
            "\n",
            "[FOLD 2] === Epoch 12/400 ===  (LR: 0.000170113)\n"
          ]
        },
        {
          "name": "stderr",
          "output_type": "stream",
          "text": []
        },
        {
          "name": "stdout",
          "output_type": "stream",
          "text": [
            "Train Loss(加權): 8.5384 | Train Raw MAE: 8.5384 | Val MAE: 15.2613\n",
            "\n",
            "[FOLD 2] === Epoch 13/400 ===  (LR: 0.000182446)\n"
          ]
        },
        {
          "name": "stderr",
          "output_type": "stream",
          "text": []
        },
        {
          "name": "stdout",
          "output_type": "stream",
          "text": [
            "Train Loss(加權): 8.5142 | Train Raw MAE: 8.5142 | Val MAE: 11.5939\n",
            "\n",
            "[FOLD 2] === Epoch 14/400 ===  (LR: 0.000195504)\n"
          ]
        },
        {
          "name": "stderr",
          "output_type": "stream",
          "text": []
        },
        {
          "name": "stdout",
          "output_type": "stream",
          "text": [
            "Train Loss(加權): 8.5740 | Train Raw MAE: 8.5740 | Val MAE: 6.5604\n",
            "🎯 New best Val MAE: 6.5604\n",
            "\n",
            "[FOLD 2] === Epoch 15/400 ===  (LR: 0.000209206)\n"
          ]
        },
        {
          "name": "stderr",
          "output_type": "stream",
          "text": []
        },
        {
          "name": "stdout",
          "output_type": "stream",
          "text": [
            "Train Loss(加權): 8.3322 | Train Raw MAE: 8.3322 | Val MAE: 13.0511\n",
            "\n",
            "[FOLD 2] === Epoch 16/400 ===  (LR: 0.000223467)\n"
          ]
        },
        {
          "name": "stderr",
          "output_type": "stream",
          "text": []
        },
        {
          "name": "stdout",
          "output_type": "stream",
          "text": [
            "Train Loss(加權): 8.2504 | Train Raw MAE: 8.2504 | Val MAE: 10.5445\n",
            "\n",
            "[FOLD 2] === Epoch 17/400 ===  (LR: 0.000238201)\n"
          ]
        },
        {
          "name": "stderr",
          "output_type": "stream",
          "text": []
        },
        {
          "name": "stdout",
          "output_type": "stream",
          "text": [
            "Train Loss(加權): 8.9777 | Train Raw MAE: 8.9777 | Val MAE: 9.1420\n",
            "\n",
            "[FOLD 2] === Epoch 18/400 ===  (LR: 0.000253316)\n"
          ]
        },
        {
          "name": "stderr",
          "output_type": "stream",
          "text": []
        },
        {
          "name": "stdout",
          "output_type": "stream",
          "text": [
            "Train Loss(加權): 8.2638 | Train Raw MAE: 8.2638 | Val MAE: 29.7199\n",
            "\n",
            "[FOLD 2] === Epoch 19/400 ===  (LR: 0.000268718)\n"
          ]
        },
        {
          "name": "stderr",
          "output_type": "stream",
          "text": []
        },
        {
          "name": "stdout",
          "output_type": "stream",
          "text": [
            "Train Loss(加權): 8.0901 | Train Raw MAE: 8.0901 | Val MAE: 6.1794\n",
            "🎯 New best Val MAE: 6.1794\n",
            "\n",
            "[FOLD 2] === Epoch 20/400 ===  (LR: 0.000284314)\n"
          ]
        },
        {
          "name": "stderr",
          "output_type": "stream",
          "text": []
        },
        {
          "name": "stdout",
          "output_type": "stream",
          "text": [
            "Train Loss(加權): 8.1154 | Train Raw MAE: 8.1154 | Val MAE: 5.9378\n",
            "🎯 New best Val MAE: 5.9378\n",
            "\n",
            "[FOLD 2] === Epoch 21/400 ===  (LR: 0.000300006)\n"
          ]
        },
        {
          "name": "stderr",
          "output_type": "stream",
          "text": []
        },
        {
          "name": "stdout",
          "output_type": "stream",
          "text": [
            "Train Loss(加權): 8.3180 | Train Raw MAE: 8.3180 | Val MAE: 15.4491\n",
            "\n",
            "[FOLD 2] === Epoch 22/400 ===  (LR: 0.000315698)\n"
          ]
        },
        {
          "name": "stderr",
          "output_type": "stream",
          "text": []
        },
        {
          "name": "stdout",
          "output_type": "stream",
          "text": [
            "Train Loss(加權): 7.6726 | Train Raw MAE: 7.6726 | Val MAE: 11.6348\n",
            "\n",
            "[FOLD 2] === Epoch 23/400 ===  (LR: 0.000331293)\n"
          ]
        },
        {
          "name": "stderr",
          "output_type": "stream",
          "text": []
        },
        {
          "name": "stdout",
          "output_type": "stream",
          "text": [
            "Train Loss(加權): 7.8788 | Train Raw MAE: 7.8788 | Val MAE: 6.9693\n",
            "\n",
            "[FOLD 2] === Epoch 24/400 ===  (LR: 0.000346696)\n"
          ]
        },
        {
          "name": "stderr",
          "output_type": "stream",
          "text": []
        },
        {
          "name": "stdout",
          "output_type": "stream",
          "text": [
            "Train Loss(加權): 7.8917 | Train Raw MAE: 7.8917 | Val MAE: 16.3935\n",
            "\n",
            "[FOLD 2] === Epoch 25/400 ===  (LR: 0.00036181)\n"
          ]
        },
        {
          "name": "stderr",
          "output_type": "stream",
          "text": []
        },
        {
          "name": "stdout",
          "output_type": "stream",
          "text": [
            "Train Loss(加權): 7.8384 | Train Raw MAE: 7.8384 | Val MAE: 8.3462\n",
            "\n",
            "[FOLD 2] === Epoch 26/400 ===  (LR: 0.000376544)\n"
          ]
        },
        {
          "name": "stderr",
          "output_type": "stream",
          "text": []
        },
        {
          "name": "stdout",
          "output_type": "stream",
          "text": [
            "Train Loss(加權): 7.5940 | Train Raw MAE: 7.5940 | Val MAE: 7.2374\n",
            "\n",
            "[FOLD 2] === Epoch 27/400 ===  (LR: 0.000390805)\n"
          ]
        },
        {
          "name": "stderr",
          "output_type": "stream",
          "text": []
        },
        {
          "name": "stdout",
          "output_type": "stream",
          "text": [
            "Train Loss(加權): 7.4686 | Train Raw MAE: 7.4686 | Val MAE: 12.6809\n",
            "\n",
            "[FOLD 2] === Epoch 28/400 ===  (LR: 0.000404507)\n"
          ]
        },
        {
          "name": "stderr",
          "output_type": "stream",
          "text": []
        },
        {
          "name": "stdout",
          "output_type": "stream",
          "text": [
            "Train Loss(加權): 7.4552 | Train Raw MAE: 7.4552 | Val MAE: 14.6719\n",
            "\n",
            "[FOLD 2] === Epoch 29/400 ===  (LR: 0.000417564)\n"
          ]
        },
        {
          "name": "stderr",
          "output_type": "stream",
          "text": []
        },
        {
          "name": "stdout",
          "output_type": "stream",
          "text": [
            "Train Loss(加權): 7.3286 | Train Raw MAE: 7.3286 | Val MAE: 5.1665\n",
            "🎯 New best Val MAE: 5.1665\n",
            "\n",
            "[FOLD 2] === Epoch 30/400 ===  (LR: 0.000429896)\n"
          ]
        },
        {
          "name": "stderr",
          "output_type": "stream",
          "text": []
        },
        {
          "name": "stdout",
          "output_type": "stream",
          "text": [
            "Train Loss(加權): 6.9214 | Train Raw MAE: 6.9214 | Val MAE: 5.7170\n",
            "\n",
            "[FOLD 2] === Epoch 31/400 ===  (LR: 0.000441428)\n"
          ]
        },
        {
          "name": "stderr",
          "output_type": "stream",
          "text": []
        },
        {
          "name": "stdout",
          "output_type": "stream",
          "text": [
            "Train Loss(加權): 6.8467 | Train Raw MAE: 6.8467 | Val MAE: 5.1847\n",
            "\n",
            "[FOLD 2] === Epoch 32/400 ===  (LR: 0.000452087)\n"
          ]
        },
        {
          "name": "stderr",
          "output_type": "stream",
          "text": []
        },
        {
          "name": "stdout",
          "output_type": "stream",
          "text": [
            "Train Loss(加權): 6.9796 | Train Raw MAE: 6.9796 | Val MAE: 5.0498\n",
            "🎯 New best Val MAE: 5.0498\n",
            "\n",
            "[FOLD 2] === Epoch 33/400 ===  (LR: 0.000461809)\n"
          ]
        },
        {
          "name": "stderr",
          "output_type": "stream",
          "text": []
        },
        {
          "name": "stdout",
          "output_type": "stream",
          "text": [
            "Train Loss(加權): 6.6773 | Train Raw MAE: 6.6773 | Val MAE: 7.1893\n",
            "\n",
            "[FOLD 2] === Epoch 34/400 ===  (LR: 0.000470533)\n"
          ]
        },
        {
          "name": "stderr",
          "output_type": "stream",
          "text": []
        },
        {
          "name": "stdout",
          "output_type": "stream",
          "text": [
            "Train Loss(加權): 6.4787 | Train Raw MAE: 6.4787 | Val MAE: 5.1206\n",
            "\n",
            "[FOLD 2] === Epoch 35/400 ===  (LR: 0.000478206)\n"
          ]
        },
        {
          "name": "stderr",
          "output_type": "stream",
          "text": []
        },
        {
          "name": "stdout",
          "output_type": "stream",
          "text": [
            "Train Loss(加權): 6.3937 | Train Raw MAE: 6.3937 | Val MAE: 6.8483\n",
            "\n",
            "[FOLD 2] === Epoch 36/400 ===  (LR: 0.00048478)\n"
          ]
        },
        {
          "name": "stderr",
          "output_type": "stream",
          "text": []
        },
        {
          "name": "stdout",
          "output_type": "stream",
          "text": [
            "Train Loss(加權): 6.5098 | Train Raw MAE: 6.5098 | Val MAE: 40.8679\n",
            "\n",
            "[FOLD 2] === Epoch 37/400 ===  (LR: 0.000490215)\n"
          ]
        },
        {
          "name": "stderr",
          "output_type": "stream",
          "text": []
        },
        {
          "name": "stdout",
          "output_type": "stream",
          "text": [
            "Train Loss(加權): 6.1904 | Train Raw MAE: 6.1904 | Val MAE: 18.3690\n",
            "\n",
            "[FOLD 2] === Epoch 38/400 ===  (LR: 0.000494477)\n"
          ]
        },
        {
          "name": "stderr",
          "output_type": "stream",
          "text": []
        },
        {
          "name": "stdout",
          "output_type": "stream",
          "text": [
            "Train Loss(加權): 6.0525 | Train Raw MAE: 6.0525 | Val MAE: 5.9362\n",
            "\n",
            "[FOLD 2] === Epoch 39/400 ===  (LR: 0.000497539)\n"
          ]
        },
        {
          "name": "stderr",
          "output_type": "stream",
          "text": []
        },
        {
          "name": "stdout",
          "output_type": "stream",
          "text": [
            "Train Loss(加權): 6.0484 | Train Raw MAE: 6.0484 | Val MAE: 5.6219\n",
            "\n",
            "[FOLD 2] === Epoch 40/400 ===  (LR: 0.000499384)\n"
          ]
        },
        {
          "name": "stderr",
          "output_type": "stream",
          "text": []
        },
        {
          "name": "stdout",
          "output_type": "stream",
          "text": [
            "Train Loss(加權): 6.0858 | Train Raw MAE: 6.0858 | Val MAE: 7.7278\n",
            "\n",
            "[FOLD 2] === Epoch 41/400 ===  (LR: 0.0005)\n"
          ]
        },
        {
          "name": "stderr",
          "output_type": "stream",
          "text": []
        },
        {
          "name": "stdout",
          "output_type": "stream",
          "text": [
            "Train Loss(加權): 5.9739 | Train Raw MAE: 5.9739 | Val MAE: 9.3890\n",
            "\n",
            "[FOLD 2] === Epoch 42/400 ===  (LR: 0.000499991)\n"
          ]
        },
        {
          "name": "stderr",
          "output_type": "stream",
          "text": []
        },
        {
          "name": "stdout",
          "output_type": "stream",
          "text": [
            "Train Loss(加權): 5.8304 | Train Raw MAE: 5.8304 | Val MAE: 9.5813\n",
            "\n",
            "[FOLD 2] === Epoch 43/400 ===  (LR: 0.000499962)\n"
          ]
        },
        {
          "name": "stderr",
          "output_type": "stream",
          "text": []
        },
        {
          "name": "stdout",
          "output_type": "stream",
          "text": [
            "Train Loss(加權): 5.7269 | Train Raw MAE: 5.7269 | Val MAE: 8.2811\n",
            "\n",
            "[FOLD 2] === Epoch 44/400 ===  (LR: 0.000499915)\n"
          ]
        },
        {
          "name": "stderr",
          "output_type": "stream",
          "text": []
        },
        {
          "name": "stdout",
          "output_type": "stream",
          "text": [
            "Train Loss(加權): 5.7147 | Train Raw MAE: 5.7147 | Val MAE: 5.0470\n",
            "🎯 New best Val MAE: 5.0470\n",
            "\n",
            "[FOLD 2] === Epoch 45/400 ===  (LR: 0.000499849)\n"
          ]
        },
        {
          "name": "stderr",
          "output_type": "stream",
          "text": []
        },
        {
          "name": "stdout",
          "output_type": "stream",
          "text": [
            "Train Loss(加權): 5.7386 | Train Raw MAE: 5.7386 | Val MAE: 4.2477\n",
            "🎯 New best Val MAE: 4.2477\n",
            "\n",
            "[FOLD 2] === Epoch 46/400 ===  (LR: 0.000499764)\n"
          ]
        },
        {
          "name": "stderr",
          "output_type": "stream",
          "text": []
        },
        {
          "name": "stdout",
          "output_type": "stream",
          "text": [
            "Train Loss(加權): 5.6167 | Train Raw MAE: 5.6167 | Val MAE: 6.4245\n",
            "\n",
            "[FOLD 2] === Epoch 47/400 ===  (LR: 0.000499661)\n"
          ]
        },
        {
          "name": "stderr",
          "output_type": "stream",
          "text": []
        },
        {
          "name": "stdout",
          "output_type": "stream",
          "text": [
            "Train Loss(加權): 5.4314 | Train Raw MAE: 5.4314 | Val MAE: 4.3170\n",
            "\n",
            "[FOLD 2] === Epoch 48/400 ===  (LR: 0.000499538)\n"
          ]
        },
        {
          "name": "stderr",
          "output_type": "stream",
          "text": []
        },
        {
          "name": "stdout",
          "output_type": "stream",
          "text": [
            "Train Loss(加權): 5.5598 | Train Raw MAE: 5.5598 | Val MAE: 7.0906\n",
            "\n",
            "[FOLD 2] === Epoch 49/400 ===  (LR: 0.000499397)\n"
          ]
        },
        {
          "name": "stderr",
          "output_type": "stream",
          "text": []
        },
        {
          "name": "stdout",
          "output_type": "stream",
          "text": [
            "Train Loss(加權): 5.3485 | Train Raw MAE: 5.3485 | Val MAE: 6.0957\n",
            "\n",
            "[FOLD 2] === Epoch 50/400 ===  (LR: 0.000499237)\n"
          ]
        },
        {
          "name": "stderr",
          "output_type": "stream",
          "text": []
        },
        {
          "name": "stdout",
          "output_type": "stream",
          "text": [
            "Train Loss(加權): 5.3417 | Train Raw MAE: 5.3417 | Val MAE: 4.6905\n",
            "\n",
            "[FOLD 2] === Epoch 51/400 ===  (LR: 0.000499058)\n"
          ]
        },
        {
          "name": "stderr",
          "output_type": "stream",
          "text": []
        },
        {
          "name": "stdout",
          "output_type": "stream",
          "text": [
            "Train Loss(加權): 5.2365 | Train Raw MAE: 5.2365 | Val MAE: 4.7972\n",
            "\n",
            "[FOLD 2] === Epoch 52/400 ===  (LR: 0.00049886)\n"
          ]
        },
        {
          "name": "stderr",
          "output_type": "stream",
          "text": []
        },
        {
          "name": "stdout",
          "output_type": "stream",
          "text": [
            "Train Loss(加權): 5.2068 | Train Raw MAE: 5.2068 | Val MAE: 4.2546\n",
            "\n",
            "[FOLD 2] === Epoch 53/400 ===  (LR: 0.000498644)\n"
          ]
        },
        {
          "name": "stderr",
          "output_type": "stream",
          "text": []
        },
        {
          "name": "stdout",
          "output_type": "stream",
          "text": [
            "Train Loss(加權): 5.2332 | Train Raw MAE: 5.2332 | Val MAE: 4.7449\n",
            "\n",
            "[FOLD 2] === Epoch 54/400 ===  (LR: 0.000498409)\n"
          ]
        },
        {
          "name": "stderr",
          "output_type": "stream",
          "text": []
        },
        {
          "name": "stdout",
          "output_type": "stream",
          "text": [
            "Train Loss(加權): 5.1860 | Train Raw MAE: 5.1860 | Val MAE: 5.7163\n",
            "\n",
            "[FOLD 2] === Epoch 55/400 ===  (LR: 0.000498155)\n"
          ]
        },
        {
          "name": "stderr",
          "output_type": "stream",
          "text": []
        },
        {
          "name": "stdout",
          "output_type": "stream",
          "text": [
            "Train Loss(加權): 5.1463 | Train Raw MAE: 5.1463 | Val MAE: 5.6768\n",
            "\n",
            "[FOLD 2] === Epoch 56/400 ===  (LR: 0.000497882)\n"
          ]
        },
        {
          "name": "stderr",
          "output_type": "stream",
          "text": []
        },
        {
          "name": "stdout",
          "output_type": "stream",
          "text": [
            "Train Loss(加權): 5.0290 | Train Raw MAE: 5.0290 | Val MAE: 6.2452\n",
            "\n",
            "[FOLD 2] === Epoch 57/400 ===  (LR: 0.000497591)\n"
          ]
        },
        {
          "name": "stderr",
          "output_type": "stream",
          "text": []
        },
        {
          "name": "stdout",
          "output_type": "stream",
          "text": [
            "Train Loss(加權): 5.0071 | Train Raw MAE: 5.0071 | Val MAE: 4.3815\n",
            "\n",
            "[FOLD 2] === Epoch 58/400 ===  (LR: 0.000497281)\n"
          ]
        },
        {
          "name": "stderr",
          "output_type": "stream",
          "text": []
        },
        {
          "name": "stdout",
          "output_type": "stream",
          "text": [
            "Train Loss(加權): 5.1494 | Train Raw MAE: 5.1494 | Val MAE: 4.5084\n",
            "\n",
            "[FOLD 2] === Epoch 59/400 ===  (LR: 0.000496953)\n"
          ]
        },
        {
          "name": "stderr",
          "output_type": "stream",
          "text": []
        },
        {
          "name": "stdout",
          "output_type": "stream",
          "text": [
            "Train Loss(加權): 5.0785 | Train Raw MAE: 5.0785 | Val MAE: 6.1528\n",
            "\n",
            "[FOLD 2] === Epoch 60/400 ===  (LR: 0.000496605)\n"
          ]
        },
        {
          "name": "stderr",
          "output_type": "stream",
          "text": []
        },
        {
          "name": "stdout",
          "output_type": "stream",
          "text": [
            "Train Loss(加權): 4.9671 | Train Raw MAE: 4.9671 | Val MAE: 5.6782\n",
            "\n",
            "[FOLD 2] === Epoch 61/400 ===  (LR: 0.00049624)\n"
          ]
        },
        {
          "name": "stderr",
          "output_type": "stream",
          "text": []
        },
        {
          "name": "stdout",
          "output_type": "stream",
          "text": [
            "Train Loss(加權): 4.9150 | Train Raw MAE: 4.9150 | Val MAE: 5.8504\n",
            "\n",
            "[FOLD 2] === Epoch 62/400 ===  (LR: 0.000495855)\n"
          ]
        },
        {
          "name": "stderr",
          "output_type": "stream",
          "text": []
        },
        {
          "name": "stdout",
          "output_type": "stream",
          "text": [
            "Train Loss(加權): 4.8370 | Train Raw MAE: 4.8370 | Val MAE: 6.7282\n",
            "\n",
            "[FOLD 2] === Epoch 63/400 ===  (LR: 0.000495452)\n"
          ]
        },
        {
          "name": "stderr",
          "output_type": "stream",
          "text": []
        },
        {
          "name": "stdout",
          "output_type": "stream",
          "text": [
            "Train Loss(加權): 4.7985 | Train Raw MAE: 4.7985 | Val MAE: 4.4178\n",
            "\n",
            "[FOLD 2] === Epoch 64/400 ===  (LR: 0.000495031)\n"
          ]
        },
        {
          "name": "stderr",
          "output_type": "stream",
          "text": []
        },
        {
          "name": "stdout",
          "output_type": "stream",
          "text": [
            "Train Loss(加權): 4.8516 | Train Raw MAE: 4.8516 | Val MAE: 3.9950\n",
            "🎯 New best Val MAE: 3.9950\n",
            "\n",
            "[FOLD 2] === Epoch 65/400 ===  (LR: 0.000494591)\n"
          ]
        },
        {
          "name": "stderr",
          "output_type": "stream",
          "text": []
        },
        {
          "name": "stdout",
          "output_type": "stream",
          "text": [
            "Train Loss(加權): 4.7872 | Train Raw MAE: 4.7872 | Val MAE: 4.9107\n",
            "\n",
            "[FOLD 2] === Epoch 66/400 ===  (LR: 0.000494133)\n"
          ]
        },
        {
          "name": "stderr",
          "output_type": "stream",
          "text": []
        },
        {
          "name": "stdout",
          "output_type": "stream",
          "text": [
            "Train Loss(加權): 4.6875 | Train Raw MAE: 4.6875 | Val MAE: 4.3221\n",
            "\n",
            "[FOLD 2] === Epoch 67/400 ===  (LR: 0.000493656)\n"
          ]
        },
        {
          "name": "stderr",
          "output_type": "stream",
          "text": []
        },
        {
          "name": "stdout",
          "output_type": "stream",
          "text": [
            "Train Loss(加權): 4.7182 | Train Raw MAE: 4.7182 | Val MAE: 4.3073\n",
            "\n",
            "[FOLD 2] === Epoch 68/400 ===  (LR: 0.000493161)\n"
          ]
        },
        {
          "name": "stderr",
          "output_type": "stream",
          "text": []
        },
        {
          "name": "stdout",
          "output_type": "stream",
          "text": [
            "Train Loss(加權): 4.6638 | Train Raw MAE: 4.6638 | Val MAE: 4.7581\n",
            "\n",
            "[FOLD 2] === Epoch 69/400 ===  (LR: 0.000492648)\n"
          ]
        },
        {
          "name": "stderr",
          "output_type": "stream",
          "text": []
        },
        {
          "name": "stdout",
          "output_type": "stream",
          "text": [
            "Train Loss(加權): 4.6855 | Train Raw MAE: 4.6855 | Val MAE: 4.1303\n",
            "\n",
            "[FOLD 2] === Epoch 70/400 ===  (LR: 0.000492116)\n"
          ]
        },
        {
          "name": "stderr",
          "output_type": "stream",
          "text": []
        },
        {
          "name": "stdout",
          "output_type": "stream",
          "text": [
            "Train Loss(加權): 4.6574 | Train Raw MAE: 4.6574 | Val MAE: 5.2915\n",
            "\n",
            "[FOLD 2] === Epoch 71/400 ===  (LR: 0.000491566)\n"
          ]
        },
        {
          "name": "stderr",
          "output_type": "stream",
          "text": []
        },
        {
          "name": "stdout",
          "output_type": "stream",
          "text": [
            "Train Loss(加權): 4.5924 | Train Raw MAE: 4.5924 | Val MAE: 5.8733\n",
            "\n",
            "[FOLD 2] === Epoch 72/400 ===  (LR: 0.000490998)\n"
          ]
        },
        {
          "name": "stderr",
          "output_type": "stream",
          "text": []
        },
        {
          "name": "stdout",
          "output_type": "stream",
          "text": [
            "Train Loss(加權): 4.6079 | Train Raw MAE: 4.6079 | Val MAE: 4.6871\n",
            "\n",
            "[FOLD 2] === Epoch 73/400 ===  (LR: 0.000490412)\n"
          ]
        },
        {
          "name": "stderr",
          "output_type": "stream",
          "text": []
        },
        {
          "name": "stdout",
          "output_type": "stream",
          "text": [
            "Train Loss(加權): 4.5359 | Train Raw MAE: 4.5359 | Val MAE: 4.0242\n",
            "\n",
            "[FOLD 2] === Epoch 74/400 ===  (LR: 0.000489807)\n"
          ]
        },
        {
          "name": "stderr",
          "output_type": "stream",
          "text": []
        },
        {
          "name": "stdout",
          "output_type": "stream",
          "text": [
            "Train Loss(加權): 4.5512 | Train Raw MAE: 4.5512 | Val MAE: 4.9626\n",
            "\n",
            "[FOLD 2] === Epoch 75/400 ===  (LR: 0.000489185)\n"
          ]
        },
        {
          "name": "stderr",
          "output_type": "stream",
          "text": []
        },
        {
          "name": "stdout",
          "output_type": "stream",
          "text": [
            "Train Loss(加權): 4.4960 | Train Raw MAE: 4.4960 | Val MAE: 4.1632\n",
            "\n",
            "[FOLD 2] === Epoch 76/400 ===  (LR: 0.000488544)\n"
          ]
        },
        {
          "name": "stderr",
          "output_type": "stream",
          "text": []
        },
        {
          "name": "stdout",
          "output_type": "stream",
          "text": [
            "Train Loss(加權): 4.5393 | Train Raw MAE: 4.5393 | Val MAE: 7.9435\n",
            "\n",
            "[FOLD 2] === Epoch 77/400 ===  (LR: 0.000487886)\n"
          ]
        },
        {
          "name": "stderr",
          "output_type": "stream",
          "text": []
        },
        {
          "name": "stdout",
          "output_type": "stream",
          "text": [
            "Train Loss(加權): 4.4674 | Train Raw MAE: 4.4674 | Val MAE: 4.0459\n",
            "\n",
            "[FOLD 2] === Epoch 78/400 ===  (LR: 0.00048721)\n"
          ]
        },
        {
          "name": "stderr",
          "output_type": "stream",
          "text": []
        },
        {
          "name": "stdout",
          "output_type": "stream",
          "text": [
            "Train Loss(加權): 4.3649 | Train Raw MAE: 4.3649 | Val MAE: 3.7493\n",
            "🎯 New best Val MAE: 3.7493\n",
            "\n",
            "[FOLD 2] === Epoch 79/400 ===  (LR: 0.000486515)\n"
          ]
        },
        {
          "name": "stderr",
          "output_type": "stream",
          "text": []
        },
        {
          "name": "stdout",
          "output_type": "stream",
          "text": [
            "Train Loss(加權): 4.3150 | Train Raw MAE: 4.3150 | Val MAE: 3.5306\n",
            "🎯 New best Val MAE: 3.5306\n",
            "\n",
            "[FOLD 2] === Epoch 80/400 ===  (LR: 0.000485803)\n"
          ]
        },
        {
          "name": "stderr",
          "output_type": "stream",
          "text": []
        },
        {
          "name": "stdout",
          "output_type": "stream",
          "text": [
            "Train Loss(加權): 4.3328 | Train Raw MAE: 4.3328 | Val MAE: 3.6318\n",
            "\n",
            "[FOLD 2] === Epoch 81/400 ===  (LR: 0.000485073)\n"
          ]
        },
        {
          "name": "stderr",
          "output_type": "stream",
          "text": []
        },
        {
          "name": "stdout",
          "output_type": "stream",
          "text": [
            "Train Loss(加權): 4.3026 | Train Raw MAE: 4.3026 | Val MAE: 3.9722\n",
            "\n",
            "[FOLD 2] === Epoch 82/400 ===  (LR: 0.000484326)\n"
          ]
        },
        {
          "name": "stderr",
          "output_type": "stream",
          "text": []
        },
        {
          "name": "stdout",
          "output_type": "stream",
          "text": [
            "Train Loss(加權): 4.3140 | Train Raw MAE: 4.3140 | Val MAE: 4.6107\n",
            "\n",
            "[FOLD 2] === Epoch 83/400 ===  (LR: 0.000483561)\n"
          ]
        },
        {
          "name": "stderr",
          "output_type": "stream",
          "text": []
        },
        {
          "name": "stdout",
          "output_type": "stream",
          "text": [
            "Train Loss(加權): 4.3099 | Train Raw MAE: 4.3099 | Val MAE: 5.4390\n",
            "\n",
            "[FOLD 2] === Epoch 84/400 ===  (LR: 0.000482778)\n"
          ]
        },
        {
          "name": "stderr",
          "output_type": "stream",
          "text": []
        },
        {
          "name": "stdout",
          "output_type": "stream",
          "text": [
            "Train Loss(加權): 4.2263 | Train Raw MAE: 4.2263 | Val MAE: 5.5575\n",
            "\n",
            "[FOLD 2] === Epoch 85/400 ===  (LR: 0.000481977)\n"
          ]
        },
        {
          "name": "stderr",
          "output_type": "stream",
          "text": []
        },
        {
          "name": "stdout",
          "output_type": "stream",
          "text": [
            "Train Loss(加權): 4.2235 | Train Raw MAE: 4.2235 | Val MAE: 3.5180\n",
            "🎯 New best Val MAE: 3.5180\n",
            "\n",
            "[FOLD 2] === Epoch 86/400 ===  (LR: 0.00048116)\n"
          ]
        },
        {
          "name": "stderr",
          "output_type": "stream",
          "text": []
        },
        {
          "name": "stdout",
          "output_type": "stream",
          "text": [
            "Train Loss(加權): 4.3195 | Train Raw MAE: 4.3195 | Val MAE: 4.1697\n",
            "\n",
            "[FOLD 2] === Epoch 87/400 ===  (LR: 0.000480324)\n"
          ]
        },
        {
          "name": "stderr",
          "output_type": "stream",
          "text": []
        },
        {
          "name": "stdout",
          "output_type": "stream",
          "text": [
            "Train Loss(加權): 4.2504 | Train Raw MAE: 4.2504 | Val MAE: 3.8466\n",
            "\n",
            "[FOLD 2] === Epoch 88/400 ===  (LR: 0.000479472)\n"
          ]
        },
        {
          "name": "stderr",
          "output_type": "stream",
          "text": []
        },
        {
          "name": "stdout",
          "output_type": "stream",
          "text": [
            "Train Loss(加權): 4.2774 | Train Raw MAE: 4.2774 | Val MAE: 4.3278\n",
            "\n",
            "[FOLD 2] === Epoch 89/400 ===  (LR: 0.000478602)\n"
          ]
        },
        {
          "name": "stderr",
          "output_type": "stream",
          "text": []
        },
        {
          "name": "stdout",
          "output_type": "stream",
          "text": [
            "Train Loss(加權): 4.1833 | Train Raw MAE: 4.1833 | Val MAE: 3.6584\n",
            "\n",
            "[FOLD 2] === Epoch 90/400 ===  (LR: 0.000477715)\n"
          ]
        },
        {
          "name": "stderr",
          "output_type": "stream",
          "text": []
        },
        {
          "name": "stdout",
          "output_type": "stream",
          "text": [
            "Train Loss(加權): 4.1921 | Train Raw MAE: 4.1921 | Val MAE: 3.3946\n",
            "🎯 New best Val MAE: 3.3946\n",
            "\n",
            "[FOLD 2] === Epoch 91/400 ===  (LR: 0.00047681)\n"
          ]
        },
        {
          "name": "stderr",
          "output_type": "stream",
          "text": []
        },
        {
          "name": "stdout",
          "output_type": "stream",
          "text": [
            "Train Loss(加權): 4.0497 | Train Raw MAE: 4.0497 | Val MAE: 3.5926\n",
            "\n",
            "[FOLD 2] === Epoch 92/400 ===  (LR: 0.000475889)\n"
          ]
        },
        {
          "name": "stderr",
          "output_type": "stream",
          "text": []
        },
        {
          "name": "stdout",
          "output_type": "stream",
          "text": [
            "Train Loss(加權): 4.0795 | Train Raw MAE: 4.0795 | Val MAE: 3.4430\n",
            "\n",
            "[FOLD 2] === Epoch 93/400 ===  (LR: 0.000474951)\n"
          ]
        },
        {
          "name": "stderr",
          "output_type": "stream",
          "text": []
        },
        {
          "name": "stdout",
          "output_type": "stream",
          "text": [
            "Train Loss(加權): 4.0240 | Train Raw MAE: 4.0240 | Val MAE: 3.8520\n",
            "\n",
            "[FOLD 2] === Epoch 94/400 ===  (LR: 0.000473996)\n"
          ]
        },
        {
          "name": "stderr",
          "output_type": "stream",
          "text": []
        },
        {
          "name": "stdout",
          "output_type": "stream",
          "text": [
            "Train Loss(加權): 4.0639 | Train Raw MAE: 4.0639 | Val MAE: 3.5694\n",
            "\n",
            "[FOLD 2] === Epoch 95/400 ===  (LR: 0.000473023)\n"
          ]
        },
        {
          "name": "stderr",
          "output_type": "stream",
          "text": []
        },
        {
          "name": "stdout",
          "output_type": "stream",
          "text": [
            "Train Loss(加權): 4.0717 | Train Raw MAE: 4.0717 | Val MAE: 4.8249\n",
            "\n",
            "[FOLD 2] === Epoch 96/400 ===  (LR: 0.000472034)\n"
          ]
        },
        {
          "name": "stderr",
          "output_type": "stream",
          "text": []
        },
        {
          "name": "stdout",
          "output_type": "stream",
          "text": [
            "Train Loss(加權): 4.0904 | Train Raw MAE: 4.0904 | Val MAE: 3.7590\n",
            "\n",
            "[FOLD 2] === Epoch 97/400 ===  (LR: 0.000471029)\n"
          ]
        },
        {
          "name": "stderr",
          "output_type": "stream",
          "text": []
        },
        {
          "name": "stdout",
          "output_type": "stream",
          "text": [
            "Train Loss(加權): 4.0567 | Train Raw MAE: 4.0567 | Val MAE: 3.4475\n",
            "\n",
            "[FOLD 2] === Epoch 98/400 ===  (LR: 0.000470006)\n"
          ]
        },
        {
          "name": "stderr",
          "output_type": "stream",
          "text": []
        },
        {
          "name": "stdout",
          "output_type": "stream",
          "text": [
            "Train Loss(加權): 4.0500 | Train Raw MAE: 4.0500 | Val MAE: 4.7740\n",
            "\n",
            "[FOLD 2] === Epoch 99/400 ===  (LR: 0.000468968)\n"
          ]
        },
        {
          "name": "stderr",
          "output_type": "stream",
          "text": []
        },
        {
          "name": "stdout",
          "output_type": "stream",
          "text": [
            "Train Loss(加權): 3.9645 | Train Raw MAE: 3.9645 | Val MAE: 3.4245\n",
            "\n",
            "[FOLD 2] === Epoch 100/400 ===  (LR: 0.000467912)\n"
          ]
        },
        {
          "name": "stderr",
          "output_type": "stream",
          "text": []
        },
        {
          "name": "stdout",
          "output_type": "stream",
          "text": [
            "Train Loss(加權): 3.9754 | Train Raw MAE: 3.9754 | Val MAE: 3.2862\n",
            "🎯 New best Val MAE: 3.2862\n",
            "\n",
            "[FOLD 2] === Epoch 101/400 ===  (LR: 0.00046684)\n"
          ]
        },
        {
          "name": "stderr",
          "output_type": "stream",
          "text": []
        },
        {
          "name": "stdout",
          "output_type": "stream",
          "text": [
            "Train Loss(加權): 3.8804 | Train Raw MAE: 3.8804 | Val MAE: 3.3874\n",
            "\n",
            "[FOLD 2] === Epoch 102/400 ===  (LR: 0.000465752)\n"
          ]
        },
        {
          "name": "stderr",
          "output_type": "stream",
          "text": []
        },
        {
          "name": "stdout",
          "output_type": "stream",
          "text": [
            "Train Loss(加權): 3.9942 | Train Raw MAE: 3.9942 | Val MAE: 3.4255\n",
            "\n",
            "[FOLD 2] === Epoch 103/400 ===  (LR: 0.000464648)\n"
          ]
        },
        {
          "name": "stderr",
          "output_type": "stream",
          "text": []
        },
        {
          "name": "stdout",
          "output_type": "stream",
          "text": [
            "Train Loss(加權): 3.9639 | Train Raw MAE: 3.9639 | Val MAE: 3.4782\n",
            "\n",
            "[FOLD 2] === Epoch 104/400 ===  (LR: 0.000463528)\n"
          ]
        },
        {
          "name": "stderr",
          "output_type": "stream",
          "text": []
        },
        {
          "name": "stdout",
          "output_type": "stream",
          "text": [
            "Train Loss(加權): 3.8612 | Train Raw MAE: 3.8612 | Val MAE: 4.2508\n",
            "\n",
            "[FOLD 2] === Epoch 105/400 ===  (LR: 0.000462391)\n"
          ]
        },
        {
          "name": "stderr",
          "output_type": "stream",
          "text": []
        },
        {
          "name": "stdout",
          "output_type": "stream",
          "text": [
            "Train Loss(加權): 3.9342 | Train Raw MAE: 3.9342 | Val MAE: 3.3257\n",
            "\n",
            "[FOLD 2] === Epoch 106/400 ===  (LR: 0.000461238)\n"
          ]
        },
        {
          "name": "stderr",
          "output_type": "stream",
          "text": []
        },
        {
          "name": "stdout",
          "output_type": "stream",
          "text": [
            "Train Loss(加權): 3.8435 | Train Raw MAE: 3.8435 | Val MAE: 4.7744\n",
            "\n",
            "[FOLD 2] === Epoch 107/400 ===  (LR: 0.00046007)\n"
          ]
        },
        {
          "name": "stderr",
          "output_type": "stream",
          "text": []
        },
        {
          "name": "stdout",
          "output_type": "stream",
          "text": [
            "Train Loss(加權): 3.8473 | Train Raw MAE: 3.8473 | Val MAE: 3.8877\n",
            "\n",
            "[FOLD 2] === Epoch 108/400 ===  (LR: 0.000458886)\n"
          ]
        },
        {
          "name": "stderr",
          "output_type": "stream",
          "text": []
        },
        {
          "name": "stdout",
          "output_type": "stream",
          "text": [
            "Train Loss(加權): 3.8811 | Train Raw MAE: 3.8811 | Val MAE: 3.3029\n",
            "\n",
            "[FOLD 2] === Epoch 109/400 ===  (LR: 0.000457686)\n"
          ]
        },
        {
          "name": "stderr",
          "output_type": "stream",
          "text": []
        },
        {
          "name": "stdout",
          "output_type": "stream",
          "text": [
            "Train Loss(加權): 3.7800 | Train Raw MAE: 3.7800 | Val MAE: 4.4624\n",
            "\n",
            "[FOLD 2] === Epoch 110/400 ===  (LR: 0.00045647)\n"
          ]
        },
        {
          "name": "stderr",
          "output_type": "stream",
          "text": []
        },
        {
          "name": "stdout",
          "output_type": "stream",
          "text": [
            "Train Loss(加權): 3.8064 | Train Raw MAE: 3.8064 | Val MAE: 4.8990\n",
            "\n",
            "[FOLD 2] === Epoch 111/400 ===  (LR: 0.000455239)\n"
          ]
        },
        {
          "name": "stderr",
          "output_type": "stream",
          "text": []
        },
        {
          "name": "stdout",
          "output_type": "stream",
          "text": [
            "Train Loss(加權): 3.7680 | Train Raw MAE: 3.7680 | Val MAE: 4.0385\n",
            "\n",
            "[FOLD 2] === Epoch 112/400 ===  (LR: 0.000453993)\n"
          ]
        },
        {
          "name": "stderr",
          "output_type": "stream",
          "text": []
        },
        {
          "name": "stdout",
          "output_type": "stream",
          "text": [
            "Train Loss(加權): 3.7790 | Train Raw MAE: 3.7790 | Val MAE: 3.2076\n",
            "🎯 New best Val MAE: 3.2076\n",
            "\n",
            "[FOLD 2] === Epoch 113/400 ===  (LR: 0.000452731)\n"
          ]
        },
        {
          "name": "stderr",
          "output_type": "stream",
          "text": []
        },
        {
          "name": "stdout",
          "output_type": "stream",
          "text": [
            "Train Loss(加權): 3.7248 | Train Raw MAE: 3.7248 | Val MAE: 3.7814\n",
            "\n",
            "[FOLD 2] === Epoch 114/400 ===  (LR: 0.000451454)\n"
          ]
        },
        {
          "name": "stderr",
          "output_type": "stream",
          "text": []
        },
        {
          "name": "stdout",
          "output_type": "stream",
          "text": [
            "Train Loss(加權): 3.7503 | Train Raw MAE: 3.7503 | Val MAE: 3.4197\n",
            "\n",
            "[FOLD 2] === Epoch 115/400 ===  (LR: 0.000450161)\n"
          ]
        },
        {
          "name": "stderr",
          "output_type": "stream",
          "text": []
        },
        {
          "name": "stdout",
          "output_type": "stream",
          "text": [
            "Train Loss(加權): 3.7973 | Train Raw MAE: 3.7973 | Val MAE: 3.1787\n",
            "🎯 New best Val MAE: 3.1787\n",
            "\n",
            "[FOLD 2] === Epoch 116/400 ===  (LR: 0.000448854)\n"
          ]
        },
        {
          "name": "stderr",
          "output_type": "stream",
          "text": []
        },
        {
          "name": "stdout",
          "output_type": "stream",
          "text": [
            "Train Loss(加權): 3.8047 | Train Raw MAE: 3.8047 | Val MAE: 3.6717\n",
            "\n",
            "[FOLD 2] === Epoch 117/400 ===  (LR: 0.000447532)\n"
          ]
        },
        {
          "name": "stderr",
          "output_type": "stream",
          "text": []
        },
        {
          "name": "stdout",
          "output_type": "stream",
          "text": [
            "Train Loss(加權): 3.7282 | Train Raw MAE: 3.7282 | Val MAE: 3.5892\n",
            "\n",
            "[FOLD 2] === Epoch 118/400 ===  (LR: 0.000446194)\n"
          ]
        },
        {
          "name": "stderr",
          "output_type": "stream",
          "text": []
        },
        {
          "name": "stdout",
          "output_type": "stream",
          "text": [
            "Train Loss(加權): 3.6330 | Train Raw MAE: 3.6330 | Val MAE: 3.6127\n",
            "\n",
            "[FOLD 2] === Epoch 119/400 ===  (LR: 0.000444843)\n"
          ]
        },
        {
          "name": "stderr",
          "output_type": "stream",
          "text": []
        },
        {
          "name": "stdout",
          "output_type": "stream",
          "text": [
            "Train Loss(加權): 3.6056 | Train Raw MAE: 3.6056 | Val MAE: 3.4966\n",
            "\n",
            "[FOLD 2] === Epoch 120/400 ===  (LR: 0.000443476)\n"
          ]
        },
        {
          "name": "stderr",
          "output_type": "stream",
          "text": []
        },
        {
          "name": "stdout",
          "output_type": "stream",
          "text": [
            "Train Loss(加權): 3.6373 | Train Raw MAE: 3.6373 | Val MAE: 4.5732\n",
            "\n",
            "[FOLD 2] === Epoch 121/400 ===  (LR: 0.000442095)\n"
          ]
        },
        {
          "name": "stderr",
          "output_type": "stream",
          "text": []
        },
        {
          "name": "stdout",
          "output_type": "stream",
          "text": [
            "Train Loss(加權): 3.6277 | Train Raw MAE: 3.6277 | Val MAE: 3.4332\n",
            "\n",
            "[FOLD 2] === Epoch 122/400 ===  (LR: 0.000440699)\n"
          ]
        },
        {
          "name": "stderr",
          "output_type": "stream",
          "text": []
        },
        {
          "name": "stdout",
          "output_type": "stream",
          "text": [
            "Train Loss(加權): 3.6585 | Train Raw MAE: 3.6585 | Val MAE: 3.1739\n",
            "🎯 New best Val MAE: 3.1739\n",
            "\n",
            "[FOLD 2] === Epoch 123/400 ===  (LR: 0.00043929)\n"
          ]
        },
        {
          "name": "stderr",
          "output_type": "stream",
          "text": []
        },
        {
          "name": "stdout",
          "output_type": "stream",
          "text": [
            "Train Loss(加權): 3.6806 | Train Raw MAE: 3.6806 | Val MAE: 4.6166\n",
            "\n",
            "[FOLD 2] === Epoch 124/400 ===  (LR: 0.000437865)\n"
          ]
        },
        {
          "name": "stderr",
          "output_type": "stream",
          "text": []
        },
        {
          "name": "stdout",
          "output_type": "stream",
          "text": [
            "Train Loss(加權): 3.5841 | Train Raw MAE: 3.5841 | Val MAE: 3.5885\n",
            "\n",
            "[FOLD 2] === Epoch 125/400 ===  (LR: 0.000436427)\n"
          ]
        },
        {
          "name": "stderr",
          "output_type": "stream",
          "text": []
        },
        {
          "name": "stdout",
          "output_type": "stream",
          "text": [
            "Train Loss(加權): 3.6244 | Train Raw MAE: 3.6244 | Val MAE: 3.9217\n",
            "\n",
            "[FOLD 2] === Epoch 126/400 ===  (LR: 0.000434975)\n"
          ]
        },
        {
          "name": "stderr",
          "output_type": "stream",
          "text": []
        },
        {
          "name": "stdout",
          "output_type": "stream",
          "text": [
            "Train Loss(加權): 3.6051 | Train Raw MAE: 3.6051 | Val MAE: 6.1571\n",
            "\n",
            "[FOLD 2] === Epoch 127/400 ===  (LR: 0.000433509)\n"
          ]
        },
        {
          "name": "stderr",
          "output_type": "stream",
          "text": []
        },
        {
          "name": "stdout",
          "output_type": "stream",
          "text": [
            "Train Loss(加權): 3.5860 | Train Raw MAE: 3.5860 | Val MAE: 3.4645\n",
            "\n",
            "[FOLD 2] === Epoch 128/400 ===  (LR: 0.000432029)\n"
          ]
        },
        {
          "name": "stderr",
          "output_type": "stream",
          "text": []
        },
        {
          "name": "stdout",
          "output_type": "stream",
          "text": [
            "Train Loss(加權): 3.6289 | Train Raw MAE: 3.6289 | Val MAE: 3.4451\n",
            "\n",
            "[FOLD 2] === Epoch 129/400 ===  (LR: 0.000430535)\n"
          ]
        },
        {
          "name": "stderr",
          "output_type": "stream",
          "text": []
        },
        {
          "name": "stdout",
          "output_type": "stream",
          "text": [
            "Train Loss(加權): 3.6285 | Train Raw MAE: 3.6285 | Val MAE: 4.3198\n",
            "\n",
            "[FOLD 2] === Epoch 130/400 ===  (LR: 0.000429028)\n"
          ]
        },
        {
          "name": "stderr",
          "output_type": "stream",
          "text": []
        },
        {
          "name": "stdout",
          "output_type": "stream",
          "text": [
            "Train Loss(加權): 3.6152 | Train Raw MAE: 3.6152 | Val MAE: 3.4874\n",
            "\n",
            "[FOLD 2] === Epoch 131/400 ===  (LR: 0.000427508)\n"
          ]
        },
        {
          "name": "stderr",
          "output_type": "stream",
          "text": []
        },
        {
          "name": "stdout",
          "output_type": "stream",
          "text": [
            "Train Loss(加權): 3.5989 | Train Raw MAE: 3.5989 | Val MAE: 3.1434\n",
            "🎯 New best Val MAE: 3.1434\n",
            "\n",
            "[FOLD 2] === Epoch 132/400 ===  (LR: 0.000425974)\n"
          ]
        },
        {
          "name": "stderr",
          "output_type": "stream",
          "text": []
        },
        {
          "name": "stdout",
          "output_type": "stream",
          "text": [
            "Train Loss(加權): 3.5202 | Train Raw MAE: 3.5202 | Val MAE: 3.7886\n",
            "\n",
            "[FOLD 2] === Epoch 133/400 ===  (LR: 0.000424427)\n"
          ]
        },
        {
          "name": "stderr",
          "output_type": "stream",
          "text": []
        },
        {
          "name": "stdout",
          "output_type": "stream",
          "text": [
            "Train Loss(加權): 3.5531 | Train Raw MAE: 3.5531 | Val MAE: 3.5246\n",
            "\n",
            "[FOLD 2] === Epoch 134/400 ===  (LR: 0.000422867)\n"
          ]
        },
        {
          "name": "stderr",
          "output_type": "stream",
          "text": []
        },
        {
          "name": "stdout",
          "output_type": "stream",
          "text": [
            "Train Loss(加權): 3.5771 | Train Raw MAE: 3.5771 | Val MAE: 3.2566\n",
            "\n",
            "[FOLD 2] === Epoch 135/400 ===  (LR: 0.000421293)\n"
          ]
        },
        {
          "name": "stderr",
          "output_type": "stream",
          "text": []
        },
        {
          "name": "stdout",
          "output_type": "stream",
          "text": [
            "Train Loss(加權): 3.4580 | Train Raw MAE: 3.4580 | Val MAE: 3.6805\n",
            "\n",
            "[FOLD 2] === Epoch 136/400 ===  (LR: 0.000419707)\n"
          ]
        },
        {
          "name": "stderr",
          "output_type": "stream",
          "text": []
        },
        {
          "name": "stdout",
          "output_type": "stream",
          "text": [
            "Train Loss(加權): 3.4287 | Train Raw MAE: 3.4287 | Val MAE: 3.0746\n",
            "🎯 New best Val MAE: 3.0746\n",
            "\n",
            "[FOLD 2] === Epoch 137/400 ===  (LR: 0.000418109)\n"
          ]
        },
        {
          "name": "stderr",
          "output_type": "stream",
          "text": []
        },
        {
          "name": "stdout",
          "output_type": "stream",
          "text": [
            "Train Loss(加權): 3.4508 | Train Raw MAE: 3.4508 | Val MAE: 3.2980\n",
            "\n",
            "[FOLD 2] === Epoch 138/400 ===  (LR: 0.000416497)\n"
          ]
        },
        {
          "name": "stderr",
          "output_type": "stream",
          "text": []
        },
        {
          "name": "stdout",
          "output_type": "stream",
          "text": [
            "Train Loss(加權): 3.5149 | Train Raw MAE: 3.5149 | Val MAE: 3.1487\n",
            "\n",
            "[FOLD 2] === Epoch 139/400 ===  (LR: 0.000414873)\n"
          ]
        },
        {
          "name": "stderr",
          "output_type": "stream",
          "text": []
        },
        {
          "name": "stdout",
          "output_type": "stream",
          "text": [
            "Train Loss(加權): 3.3913 | Train Raw MAE: 3.3913 | Val MAE: 3.7929\n",
            "\n",
            "[FOLD 2] === Epoch 140/400 ===  (LR: 0.000413237)\n"
          ]
        },
        {
          "name": "stderr",
          "output_type": "stream",
          "text": []
        },
        {
          "name": "stdout",
          "output_type": "stream",
          "text": [
            "Train Loss(加權): 3.4545 | Train Raw MAE: 3.4545 | Val MAE: 3.1473\n",
            "\n",
            "[FOLD 2] === Epoch 141/400 ===  (LR: 0.000411589)\n"
          ]
        },
        {
          "name": "stderr",
          "output_type": "stream",
          "text": []
        },
        {
          "name": "stdout",
          "output_type": "stream",
          "text": [
            "Train Loss(加權): 3.4708 | Train Raw MAE: 3.4708 | Val MAE: 3.8003\n",
            "\n",
            "[FOLD 2] === Epoch 142/400 ===  (LR: 0.000409928)\n"
          ]
        },
        {
          "name": "stderr",
          "output_type": "stream",
          "text": []
        },
        {
          "name": "stdout",
          "output_type": "stream",
          "text": [
            "Train Loss(加權): 3.4162 | Train Raw MAE: 3.4162 | Val MAE: 3.5568\n",
            "\n",
            "[FOLD 2] === Epoch 143/400 ===  (LR: 0.000408256)\n"
          ]
        },
        {
          "name": "stderr",
          "output_type": "stream",
          "text": []
        },
        {
          "name": "stdout",
          "output_type": "stream",
          "text": [
            "Train Loss(加權): 3.3941 | Train Raw MAE: 3.3941 | Val MAE: 3.0443\n",
            "🎯 New best Val MAE: 3.0443\n",
            "\n",
            "[FOLD 2] === Epoch 144/400 ===  (LR: 0.000406571)\n"
          ]
        },
        {
          "name": "stderr",
          "output_type": "stream",
          "text": []
        },
        {
          "name": "stdout",
          "output_type": "stream",
          "text": [
            "Train Loss(加權): 3.5166 | Train Raw MAE: 3.5166 | Val MAE: 3.3501\n",
            "\n",
            "[FOLD 2] === Epoch 145/400 ===  (LR: 0.000404875)\n"
          ]
        },
        {
          "name": "stderr",
          "output_type": "stream",
          "text": []
        },
        {
          "name": "stdout",
          "output_type": "stream",
          "text": [
            "Train Loss(加權): 3.3696 | Train Raw MAE: 3.3696 | Val MAE: 3.3435\n",
            "\n",
            "[FOLD 2] === Epoch 146/400 ===  (LR: 0.000403167)\n"
          ]
        },
        {
          "name": "stderr",
          "output_type": "stream",
          "text": []
        },
        {
          "name": "stdout",
          "output_type": "stream",
          "text": [
            "Train Loss(加權): 3.4296 | Train Raw MAE: 3.4296 | Val MAE: 3.7608\n",
            "\n",
            "[FOLD 2] === Epoch 147/400 ===  (LR: 0.000401448)\n"
          ]
        },
        {
          "name": "stderr",
          "output_type": "stream",
          "text": []
        },
        {
          "name": "stdout",
          "output_type": "stream",
          "text": [
            "Train Loss(加權): 3.3880 | Train Raw MAE: 3.3880 | Val MAE: 3.0915\n",
            "\n",
            "[FOLD 2] === Epoch 148/400 ===  (LR: 0.000399717)\n"
          ]
        },
        {
          "name": "stderr",
          "output_type": "stream",
          "text": []
        },
        {
          "name": "stdout",
          "output_type": "stream",
          "text": [
            "Train Loss(加權): 3.3653 | Train Raw MAE: 3.3653 | Val MAE: 3.2046\n",
            "\n",
            "[FOLD 2] === Epoch 149/400 ===  (LR: 0.000397976)\n"
          ]
        },
        {
          "name": "stderr",
          "output_type": "stream",
          "text": []
        },
        {
          "name": "stdout",
          "output_type": "stream",
          "text": [
            "Train Loss(加權): 3.3733 | Train Raw MAE: 3.3733 | Val MAE: 3.1478\n",
            "\n",
            "[FOLD 2] === Epoch 150/400 ===  (LR: 0.000396223)\n"
          ]
        },
        {
          "name": "stderr",
          "output_type": "stream",
          "text": []
        },
        {
          "name": "stdout",
          "output_type": "stream",
          "text": [
            "Train Loss(加權): 3.2753 | Train Raw MAE: 3.2753 | Val MAE: 3.3599\n",
            "\n",
            "[FOLD 2] === Epoch 151/400 ===  (LR: 0.000394459)\n"
          ]
        },
        {
          "name": "stderr",
          "output_type": "stream",
          "text": []
        },
        {
          "name": "stdout",
          "output_type": "stream",
          "text": [
            "Train Loss(加權): 3.3856 | Train Raw MAE: 3.3856 | Val MAE: 3.2145\n",
            "\n",
            "[FOLD 2] === Epoch 152/400 ===  (LR: 0.000392684)\n"
          ]
        },
        {
          "name": "stderr",
          "output_type": "stream",
          "text": []
        },
        {
          "name": "stdout",
          "output_type": "stream",
          "text": [
            "Train Loss(加權): 3.3042 | Train Raw MAE: 3.3042 | Val MAE: 3.3332\n",
            "\n",
            "[FOLD 2] === Epoch 153/400 ===  (LR: 0.000390899)\n"
          ]
        },
        {
          "name": "stderr",
          "output_type": "stream",
          "text": []
        },
        {
          "name": "stdout",
          "output_type": "stream",
          "text": [
            "Train Loss(加權): 3.3698 | Train Raw MAE: 3.3698 | Val MAE: 3.5496\n",
            "\n",
            "[FOLD 2] === Epoch 154/400 ===  (LR: 0.000389103)\n"
          ]
        },
        {
          "name": "stderr",
          "output_type": "stream",
          "text": []
        },
        {
          "name": "stdout",
          "output_type": "stream",
          "text": [
            "Train Loss(加權): 3.2767 | Train Raw MAE: 3.2767 | Val MAE: 4.9715\n",
            "\n",
            "[FOLD 2] === Epoch 155/400 ===  (LR: 0.000387297)\n"
          ]
        },
        {
          "name": "stderr",
          "output_type": "stream",
          "text": []
        },
        {
          "name": "stdout",
          "output_type": "stream",
          "text": [
            "Train Loss(加權): 3.2716 | Train Raw MAE: 3.2716 | Val MAE: 3.6964\n",
            "\n",
            "[FOLD 2] === Epoch 156/400 ===  (LR: 0.00038548)\n"
          ]
        },
        {
          "name": "stderr",
          "output_type": "stream",
          "text": []
        },
        {
          "name": "stdout",
          "output_type": "stream",
          "text": [
            "Train Loss(加權): 3.2537 | Train Raw MAE: 3.2537 | Val MAE: 3.0874\n",
            "\n",
            "[FOLD 2] === Epoch 157/400 ===  (LR: 0.000383654)\n"
          ]
        },
        {
          "name": "stderr",
          "output_type": "stream",
          "text": []
        },
        {
          "name": "stdout",
          "output_type": "stream",
          "text": [
            "Train Loss(加權): 3.2665 | Train Raw MAE: 3.2665 | Val MAE: 3.0658\n",
            "\n",
            "[FOLD 2] === Epoch 158/400 ===  (LR: 0.000381817)\n"
          ]
        },
        {
          "name": "stderr",
          "output_type": "stream",
          "text": []
        },
        {
          "name": "stdout",
          "output_type": "stream",
          "text": [
            "Train Loss(加權): 3.2253 | Train Raw MAE: 3.2253 | Val MAE: 3.7618\n",
            "\n",
            "[FOLD 2] === Epoch 159/400 ===  (LR: 0.000379971)\n"
          ]
        },
        {
          "name": "stderr",
          "output_type": "stream",
          "text": []
        },
        {
          "name": "stdout",
          "output_type": "stream",
          "text": [
            "Train Loss(加權): 3.2551 | Train Raw MAE: 3.2551 | Val MAE: 3.1480\n",
            "\n",
            "[FOLD 2] === Epoch 160/400 ===  (LR: 0.000378114)\n"
          ]
        },
        {
          "name": "stderr",
          "output_type": "stream",
          "text": []
        },
        {
          "name": "stdout",
          "output_type": "stream",
          "text": [
            "Train Loss(加權): 3.2080 | Train Raw MAE: 3.2080 | Val MAE: 3.2230\n",
            "\n",
            "[FOLD 2] === Epoch 161/400 ===  (LR: 0.000376249)\n"
          ]
        },
        {
          "name": "stderr",
          "output_type": "stream",
          "text": []
        },
        {
          "name": "stdout",
          "output_type": "stream",
          "text": [
            "Train Loss(加權): 3.2263 | Train Raw MAE: 3.2263 | Val MAE: 3.0833\n",
            "\n",
            "[FOLD 2] === Epoch 162/400 ===  (LR: 0.000374373)\n"
          ]
        },
        {
          "name": "stderr",
          "output_type": "stream",
          "text": []
        },
        {
          "name": "stdout",
          "output_type": "stream",
          "text": [
            "Train Loss(加權): 3.2100 | Train Raw MAE: 3.2100 | Val MAE: 3.2194\n",
            "\n",
            "[FOLD 2] === Epoch 163/400 ===  (LR: 0.000372489)\n"
          ]
        },
        {
          "name": "stderr",
          "output_type": "stream",
          "text": []
        },
        {
          "name": "stdout",
          "output_type": "stream",
          "text": [
            "Train Loss(加權): 3.1940 | Train Raw MAE: 3.1940 | Val MAE: 3.0188\n",
            "🎯 New best Val MAE: 3.0188\n",
            "\n",
            "[FOLD 2] === Epoch 164/400 ===  (LR: 0.000370595)\n"
          ]
        },
        {
          "name": "stderr",
          "output_type": "stream",
          "text": []
        },
        {
          "name": "stdout",
          "output_type": "stream",
          "text": [
            "Train Loss(加權): 3.1716 | Train Raw MAE: 3.1716 | Val MAE: 3.1188\n",
            "\n",
            "[FOLD 2] === Epoch 165/400 ===  (LR: 0.000368693)\n"
          ]
        },
        {
          "name": "stderr",
          "output_type": "stream",
          "text": []
        },
        {
          "name": "stdout",
          "output_type": "stream",
          "text": [
            "Train Loss(加權): 3.1566 | Train Raw MAE: 3.1566 | Val MAE: 3.1316\n",
            "\n",
            "[FOLD 2] === Epoch 166/400 ===  (LR: 0.000366781)\n"
          ]
        },
        {
          "name": "stderr",
          "output_type": "stream",
          "text": []
        },
        {
          "name": "stdout",
          "output_type": "stream",
          "text": [
            "Train Loss(加權): 3.2138 | Train Raw MAE: 3.2138 | Val MAE: 3.0191\n",
            "\n",
            "[FOLD 2] === Epoch 167/400 ===  (LR: 0.000364861)\n"
          ]
        },
        {
          "name": "stderr",
          "output_type": "stream",
          "text": []
        },
        {
          "name": "stdout",
          "output_type": "stream",
          "text": [
            "Train Loss(加權): 3.0827 | Train Raw MAE: 3.0827 | Val MAE: 3.1146\n",
            "\n",
            "[FOLD 2] === Epoch 168/400 ===  (LR: 0.000362932)\n"
          ]
        },
        {
          "name": "stderr",
          "output_type": "stream",
          "text": []
        },
        {
          "name": "stdout",
          "output_type": "stream",
          "text": [
            "Train Loss(加權): 3.2079 | Train Raw MAE: 3.2079 | Val MAE: 2.9799\n",
            "🎯 New best Val MAE: 2.9799\n",
            "\n",
            "[FOLD 2] === Epoch 169/400 ===  (LR: 0.000360995)\n"
          ]
        },
        {
          "name": "stderr",
          "output_type": "stream",
          "text": []
        },
        {
          "name": "stdout",
          "output_type": "stream",
          "text": [
            "Train Loss(加權): 3.1422 | Train Raw MAE: 3.1422 | Val MAE: 3.3800\n",
            "\n",
            "[FOLD 2] === Epoch 170/400 ===  (LR: 0.00035905)\n"
          ]
        },
        {
          "name": "stderr",
          "output_type": "stream",
          "text": []
        },
        {
          "name": "stdout",
          "output_type": "stream",
          "text": [
            "Train Loss(加權): 3.1638 | Train Raw MAE: 3.1638 | Val MAE: 3.2439\n",
            "\n",
            "[FOLD 2] === Epoch 171/400 ===  (LR: 0.000357097)\n"
          ]
        },
        {
          "name": "stderr",
          "output_type": "stream",
          "text": []
        },
        {
          "name": "stdout",
          "output_type": "stream",
          "text": [
            "Train Loss(加權): 3.1806 | Train Raw MAE: 3.1806 | Val MAE: 2.9907\n",
            "\n",
            "[FOLD 2] === Epoch 172/400 ===  (LR: 0.000355135)\n"
          ]
        },
        {
          "name": "stderr",
          "output_type": "stream",
          "text": []
        },
        {
          "name": "stdout",
          "output_type": "stream",
          "text": [
            "Train Loss(加權): 3.0571 | Train Raw MAE: 3.0571 | Val MAE: 3.2189\n",
            "\n",
            "[FOLD 2] === Epoch 173/400 ===  (LR: 0.000353166)\n"
          ]
        },
        {
          "name": "stderr",
          "output_type": "stream",
          "text": []
        },
        {
          "name": "stdout",
          "output_type": "stream",
          "text": [
            "Train Loss(加權): 3.0508 | Train Raw MAE: 3.0508 | Val MAE: 3.3104\n",
            "\n",
            "[FOLD 2] === Epoch 174/400 ===  (LR: 0.000351189)\n"
          ]
        },
        {
          "name": "stderr",
          "output_type": "stream",
          "text": []
        },
        {
          "name": "stdout",
          "output_type": "stream",
          "text": [
            "Train Loss(加權): 3.0902 | Train Raw MAE: 3.0902 | Val MAE: 3.3103\n",
            "\n",
            "[FOLD 2] === Epoch 175/400 ===  (LR: 0.000349204)\n"
          ]
        },
        {
          "name": "stderr",
          "output_type": "stream",
          "text": []
        },
        {
          "name": "stdout",
          "output_type": "stream",
          "text": [
            "Train Loss(加權): 3.1079 | Train Raw MAE: 3.1079 | Val MAE: 3.5816\n",
            "\n",
            "[FOLD 2] === Epoch 176/400 ===  (LR: 0.000347213)\n"
          ]
        },
        {
          "name": "stderr",
          "output_type": "stream",
          "text": []
        },
        {
          "name": "stdout",
          "output_type": "stream",
          "text": [
            "Train Loss(加權): 3.0503 | Train Raw MAE: 3.0503 | Val MAE: 3.1136\n",
            "\n",
            "[FOLD 2] === Epoch 177/400 ===  (LR: 0.000345214)\n"
          ]
        },
        {
          "name": "stderr",
          "output_type": "stream",
          "text": []
        },
        {
          "name": "stdout",
          "output_type": "stream",
          "text": [
            "Train Loss(加權): 2.9959 | Train Raw MAE: 2.9959 | Val MAE: 2.9459\n",
            "🎯 New best Val MAE: 2.9459\n",
            "\n",
            "[FOLD 2] === Epoch 178/400 ===  (LR: 0.000343208)\n"
          ]
        },
        {
          "name": "stderr",
          "output_type": "stream",
          "text": []
        },
        {
          "name": "stdout",
          "output_type": "stream",
          "text": [
            "Train Loss(加權): 3.0310 | Train Raw MAE: 3.0310 | Val MAE: 2.9795\n",
            "\n",
            "[FOLD 2] === Epoch 179/400 ===  (LR: 0.000341195)\n"
          ]
        },
        {
          "name": "stderr",
          "output_type": "stream",
          "text": []
        },
        {
          "name": "stdout",
          "output_type": "stream",
          "text": [
            "Train Loss(加權): 3.0074 | Train Raw MAE: 3.0074 | Val MAE: 3.0855\n",
            "\n",
            "[FOLD 2] === Epoch 180/400 ===  (LR: 0.000339175)\n"
          ]
        },
        {
          "name": "stderr",
          "output_type": "stream",
          "text": []
        },
        {
          "name": "stdout",
          "output_type": "stream",
          "text": [
            "Train Loss(加權): 3.0002 | Train Raw MAE: 3.0002 | Val MAE: 2.9977\n",
            "\n",
            "[FOLD 2] === Epoch 181/400 ===  (LR: 0.000337148)\n"
          ]
        },
        {
          "name": "stderr",
          "output_type": "stream",
          "text": []
        },
        {
          "name": "stdout",
          "output_type": "stream",
          "text": [
            "Train Loss(加權): 3.0628 | Train Raw MAE: 3.0628 | Val MAE: 3.0110\n",
            "\n",
            "[FOLD 2] === Epoch 182/400 ===  (LR: 0.000335116)\n"
          ]
        },
        {
          "name": "stderr",
          "output_type": "stream",
          "text": []
        },
        {
          "name": "stdout",
          "output_type": "stream",
          "text": [
            "Train Loss(加權): 2.9944 | Train Raw MAE: 2.9944 | Val MAE: 3.0740\n",
            "\n",
            "[FOLD 2] === Epoch 183/400 ===  (LR: 0.000333077)\n"
          ]
        },
        {
          "name": "stderr",
          "output_type": "stream",
          "text": []
        },
        {
          "name": "stdout",
          "output_type": "stream",
          "text": [
            "Train Loss(加權): 2.9739 | Train Raw MAE: 2.9739 | Val MAE: 3.5438\n",
            "\n",
            "[FOLD 2] === Epoch 184/400 ===  (LR: 0.000331031)\n"
          ]
        },
        {
          "name": "stderr",
          "output_type": "stream",
          "text": []
        },
        {
          "name": "stdout",
          "output_type": "stream",
          "text": [
            "Train Loss(加權): 3.0149 | Train Raw MAE: 3.0149 | Val MAE: 3.0295\n",
            "\n",
            "[FOLD 2] === Epoch 185/400 ===  (LR: 0.00032898)\n"
          ]
        },
        {
          "name": "stderr",
          "output_type": "stream",
          "text": []
        },
        {
          "name": "stdout",
          "output_type": "stream",
          "text": [
            "Train Loss(加權): 2.9717 | Train Raw MAE: 2.9717 | Val MAE: 3.0215\n",
            "\n",
            "[FOLD 2] === Epoch 186/400 ===  (LR: 0.000326923)\n"
          ]
        },
        {
          "name": "stderr",
          "output_type": "stream",
          "text": []
        },
        {
          "name": "stdout",
          "output_type": "stream",
          "text": [
            "Train Loss(加權): 2.9871 | Train Raw MAE: 2.9871 | Val MAE: 3.0492\n",
            "\n",
            "[FOLD 2] === Epoch 187/400 ===  (LR: 0.00032486)\n"
          ]
        },
        {
          "name": "stderr",
          "output_type": "stream",
          "text": []
        },
        {
          "name": "stdout",
          "output_type": "stream",
          "text": [
            "Train Loss(加權): 2.9518 | Train Raw MAE: 2.9518 | Val MAE: 2.9211\n",
            "🎯 New best Val MAE: 2.9211\n",
            "\n",
            "[FOLD 2] === Epoch 188/400 ===  (LR: 0.000322792)\n"
          ]
        },
        {
          "name": "stderr",
          "output_type": "stream",
          "text": []
        },
        {
          "name": "stdout",
          "output_type": "stream",
          "text": [
            "Train Loss(加權): 2.9005 | Train Raw MAE: 2.9005 | Val MAE: 3.0673\n",
            "\n",
            "[FOLD 2] === Epoch 189/400 ===  (LR: 0.000320719)\n"
          ]
        },
        {
          "name": "stderr",
          "output_type": "stream",
          "text": []
        },
        {
          "name": "stdout",
          "output_type": "stream",
          "text": [
            "Train Loss(加權): 2.8741 | Train Raw MAE: 2.8741 | Val MAE: 2.8560\n",
            "🎯 New best Val MAE: 2.8560\n",
            "\n",
            "[FOLD 2] === Epoch 190/400 ===  (LR: 0.00031864)\n"
          ]
        },
        {
          "name": "stderr",
          "output_type": "stream",
          "text": []
        },
        {
          "name": "stdout",
          "output_type": "stream",
          "text": [
            "Train Loss(加權): 2.9406 | Train Raw MAE: 2.9406 | Val MAE: 3.3911\n",
            "\n",
            "[FOLD 2] === Epoch 191/400 ===  (LR: 0.000316556)\n"
          ]
        },
        {
          "name": "stderr",
          "output_type": "stream",
          "text": []
        },
        {
          "name": "stdout",
          "output_type": "stream",
          "text": [
            "Train Loss(加權): 2.9329 | Train Raw MAE: 2.9329 | Val MAE: 3.0596\n",
            "\n",
            "[FOLD 2] === Epoch 192/400 ===  (LR: 0.000314467)\n"
          ]
        },
        {
          "name": "stderr",
          "output_type": "stream",
          "text": []
        },
        {
          "name": "stdout",
          "output_type": "stream",
          "text": [
            "Train Loss(加權): 2.9059 | Train Raw MAE: 2.9059 | Val MAE: 3.0519\n",
            "\n",
            "[FOLD 2] === Epoch 193/400 ===  (LR: 0.000312374)\n"
          ]
        },
        {
          "name": "stderr",
          "output_type": "stream",
          "text": []
        },
        {
          "name": "stdout",
          "output_type": "stream",
          "text": [
            "Train Loss(加權): 2.9020 | Train Raw MAE: 2.9020 | Val MAE: 3.3837\n",
            "\n",
            "[FOLD 2] === Epoch 194/400 ===  (LR: 0.000310276)\n"
          ]
        },
        {
          "name": "stderr",
          "output_type": "stream",
          "text": []
        },
        {
          "name": "stdout",
          "output_type": "stream",
          "text": [
            "Train Loss(加權): 2.9084 | Train Raw MAE: 2.9084 | Val MAE: 3.0647\n",
            "\n",
            "[FOLD 2] === Epoch 195/400 ===  (LR: 0.000308174)\n"
          ]
        },
        {
          "name": "stderr",
          "output_type": "stream",
          "text": []
        },
        {
          "name": "stdout",
          "output_type": "stream",
          "text": [
            "Train Loss(加權): 2.9226 | Train Raw MAE: 2.9226 | Val MAE: 2.9832\n",
            "\n",
            "[FOLD 2] === Epoch 196/400 ===  (LR: 0.000306067)\n"
          ]
        },
        {
          "name": "stderr",
          "output_type": "stream",
          "text": []
        },
        {
          "name": "stdout",
          "output_type": "stream",
          "text": [
            "Train Loss(加權): 2.8532 | Train Raw MAE: 2.8532 | Val MAE: 3.7531\n",
            "\n",
            "[FOLD 2] === Epoch 197/400 ===  (LR: 0.000303957)\n"
          ]
        },
        {
          "name": "stderr",
          "output_type": "stream",
          "text": []
        },
        {
          "name": "stdout",
          "output_type": "stream",
          "text": [
            "Train Loss(加權): 2.8465 | Train Raw MAE: 2.8465 | Val MAE: 2.8461\n",
            "🎯 New best Val MAE: 2.8461\n",
            "\n",
            "[FOLD 2] === Epoch 198/400 ===  (LR: 0.000301842)\n"
          ]
        },
        {
          "name": "stderr",
          "output_type": "stream",
          "text": []
        },
        {
          "name": "stdout",
          "output_type": "stream",
          "text": [
            "Train Loss(加權): 2.8382 | Train Raw MAE: 2.8382 | Val MAE: 2.9057\n",
            "\n",
            "[FOLD 2] === Epoch 199/400 ===  (LR: 0.000299724)\n"
          ]
        },
        {
          "name": "stderr",
          "output_type": "stream",
          "text": []
        },
        {
          "name": "stdout",
          "output_type": "stream",
          "text": [
            "Train Loss(加權): 2.8568 | Train Raw MAE: 2.8568 | Val MAE: 3.0130\n",
            "\n",
            "[FOLD 2] === Epoch 200/400 ===  (LR: 0.000297602)\n"
          ]
        },
        {
          "name": "stderr",
          "output_type": "stream",
          "text": []
        },
        {
          "name": "stdout",
          "output_type": "stream",
          "text": [
            "Train Loss(加權): 2.8607 | Train Raw MAE: 2.8607 | Val MAE: 2.9993\n",
            "\n",
            "[FOLD 2] === Epoch 201/400 ===  (LR: 0.000295476)\n"
          ]
        },
        {
          "name": "stderr",
          "output_type": "stream",
          "text": []
        },
        {
          "name": "stdout",
          "output_type": "stream",
          "text": [
            "Train Loss(加權): 2.8598 | Train Raw MAE: 2.8598 | Val MAE: 2.8780\n",
            "\n",
            "[FOLD 2] === Epoch 202/400 ===  (LR: 0.000293348)\n"
          ]
        },
        {
          "name": "stderr",
          "output_type": "stream",
          "text": []
        },
        {
          "name": "stdout",
          "output_type": "stream",
          "text": [
            "Train Loss(加權): 2.8402 | Train Raw MAE: 2.8402 | Val MAE: 2.9544\n",
            "\n",
            "[FOLD 2] === Epoch 203/400 ===  (LR: 0.000291216)\n"
          ]
        },
        {
          "name": "stderr",
          "output_type": "stream",
          "text": []
        },
        {
          "name": "stdout",
          "output_type": "stream",
          "text": [
            "Train Loss(加權): 2.8373 | Train Raw MAE: 2.8373 | Val MAE: 3.5625\n",
            "\n",
            "[FOLD 2] === Epoch 204/400 ===  (LR: 0.000289081)\n"
          ]
        },
        {
          "name": "stderr",
          "output_type": "stream",
          "text": []
        },
        {
          "name": "stdout",
          "output_type": "stream",
          "text": [
            "Train Loss(加權): 2.8325 | Train Raw MAE: 2.8325 | Val MAE: 3.1025\n",
            "\n",
            "[FOLD 2] === Epoch 205/400 ===  (LR: 0.000286944)\n"
          ]
        },
        {
          "name": "stderr",
          "output_type": "stream",
          "text": []
        },
        {
          "name": "stdout",
          "output_type": "stream",
          "text": [
            "Train Loss(加權): 2.8413 | Train Raw MAE: 2.8413 | Val MAE: 2.9645\n",
            "\n",
            "[FOLD 2] === Epoch 206/400 ===  (LR: 0.000284804)\n"
          ]
        },
        {
          "name": "stderr",
          "output_type": "stream",
          "text": []
        },
        {
          "name": "stdout",
          "output_type": "stream",
          "text": [
            "Train Loss(加權): 2.8016 | Train Raw MAE: 2.8016 | Val MAE: 2.8772\n",
            "\n",
            "[FOLD 2] === Epoch 207/400 ===  (LR: 0.000282661)\n"
          ]
        },
        {
          "name": "stderr",
          "output_type": "stream",
          "text": []
        },
        {
          "name": "stdout",
          "output_type": "stream",
          "text": [
            "Train Loss(加權): 2.7957 | Train Raw MAE: 2.7957 | Val MAE: 2.8936\n",
            "\n",
            "[FOLD 2] === Epoch 208/400 ===  (LR: 0.000280516)\n"
          ]
        },
        {
          "name": "stderr",
          "output_type": "stream",
          "text": []
        },
        {
          "name": "stdout",
          "output_type": "stream",
          "text": [
            "Train Loss(加權): 2.7896 | Train Raw MAE: 2.7896 | Val MAE: 2.9720\n",
            "\n",
            "[FOLD 2] === Epoch 209/400 ===  (LR: 0.000278369)\n"
          ]
        },
        {
          "name": "stderr",
          "output_type": "stream",
          "text": []
        },
        {
          "name": "stdout",
          "output_type": "stream",
          "text": [
            "Train Loss(加權): 2.7541 | Train Raw MAE: 2.7541 | Val MAE: 2.9116\n",
            "\n",
            "[FOLD 2] === Epoch 210/400 ===  (LR: 0.00027622)\n"
          ]
        },
        {
          "name": "stderr",
          "output_type": "stream",
          "text": []
        },
        {
          "name": "stdout",
          "output_type": "stream",
          "text": [
            "Train Loss(加權): 2.7299 | Train Raw MAE: 2.7299 | Val MAE: 2.8930\n",
            "\n",
            "[FOLD 2] === Epoch 211/400 ===  (LR: 0.000274069)\n"
          ]
        },
        {
          "name": "stderr",
          "output_type": "stream",
          "text": []
        },
        {
          "name": "stdout",
          "output_type": "stream",
          "text": [
            "Train Loss(加權): 2.7607 | Train Raw MAE: 2.7607 | Val MAE: 2.8847\n",
            "\n",
            "[FOLD 2] === Epoch 212/400 ===  (LR: 0.000271917)\n"
          ]
        },
        {
          "name": "stderr",
          "output_type": "stream",
          "text": []
        },
        {
          "name": "stdout",
          "output_type": "stream",
          "text": [
            "Train Loss(加權): 2.7487 | Train Raw MAE: 2.7487 | Val MAE: 3.3301\n",
            "\n",
            "[FOLD 2] === Epoch 213/400 ===  (LR: 0.000269763)\n"
          ]
        },
        {
          "name": "stderr",
          "output_type": "stream",
          "text": []
        },
        {
          "name": "stdout",
          "output_type": "stream",
          "text": [
            "Train Loss(加權): 2.7254 | Train Raw MAE: 2.7254 | Val MAE: 2.9043\n",
            "\n",
            "[FOLD 2] === Epoch 214/400 ===  (LR: 0.000267608)\n"
          ]
        },
        {
          "name": "stderr",
          "output_type": "stream",
          "text": []
        },
        {
          "name": "stdout",
          "output_type": "stream",
          "text": [
            "Train Loss(加權): 2.7069 | Train Raw MAE: 2.7069 | Val MAE: 2.9139\n",
            "\n",
            "[FOLD 2] === Epoch 215/400 ===  (LR: 0.000265451)\n"
          ]
        },
        {
          "name": "stderr",
          "output_type": "stream",
          "text": []
        },
        {
          "name": "stdout",
          "output_type": "stream",
          "text": [
            "Train Loss(加權): 2.7492 | Train Raw MAE: 2.7492 | Val MAE: 2.8908\n",
            "\n",
            "[FOLD 2] === Epoch 216/400 ===  (LR: 0.000263294)\n"
          ]
        },
        {
          "name": "stderr",
          "output_type": "stream",
          "text": []
        },
        {
          "name": "stdout",
          "output_type": "stream",
          "text": [
            "Train Loss(加權): 2.6767 | Train Raw MAE: 2.6767 | Val MAE: 3.3097\n",
            "\n",
            "[FOLD 2] === Epoch 217/400 ===  (LR: 0.000261136)\n"
          ]
        },
        {
          "name": "stderr",
          "output_type": "stream",
          "text": []
        },
        {
          "name": "stdout",
          "output_type": "stream",
          "text": [
            "Train Loss(加權): 2.7148 | Train Raw MAE: 2.7148 | Val MAE: 2.8863\n",
            "\n",
            "[FOLD 2] === Epoch 218/400 ===  (LR: 0.000258977)\n"
          ]
        },
        {
          "name": "stderr",
          "output_type": "stream",
          "text": []
        },
        {
          "name": "stdout",
          "output_type": "stream",
          "text": [
            "Train Loss(加權): 2.7089 | Train Raw MAE: 2.7089 | Val MAE: 3.2167\n",
            "\n",
            "[FOLD 2] === Epoch 219/400 ===  (LR: 0.000256818)\n"
          ]
        },
        {
          "name": "stderr",
          "output_type": "stream",
          "text": []
        },
        {
          "name": "stdout",
          "output_type": "stream",
          "text": [
            "Train Loss(加權): 2.6915 | Train Raw MAE: 2.6915 | Val MAE: 2.8802\n",
            "\n",
            "[FOLD 2] === Epoch 220/400 ===  (LR: 0.000254658)\n"
          ]
        },
        {
          "name": "stderr",
          "output_type": "stream",
          "text": []
        },
        {
          "name": "stdout",
          "output_type": "stream",
          "text": [
            "Train Loss(加權): 2.6959 | Train Raw MAE: 2.6959 | Val MAE: 2.8119\n",
            "🎯 New best Val MAE: 2.8119\n",
            "\n",
            "[FOLD 2] === Epoch 221/400 ===  (LR: 0.000252498)\n"
          ]
        },
        {
          "name": "stderr",
          "output_type": "stream",
          "text": []
        },
        {
          "name": "stdout",
          "output_type": "stream",
          "text": [
            "Train Loss(加權): 2.6257 | Train Raw MAE: 2.6257 | Val MAE: 2.8340\n",
            "\n",
            "[FOLD 2] === Epoch 222/400 ===  (LR: 0.000250339)\n"
          ]
        },
        {
          "name": "stderr",
          "output_type": "stream",
          "text": []
        },
        {
          "name": "stdout",
          "output_type": "stream",
          "text": [
            "Train Loss(加權): 2.6694 | Train Raw MAE: 2.6694 | Val MAE: 3.1524\n",
            "\n",
            "[FOLD 2] === Epoch 223/400 ===  (LR: 0.000248179)\n"
          ]
        },
        {
          "name": "stderr",
          "output_type": "stream",
          "text": []
        },
        {
          "name": "stdout",
          "output_type": "stream",
          "text": [
            "Train Loss(加權): 2.6200 | Train Raw MAE: 2.6200 | Val MAE: 3.0097\n",
            "\n",
            "[FOLD 2] === Epoch 224/400 ===  (LR: 0.00024602)\n"
          ]
        },
        {
          "name": "stderr",
          "output_type": "stream",
          "text": []
        },
        {
          "name": "stdout",
          "output_type": "stream",
          "text": [
            "Train Loss(加權): 2.6520 | Train Raw MAE: 2.6520 | Val MAE: 2.9311\n",
            "\n",
            "[FOLD 2] === Epoch 225/400 ===  (LR: 0.000243861)\n"
          ]
        },
        {
          "name": "stderr",
          "output_type": "stream",
          "text": []
        },
        {
          "name": "stdout",
          "output_type": "stream",
          "text": [
            "Train Loss(加權): 2.6487 | Train Raw MAE: 2.6487 | Val MAE: 3.4197\n",
            "\n",
            "[FOLD 2] === Epoch 226/400 ===  (LR: 0.000241703)\n"
          ]
        },
        {
          "name": "stderr",
          "output_type": "stream",
          "text": []
        },
        {
          "name": "stdout",
          "output_type": "stream",
          "text": [
            "Train Loss(加權): 2.6344 | Train Raw MAE: 2.6344 | Val MAE: 2.9816\n",
            "\n",
            "[FOLD 2] === Epoch 227/400 ===  (LR: 0.000239545)\n"
          ]
        },
        {
          "name": "stderr",
          "output_type": "stream",
          "text": []
        },
        {
          "name": "stdout",
          "output_type": "stream",
          "text": [
            "Train Loss(加權): 2.6155 | Train Raw MAE: 2.6155 | Val MAE: 2.9100\n",
            "\n",
            "[FOLD 2] === Epoch 228/400 ===  (LR: 0.000237389)\n"
          ]
        },
        {
          "name": "stderr",
          "output_type": "stream",
          "text": []
        },
        {
          "name": "stdout",
          "output_type": "stream",
          "text": [
            "Train Loss(加權): 2.6377 | Train Raw MAE: 2.6377 | Val MAE: 2.9061\n",
            "\n",
            "[FOLD 2] === Epoch 229/400 ===  (LR: 0.000235234)\n"
          ]
        },
        {
          "name": "stderr",
          "output_type": "stream",
          "text": []
        },
        {
          "name": "stdout",
          "output_type": "stream",
          "text": [
            "Train Loss(加權): 2.6271 | Train Raw MAE: 2.6271 | Val MAE: 2.9058\n",
            "\n",
            "[FOLD 2] === Epoch 230/400 ===  (LR: 0.00023308)\n"
          ]
        },
        {
          "name": "stderr",
          "output_type": "stream",
          "text": []
        },
        {
          "name": "stdout",
          "output_type": "stream",
          "text": [
            "Train Loss(加權): 2.5800 | Train Raw MAE: 2.5800 | Val MAE: 2.9628\n",
            "\n",
            "[FOLD 2] === Epoch 231/400 ===  (LR: 0.000230927)\n"
          ]
        },
        {
          "name": "stderr",
          "output_type": "stream",
          "text": []
        },
        {
          "name": "stdout",
          "output_type": "stream",
          "text": [
            "Train Loss(加權): 2.6558 | Train Raw MAE: 2.6558 | Val MAE: 2.9772\n",
            "\n",
            "[FOLD 2] === Epoch 232/400 ===  (LR: 0.000228777)\n"
          ]
        },
        {
          "name": "stderr",
          "output_type": "stream",
          "text": []
        },
        {
          "name": "stdout",
          "output_type": "stream",
          "text": [
            "Train Loss(加權): 2.5807 | Train Raw MAE: 2.5807 | Val MAE: 2.8805\n",
            "\n",
            "[FOLD 2] === Epoch 233/400 ===  (LR: 0.000226628)\n"
          ]
        },
        {
          "name": "stderr",
          "output_type": "stream",
          "text": []
        },
        {
          "name": "stdout",
          "output_type": "stream",
          "text": [
            "Train Loss(加權): 2.6098 | Train Raw MAE: 2.6098 | Val MAE: 3.1593\n",
            "\n",
            "[FOLD 2] === Epoch 234/400 ===  (LR: 0.000224481)\n"
          ]
        },
        {
          "name": "stderr",
          "output_type": "stream",
          "text": []
        },
        {
          "name": "stdout",
          "output_type": "stream",
          "text": [
            "Train Loss(加權): 2.5523 | Train Raw MAE: 2.5523 | Val MAE: 2.9003\n",
            "\n",
            "[FOLD 2] === Epoch 235/400 ===  (LR: 0.000222336)\n"
          ]
        },
        {
          "name": "stderr",
          "output_type": "stream",
          "text": []
        },
        {
          "name": "stdout",
          "output_type": "stream",
          "text": [
            "Train Loss(加權): 2.5595 | Train Raw MAE: 2.5595 | Val MAE: 2.8506\n",
            "\n",
            "[FOLD 2] === Epoch 236/400 ===  (LR: 0.000220193)\n"
          ]
        },
        {
          "name": "stderr",
          "output_type": "stream",
          "text": []
        },
        {
          "name": "stdout",
          "output_type": "stream",
          "text": [
            "Train Loss(加權): 2.5313 | Train Raw MAE: 2.5313 | Val MAE: 2.8191\n",
            "\n",
            "[FOLD 2] === Epoch 237/400 ===  (LR: 0.000218053)\n"
          ]
        },
        {
          "name": "stderr",
          "output_type": "stream",
          "text": []
        },
        {
          "name": "stdout",
          "output_type": "stream",
          "text": [
            "Train Loss(加權): 2.5762 | Train Raw MAE: 2.5762 | Val MAE: 2.9444\n",
            "\n",
            "[FOLD 2] === Epoch 238/400 ===  (LR: 0.000215916)\n"
          ]
        },
        {
          "name": "stderr",
          "output_type": "stream",
          "text": []
        },
        {
          "name": "stdout",
          "output_type": "stream",
          "text": [
            "Train Loss(加權): 2.6311 | Train Raw MAE: 2.6311 | Val MAE: 2.8751\n",
            "\n",
            "[FOLD 2] === Epoch 239/400 ===  (LR: 0.000213781)\n"
          ]
        },
        {
          "name": "stderr",
          "output_type": "stream",
          "text": []
        },
        {
          "name": "stdout",
          "output_type": "stream",
          "text": [
            "Train Loss(加權): 2.5218 | Train Raw MAE: 2.5218 | Val MAE: 2.7886\n",
            "🎯 New best Val MAE: 2.7886\n",
            "\n",
            "[FOLD 2] === Epoch 240/400 ===  (LR: 0.000211649)\n"
          ]
        },
        {
          "name": "stderr",
          "output_type": "stream",
          "text": []
        },
        {
          "name": "stdout",
          "output_type": "stream",
          "text": [
            "Train Loss(加權): 2.5296 | Train Raw MAE: 2.5296 | Val MAE: 3.2127\n",
            "\n",
            "[FOLD 2] === Epoch 241/400 ===  (LR: 0.00020952)\n"
          ]
        },
        {
          "name": "stderr",
          "output_type": "stream",
          "text": []
        },
        {
          "name": "stdout",
          "output_type": "stream",
          "text": [
            "Train Loss(加權): 2.5078 | Train Raw MAE: 2.5078 | Val MAE: 3.5769\n",
            "\n",
            "[FOLD 2] === Epoch 242/400 ===  (LR: 0.000207395)\n"
          ]
        },
        {
          "name": "stderr",
          "output_type": "stream",
          "text": []
        },
        {
          "name": "stdout",
          "output_type": "stream",
          "text": [
            "Train Loss(加權): 2.5428 | Train Raw MAE: 2.5428 | Val MAE: 2.7978\n",
            "\n",
            "[FOLD 2] === Epoch 243/400 ===  (LR: 0.000205273)\n"
          ]
        },
        {
          "name": "stderr",
          "output_type": "stream",
          "text": []
        },
        {
          "name": "stdout",
          "output_type": "stream",
          "text": [
            "Train Loss(加權): 2.4925 | Train Raw MAE: 2.4925 | Val MAE: 2.8953\n",
            "\n",
            "[FOLD 2] === Epoch 244/400 ===  (LR: 0.000203155)\n"
          ]
        },
        {
          "name": "stderr",
          "output_type": "stream",
          "text": []
        },
        {
          "name": "stdout",
          "output_type": "stream",
          "text": [
            "Train Loss(加權): 2.5214 | Train Raw MAE: 2.5214 | Val MAE: 2.8797\n",
            "\n",
            "[FOLD 2] === Epoch 245/400 ===  (LR: 0.00020104)\n"
          ]
        },
        {
          "name": "stderr",
          "output_type": "stream",
          "text": []
        },
        {
          "name": "stdout",
          "output_type": "stream",
          "text": [
            "Train Loss(加權): 2.4866 | Train Raw MAE: 2.4866 | Val MAE: 2.8309\n",
            "\n",
            "[FOLD 2] === Epoch 246/400 ===  (LR: 0.00019893)\n"
          ]
        },
        {
          "name": "stderr",
          "output_type": "stream",
          "text": []
        },
        {
          "name": "stdout",
          "output_type": "stream",
          "text": [
            "Train Loss(加權): 2.4768 | Train Raw MAE: 2.4768 | Val MAE: 2.7660\n",
            "🎯 New best Val MAE: 2.7660\n",
            "\n",
            "[FOLD 2] === Epoch 247/400 ===  (LR: 0.000196823)\n"
          ]
        },
        {
          "name": "stderr",
          "output_type": "stream",
          "text": []
        },
        {
          "name": "stdout",
          "output_type": "stream",
          "text": [
            "Train Loss(加權): 2.4604 | Train Raw MAE: 2.4604 | Val MAE: 3.1380\n",
            "\n",
            "[FOLD 2] === Epoch 248/400 ===  (LR: 0.000194721)\n"
          ]
        },
        {
          "name": "stderr",
          "output_type": "stream",
          "text": []
        },
        {
          "name": "stdout",
          "output_type": "stream",
          "text": [
            "Train Loss(加權): 2.4872 | Train Raw MAE: 2.4872 | Val MAE: 2.8393\n",
            "\n",
            "[FOLD 2] === Epoch 249/400 ===  (LR: 0.000192623)\n"
          ]
        },
        {
          "name": "stderr",
          "output_type": "stream",
          "text": []
        },
        {
          "name": "stdout",
          "output_type": "stream",
          "text": [
            "Train Loss(加權): 2.4305 | Train Raw MAE: 2.4305 | Val MAE: 2.8865\n",
            "\n",
            "[FOLD 2] === Epoch 250/400 ===  (LR: 0.000190529)\n"
          ]
        },
        {
          "name": "stderr",
          "output_type": "stream",
          "text": []
        },
        {
          "name": "stdout",
          "output_type": "stream",
          "text": [
            "Train Loss(加權): 2.4590 | Train Raw MAE: 2.4590 | Val MAE: 2.9045\n",
            "\n",
            "[FOLD 2] === Epoch 251/400 ===  (LR: 0.000188441)\n"
          ]
        },
        {
          "name": "stderr",
          "output_type": "stream",
          "text": []
        },
        {
          "name": "stdout",
          "output_type": "stream",
          "text": [
            "Train Loss(加權): 2.4577 | Train Raw MAE: 2.4577 | Val MAE: 2.8363\n",
            "\n",
            "[FOLD 2] === Epoch 252/400 ===  (LR: 0.000186357)\n"
          ]
        },
        {
          "name": "stderr",
          "output_type": "stream",
          "text": []
        },
        {
          "name": "stdout",
          "output_type": "stream",
          "text": [
            "Train Loss(加權): 2.4568 | Train Raw MAE: 2.4568 | Val MAE: 3.0556\n",
            "\n",
            "[FOLD 2] === Epoch 253/400 ===  (LR: 0.000184278)\n"
          ]
        },
        {
          "name": "stderr",
          "output_type": "stream",
          "text": []
        },
        {
          "name": "stdout",
          "output_type": "stream",
          "text": [
            "Train Loss(加權): 2.4519 | Train Raw MAE: 2.4519 | Val MAE: 2.8391\n",
            "\n",
            "[FOLD 2] === Epoch 254/400 ===  (LR: 0.000182205)\n"
          ]
        },
        {
          "name": "stderr",
          "output_type": "stream",
          "text": []
        },
        {
          "name": "stdout",
          "output_type": "stream",
          "text": [
            "Train Loss(加權): 2.4258 | Train Raw MAE: 2.4258 | Val MAE: 2.8055\n",
            "\n",
            "[FOLD 2] === Epoch 255/400 ===  (LR: 0.000180136)\n"
          ]
        },
        {
          "name": "stderr",
          "output_type": "stream",
          "text": []
        },
        {
          "name": "stdout",
          "output_type": "stream",
          "text": [
            "Train Loss(加權): 2.4592 | Train Raw MAE: 2.4592 | Val MAE: 2.9381\n",
            "\n",
            "[FOLD 2] === Epoch 256/400 ===  (LR: 0.000178074)\n"
          ]
        },
        {
          "name": "stderr",
          "output_type": "stream",
          "text": []
        },
        {
          "name": "stdout",
          "output_type": "stream",
          "text": [
            "Train Loss(加權): 2.4405 | Train Raw MAE: 2.4405 | Val MAE: 2.8810\n",
            "\n",
            "[FOLD 2] === Epoch 257/400 ===  (LR: 0.000176017)\n"
          ]
        },
        {
          "name": "stderr",
          "output_type": "stream",
          "text": []
        },
        {
          "name": "stdout",
          "output_type": "stream",
          "text": [
            "Train Loss(加權): 2.3921 | Train Raw MAE: 2.3921 | Val MAE: 2.9078\n",
            "\n",
            "[FOLD 2] === Epoch 258/400 ===  (LR: 0.000173966)\n"
          ]
        },
        {
          "name": "stderr",
          "output_type": "stream",
          "text": []
        },
        {
          "name": "stdout",
          "output_type": "stream",
          "text": [
            "Train Loss(加權): 2.3970 | Train Raw MAE: 2.3970 | Val MAE: 2.9812\n",
            "\n",
            "[FOLD 2] === Epoch 259/400 ===  (LR: 0.00017192)\n"
          ]
        },
        {
          "name": "stderr",
          "output_type": "stream",
          "text": []
        },
        {
          "name": "stdout",
          "output_type": "stream",
          "text": [
            "Train Loss(加權): 2.4059 | Train Raw MAE: 2.4059 | Val MAE: 2.9283\n",
            "\n",
            "[FOLD 2] === Epoch 260/400 ===  (LR: 0.000169881)\n"
          ]
        },
        {
          "name": "stderr",
          "output_type": "stream",
          "text": []
        },
        {
          "name": "stdout",
          "output_type": "stream",
          "text": [
            "Train Loss(加權): 2.4041 | Train Raw MAE: 2.4041 | Val MAE: 2.8615\n",
            "\n",
            "[FOLD 2] === Epoch 261/400 ===  (LR: 0.000167848)\n"
          ]
        },
        {
          "name": "stderr",
          "output_type": "stream",
          "text": []
        },
        {
          "name": "stdout",
          "output_type": "stream",
          "text": [
            "Train Loss(加權): 2.3815 | Train Raw MAE: 2.3815 | Val MAE: 2.9440\n",
            "\n",
            "[FOLD 2] === Epoch 262/400 ===  (LR: 0.000165822)\n"
          ]
        },
        {
          "name": "stderr",
          "output_type": "stream",
          "text": []
        },
        {
          "name": "stdout",
          "output_type": "stream",
          "text": [
            "Train Loss(加權): 2.3871 | Train Raw MAE: 2.3871 | Val MAE: 2.8906\n",
            "\n",
            "[FOLD 2] === Epoch 263/400 ===  (LR: 0.000163802)\n"
          ]
        },
        {
          "name": "stderr",
          "output_type": "stream",
          "text": []
        },
        {
          "name": "stdout",
          "output_type": "stream",
          "text": [
            "Train Loss(加權): 2.3641 | Train Raw MAE: 2.3641 | Val MAE: 2.8407\n",
            "\n",
            "[FOLD 2] === Epoch 264/400 ===  (LR: 0.000161789)\n"
          ]
        },
        {
          "name": "stderr",
          "output_type": "stream",
          "text": []
        },
        {
          "name": "stdout",
          "output_type": "stream",
          "text": [
            "Train Loss(加權): 2.3697 | Train Raw MAE: 2.3697 | Val MAE: 2.7859\n",
            "\n",
            "[FOLD 2] === Epoch 265/400 ===  (LR: 0.000159783)\n"
          ]
        },
        {
          "name": "stderr",
          "output_type": "stream",
          "text": []
        },
        {
          "name": "stdout",
          "output_type": "stream",
          "text": [
            "Train Loss(加權): 2.3069 | Train Raw MAE: 2.3069 | Val MAE: 2.8295\n",
            "\n",
            "[FOLD 2] === Epoch 266/400 ===  (LR: 0.000157784)\n"
          ]
        },
        {
          "name": "stderr",
          "output_type": "stream",
          "text": []
        },
        {
          "name": "stdout",
          "output_type": "stream",
          "text": [
            "Train Loss(加權): 2.3531 | Train Raw MAE: 2.3531 | Val MAE: 2.8720\n",
            "\n",
            "[FOLD 2] === Epoch 267/400 ===  (LR: 0.000155793)\n"
          ]
        },
        {
          "name": "stderr",
          "output_type": "stream",
          "text": []
        },
        {
          "name": "stdout",
          "output_type": "stream",
          "text": [
            "Train Loss(加權): 2.3526 | Train Raw MAE: 2.3526 | Val MAE: 2.8465\n",
            "\n",
            "[FOLD 2] === Epoch 268/400 ===  (LR: 0.000153808)\n"
          ]
        },
        {
          "name": "stderr",
          "output_type": "stream",
          "text": []
        },
        {
          "name": "stdout",
          "output_type": "stream",
          "text": [
            "Train Loss(加權): 2.3502 | Train Raw MAE: 2.3502 | Val MAE: 2.8599\n",
            "\n",
            "[FOLD 2] === Epoch 269/400 ===  (LR: 0.000151831)\n"
          ]
        },
        {
          "name": "stderr",
          "output_type": "stream",
          "text": []
        },
        {
          "name": "stdout",
          "output_type": "stream",
          "text": [
            "Train Loss(加權): 2.3451 | Train Raw MAE: 2.3451 | Val MAE: 2.7938\n",
            "\n",
            "[FOLD 2] === Epoch 270/400 ===  (LR: 0.000149862)\n"
          ]
        },
        {
          "name": "stderr",
          "output_type": "stream",
          "text": []
        },
        {
          "name": "stdout",
          "output_type": "stream",
          "text": [
            "Train Loss(加權): 2.3025 | Train Raw MAE: 2.3025 | Val MAE: 2.8147\n",
            "\n",
            "[FOLD 2] === Epoch 271/400 ===  (LR: 0.0001479)\n"
          ]
        },
        {
          "name": "stderr",
          "output_type": "stream",
          "text": []
        },
        {
          "name": "stdout",
          "output_type": "stream",
          "text": [
            "Train Loss(加權): 2.3048 | Train Raw MAE: 2.3048 | Val MAE: 2.7923\n",
            "\n",
            "[FOLD 2] === Epoch 272/400 ===  (LR: 0.000145947)\n"
          ]
        },
        {
          "name": "stderr",
          "output_type": "stream",
          "text": []
        },
        {
          "name": "stdout",
          "output_type": "stream",
          "text": [
            "Train Loss(加權): 2.2893 | Train Raw MAE: 2.2893 | Val MAE: 3.1566\n",
            "\n",
            "[FOLD 2] === Epoch 273/400 ===  (LR: 0.000144002)\n"
          ]
        },
        {
          "name": "stderr",
          "output_type": "stream",
          "text": []
        },
        {
          "name": "stdout",
          "output_type": "stream",
          "text": [
            "Train Loss(加權): 2.3079 | Train Raw MAE: 2.3079 | Val MAE: 3.1854\n",
            "\n",
            "[FOLD 2] === Epoch 274/400 ===  (LR: 0.000142065)\n"
          ]
        },
        {
          "name": "stderr",
          "output_type": "stream",
          "text": []
        },
        {
          "name": "stdout",
          "output_type": "stream",
          "text": [
            "Train Loss(加權): 2.3188 | Train Raw MAE: 2.3188 | Val MAE: 2.7959\n",
            "\n",
            "[FOLD 2] === Epoch 275/400 ===  (LR: 0.000140136)\n"
          ]
        },
        {
          "name": "stderr",
          "output_type": "stream",
          "text": []
        },
        {
          "name": "stdout",
          "output_type": "stream",
          "text": [
            "Train Loss(加權): 2.2659 | Train Raw MAE: 2.2659 | Val MAE: 2.7744\n",
            "\n",
            "[FOLD 2] === Epoch 276/400 ===  (LR: 0.000138216)\n"
          ]
        },
        {
          "name": "stderr",
          "output_type": "stream",
          "text": []
        },
        {
          "name": "stdout",
          "output_type": "stream",
          "text": [
            "Train Loss(加權): 2.2958 | Train Raw MAE: 2.2958 | Val MAE: 2.7932\n",
            "\n",
            "[FOLD 2] === Epoch 277/400 ===  (LR: 0.000136304)\n"
          ]
        },
        {
          "name": "stderr",
          "output_type": "stream",
          "text": []
        },
        {
          "name": "stdout",
          "output_type": "stream",
          "text": [
            "Train Loss(加權): 2.2918 | Train Raw MAE: 2.2918 | Val MAE: 2.8867\n",
            "\n",
            "[FOLD 2] === Epoch 278/400 ===  (LR: 0.000134402)\n"
          ]
        },
        {
          "name": "stderr",
          "output_type": "stream",
          "text": []
        },
        {
          "name": "stdout",
          "output_type": "stream",
          "text": [
            "Train Loss(加權): 2.2996 | Train Raw MAE: 2.2996 | Val MAE: 2.9296\n",
            "\n",
            "[FOLD 2] === Epoch 279/400 ===  (LR: 0.000132508)\n"
          ]
        },
        {
          "name": "stderr",
          "output_type": "stream",
          "text": []
        },
        {
          "name": "stdout",
          "output_type": "stream",
          "text": [
            "Train Loss(加權): 2.2684 | Train Raw MAE: 2.2684 | Val MAE: 2.7860\n",
            "\n",
            "[FOLD 2] === Epoch 280/400 ===  (LR: 0.000130624)\n"
          ]
        },
        {
          "name": "stderr",
          "output_type": "stream",
          "text": []
        },
        {
          "name": "stdout",
          "output_type": "stream",
          "text": [
            "Train Loss(加權): 2.2453 | Train Raw MAE: 2.2453 | Val MAE: 2.8737\n",
            "\n",
            "[FOLD 2] === Epoch 281/400 ===  (LR: 0.000128749)\n"
          ]
        },
        {
          "name": "stderr",
          "output_type": "stream",
          "text": []
        },
        {
          "name": "stdout",
          "output_type": "stream",
          "text": [
            "Train Loss(加權): 2.2378 | Train Raw MAE: 2.2378 | Val MAE: 2.8448\n",
            "\n",
            "[FOLD 2] === Epoch 282/400 ===  (LR: 0.000126883)\n"
          ]
        },
        {
          "name": "stderr",
          "output_type": "stream",
          "text": []
        },
        {
          "name": "stdout",
          "output_type": "stream",
          "text": [
            "Train Loss(加權): 2.2498 | Train Raw MAE: 2.2498 | Val MAE: 2.8814\n",
            "\n",
            "[FOLD 2] === Epoch 283/400 ===  (LR: 0.000125027)\n"
          ]
        },
        {
          "name": "stderr",
          "output_type": "stream",
          "text": []
        },
        {
          "name": "stdout",
          "output_type": "stream",
          "text": [
            "Train Loss(加權): 2.2149 | Train Raw MAE: 2.2149 | Val MAE: 2.9231\n",
            "\n",
            "[FOLD 2] === Epoch 284/400 ===  (LR: 0.00012318)\n"
          ]
        },
        {
          "name": "stderr",
          "output_type": "stream",
          "text": []
        },
        {
          "name": "stdout",
          "output_type": "stream",
          "text": [
            "Train Loss(加權): 2.2249 | Train Raw MAE: 2.2249 | Val MAE: 2.8683\n",
            "\n",
            "[FOLD 2] === Epoch 285/400 ===  (LR: 0.000121344)\n"
          ]
        },
        {
          "name": "stderr",
          "output_type": "stream",
          "text": []
        },
        {
          "name": "stdout",
          "output_type": "stream",
          "text": [
            "Train Loss(加權): 2.2600 | Train Raw MAE: 2.2600 | Val MAE: 2.8667\n",
            "\n",
            "[FOLD 2] === Epoch 286/400 ===  (LR: 0.000119517)\n"
          ]
        },
        {
          "name": "stderr",
          "output_type": "stream",
          "text": []
        },
        {
          "name": "stdout",
          "output_type": "stream",
          "text": [
            "Train Loss(加權): 2.2063 | Train Raw MAE: 2.2063 | Val MAE: 2.9765\n",
            "\n",
            "[FOLD 2] === Epoch 287/400 ===  (LR: 0.0001177)\n"
          ]
        },
        {
          "name": "stderr",
          "output_type": "stream",
          "text": []
        },
        {
          "name": "stdout",
          "output_type": "stream",
          "text": [
            "Train Loss(加權): 2.2358 | Train Raw MAE: 2.2358 | Val MAE: 2.8289\n",
            "\n",
            "[FOLD 2] === Epoch 288/400 ===  (LR: 0.000115894)\n"
          ]
        },
        {
          "name": "stderr",
          "output_type": "stream",
          "text": []
        },
        {
          "name": "stdout",
          "output_type": "stream",
          "text": [
            "Train Loss(加權): 2.2338 | Train Raw MAE: 2.2338 | Val MAE: 2.7989\n",
            "\n",
            "[FOLD 2] === Epoch 289/400 ===  (LR: 0.000114098)\n"
          ]
        },
        {
          "name": "stderr",
          "output_type": "stream",
          "text": []
        },
        {
          "name": "stdout",
          "output_type": "stream",
          "text": [
            "Train Loss(加權): 2.2048 | Train Raw MAE: 2.2048 | Val MAE: 2.8062\n",
            "\n",
            "[FOLD 2] === Epoch 290/400 ===  (LR: 0.000112313)\n"
          ]
        },
        {
          "name": "stderr",
          "output_type": "stream",
          "text": []
        },
        {
          "name": "stdout",
          "output_type": "stream",
          "text": [
            "Train Loss(加權): 2.2301 | Train Raw MAE: 2.2301 | Val MAE: 2.8463\n",
            "\n",
            "[FOLD 2] === Epoch 291/400 ===  (LR: 0.000110538)\n"
          ]
        },
        {
          "name": "stderr",
          "output_type": "stream",
          "text": []
        },
        {
          "name": "stdout",
          "output_type": "stream",
          "text": [
            "Train Loss(加權): 2.1946 | Train Raw MAE: 2.1946 | Val MAE: 2.8646\n",
            "\n",
            "[FOLD 2] === Epoch 292/400 ===  (LR: 0.000108775)\n"
          ]
        },
        {
          "name": "stderr",
          "output_type": "stream",
          "text": []
        },
        {
          "name": "stdout",
          "output_type": "stream",
          "text": [
            "Train Loss(加權): 2.2212 | Train Raw MAE: 2.2212 | Val MAE: 2.9099\n",
            "\n",
            "[FOLD 2] === Epoch 293/400 ===  (LR: 0.000107022)\n"
          ]
        },
        {
          "name": "stderr",
          "output_type": "stream",
          "text": []
        },
        {
          "name": "stdout",
          "output_type": "stream",
          "text": [
            "Train Loss(加權): 2.2309 | Train Raw MAE: 2.2309 | Val MAE: 2.8115\n",
            "\n",
            "[FOLD 2] === Epoch 294/400 ===  (LR: 0.00010528)\n"
          ]
        },
        {
          "name": "stderr",
          "output_type": "stream",
          "text": []
        },
        {
          "name": "stdout",
          "output_type": "stream",
          "text": [
            "Train Loss(加權): 2.1813 | Train Raw MAE: 2.1813 | Val MAE: 2.8643\n",
            "\n",
            "[FOLD 2] === Epoch 295/400 ===  (LR: 0.000103549)\n"
          ]
        },
        {
          "name": "stderr",
          "output_type": "stream",
          "text": []
        },
        {
          "name": "stdout",
          "output_type": "stream",
          "text": [
            "Train Loss(加權): 2.2373 | Train Raw MAE: 2.2373 | Val MAE: 2.8573\n",
            "\n",
            "[FOLD 2] === Epoch 296/400 ===  (LR: 0.00010183)\n"
          ]
        },
        {
          "name": "stderr",
          "output_type": "stream",
          "text": []
        },
        {
          "name": "stdout",
          "output_type": "stream",
          "text": [
            "Train Loss(加權): 2.2138 | Train Raw MAE: 2.2138 | Val MAE: 2.8640\n",
            "\n",
            "[FOLD 2] === Epoch 297/400 ===  (LR: 0.000100122)\n"
          ]
        },
        {
          "name": "stderr",
          "output_type": "stream",
          "text": []
        },
        {
          "name": "stdout",
          "output_type": "stream",
          "text": [
            "Train Loss(加權): 2.1770 | Train Raw MAE: 2.1770 | Val MAE: 2.7941\n",
            "\n",
            "[FOLD 2] === Epoch 298/400 ===  (LR: 9.84263e-05)\n"
          ]
        },
        {
          "name": "stderr",
          "output_type": "stream",
          "text": []
        },
        {
          "name": "stdout",
          "output_type": "stream",
          "text": [
            "Train Loss(加權): 2.1462 | Train Raw MAE: 2.1462 | Val MAE: 2.8763\n",
            "\n",
            "[FOLD 2] === Epoch 299/400 ===  (LR: 9.67419e-05)\n"
          ]
        },
        {
          "name": "stderr",
          "output_type": "stream",
          "text": []
        },
        {
          "name": "stdout",
          "output_type": "stream",
          "text": [
            "Train Loss(加權): 2.1436 | Train Raw MAE: 2.1436 | Val MAE: 2.8042\n",
            "\n",
            "[FOLD 2] === Epoch 300/400 ===  (LR: 9.50694e-05)\n"
          ]
        },
        {
          "name": "stderr",
          "output_type": "stream",
          "text": []
        },
        {
          "name": "stdout",
          "output_type": "stream",
          "text": [
            "Train Loss(加權): 2.1230 | Train Raw MAE: 2.1230 | Val MAE: 2.7437\n",
            "🎯 New best Val MAE: 2.7437\n",
            "\n",
            "[FOLD 2] === Epoch 301/400 ===  (LR: 9.34088e-05)\n"
          ]
        },
        {
          "name": "stderr",
          "output_type": "stream",
          "text": []
        },
        {
          "name": "stdout",
          "output_type": "stream",
          "text": [
            "Train Loss(加權): 2.1111 | Train Raw MAE: 2.1111 | Val MAE: 2.8359\n",
            "\n",
            "[FOLD 2] === Epoch 302/400 ===  (LR: 9.17603e-05)\n"
          ]
        },
        {
          "name": "stderr",
          "output_type": "stream",
          "text": []
        },
        {
          "name": "stdout",
          "output_type": "stream",
          "text": [
            "Train Loss(加權): 2.1479 | Train Raw MAE: 2.1479 | Val MAE: 2.7370\n",
            "🎯 New best Val MAE: 2.7370\n",
            "\n",
            "[FOLD 2] === Epoch 303/400 ===  (LR: 9.01241e-05)\n"
          ]
        },
        {
          "name": "stderr",
          "output_type": "stream",
          "text": []
        },
        {
          "name": "stdout",
          "output_type": "stream",
          "text": [
            "Train Loss(加權): 2.1618 | Train Raw MAE: 2.1618 | Val MAE: 2.7947\n",
            "\n",
            "[FOLD 2] === Epoch 304/400 ===  (LR: 8.85003e-05)\n"
          ]
        },
        {
          "name": "stderr",
          "output_type": "stream",
          "text": []
        },
        {
          "name": "stdout",
          "output_type": "stream",
          "text": [
            "Train Loss(加權): 2.1526 | Train Raw MAE: 2.1526 | Val MAE: 2.8289\n",
            "\n",
            "[FOLD 2] === Epoch 305/400 ===  (LR: 8.68889e-05)\n"
          ]
        },
        {
          "name": "stderr",
          "output_type": "stream",
          "text": []
        },
        {
          "name": "stdout",
          "output_type": "stream",
          "text": [
            "Train Loss(加權): 2.1361 | Train Raw MAE: 2.1361 | Val MAE: 2.8652\n",
            "\n",
            "[FOLD 2] === Epoch 306/400 ===  (LR: 8.52902e-05)\n"
          ]
        },
        {
          "name": "stderr",
          "output_type": "stream",
          "text": []
        },
        {
          "name": "stdout",
          "output_type": "stream",
          "text": [
            "Train Loss(加權): 2.1123 | Train Raw MAE: 2.1123 | Val MAE: 2.8552\n",
            "\n",
            "[FOLD 2] === Epoch 307/400 ===  (LR: 8.37042e-05)\n"
          ]
        },
        {
          "name": "stderr",
          "output_type": "stream",
          "text": []
        },
        {
          "name": "stdout",
          "output_type": "stream",
          "text": [
            "Train Loss(加權): 2.1254 | Train Raw MAE: 2.1254 | Val MAE: 2.7878\n",
            "\n",
            "[FOLD 2] === Epoch 308/400 ===  (LR: 8.2131e-05)\n"
          ]
        },
        {
          "name": "stderr",
          "output_type": "stream",
          "text": []
        },
        {
          "name": "stdout",
          "output_type": "stream",
          "text": [
            "Train Loss(加權): 2.1239 | Train Raw MAE: 2.1239 | Val MAE: 2.7837\n",
            "\n",
            "[FOLD 2] === Epoch 309/400 ===  (LR: 8.05709e-05)\n"
          ]
        },
        {
          "name": "stderr",
          "output_type": "stream",
          "text": []
        },
        {
          "name": "stdout",
          "output_type": "stream",
          "text": [
            "Train Loss(加權): 2.1147 | Train Raw MAE: 2.1147 | Val MAE: 2.7924\n",
            "\n",
            "[FOLD 2] === Epoch 310/400 ===  (LR: 7.90238e-05)\n"
          ]
        },
        {
          "name": "stderr",
          "output_type": "stream",
          "text": []
        },
        {
          "name": "stdout",
          "output_type": "stream",
          "text": [
            "Train Loss(加權): 2.1204 | Train Raw MAE: 2.1204 | Val MAE: 2.8377\n",
            "\n",
            "[FOLD 2] === Epoch 311/400 ===  (LR: 7.74899e-05)\n"
          ]
        },
        {
          "name": "stderr",
          "output_type": "stream",
          "text": []
        },
        {
          "name": "stdout",
          "output_type": "stream",
          "text": [
            "Train Loss(加權): 2.0840 | Train Raw MAE: 2.0840 | Val MAE: 2.7723\n",
            "\n",
            "[FOLD 2] === Epoch 312/400 ===  (LR: 7.59694e-05)\n"
          ]
        },
        {
          "name": "stderr",
          "output_type": "stream",
          "text": []
        },
        {
          "name": "stdout",
          "output_type": "stream",
          "text": [
            "Train Loss(加權): 2.0905 | Train Raw MAE: 2.0905 | Val MAE: 2.8179\n",
            "\n",
            "[FOLD 2] === Epoch 313/400 ===  (LR: 7.44622e-05)\n"
          ]
        },
        {
          "name": "stderr",
          "output_type": "stream",
          "text": []
        },
        {
          "name": "stdout",
          "output_type": "stream",
          "text": [
            "Train Loss(加權): 2.0666 | Train Raw MAE: 2.0666 | Val MAE: 2.8420\n",
            "\n",
            "[FOLD 2] === Epoch 314/400 ===  (LR: 7.29687e-05)\n"
          ]
        },
        {
          "name": "stderr",
          "output_type": "stream",
          "text": []
        },
        {
          "name": "stdout",
          "output_type": "stream",
          "text": [
            "Train Loss(加權): 2.0865 | Train Raw MAE: 2.0865 | Val MAE: 2.7639\n",
            "\n",
            "[FOLD 2] === Epoch 315/400 ===  (LR: 7.14888e-05)\n"
          ]
        },
        {
          "name": "stderr",
          "output_type": "stream",
          "text": []
        },
        {
          "name": "stdout",
          "output_type": "stream",
          "text": [
            "Train Loss(加權): 2.0646 | Train Raw MAE: 2.0646 | Val MAE: 2.7789\n",
            "\n",
            "[FOLD 2] === Epoch 316/400 ===  (LR: 7.00227e-05)\n"
          ]
        },
        {
          "name": "stderr",
          "output_type": "stream",
          "text": []
        },
        {
          "name": "stdout",
          "output_type": "stream",
          "text": [
            "Train Loss(加權): 2.1069 | Train Raw MAE: 2.1069 | Val MAE: 2.8250\n",
            "\n",
            "[FOLD 2] === Epoch 317/400 ===  (LR: 6.85705e-05)\n"
          ]
        },
        {
          "name": "stderr",
          "output_type": "stream",
          "text": []
        },
        {
          "name": "stdout",
          "output_type": "stream",
          "text": [
            "Train Loss(加權): 2.0914 | Train Raw MAE: 2.0914 | Val MAE: 2.7700\n",
            "\n",
            "[FOLD 2] === Epoch 318/400 ===  (LR: 6.71324e-05)\n"
          ]
        },
        {
          "name": "stderr",
          "output_type": "stream",
          "text": []
        },
        {
          "name": "stdout",
          "output_type": "stream",
          "text": [
            "Train Loss(加權): 2.0635 | Train Raw MAE: 2.0635 | Val MAE: 2.8192\n",
            "\n",
            "[FOLD 2] === Epoch 319/400 ===  (LR: 6.57083e-05)\n"
          ]
        },
        {
          "name": "stderr",
          "output_type": "stream",
          "text": []
        },
        {
          "name": "stdout",
          "output_type": "stream",
          "text": [
            "Train Loss(加權): 2.0520 | Train Raw MAE: 2.0520 | Val MAE: 2.8967\n",
            "\n",
            "[FOLD 2] === Epoch 320/400 ===  (LR: 6.42984e-05)\n"
          ]
        },
        {
          "name": "stderr",
          "output_type": "stream",
          "text": []
        },
        {
          "name": "stdout",
          "output_type": "stream",
          "text": [
            "Train Loss(加權): 2.0479 | Train Raw MAE: 2.0479 | Val MAE: 2.7788\n",
            "\n",
            "[FOLD 2] === Epoch 321/400 ===  (LR: 6.29029e-05)\n"
          ]
        },
        {
          "name": "stderr",
          "output_type": "stream",
          "text": []
        },
        {
          "name": "stdout",
          "output_type": "stream",
          "text": [
            "Train Loss(加權): 2.0737 | Train Raw MAE: 2.0737 | Val MAE: 2.7894\n",
            "\n",
            "[FOLD 2] === Epoch 322/400 ===  (LR: 6.15219e-05)\n"
          ]
        },
        {
          "name": "stderr",
          "output_type": "stream",
          "text": []
        },
        {
          "name": "stdout",
          "output_type": "stream",
          "text": [
            "Train Loss(加權): 2.0318 | Train Raw MAE: 2.0318 | Val MAE: 2.7783\n",
            "\n",
            "[FOLD 2] === Epoch 323/400 ===  (LR: 6.01553e-05)\n"
          ]
        },
        {
          "name": "stderr",
          "output_type": "stream",
          "text": []
        },
        {
          "name": "stdout",
          "output_type": "stream",
          "text": [
            "Train Loss(加權): 2.0494 | Train Raw MAE: 2.0494 | Val MAE: 2.8102\n",
            "\n",
            "[FOLD 2] === Epoch 324/400 ===  (LR: 5.88034e-05)\n"
          ]
        },
        {
          "name": "stderr",
          "output_type": "stream",
          "text": []
        },
        {
          "name": "stdout",
          "output_type": "stream",
          "text": [
            "Train Loss(加權): 2.0280 | Train Raw MAE: 2.0280 | Val MAE: 2.8577\n",
            "\n",
            "[FOLD 2] === Epoch 325/400 ===  (LR: 5.74663e-05)\n"
          ]
        },
        {
          "name": "stderr",
          "output_type": "stream",
          "text": []
        },
        {
          "name": "stdout",
          "output_type": "stream",
          "text": [
            "Train Loss(加權): 2.0207 | Train Raw MAE: 2.0207 | Val MAE: 2.8227\n",
            "\n",
            "[FOLD 2] === Epoch 326/400 ===  (LR: 5.6144e-05)\n"
          ]
        },
        {
          "name": "stderr",
          "output_type": "stream",
          "text": []
        },
        {
          "name": "stdout",
          "output_type": "stream",
          "text": [
            "Train Loss(加權): 2.0267 | Train Raw MAE: 2.0267 | Val MAE: 2.7943\n",
            "\n",
            "[FOLD 2] === Epoch 327/400 ===  (LR: 5.48367e-05)\n"
          ]
        },
        {
          "name": "stderr",
          "output_type": "stream",
          "text": []
        },
        {
          "name": "stdout",
          "output_type": "stream",
          "text": [
            "Train Loss(加權): 2.0344 | Train Raw MAE: 2.0344 | Val MAE: 2.7953\n",
            "\n",
            "[FOLD 2] === Epoch 328/400 ===  (LR: 5.35444e-05)\n"
          ]
        },
        {
          "name": "stderr",
          "output_type": "stream",
          "text": []
        },
        {
          "name": "stdout",
          "output_type": "stream",
          "text": [
            "Train Loss(加權): 2.0044 | Train Raw MAE: 2.0044 | Val MAE: 2.8827\n",
            "\n",
            "[FOLD 2] === Epoch 329/400 ===  (LR: 5.22673e-05)\n"
          ]
        },
        {
          "name": "stderr",
          "output_type": "stream",
          "text": []
        },
        {
          "name": "stdout",
          "output_type": "stream",
          "text": [
            "Train Loss(加權): 2.0129 | Train Raw MAE: 2.0129 | Val MAE: 2.8097\n",
            "\n",
            "[FOLD 2] === Epoch 330/400 ===  (LR: 5.10054e-05)\n"
          ]
        },
        {
          "name": "stderr",
          "output_type": "stream",
          "text": []
        },
        {
          "name": "stdout",
          "output_type": "stream",
          "text": [
            "Train Loss(加權): 2.0072 | Train Raw MAE: 2.0072 | Val MAE: 2.7850\n",
            "\n",
            "[FOLD 2] === Epoch 331/400 ===  (LR: 4.97589e-05)\n"
          ]
        },
        {
          "name": "stderr",
          "output_type": "stream",
          "text": []
        },
        {
          "name": "stdout",
          "output_type": "stream",
          "text": [
            "Train Loss(加權): 1.9985 | Train Raw MAE: 1.9985 | Val MAE: 2.7830\n",
            "\n",
            "[FOLD 2] === Epoch 332/400 ===  (LR: 4.85278e-05)\n"
          ]
        },
        {
          "name": "stderr",
          "output_type": "stream",
          "text": []
        },
        {
          "name": "stdout",
          "output_type": "stream",
          "text": [
            "Train Loss(加權): 1.9974 | Train Raw MAE: 1.9974 | Val MAE: 2.7752\n",
            "\n",
            "[FOLD 2] === Epoch 333/400 ===  (LR: 4.73123e-05)\n"
          ]
        },
        {
          "name": "stderr",
          "output_type": "stream",
          "text": []
        },
        {
          "name": "stdout",
          "output_type": "stream",
          "text": [
            "Train Loss(加權): 1.9799 | Train Raw MAE: 1.9799 | Val MAE: 2.8036\n",
            "\n",
            "[FOLD 2] === Epoch 334/400 ===  (LR: 4.61123e-05)\n"
          ]
        },
        {
          "name": "stderr",
          "output_type": "stream",
          "text": []
        },
        {
          "name": "stdout",
          "output_type": "stream",
          "text": [
            "Train Loss(加權): 1.9979 | Train Raw MAE: 1.9979 | Val MAE: 2.7818\n",
            "\n",
            "[FOLD 2] === Epoch 335/400 ===  (LR: 4.49281e-05)\n"
          ]
        },
        {
          "name": "stderr",
          "output_type": "stream",
          "text": []
        },
        {
          "name": "stdout",
          "output_type": "stream",
          "text": [
            "Train Loss(加權): 1.9842 | Train Raw MAE: 1.9842 | Val MAE: 2.7893\n",
            "\n",
            "[FOLD 2] === Epoch 336/400 ===  (LR: 4.37597e-05)\n"
          ]
        },
        {
          "name": "stderr",
          "output_type": "stream",
          "text": []
        },
        {
          "name": "stdout",
          "output_type": "stream",
          "text": [
            "Train Loss(加權): 1.9855 | Train Raw MAE: 1.9855 | Val MAE: 2.8054\n",
            "\n",
            "[FOLD 2] === Epoch 337/400 ===  (LR: 4.26072e-05)\n"
          ]
        },
        {
          "name": "stderr",
          "output_type": "stream",
          "text": []
        },
        {
          "name": "stdout",
          "output_type": "stream",
          "text": [
            "Train Loss(加權): 2.0001 | Train Raw MAE: 2.0001 | Val MAE: 2.7887\n",
            "\n",
            "[FOLD 2] === Epoch 338/400 ===  (LR: 4.14707e-05)\n"
          ]
        },
        {
          "name": "stderr",
          "output_type": "stream",
          "text": []
        },
        {
          "name": "stdout",
          "output_type": "stream",
          "text": [
            "Train Loss(加權): 1.9606 | Train Raw MAE: 1.9606 | Val MAE: 2.8242\n",
            "\n",
            "[FOLD 2] === Epoch 339/400 ===  (LR: 4.03502e-05)\n"
          ]
        },
        {
          "name": "stderr",
          "output_type": "stream",
          "text": []
        },
        {
          "name": "stdout",
          "output_type": "stream",
          "text": [
            "Train Loss(加權): 1.9847 | Train Raw MAE: 1.9847 | Val MAE: 2.7994\n",
            "\n",
            "[FOLD 2] === Epoch 340/400 ===  (LR: 3.92459e-05)\n"
          ]
        },
        {
          "name": "stderr",
          "output_type": "stream",
          "text": []
        },
        {
          "name": "stdout",
          "output_type": "stream",
          "text": [
            "Train Loss(加權): 1.9795 | Train Raw MAE: 1.9795 | Val MAE: 2.7738\n",
            "\n",
            "[FOLD 2] === Epoch 341/400 ===  (LR: 3.81579e-05)\n"
          ]
        },
        {
          "name": "stderr",
          "output_type": "stream",
          "text": []
        },
        {
          "name": "stdout",
          "output_type": "stream",
          "text": [
            "Train Loss(加權): 1.9891 | Train Raw MAE: 1.9891 | Val MAE: 2.8150\n",
            "\n",
            "[FOLD 2] === Epoch 342/400 ===  (LR: 3.70861e-05)\n"
          ]
        },
        {
          "name": "stderr",
          "output_type": "stream",
          "text": []
        },
        {
          "name": "stdout",
          "output_type": "stream",
          "text": [
            "Train Loss(加權): 1.9847 | Train Raw MAE: 1.9847 | Val MAE: 2.7928\n",
            "\n",
            "[FOLD 2] === Epoch 343/400 ===  (LR: 3.60308e-05)\n"
          ]
        },
        {
          "name": "stderr",
          "output_type": "stream",
          "text": []
        },
        {
          "name": "stdout",
          "output_type": "stream",
          "text": [
            "Train Loss(加權): 1.9543 | Train Raw MAE: 1.9543 | Val MAE: 2.7883\n",
            "\n",
            "[FOLD 2] === Epoch 344/400 ===  (LR: 3.4992e-05)\n"
          ]
        },
        {
          "name": "stderr",
          "output_type": "stream",
          "text": []
        },
        {
          "name": "stdout",
          "output_type": "stream",
          "text": [
            "Train Loss(加權): 1.9659 | Train Raw MAE: 1.9659 | Val MAE: 2.7809\n",
            "\n",
            "[FOLD 2] === Epoch 345/400 ===  (LR: 3.39697e-05)\n"
          ]
        },
        {
          "name": "stderr",
          "output_type": "stream",
          "text": []
        },
        {
          "name": "stdout",
          "output_type": "stream",
          "text": [
            "Train Loss(加權): 1.9635 | Train Raw MAE: 1.9635 | Val MAE: 2.7803\n",
            "\n",
            "[FOLD 2] === Epoch 346/400 ===  (LR: 3.29641e-05)\n"
          ]
        },
        {
          "name": "stderr",
          "output_type": "stream",
          "text": []
        },
        {
          "name": "stdout",
          "output_type": "stream",
          "text": [
            "Train Loss(加權): 1.9617 | Train Raw MAE: 1.9617 | Val MAE: 2.8070\n",
            "\n",
            "[FOLD 2] === Epoch 347/400 ===  (LR: 3.19751e-05)\n"
          ]
        },
        {
          "name": "stderr",
          "output_type": "stream",
          "text": []
        },
        {
          "name": "stdout",
          "output_type": "stream",
          "text": [
            "Train Loss(加權): 1.9358 | Train Raw MAE: 1.9358 | Val MAE: 2.7808\n",
            "\n",
            "[FOLD 2] === Epoch 348/400 ===  (LR: 3.1003e-05)\n"
          ]
        },
        {
          "name": "stderr",
          "output_type": "stream",
          "text": []
        },
        {
          "name": "stdout",
          "output_type": "stream",
          "text": [
            "Train Loss(加權): 1.9557 | Train Raw MAE: 1.9557 | Val MAE: 2.7677\n",
            "\n",
            "[FOLD 2] === Epoch 349/400 ===  (LR: 3.00477e-05)\n"
          ]
        },
        {
          "name": "stderr",
          "output_type": "stream",
          "text": []
        },
        {
          "name": "stdout",
          "output_type": "stream",
          "text": [
            "Train Loss(加權): 1.9591 | Train Raw MAE: 1.9591 | Val MAE: 2.7689\n",
            "\n",
            "[FOLD 2] === Epoch 350/400 ===  (LR: 2.91094e-05)\n"
          ]
        },
        {
          "name": "stderr",
          "output_type": "stream",
          "text": []
        },
        {
          "name": "stdout",
          "output_type": "stream",
          "text": [
            "Train Loss(加權): 1.9353 | Train Raw MAE: 1.9353 | Val MAE: 2.7917\n",
            "\n",
            "[FOLD 2] === Epoch 351/400 ===  (LR: 2.81881e-05)\n"
          ]
        },
        {
          "name": "stderr",
          "output_type": "stream",
          "text": []
        },
        {
          "name": "stdout",
          "output_type": "stream",
          "text": [
            "Train Loss(加權): 1.9392 | Train Raw MAE: 1.9392 | Val MAE: 2.7731\n",
            "\n",
            "[FOLD 2] === Epoch 352/400 ===  (LR: 2.72839e-05)\n"
          ]
        },
        {
          "name": "stderr",
          "output_type": "stream",
          "text": []
        },
        {
          "name": "stdout",
          "output_type": "stream",
          "text": [
            "Train Loss(加權): 1.9306 | Train Raw MAE: 1.9306 | Val MAE: 2.7849\n",
            "\n",
            "[FOLD 2] === Epoch 353/400 ===  (LR: 2.63968e-05)\n"
          ]
        },
        {
          "name": "stderr",
          "output_type": "stream",
          "text": []
        },
        {
          "name": "stdout",
          "output_type": "stream",
          "text": [
            "Train Loss(加權): 1.9189 | Train Raw MAE: 1.9189 | Val MAE: 2.7677\n",
            "\n",
            "[FOLD 2] === Epoch 354/400 ===  (LR: 2.5527e-05)\n"
          ]
        },
        {
          "name": "stderr",
          "output_type": "stream",
          "text": []
        },
        {
          "name": "stdout",
          "output_type": "stream",
          "text": [
            "Train Loss(加權): 1.9219 | Train Raw MAE: 1.9219 | Val MAE: 2.7949\n",
            "\n",
            "[FOLD 2] === Epoch 355/400 ===  (LR: 2.46744e-05)\n"
          ]
        },
        {
          "name": "stderr",
          "output_type": "stream",
          "text": []
        },
        {
          "name": "stdout",
          "output_type": "stream",
          "text": [
            "Train Loss(加權): 1.9038 | Train Raw MAE: 1.9038 | Val MAE: 2.8390\n",
            "\n",
            "[FOLD 2] === Epoch 356/400 ===  (LR: 2.38392e-05)\n"
          ]
        },
        {
          "name": "stderr",
          "output_type": "stream",
          "text": []
        },
        {
          "name": "stdout",
          "output_type": "stream",
          "text": [
            "Train Loss(加權): 1.9274 | Train Raw MAE: 1.9274 | Val MAE: 2.8032\n",
            "\n",
            "[FOLD 2] === Epoch 357/400 ===  (LR: 2.30214e-05)\n"
          ]
        },
        {
          "name": "stderr",
          "output_type": "stream",
          "text": []
        },
        {
          "name": "stdout",
          "output_type": "stream",
          "text": [
            "Train Loss(加權): 1.9488 | Train Raw MAE: 1.9488 | Val MAE: 2.7827\n",
            "\n",
            "[FOLD 2] === Epoch 358/400 ===  (LR: 2.2221e-05)\n"
          ]
        },
        {
          "name": "stderr",
          "output_type": "stream",
          "text": []
        },
        {
          "name": "stdout",
          "output_type": "stream",
          "text": [
            "Train Loss(加權): 1.9611 | Train Raw MAE: 1.9611 | Val MAE: 2.8069\n",
            "\n",
            "[FOLD 2] === Epoch 359/400 ===  (LR: 2.14382e-05)\n"
          ]
        },
        {
          "name": "stderr",
          "output_type": "stream",
          "text": []
        },
        {
          "name": "stdout",
          "output_type": "stream",
          "text": [
            "Train Loss(加權): 1.9167 | Train Raw MAE: 1.9167 | Val MAE: 2.7759\n",
            "\n",
            "[FOLD 2] === Epoch 360/400 ===  (LR: 2.06731e-05)\n"
          ]
        },
        {
          "name": "stderr",
          "output_type": "stream",
          "text": []
        },
        {
          "name": "stdout",
          "output_type": "stream",
          "text": [
            "Train Loss(加權): 1.9194 | Train Raw MAE: 1.9194 | Val MAE: 2.7736\n",
            "\n",
            "[FOLD 2] === Epoch 361/400 ===  (LR: 1.99255e-05)\n"
          ]
        },
        {
          "name": "stderr",
          "output_type": "stream",
          "text": []
        },
        {
          "name": "stdout",
          "output_type": "stream",
          "text": [
            "Train Loss(加權): 1.9245 | Train Raw MAE: 1.9245 | Val MAE: 2.7864\n",
            "\n",
            "[FOLD 2] === Epoch 362/400 ===  (LR: 1.91957e-05)\n"
          ]
        },
        {
          "name": "stderr",
          "output_type": "stream",
          "text": []
        },
        {
          "name": "stdout",
          "output_type": "stream",
          "text": [
            "Train Loss(加權): 1.9236 | Train Raw MAE: 1.9236 | Val MAE: 2.7677\n",
            "\n",
            "[FOLD 2] === Epoch 363/400 ===  (LR: 1.84836e-05)\n"
          ]
        },
        {
          "name": "stderr",
          "output_type": "stream",
          "text": []
        },
        {
          "name": "stdout",
          "output_type": "stream",
          "text": [
            "Train Loss(加權): 1.9117 | Train Raw MAE: 1.9117 | Val MAE: 2.7928\n",
            "\n",
            "[FOLD 2] === Epoch 364/400 ===  (LR: 1.77894e-05)\n"
          ]
        },
        {
          "name": "stderr",
          "output_type": "stream",
          "text": []
        },
        {
          "name": "stdout",
          "output_type": "stream",
          "text": [
            "Train Loss(加權): 1.9203 | Train Raw MAE: 1.9203 | Val MAE: 2.7630\n",
            "\n",
            "[FOLD 2] === Epoch 365/400 ===  (LR: 1.7113e-05)\n"
          ]
        },
        {
          "name": "stderr",
          "output_type": "stream",
          "text": []
        },
        {
          "name": "stdout",
          "output_type": "stream",
          "text": [
            "Train Loss(加權): 1.9326 | Train Raw MAE: 1.9326 | Val MAE: 2.8091\n",
            "\n",
            "[FOLD 2] === Epoch 366/400 ===  (LR: 1.64546e-05)\n"
          ]
        },
        {
          "name": "stderr",
          "output_type": "stream",
          "text": []
        },
        {
          "name": "stdout",
          "output_type": "stream",
          "text": [
            "Train Loss(加權): 1.9076 | Train Raw MAE: 1.9076 | Val MAE: 2.8008\n",
            "\n",
            "[FOLD 2] === Epoch 367/400 ===  (LR: 1.58141e-05)\n"
          ]
        },
        {
          "name": "stderr",
          "output_type": "stream",
          "text": []
        },
        {
          "name": "stdout",
          "output_type": "stream",
          "text": [
            "Train Loss(加權): 1.8945 | Train Raw MAE: 1.8945 | Val MAE: 2.7934\n",
            "\n",
            "[FOLD 2] === Epoch 368/400 ===  (LR: 1.51916e-05)\n"
          ]
        },
        {
          "name": "stderr",
          "output_type": "stream",
          "text": []
        },
        {
          "name": "stdout",
          "output_type": "stream",
          "text": [
            "Train Loss(加權): 1.9107 | Train Raw MAE: 1.9107 | Val MAE: 2.7910\n",
            "\n",
            "[FOLD 2] === Epoch 369/400 ===  (LR: 1.45873e-05)\n"
          ]
        },
        {
          "name": "stderr",
          "output_type": "stream",
          "text": []
        },
        {
          "name": "stdout",
          "output_type": "stream",
          "text": [
            "Train Loss(加權): 1.8941 | Train Raw MAE: 1.8941 | Val MAE: 2.7781\n",
            "\n",
            "[FOLD 2] === Epoch 370/400 ===  (LR: 1.4001e-05)\n"
          ]
        },
        {
          "name": "stderr",
          "output_type": "stream",
          "text": []
        },
        {
          "name": "stdout",
          "output_type": "stream",
          "text": [
            "Train Loss(加權): 1.8979 | Train Raw MAE: 1.8979 | Val MAE: 2.7988\n",
            "\n",
            "[FOLD 2] === Epoch 371/400 ===  (LR: 1.34329e-05)\n"
          ]
        },
        {
          "name": "stderr",
          "output_type": "stream",
          "text": []
        },
        {
          "name": "stdout",
          "output_type": "stream",
          "text": [
            "Train Loss(加權): 1.9041 | Train Raw MAE: 1.9041 | Val MAE: 2.7933\n",
            "\n",
            "[FOLD 2] === Epoch 372/400 ===  (LR: 1.2883e-05)\n"
          ]
        },
        {
          "name": "stderr",
          "output_type": "stream",
          "text": []
        },
        {
          "name": "stdout",
          "output_type": "stream",
          "text": [
            "Train Loss(加權): 1.8910 | Train Raw MAE: 1.8910 | Val MAE: 2.8193\n",
            "\n",
            "[FOLD 2] === Epoch 373/400 ===  (LR: 1.23514e-05)\n"
          ]
        },
        {
          "name": "stderr",
          "output_type": "stream",
          "text": []
        },
        {
          "name": "stdout",
          "output_type": "stream",
          "text": [
            "Train Loss(加權): 1.8894 | Train Raw MAE: 1.8894 | Val MAE: 2.7746\n",
            "\n",
            "[FOLD 2] === Epoch 374/400 ===  (LR: 1.18381e-05)\n"
          ]
        },
        {
          "name": "stderr",
          "output_type": "stream",
          "text": []
        },
        {
          "name": "stdout",
          "output_type": "stream",
          "text": [
            "Train Loss(加權): 1.8788 | Train Raw MAE: 1.8788 | Val MAE: 2.7738\n",
            "\n",
            "[FOLD 2] === Epoch 375/400 ===  (LR: 1.1343e-05)\n"
          ]
        },
        {
          "name": "stderr",
          "output_type": "stream",
          "text": []
        },
        {
          "name": "stdout",
          "output_type": "stream",
          "text": [
            "Train Loss(加權): 1.8855 | Train Raw MAE: 1.8855 | Val MAE: 2.7736\n",
            "\n",
            "[FOLD 2] === Epoch 376/400 ===  (LR: 1.08664e-05)\n"
          ]
        },
        {
          "name": "stderr",
          "output_type": "stream",
          "text": []
        },
        {
          "name": "stdout",
          "output_type": "stream",
          "text": [
            "Train Loss(加權): 1.9153 | Train Raw MAE: 1.9153 | Val MAE: 2.7804\n",
            "\n",
            "[FOLD 2] === Epoch 377/400 ===  (LR: 1.04081e-05)\n"
          ]
        },
        {
          "name": "stderr",
          "output_type": "stream",
          "text": []
        },
        {
          "name": "stdout",
          "output_type": "stream",
          "text": [
            "Train Loss(加權): 1.8938 | Train Raw MAE: 1.8938 | Val MAE: 2.8009\n",
            "\n",
            "[FOLD 2] === Epoch 378/400 ===  (LR: 9.9683e-06)\n"
          ]
        },
        {
          "name": "stderr",
          "output_type": "stream",
          "text": []
        },
        {
          "name": "stdout",
          "output_type": "stream",
          "text": [
            "Train Loss(加權): 1.8849 | Train Raw MAE: 1.8849 | Val MAE: 2.7765\n",
            "\n",
            "[FOLD 2] === Epoch 379/400 ===  (LR: 9.54696e-06)\n"
          ]
        },
        {
          "name": "stderr",
          "output_type": "stream",
          "text": []
        },
        {
          "name": "stdout",
          "output_type": "stream",
          "text": [
            "Train Loss(加權): 1.8932 | Train Raw MAE: 1.8932 | Val MAE: 2.7745\n",
            "\n",
            "[FOLD 2] === Epoch 380/400 ===  (LR: 9.14411e-06)\n"
          ]
        },
        {
          "name": "stderr",
          "output_type": "stream",
          "text": []
        },
        {
          "name": "stdout",
          "output_type": "stream",
          "text": [
            "Train Loss(加權): 1.8707 | Train Raw MAE: 1.8707 | Val MAE: 2.7818\n",
            "\n",
            "[FOLD 2] === Epoch 381/400 ===  (LR: 8.75979e-06)\n"
          ]
        },
        {
          "name": "stderr",
          "output_type": "stream",
          "text": []
        },
        {
          "name": "stdout",
          "output_type": "stream",
          "text": [
            "Train Loss(加權): 1.9074 | Train Raw MAE: 1.9074 | Val MAE: 2.7745\n",
            "\n",
            "[FOLD 2] === Epoch 382/400 ===  (LR: 8.39404e-06)\n"
          ]
        },
        {
          "name": "stderr",
          "output_type": "stream",
          "text": []
        },
        {
          "name": "stdout",
          "output_type": "stream",
          "text": [
            "Train Loss(加權): 1.8823 | Train Raw MAE: 1.8823 | Val MAE: 2.7877\n",
            "\n",
            "[FOLD 2] === Epoch 383/400 ===  (LR: 8.04688e-06)\n"
          ]
        },
        {
          "name": "stderr",
          "output_type": "stream",
          "text": []
        },
        {
          "name": "stdout",
          "output_type": "stream",
          "text": [
            "Train Loss(加權): 1.8929 | Train Raw MAE: 1.8929 | Val MAE: 2.7868\n",
            "\n",
            "[FOLD 2] === Epoch 384/400 ===  (LR: 7.71833e-06)\n"
          ]
        },
        {
          "name": "stderr",
          "output_type": "stream",
          "text": []
        },
        {
          "name": "stdout",
          "output_type": "stream",
          "text": [
            "Train Loss(加權): 1.8880 | Train Raw MAE: 1.8880 | Val MAE: 2.7851\n",
            "\n",
            "[FOLD 2] === Epoch 385/400 ===  (LR: 7.40842e-06)\n"
          ]
        },
        {
          "name": "stderr",
          "output_type": "stream",
          "text": []
        },
        {
          "name": "stdout",
          "output_type": "stream",
          "text": [
            "Train Loss(加權): 1.8684 | Train Raw MAE: 1.8684 | Val MAE: 2.7957\n",
            "\n",
            "[FOLD 2] === Epoch 386/400 ===  (LR: 7.11718e-06)\n"
          ]
        },
        {
          "name": "stderr",
          "output_type": "stream",
          "text": []
        },
        {
          "name": "stdout",
          "output_type": "stream",
          "text": [
            "Train Loss(加權): 1.8690 | Train Raw MAE: 1.8690 | Val MAE: 2.7833\n",
            "\n",
            "[FOLD 2] === Epoch 387/400 ===  (LR: 6.84463e-06)\n"
          ]
        },
        {
          "name": "stderr",
          "output_type": "stream",
          "text": []
        },
        {
          "name": "stdout",
          "output_type": "stream",
          "text": [
            "Train Loss(加權): 1.8571 | Train Raw MAE: 1.8571 | Val MAE: 2.7938\n",
            "\n",
            "[FOLD 2] === Epoch 388/400 ===  (LR: 6.59078e-06)\n"
          ]
        },
        {
          "name": "stderr",
          "output_type": "stream",
          "text": []
        },
        {
          "name": "stdout",
          "output_type": "stream",
          "text": [
            "Train Loss(加權): 1.8768 | Train Raw MAE: 1.8768 | Val MAE: 2.7943\n",
            "\n",
            "[FOLD 2] === Epoch 389/400 ===  (LR: 6.35566e-06)\n"
          ]
        },
        {
          "name": "stderr",
          "output_type": "stream",
          "text": []
        },
        {
          "name": "stdout",
          "output_type": "stream",
          "text": [
            "Train Loss(加權): 1.8463 | Train Raw MAE: 1.8463 | Val MAE: 2.7910\n",
            "\n",
            "[FOLD 2] === Epoch 390/400 ===  (LR: 6.13928e-06)\n"
          ]
        },
        {
          "name": "stderr",
          "output_type": "stream",
          "text": []
        },
        {
          "name": "stdout",
          "output_type": "stream",
          "text": [
            "Train Loss(加權): 1.8737 | Train Raw MAE: 1.8737 | Val MAE: 2.7813\n",
            "\n",
            "[FOLD 2] === Epoch 391/400 ===  (LR: 5.94167e-06)\n"
          ]
        },
        {
          "name": "stderr",
          "output_type": "stream",
          "text": []
        },
        {
          "name": "stdout",
          "output_type": "stream",
          "text": [
            "Train Loss(加權): 1.8893 | Train Raw MAE: 1.8893 | Val MAE: 2.7846\n",
            "\n",
            "[FOLD 2] === Epoch 392/400 ===  (LR: 5.76283e-06)\n"
          ]
        },
        {
          "name": "stderr",
          "output_type": "stream",
          "text": []
        },
        {
          "name": "stdout",
          "output_type": "stream",
          "text": [
            "Train Loss(加權): 1.8918 | Train Raw MAE: 1.8918 | Val MAE: 2.7917\n",
            "\n",
            "[FOLD 2] === Epoch 393/400 ===  (LR: 5.60278e-06)\n"
          ]
        },
        {
          "name": "stderr",
          "output_type": "stream",
          "text": []
        },
        {
          "name": "stdout",
          "output_type": "stream",
          "text": [
            "Train Loss(加權): 1.8878 | Train Raw MAE: 1.8878 | Val MAE: 2.7901\n",
            "\n",
            "[FOLD 2] === Epoch 394/400 ===  (LR: 5.46154e-06)\n"
          ]
        },
        {
          "name": "stderr",
          "output_type": "stream",
          "text": []
        },
        {
          "name": "stdout",
          "output_type": "stream",
          "text": [
            "Train Loss(加權): 1.8887 | Train Raw MAE: 1.8887 | Val MAE: 2.7780\n",
            "\n",
            "[FOLD 2] === Epoch 395/400 ===  (LR: 5.3391e-06)\n"
          ]
        },
        {
          "name": "stderr",
          "output_type": "stream",
          "text": []
        },
        {
          "name": "stdout",
          "output_type": "stream",
          "text": [
            "Train Loss(加權): 1.9019 | Train Raw MAE: 1.9019 | Val MAE: 2.7902\n",
            "\n",
            "[FOLD 2] === Epoch 396/400 ===  (LR: 5.23549e-06)\n"
          ]
        },
        {
          "name": "stderr",
          "output_type": "stream",
          "text": []
        },
        {
          "name": "stdout",
          "output_type": "stream",
          "text": [
            "Train Loss(加權): 1.8656 | Train Raw MAE: 1.8656 | Val MAE: 2.7838\n",
            "\n",
            "[FOLD 2] === Epoch 397/400 ===  (LR: 5.15071e-06)\n"
          ]
        },
        {
          "name": "stderr",
          "output_type": "stream",
          "text": []
        },
        {
          "name": "stdout",
          "output_type": "stream",
          "text": [
            "Train Loss(加權): 1.8871 | Train Raw MAE: 1.8871 | Val MAE: 2.7811\n",
            "\n",
            "[FOLD 2] === Epoch 398/400 ===  (LR: 5.08477e-06)\n"
          ]
        },
        {
          "name": "stderr",
          "output_type": "stream",
          "text": []
        },
        {
          "name": "stdout",
          "output_type": "stream",
          "text": [
            "Train Loss(加權): 1.8857 | Train Raw MAE: 1.8857 | Val MAE: 2.7892\n",
            "\n",
            "[FOLD 2] === Epoch 399/400 ===  (LR: 5.03767e-06)\n"
          ]
        },
        {
          "name": "stderr",
          "output_type": "stream",
          "text": []
        },
        {
          "name": "stdout",
          "output_type": "stream",
          "text": [
            "Train Loss(加權): 1.8630 | Train Raw MAE: 1.8630 | Val MAE: 2.7671\n",
            "\n",
            "[FOLD 2] === Epoch 400/400 ===  (LR: 5.00941e-06)\n"
          ]
        },
        {
          "name": "stderr",
          "output_type": "stream",
          "text": []
        },
        {
          "name": "stdout",
          "output_type": "stream",
          "text": [
            "Train Loss(加權): 1.8762 | Train Raw MAE: 1.8762 | Val MAE: 2.7879\n",
            "✅ Fold 2 最佳模型已儲存\n",
            "\n",
            "🚀 開始訓練 Fold 3 (論文式加權 MAE 損失)...\n",
            "📊 年齡組權重分佈:\n",
            "     5-9:  641 樣本, 權重 = 1.000\n",
            "   10-14:  676 樣本, 權重 = 1.000\n",
            "   15-19:  887 樣本, 權重 = 1.000\n",
            "   20-24: 1380 樣本, 權重 = 1.000\n",
            "   25-29:  400 樣本, 權重 = 1.000\n",
            "   30-34:  156 樣本, 權重 = 1.000\n",
            "   35-39:   53 樣本, 權重 = 1.000\n",
            "   40-44:   47 樣本, 權重 = 1.000\n",
            "   45-49:   62 樣本, 權重 = 1.000\n",
            "   50-54:   73 樣本, 權重 = 1.000\n",
            "   55-59:   99 樣本, 權重 = 1.000\n",
            "   60-64:  121 樣本, 權重 = 1.000\n",
            "   65-69:  205 樣本, 權重 = 1.000\n",
            "   70-74:  214 樣本, 權重 = 1.000\n",
            "   75-79:  109 樣本, 權重 = 1.000\n",
            "   80-84:   55 樣本, 權重 = 1.000\n",
            "   85-89:   23 樣本, 權重 = 1.000\n",
            "   90-94:    1 樣本, 權重 = 1.000\n",
            "   95-99:    2 樣本, 權重 = 1.000\n",
            "\n",
            "[FOLD 3] === Epoch 1/400 ===  (LR: 0.0001)\n"
          ]
        },
        {
          "name": "stderr",
          "output_type": "stream",
          "text": []
        },
        {
          "name": "stdout",
          "output_type": "stream",
          "text": [
            "Train Loss(加權): 13.6729 | Train Raw MAE: 13.6729 | Val MAE: 11.5294\n",
            "🎯 New best Val MAE: 11.5294\n",
            "\n",
            "[FOLD 3] === Epoch 2/400 ===  (LR: 0.000100617)\n"
          ]
        },
        {
          "name": "stderr",
          "output_type": "stream",
          "text": []
        },
        {
          "name": "stdout",
          "output_type": "stream",
          "text": [
            "Train Loss(加權): 10.7792 | Train Raw MAE: 10.7792 | Val MAE: 9.7001\n",
            "🎯 New best Val MAE: 9.7001\n",
            "\n",
            "[FOLD 3] === Epoch 3/400 ===  (LR: 0.000102462)\n"
          ]
        },
        {
          "name": "stderr",
          "output_type": "stream",
          "text": []
        },
        {
          "name": "stdout",
          "output_type": "stream",
          "text": [
            "Train Loss(加權): 10.6025 | Train Raw MAE: 10.6025 | Val MAE: 8.7242\n",
            "🎯 New best Val MAE: 8.7242\n",
            "\n",
            "[FOLD 3] === Epoch 4/400 ===  (LR: 0.000105526)\n"
          ]
        },
        {
          "name": "stderr",
          "output_type": "stream",
          "text": []
        },
        {
          "name": "stdout",
          "output_type": "stream",
          "text": [
            "Train Loss(加權): 10.2304 | Train Raw MAE: 10.2304 | Val MAE: 8.3325\n",
            "🎯 New best Val MAE: 8.3325\n",
            "\n",
            "[FOLD 3] === Epoch 5/400 ===  (LR: 0.000109789)\n"
          ]
        },
        {
          "name": "stderr",
          "output_type": "stream",
          "text": []
        },
        {
          "name": "stdout",
          "output_type": "stream",
          "text": [
            "Train Loss(加權): 9.9858 | Train Raw MAE: 9.9858 | Val MAE: 11.3487\n",
            "\n",
            "[FOLD 3] === Epoch 6/400 ===  (LR: 0.000115225)\n"
          ]
        },
        {
          "name": "stderr",
          "output_type": "stream",
          "text": []
        },
        {
          "name": "stdout",
          "output_type": "stream",
          "text": [
            "Train Loss(加權): 9.6810 | Train Raw MAE: 9.6810 | Val MAE: 8.1160\n",
            "🎯 New best Val MAE: 8.1160\n",
            "\n",
            "[FOLD 3] === Epoch 7/400 ===  (LR: 0.0001218)\n"
          ]
        },
        {
          "name": "stderr",
          "output_type": "stream",
          "text": []
        },
        {
          "name": "stdout",
          "output_type": "stream",
          "text": [
            "Train Loss(加權): 9.5310 | Train Raw MAE: 9.5310 | Val MAE: 8.0126\n",
            "🎯 New best Val MAE: 8.0126\n",
            "\n",
            "[FOLD 3] === Epoch 8/400 ===  (LR: 0.000129473)\n"
          ]
        },
        {
          "name": "stderr",
          "output_type": "stream",
          "text": []
        },
        {
          "name": "stdout",
          "output_type": "stream",
          "text": [
            "Train Loss(加權): 9.3024 | Train Raw MAE: 9.3024 | Val MAE: 10.8708\n",
            "\n",
            "[FOLD 3] === Epoch 9/400 ===  (LR: 0.000138198)\n"
          ]
        },
        {
          "name": "stderr",
          "output_type": "stream",
          "text": []
        },
        {
          "name": "stdout",
          "output_type": "stream",
          "text": [
            "Train Loss(加權): 9.2964 | Train Raw MAE: 9.2964 | Val MAE: 7.6268\n",
            "🎯 New best Val MAE: 7.6268\n",
            "\n",
            "[FOLD 3] === Epoch 10/400 ===  (LR: 0.000147921)\n"
          ]
        },
        {
          "name": "stderr",
          "output_type": "stream",
          "text": []
        },
        {
          "name": "stdout",
          "output_type": "stream",
          "text": [
            "Train Loss(加權): 8.9594 | Train Raw MAE: 8.9594 | Val MAE: 9.9273\n",
            "\n",
            "[FOLD 3] === Epoch 11/400 ===  (LR: 0.000158581)\n"
          ]
        },
        {
          "name": "stderr",
          "output_type": "stream",
          "text": []
        },
        {
          "name": "stdout",
          "output_type": "stream",
          "text": [
            "Train Loss(加權): 8.7426 | Train Raw MAE: 8.7426 | Val MAE: 12.0169\n",
            "\n",
            "[FOLD 3] === Epoch 12/400 ===  (LR: 0.000170113)\n"
          ]
        },
        {
          "name": "stderr",
          "output_type": "stream",
          "text": []
        },
        {
          "name": "stdout",
          "output_type": "stream",
          "text": [
            "Train Loss(加權): 8.7903 | Train Raw MAE: 8.7903 | Val MAE: 14.3594\n",
            "\n",
            "[FOLD 3] === Epoch 13/400 ===  (LR: 0.000182446)\n"
          ]
        },
        {
          "name": "stderr",
          "output_type": "stream",
          "text": []
        },
        {
          "name": "stdout",
          "output_type": "stream",
          "text": [
            "Train Loss(加權): 8.7980 | Train Raw MAE: 8.7980 | Val MAE: 7.0704\n",
            "🎯 New best Val MAE: 7.0704\n",
            "\n",
            "[FOLD 3] === Epoch 14/400 ===  (LR: 0.000195504)\n"
          ]
        },
        {
          "name": "stderr",
          "output_type": "stream",
          "text": []
        },
        {
          "name": "stdout",
          "output_type": "stream",
          "text": [
            "Train Loss(加權): 8.6468 | Train Raw MAE: 8.6468 | Val MAE: 7.1273\n",
            "\n",
            "[FOLD 3] === Epoch 15/400 ===  (LR: 0.000209206)\n"
          ]
        },
        {
          "name": "stderr",
          "output_type": "stream",
          "text": []
        },
        {
          "name": "stdout",
          "output_type": "stream",
          "text": [
            "Train Loss(加權): 8.3886 | Train Raw MAE: 8.3886 | Val MAE: 17.6154\n",
            "\n",
            "[FOLD 3] === Epoch 16/400 ===  (LR: 0.000223467)\n"
          ]
        },
        {
          "name": "stderr",
          "output_type": "stream",
          "text": []
        },
        {
          "name": "stdout",
          "output_type": "stream",
          "text": [
            "Train Loss(加權): 8.2074 | Train Raw MAE: 8.2074 | Val MAE: 7.5420\n",
            "\n",
            "[FOLD 3] === Epoch 17/400 ===  (LR: 0.000238201)\n"
          ]
        },
        {
          "name": "stderr",
          "output_type": "stream",
          "text": []
        },
        {
          "name": "stdout",
          "output_type": "stream",
          "text": [
            "Train Loss(加權): 8.4286 | Train Raw MAE: 8.4286 | Val MAE: 8.8219\n",
            "\n",
            "[FOLD 3] === Epoch 18/400 ===  (LR: 0.000253316)\n"
          ]
        },
        {
          "name": "stderr",
          "output_type": "stream",
          "text": []
        },
        {
          "name": "stdout",
          "output_type": "stream",
          "text": [
            "Train Loss(加權): 8.2470 | Train Raw MAE: 8.2470 | Val MAE: 19.4839\n",
            "\n",
            "[FOLD 3] === Epoch 19/400 ===  (LR: 0.000268718)\n"
          ]
        },
        {
          "name": "stderr",
          "output_type": "stream",
          "text": []
        },
        {
          "name": "stdout",
          "output_type": "stream",
          "text": [
            "Train Loss(加權): 8.3926 | Train Raw MAE: 8.3926 | Val MAE: 11.9271\n",
            "\n",
            "[FOLD 3] === Epoch 20/400 ===  (LR: 0.000284314)\n"
          ]
        },
        {
          "name": "stderr",
          "output_type": "stream",
          "text": []
        },
        {
          "name": "stdout",
          "output_type": "stream",
          "text": [
            "Train Loss(加權): 8.1196 | Train Raw MAE: 8.1196 | Val MAE: 7.6052\n",
            "\n",
            "[FOLD 3] === Epoch 21/400 ===  (LR: 0.000300006)\n"
          ]
        },
        {
          "name": "stderr",
          "output_type": "stream",
          "text": []
        },
        {
          "name": "stdout",
          "output_type": "stream",
          "text": [
            "Train Loss(加權): 8.1258 | Train Raw MAE: 8.1258 | Val MAE: 8.3357\n",
            "\n",
            "[FOLD 3] === Epoch 22/400 ===  (LR: 0.000315698)\n"
          ]
        },
        {
          "name": "stderr",
          "output_type": "stream",
          "text": []
        },
        {
          "name": "stdout",
          "output_type": "stream",
          "text": [
            "Train Loss(加權): 8.2656 | Train Raw MAE: 8.2656 | Val MAE: 8.8314\n",
            "\n",
            "[FOLD 3] === Epoch 23/400 ===  (LR: 0.000331293)\n"
          ]
        },
        {
          "name": "stderr",
          "output_type": "stream",
          "text": []
        },
        {
          "name": "stdout",
          "output_type": "stream",
          "text": [
            "Train Loss(加權): 8.1994 | Train Raw MAE: 8.1994 | Val MAE: 15.7347\n",
            "\n",
            "[FOLD 3] === Epoch 24/400 ===  (LR: 0.000346696)\n"
          ]
        },
        {
          "name": "stderr",
          "output_type": "stream",
          "text": []
        },
        {
          "name": "stdout",
          "output_type": "stream",
          "text": [
            "Train Loss(加權): 8.0676 | Train Raw MAE: 8.0676 | Val MAE: 11.5389\n",
            "\n",
            "[FOLD 3] === Epoch 25/400 ===  (LR: 0.00036181)\n"
          ]
        },
        {
          "name": "stderr",
          "output_type": "stream",
          "text": []
        },
        {
          "name": "stdout",
          "output_type": "stream",
          "text": [
            "Train Loss(加權): 7.9028 | Train Raw MAE: 7.9028 | Val MAE: 8.9798\n",
            "\n",
            "[FOLD 3] === Epoch 26/400 ===  (LR: 0.000376544)\n"
          ]
        },
        {
          "name": "stderr",
          "output_type": "stream",
          "text": []
        },
        {
          "name": "stdout",
          "output_type": "stream",
          "text": [
            "Train Loss(加權): 7.5475 | Train Raw MAE: 7.5475 | Val MAE: 14.3035\n",
            "\n",
            "[FOLD 3] === Epoch 27/400 ===  (LR: 0.000390805)\n"
          ]
        },
        {
          "name": "stderr",
          "output_type": "stream",
          "text": []
        },
        {
          "name": "stdout",
          "output_type": "stream",
          "text": [
            "Train Loss(加權): 7.5070 | Train Raw MAE: 7.5070 | Val MAE: 16.0251\n",
            "\n",
            "[FOLD 3] === Epoch 28/400 ===  (LR: 0.000404507)\n"
          ]
        },
        {
          "name": "stderr",
          "output_type": "stream",
          "text": []
        },
        {
          "name": "stdout",
          "output_type": "stream",
          "text": [
            "Train Loss(加權): 7.2985 | Train Raw MAE: 7.2985 | Val MAE: 18.6908\n",
            "\n",
            "[FOLD 3] === Epoch 29/400 ===  (LR: 0.000417564)\n"
          ]
        },
        {
          "name": "stderr",
          "output_type": "stream",
          "text": []
        },
        {
          "name": "stdout",
          "output_type": "stream",
          "text": [
            "Train Loss(加權): 7.2275 | Train Raw MAE: 7.2275 | Val MAE: 11.4565\n",
            "\n",
            "[FOLD 3] === Epoch 30/400 ===  (LR: 0.000429896)\n"
          ]
        },
        {
          "name": "stderr",
          "output_type": "stream",
          "text": []
        },
        {
          "name": "stdout",
          "output_type": "stream",
          "text": [
            "Train Loss(加權): 7.0202 | Train Raw MAE: 7.0202 | Val MAE: 13.4129\n",
            "\n",
            "[FOLD 3] === Epoch 31/400 ===  (LR: 0.000441428)\n"
          ]
        },
        {
          "name": "stderr",
          "output_type": "stream",
          "text": []
        },
        {
          "name": "stdout",
          "output_type": "stream",
          "text": [
            "Train Loss(加權): 6.9106 | Train Raw MAE: 6.9106 | Val MAE: 6.5451\n",
            "🎯 New best Val MAE: 6.5451\n",
            "\n",
            "[FOLD 3] === Epoch 32/400 ===  (LR: 0.000452087)\n"
          ]
        },
        {
          "name": "stderr",
          "output_type": "stream",
          "text": []
        },
        {
          "name": "stdout",
          "output_type": "stream",
          "text": [
            "Train Loss(加權): 6.7042 | Train Raw MAE: 6.7042 | Val MAE: 5.8715\n",
            "🎯 New best Val MAE: 5.8715\n",
            "\n",
            "[FOLD 3] === Epoch 33/400 ===  (LR: 0.000461809)\n"
          ]
        },
        {
          "name": "stderr",
          "output_type": "stream",
          "text": []
        },
        {
          "name": "stdout",
          "output_type": "stream",
          "text": [
            "Train Loss(加權): 6.5704 | Train Raw MAE: 6.5704 | Val MAE: 10.0056\n",
            "\n",
            "[FOLD 3] === Epoch 34/400 ===  (LR: 0.000470533)\n"
          ]
        },
        {
          "name": "stderr",
          "output_type": "stream",
          "text": []
        },
        {
          "name": "stdout",
          "output_type": "stream",
          "text": [
            "Train Loss(加權): 6.5498 | Train Raw MAE: 6.5498 | Val MAE: 5.4413\n",
            "🎯 New best Val MAE: 5.4413\n",
            "\n",
            "[FOLD 3] === Epoch 35/400 ===  (LR: 0.000478206)\n"
          ]
        },
        {
          "name": "stderr",
          "output_type": "stream",
          "text": []
        },
        {
          "name": "stdout",
          "output_type": "stream",
          "text": [
            "Train Loss(加權): 6.4098 | Train Raw MAE: 6.4098 | Val MAE: 6.4979\n",
            "\n",
            "[FOLD 3] === Epoch 36/400 ===  (LR: 0.00048478)\n"
          ]
        },
        {
          "name": "stderr",
          "output_type": "stream",
          "text": []
        },
        {
          "name": "stdout",
          "output_type": "stream",
          "text": [
            "Train Loss(加權): 6.1313 | Train Raw MAE: 6.1313 | Val MAE: 10.7567\n",
            "\n",
            "[FOLD 3] === Epoch 37/400 ===  (LR: 0.000490215)\n"
          ]
        },
        {
          "name": "stderr",
          "output_type": "stream",
          "text": []
        },
        {
          "name": "stdout",
          "output_type": "stream",
          "text": [
            "Train Loss(加權): 5.9751 | Train Raw MAE: 5.9751 | Val MAE: 11.5700\n",
            "\n",
            "[FOLD 3] === Epoch 38/400 ===  (LR: 0.000494477)\n"
          ]
        },
        {
          "name": "stderr",
          "output_type": "stream",
          "text": []
        },
        {
          "name": "stdout",
          "output_type": "stream",
          "text": [
            "Train Loss(加權): 6.0097 | Train Raw MAE: 6.0097 | Val MAE: 5.1427\n",
            "🎯 New best Val MAE: 5.1427\n",
            "\n",
            "[FOLD 3] === Epoch 39/400 ===  (LR: 0.000497539)\n"
          ]
        },
        {
          "name": "stderr",
          "output_type": "stream",
          "text": []
        },
        {
          "name": "stdout",
          "output_type": "stream",
          "text": [
            "Train Loss(加權): 5.9440 | Train Raw MAE: 5.9440 | Val MAE: 5.2262\n",
            "\n",
            "[FOLD 3] === Epoch 40/400 ===  (LR: 0.000499384)\n"
          ]
        },
        {
          "name": "stderr",
          "output_type": "stream",
          "text": []
        },
        {
          "name": "stdout",
          "output_type": "stream",
          "text": [
            "Train Loss(加權): 5.8484 | Train Raw MAE: 5.8484 | Val MAE: 5.2604\n",
            "\n",
            "[FOLD 3] === Epoch 41/400 ===  (LR: 0.0005)\n"
          ]
        },
        {
          "name": "stderr",
          "output_type": "stream",
          "text": []
        },
        {
          "name": "stdout",
          "output_type": "stream",
          "text": [
            "Train Loss(加權): 5.8386 | Train Raw MAE: 5.8386 | Val MAE: 4.8026\n",
            "🎯 New best Val MAE: 4.8026\n",
            "\n",
            "[FOLD 3] === Epoch 42/400 ===  (LR: 0.000499991)\n"
          ]
        },
        {
          "name": "stderr",
          "output_type": "stream",
          "text": []
        },
        {
          "name": "stdout",
          "output_type": "stream",
          "text": [
            "Train Loss(加權): 5.7811 | Train Raw MAE: 5.7811 | Val MAE: 4.5739\n",
            "🎯 New best Val MAE: 4.5739\n",
            "\n",
            "[FOLD 3] === Epoch 43/400 ===  (LR: 0.000499962)\n"
          ]
        },
        {
          "name": "stderr",
          "output_type": "stream",
          "text": []
        },
        {
          "name": "stdout",
          "output_type": "stream",
          "text": [
            "Train Loss(加權): 5.5876 | Train Raw MAE: 5.5876 | Val MAE: 9.5372\n",
            "\n",
            "[FOLD 3] === Epoch 44/400 ===  (LR: 0.000499915)\n"
          ]
        },
        {
          "name": "stderr",
          "output_type": "stream",
          "text": []
        },
        {
          "name": "stdout",
          "output_type": "stream",
          "text": [
            "Train Loss(加權): 5.5505 | Train Raw MAE: 5.5505 | Val MAE: 5.8798\n",
            "\n",
            "[FOLD 3] === Epoch 45/400 ===  (LR: 0.000499849)\n"
          ]
        },
        {
          "name": "stderr",
          "output_type": "stream",
          "text": []
        },
        {
          "name": "stdout",
          "output_type": "stream",
          "text": [
            "Train Loss(加權): 5.5474 | Train Raw MAE: 5.5474 | Val MAE: 4.3288\n",
            "🎯 New best Val MAE: 4.3288\n",
            "\n",
            "[FOLD 3] === Epoch 46/400 ===  (LR: 0.000499764)\n"
          ]
        },
        {
          "name": "stderr",
          "output_type": "stream",
          "text": []
        },
        {
          "name": "stdout",
          "output_type": "stream",
          "text": [
            "Train Loss(加權): 5.3939 | Train Raw MAE: 5.3939 | Val MAE: 6.2558\n",
            "\n",
            "[FOLD 3] === Epoch 47/400 ===  (LR: 0.000499661)\n"
          ]
        },
        {
          "name": "stderr",
          "output_type": "stream",
          "text": []
        },
        {
          "name": "stdout",
          "output_type": "stream",
          "text": [
            "Train Loss(加權): 5.3531 | Train Raw MAE: 5.3531 | Val MAE: 4.7082\n",
            "\n",
            "[FOLD 3] === Epoch 48/400 ===  (LR: 0.000499538)\n"
          ]
        },
        {
          "name": "stderr",
          "output_type": "stream",
          "text": []
        },
        {
          "name": "stdout",
          "output_type": "stream",
          "text": [
            "Train Loss(加權): 5.3547 | Train Raw MAE: 5.3547 | Val MAE: 4.3675\n",
            "\n",
            "[FOLD 3] === Epoch 49/400 ===  (LR: 0.000499397)\n"
          ]
        },
        {
          "name": "stderr",
          "output_type": "stream",
          "text": []
        },
        {
          "name": "stdout",
          "output_type": "stream",
          "text": [
            "Train Loss(加權): 5.3687 | Train Raw MAE: 5.3687 | Val MAE: 4.8874\n",
            "\n",
            "[FOLD 3] === Epoch 50/400 ===  (LR: 0.000499237)\n"
          ]
        },
        {
          "name": "stderr",
          "output_type": "stream",
          "text": []
        },
        {
          "name": "stdout",
          "output_type": "stream",
          "text": [
            "Train Loss(加權): 5.2211 | Train Raw MAE: 5.2211 | Val MAE: 4.7338\n",
            "\n",
            "[FOLD 3] === Epoch 51/400 ===  (LR: 0.000499058)\n"
          ]
        },
        {
          "name": "stderr",
          "output_type": "stream",
          "text": []
        },
        {
          "name": "stdout",
          "output_type": "stream",
          "text": [
            "Train Loss(加權): 5.3832 | Train Raw MAE: 5.3832 | Val MAE: 5.2921\n",
            "\n",
            "[FOLD 3] === Epoch 52/400 ===  (LR: 0.00049886)\n"
          ]
        },
        {
          "name": "stderr",
          "output_type": "stream",
          "text": []
        },
        {
          "name": "stdout",
          "output_type": "stream",
          "text": [
            "Train Loss(加權): 5.1913 | Train Raw MAE: 5.1913 | Val MAE: 4.2767\n",
            "🎯 New best Val MAE: 4.2767\n",
            "\n",
            "[FOLD 3] === Epoch 53/400 ===  (LR: 0.000498644)\n"
          ]
        },
        {
          "name": "stderr",
          "output_type": "stream",
          "text": []
        },
        {
          "name": "stdout",
          "output_type": "stream",
          "text": [
            "Train Loss(加權): 5.2144 | Train Raw MAE: 5.2144 | Val MAE: 4.7034\n",
            "\n",
            "[FOLD 3] === Epoch 54/400 ===  (LR: 0.000498409)\n"
          ]
        },
        {
          "name": "stderr",
          "output_type": "stream",
          "text": []
        },
        {
          "name": "stdout",
          "output_type": "stream",
          "text": [
            "Train Loss(加權): 5.2033 | Train Raw MAE: 5.2033 | Val MAE: 5.0722\n",
            "\n",
            "[FOLD 3] === Epoch 55/400 ===  (LR: 0.000498155)\n"
          ]
        },
        {
          "name": "stderr",
          "output_type": "stream",
          "text": []
        },
        {
          "name": "stdout",
          "output_type": "stream",
          "text": [
            "Train Loss(加權): 5.0272 | Train Raw MAE: 5.0272 | Val MAE: 4.2558\n",
            "🎯 New best Val MAE: 4.2558\n",
            "\n",
            "[FOLD 3] === Epoch 56/400 ===  (LR: 0.000497882)\n"
          ]
        },
        {
          "name": "stderr",
          "output_type": "stream",
          "text": []
        },
        {
          "name": "stdout",
          "output_type": "stream",
          "text": [
            "Train Loss(加權): 5.1062 | Train Raw MAE: 5.1062 | Val MAE: 4.4169\n",
            "\n",
            "[FOLD 3] === Epoch 57/400 ===  (LR: 0.000497591)\n"
          ]
        },
        {
          "name": "stderr",
          "output_type": "stream",
          "text": []
        },
        {
          "name": "stdout",
          "output_type": "stream",
          "text": [
            "Train Loss(加權): 5.0245 | Train Raw MAE: 5.0245 | Val MAE: 4.6288\n",
            "\n",
            "[FOLD 3] === Epoch 58/400 ===  (LR: 0.000497281)\n"
          ]
        },
        {
          "name": "stderr",
          "output_type": "stream",
          "text": []
        },
        {
          "name": "stdout",
          "output_type": "stream",
          "text": [
            "Train Loss(加權): 5.0537 | Train Raw MAE: 5.0537 | Val MAE: 4.3248\n",
            "\n",
            "[FOLD 3] === Epoch 59/400 ===  (LR: 0.000496953)\n"
          ]
        },
        {
          "name": "stderr",
          "output_type": "stream",
          "text": []
        },
        {
          "name": "stdout",
          "output_type": "stream",
          "text": [
            "Train Loss(加權): 5.0585 | Train Raw MAE: 5.0585 | Val MAE: 4.3740\n",
            "\n",
            "[FOLD 3] === Epoch 60/400 ===  (LR: 0.000496605)\n"
          ]
        },
        {
          "name": "stderr",
          "output_type": "stream",
          "text": []
        },
        {
          "name": "stdout",
          "output_type": "stream",
          "text": [
            "Train Loss(加權): 4.8085 | Train Raw MAE: 4.8085 | Val MAE: 4.7332\n",
            "\n",
            "[FOLD 3] === Epoch 61/400 ===  (LR: 0.00049624)\n"
          ]
        },
        {
          "name": "stderr",
          "output_type": "stream",
          "text": []
        },
        {
          "name": "stdout",
          "output_type": "stream",
          "text": [
            "Train Loss(加權): 4.9383 | Train Raw MAE: 4.9383 | Val MAE: 4.2449\n",
            "🎯 New best Val MAE: 4.2449\n",
            "\n",
            "[FOLD 3] === Epoch 62/400 ===  (LR: 0.000495855)\n"
          ]
        },
        {
          "name": "stderr",
          "output_type": "stream",
          "text": []
        },
        {
          "name": "stdout",
          "output_type": "stream",
          "text": [
            "Train Loss(加權): 4.8241 | Train Raw MAE: 4.8241 | Val MAE: 4.1884\n",
            "🎯 New best Val MAE: 4.1884\n",
            "\n",
            "[FOLD 3] === Epoch 63/400 ===  (LR: 0.000495452)\n"
          ]
        },
        {
          "name": "stderr",
          "output_type": "stream",
          "text": []
        },
        {
          "name": "stdout",
          "output_type": "stream",
          "text": [
            "Train Loss(加權): 4.8339 | Train Raw MAE: 4.8339 | Val MAE: 4.0132\n",
            "🎯 New best Val MAE: 4.0132\n",
            "\n",
            "[FOLD 3] === Epoch 64/400 ===  (LR: 0.000495031)\n"
          ]
        },
        {
          "name": "stderr",
          "output_type": "stream",
          "text": []
        },
        {
          "name": "stdout",
          "output_type": "stream",
          "text": [
            "Train Loss(加權): 4.8265 | Train Raw MAE: 4.8265 | Val MAE: 5.1020\n",
            "\n",
            "[FOLD 3] === Epoch 65/400 ===  (LR: 0.000494591)\n"
          ]
        },
        {
          "name": "stderr",
          "output_type": "stream",
          "text": []
        },
        {
          "name": "stdout",
          "output_type": "stream",
          "text": [
            "Train Loss(加權): 4.8637 | Train Raw MAE: 4.8637 | Val MAE: 5.2633\n",
            "\n",
            "[FOLD 3] === Epoch 66/400 ===  (LR: 0.000494133)\n"
          ]
        },
        {
          "name": "stderr",
          "output_type": "stream",
          "text": []
        },
        {
          "name": "stdout",
          "output_type": "stream",
          "text": [
            "Train Loss(加權): 4.7183 | Train Raw MAE: 4.7183 | Val MAE: 4.4083\n",
            "\n",
            "[FOLD 3] === Epoch 67/400 ===  (LR: 0.000493656)\n"
          ]
        },
        {
          "name": "stderr",
          "output_type": "stream",
          "text": []
        },
        {
          "name": "stdout",
          "output_type": "stream",
          "text": [
            "Train Loss(加權): 4.7288 | Train Raw MAE: 4.7288 | Val MAE: 4.1260\n",
            "\n",
            "[FOLD 3] === Epoch 68/400 ===  (LR: 0.000493161)\n"
          ]
        },
        {
          "name": "stderr",
          "output_type": "stream",
          "text": []
        },
        {
          "name": "stdout",
          "output_type": "stream",
          "text": [
            "Train Loss(加權): 4.6500 | Train Raw MAE: 4.6500 | Val MAE: 4.9279\n",
            "\n",
            "[FOLD 3] === Epoch 69/400 ===  (LR: 0.000492648)\n"
          ]
        },
        {
          "name": "stderr",
          "output_type": "stream",
          "text": []
        },
        {
          "name": "stdout",
          "output_type": "stream",
          "text": [
            "Train Loss(加權): 4.6904 | Train Raw MAE: 4.6904 | Val MAE: 4.6030\n",
            "\n",
            "[FOLD 3] === Epoch 70/400 ===  (LR: 0.000492116)\n"
          ]
        },
        {
          "name": "stderr",
          "output_type": "stream",
          "text": []
        },
        {
          "name": "stdout",
          "output_type": "stream",
          "text": [
            "Train Loss(加權): 4.6001 | Train Raw MAE: 4.6001 | Val MAE: 4.0993\n",
            "\n",
            "[FOLD 3] === Epoch 71/400 ===  (LR: 0.000491566)\n"
          ]
        },
        {
          "name": "stderr",
          "output_type": "stream",
          "text": []
        },
        {
          "name": "stdout",
          "output_type": "stream",
          "text": [
            "Train Loss(加權): 4.6381 | Train Raw MAE: 4.6381 | Val MAE: 4.0420\n",
            "\n",
            "[FOLD 3] === Epoch 72/400 ===  (LR: 0.000490998)\n"
          ]
        },
        {
          "name": "stderr",
          "output_type": "stream",
          "text": []
        },
        {
          "name": "stdout",
          "output_type": "stream",
          "text": [
            "Train Loss(加權): 4.5484 | Train Raw MAE: 4.5484 | Val MAE: 4.7692\n",
            "\n",
            "[FOLD 3] === Epoch 73/400 ===  (LR: 0.000490412)\n"
          ]
        },
        {
          "name": "stderr",
          "output_type": "stream",
          "text": []
        },
        {
          "name": "stdout",
          "output_type": "stream",
          "text": [
            "Train Loss(加權): 4.5005 | Train Raw MAE: 4.5005 | Val MAE: 3.8878\n",
            "🎯 New best Val MAE: 3.8878\n",
            "\n",
            "[FOLD 3] === Epoch 74/400 ===  (LR: 0.000489807)\n"
          ]
        },
        {
          "name": "stderr",
          "output_type": "stream",
          "text": []
        },
        {
          "name": "stdout",
          "output_type": "stream",
          "text": [
            "Train Loss(加權): 4.6140 | Train Raw MAE: 4.6140 | Val MAE: 3.7989\n",
            "🎯 New best Val MAE: 3.7989\n",
            "\n",
            "[FOLD 3] === Epoch 75/400 ===  (LR: 0.000489185)\n"
          ]
        },
        {
          "name": "stderr",
          "output_type": "stream",
          "text": []
        },
        {
          "name": "stdout",
          "output_type": "stream",
          "text": [
            "Train Loss(加權): 4.4403 | Train Raw MAE: 4.4403 | Val MAE: 3.9390\n",
            "\n",
            "[FOLD 3] === Epoch 76/400 ===  (LR: 0.000488544)\n"
          ]
        },
        {
          "name": "stderr",
          "output_type": "stream",
          "text": []
        },
        {
          "name": "stdout",
          "output_type": "stream",
          "text": [
            "Train Loss(加權): 4.4900 | Train Raw MAE: 4.4900 | Val MAE: 5.1305\n",
            "\n",
            "[FOLD 3] === Epoch 77/400 ===  (LR: 0.000487886)\n"
          ]
        },
        {
          "name": "stderr",
          "output_type": "stream",
          "text": []
        },
        {
          "name": "stdout",
          "output_type": "stream",
          "text": [
            "Train Loss(加權): 4.4290 | Train Raw MAE: 4.4290 | Val MAE: 3.9197\n",
            "\n",
            "[FOLD 3] === Epoch 78/400 ===  (LR: 0.00048721)\n"
          ]
        },
        {
          "name": "stderr",
          "output_type": "stream",
          "text": []
        },
        {
          "name": "stdout",
          "output_type": "stream",
          "text": [
            "Train Loss(加權): 4.4343 | Train Raw MAE: 4.4343 | Val MAE: 3.9051\n",
            "\n",
            "[FOLD 3] === Epoch 79/400 ===  (LR: 0.000486515)\n"
          ]
        },
        {
          "name": "stderr",
          "output_type": "stream",
          "text": []
        },
        {
          "name": "stdout",
          "output_type": "stream",
          "text": [
            "Train Loss(加權): 4.4389 | Train Raw MAE: 4.4389 | Val MAE: 4.4388\n",
            "\n",
            "[FOLD 3] === Epoch 80/400 ===  (LR: 0.000485803)\n"
          ]
        },
        {
          "name": "stderr",
          "output_type": "stream",
          "text": []
        },
        {
          "name": "stdout",
          "output_type": "stream",
          "text": [
            "Train Loss(加權): 4.4351 | Train Raw MAE: 4.4351 | Val MAE: 4.7703\n",
            "\n",
            "[FOLD 3] === Epoch 81/400 ===  (LR: 0.000485073)\n"
          ]
        },
        {
          "name": "stderr",
          "output_type": "stream",
          "text": []
        },
        {
          "name": "stdout",
          "output_type": "stream",
          "text": [
            "Train Loss(加權): 4.4788 | Train Raw MAE: 4.4788 | Val MAE: 4.4895\n",
            "\n",
            "[FOLD 3] === Epoch 82/400 ===  (LR: 0.000484326)\n"
          ]
        },
        {
          "name": "stderr",
          "output_type": "stream",
          "text": []
        },
        {
          "name": "stdout",
          "output_type": "stream",
          "text": [
            "Train Loss(加權): 4.4248 | Train Raw MAE: 4.4248 | Val MAE: 3.7540\n",
            "🎯 New best Val MAE: 3.7540\n",
            "\n",
            "[FOLD 3] === Epoch 83/400 ===  (LR: 0.000483561)\n"
          ]
        },
        {
          "name": "stderr",
          "output_type": "stream",
          "text": []
        },
        {
          "name": "stdout",
          "output_type": "stream",
          "text": [
            "Train Loss(加權): 4.3434 | Train Raw MAE: 4.3434 | Val MAE: 3.7707\n",
            "\n",
            "[FOLD 3] === Epoch 84/400 ===  (LR: 0.000482778)\n"
          ]
        },
        {
          "name": "stderr",
          "output_type": "stream",
          "text": []
        },
        {
          "name": "stdout",
          "output_type": "stream",
          "text": [
            "Train Loss(加權): 4.2466 | Train Raw MAE: 4.2466 | Val MAE: 5.1448\n",
            "\n",
            "[FOLD 3] === Epoch 85/400 ===  (LR: 0.000481977)\n"
          ]
        },
        {
          "name": "stderr",
          "output_type": "stream",
          "text": []
        },
        {
          "name": "stdout",
          "output_type": "stream",
          "text": [
            "Train Loss(加權): 4.3162 | Train Raw MAE: 4.3162 | Val MAE: 3.9334\n",
            "\n",
            "[FOLD 3] === Epoch 86/400 ===  (LR: 0.00048116)\n"
          ]
        },
        {
          "name": "stderr",
          "output_type": "stream",
          "text": []
        },
        {
          "name": "stdout",
          "output_type": "stream",
          "text": [
            "Train Loss(加權): 4.3060 | Train Raw MAE: 4.3060 | Val MAE: 3.8356\n",
            "\n",
            "[FOLD 3] === Epoch 87/400 ===  (LR: 0.000480324)\n"
          ]
        },
        {
          "name": "stderr",
          "output_type": "stream",
          "text": []
        },
        {
          "name": "stdout",
          "output_type": "stream",
          "text": [
            "Train Loss(加權): 4.3050 | Train Raw MAE: 4.3050 | Val MAE: 4.2610\n",
            "\n",
            "[FOLD 3] === Epoch 88/400 ===  (LR: 0.000479472)\n"
          ]
        },
        {
          "name": "stderr",
          "output_type": "stream",
          "text": []
        },
        {
          "name": "stdout",
          "output_type": "stream",
          "text": [
            "Train Loss(加權): 4.3524 | Train Raw MAE: 4.3524 | Val MAE: 3.7611\n",
            "\n",
            "[FOLD 3] === Epoch 89/400 ===  (LR: 0.000478602)\n"
          ]
        },
        {
          "name": "stderr",
          "output_type": "stream",
          "text": []
        },
        {
          "name": "stdout",
          "output_type": "stream",
          "text": [
            "Train Loss(加權): 4.2379 | Train Raw MAE: 4.2379 | Val MAE: 3.8457\n",
            "\n",
            "[FOLD 3] === Epoch 90/400 ===  (LR: 0.000477715)\n"
          ]
        },
        {
          "name": "stderr",
          "output_type": "stream",
          "text": []
        },
        {
          "name": "stdout",
          "output_type": "stream",
          "text": [
            "Train Loss(加權): 4.3741 | Train Raw MAE: 4.3741 | Val MAE: 4.6803\n",
            "\n",
            "[FOLD 3] === Epoch 91/400 ===  (LR: 0.00047681)\n"
          ]
        },
        {
          "name": "stderr",
          "output_type": "stream",
          "text": []
        },
        {
          "name": "stdout",
          "output_type": "stream",
          "text": [
            "Train Loss(加權): 4.3025 | Train Raw MAE: 4.3025 | Val MAE: 4.3580\n",
            "\n",
            "[FOLD 3] === Epoch 92/400 ===  (LR: 0.000475889)\n"
          ]
        },
        {
          "name": "stderr",
          "output_type": "stream",
          "text": []
        },
        {
          "name": "stdout",
          "output_type": "stream",
          "text": [
            "Train Loss(加權): 4.1877 | Train Raw MAE: 4.1877 | Val MAE: 3.9459\n",
            "\n",
            "[FOLD 3] === Epoch 93/400 ===  (LR: 0.000474951)\n"
          ]
        },
        {
          "name": "stderr",
          "output_type": "stream",
          "text": []
        },
        {
          "name": "stdout",
          "output_type": "stream",
          "text": [
            "Train Loss(加權): 4.1484 | Train Raw MAE: 4.1484 | Val MAE: 4.9780\n",
            "\n",
            "[FOLD 3] === Epoch 94/400 ===  (LR: 0.000473996)\n"
          ]
        },
        {
          "name": "stderr",
          "output_type": "stream",
          "text": []
        },
        {
          "name": "stdout",
          "output_type": "stream",
          "text": [
            "Train Loss(加權): 4.1492 | Train Raw MAE: 4.1492 | Val MAE: 3.6739\n",
            "🎯 New best Val MAE: 3.6739\n",
            "\n",
            "[FOLD 3] === Epoch 95/400 ===  (LR: 0.000473023)\n"
          ]
        },
        {
          "name": "stderr",
          "output_type": "stream",
          "text": []
        },
        {
          "name": "stdout",
          "output_type": "stream",
          "text": [
            "Train Loss(加權): 4.2387 | Train Raw MAE: 4.2387 | Val MAE: 3.7320\n",
            "\n",
            "[FOLD 3] === Epoch 96/400 ===  (LR: 0.000472034)\n"
          ]
        },
        {
          "name": "stderr",
          "output_type": "stream",
          "text": []
        },
        {
          "name": "stdout",
          "output_type": "stream",
          "text": [
            "Train Loss(加權): 4.1853 | Train Raw MAE: 4.1853 | Val MAE: 3.9281\n",
            "\n",
            "[FOLD 3] === Epoch 97/400 ===  (LR: 0.000471029)\n"
          ]
        },
        {
          "name": "stderr",
          "output_type": "stream",
          "text": []
        },
        {
          "name": "stdout",
          "output_type": "stream",
          "text": [
            "Train Loss(加權): 4.1200 | Train Raw MAE: 4.1200 | Val MAE: 4.6442\n",
            "\n",
            "[FOLD 3] === Epoch 98/400 ===  (LR: 0.000470006)\n"
          ]
        },
        {
          "name": "stderr",
          "output_type": "stream",
          "text": []
        },
        {
          "name": "stdout",
          "output_type": "stream",
          "text": [
            "Train Loss(加權): 4.2117 | Train Raw MAE: 4.2117 | Val MAE: 4.6705\n",
            "\n",
            "[FOLD 3] === Epoch 99/400 ===  (LR: 0.000468968)\n"
          ]
        },
        {
          "name": "stderr",
          "output_type": "stream",
          "text": []
        },
        {
          "name": "stdout",
          "output_type": "stream",
          "text": [
            "Train Loss(加權): 4.1779 | Train Raw MAE: 4.1779 | Val MAE: 3.6020\n",
            "🎯 New best Val MAE: 3.6020\n",
            "\n",
            "[FOLD 3] === Epoch 100/400 ===  (LR: 0.000467912)\n"
          ]
        },
        {
          "name": "stderr",
          "output_type": "stream",
          "text": []
        },
        {
          "name": "stdout",
          "output_type": "stream",
          "text": [
            "Train Loss(加權): 4.0781 | Train Raw MAE: 4.0781 | Val MAE: 3.7866\n",
            "\n",
            "[FOLD 3] === Epoch 101/400 ===  (LR: 0.00046684)\n"
          ]
        },
        {
          "name": "stderr",
          "output_type": "stream",
          "text": []
        },
        {
          "name": "stdout",
          "output_type": "stream",
          "text": [
            "Train Loss(加權): 4.1140 | Train Raw MAE: 4.1140 | Val MAE: 4.2816\n",
            "\n",
            "[FOLD 3] === Epoch 102/400 ===  (LR: 0.000465752)\n"
          ]
        },
        {
          "name": "stderr",
          "output_type": "stream",
          "text": []
        },
        {
          "name": "stdout",
          "output_type": "stream",
          "text": [
            "Train Loss(加權): 3.9800 | Train Raw MAE: 3.9800 | Val MAE: 3.9680\n",
            "\n",
            "[FOLD 3] === Epoch 103/400 ===  (LR: 0.000464648)\n"
          ]
        },
        {
          "name": "stderr",
          "output_type": "stream",
          "text": []
        },
        {
          "name": "stdout",
          "output_type": "stream",
          "text": [
            "Train Loss(加權): 4.1656 | Train Raw MAE: 4.1656 | Val MAE: 4.0191\n",
            "\n",
            "[FOLD 3] === Epoch 104/400 ===  (LR: 0.000463528)\n"
          ]
        },
        {
          "name": "stderr",
          "output_type": "stream",
          "text": []
        },
        {
          "name": "stdout",
          "output_type": "stream",
          "text": [
            "Train Loss(加權): 4.0471 | Train Raw MAE: 4.0471 | Val MAE: 3.6768\n",
            "\n",
            "[FOLD 3] === Epoch 105/400 ===  (LR: 0.000462391)\n"
          ]
        },
        {
          "name": "stderr",
          "output_type": "stream",
          "text": []
        },
        {
          "name": "stdout",
          "output_type": "stream",
          "text": [
            "Train Loss(加權): 4.0677 | Train Raw MAE: 4.0677 | Val MAE: 3.9102\n",
            "\n",
            "[FOLD 3] === Epoch 106/400 ===  (LR: 0.000461238)\n"
          ]
        },
        {
          "name": "stderr",
          "output_type": "stream",
          "text": []
        },
        {
          "name": "stdout",
          "output_type": "stream",
          "text": [
            "Train Loss(加權): 4.0384 | Train Raw MAE: 4.0384 | Val MAE: 3.9108\n",
            "\n",
            "[FOLD 3] === Epoch 107/400 ===  (LR: 0.00046007)\n"
          ]
        },
        {
          "name": "stderr",
          "output_type": "stream",
          "text": []
        },
        {
          "name": "stdout",
          "output_type": "stream",
          "text": [
            "Train Loss(加權): 4.0293 | Train Raw MAE: 4.0293 | Val MAE: 3.5485\n",
            "🎯 New best Val MAE: 3.5485\n",
            "\n",
            "[FOLD 3] === Epoch 108/400 ===  (LR: 0.000458886)\n"
          ]
        },
        {
          "name": "stderr",
          "output_type": "stream",
          "text": []
        },
        {
          "name": "stdout",
          "output_type": "stream",
          "text": [
            "Train Loss(加權): 3.9883 | Train Raw MAE: 3.9883 | Val MAE: 3.7504\n",
            "\n",
            "[FOLD 3] === Epoch 109/400 ===  (LR: 0.000457686)\n"
          ]
        },
        {
          "name": "stderr",
          "output_type": "stream",
          "text": []
        },
        {
          "name": "stdout",
          "output_type": "stream",
          "text": [
            "Train Loss(加權): 3.9785 | Train Raw MAE: 3.9785 | Val MAE: 3.7443\n",
            "\n",
            "[FOLD 3] === Epoch 110/400 ===  (LR: 0.00045647)\n"
          ]
        },
        {
          "name": "stderr",
          "output_type": "stream",
          "text": []
        },
        {
          "name": "stdout",
          "output_type": "stream",
          "text": [
            "Train Loss(加權): 3.9984 | Train Raw MAE: 3.9984 | Val MAE: 3.8307\n",
            "\n",
            "[FOLD 3] === Epoch 111/400 ===  (LR: 0.000455239)\n"
          ]
        },
        {
          "name": "stderr",
          "output_type": "stream",
          "text": []
        },
        {
          "name": "stdout",
          "output_type": "stream",
          "text": [
            "Train Loss(加權): 3.9794 | Train Raw MAE: 3.9794 | Val MAE: 3.8184\n",
            "\n",
            "[FOLD 3] === Epoch 112/400 ===  (LR: 0.000453993)\n"
          ]
        },
        {
          "name": "stderr",
          "output_type": "stream",
          "text": []
        },
        {
          "name": "stdout",
          "output_type": "stream",
          "text": [
            "Train Loss(加權): 4.0079 | Train Raw MAE: 4.0079 | Val MAE: 3.5611\n",
            "\n",
            "[FOLD 3] === Epoch 113/400 ===  (LR: 0.000452731)\n"
          ]
        },
        {
          "name": "stderr",
          "output_type": "stream",
          "text": []
        },
        {
          "name": "stdout",
          "output_type": "stream",
          "text": [
            "Train Loss(加權): 3.9183 | Train Raw MAE: 3.9183 | Val MAE: 4.2666\n",
            "\n",
            "[FOLD 3] === Epoch 114/400 ===  (LR: 0.000451454)\n"
          ]
        },
        {
          "name": "stderr",
          "output_type": "stream",
          "text": []
        },
        {
          "name": "stdout",
          "output_type": "stream",
          "text": [
            "Train Loss(加權): 3.9074 | Train Raw MAE: 3.9074 | Val MAE: 4.3599\n",
            "\n",
            "[FOLD 3] === Epoch 115/400 ===  (LR: 0.000450161)\n"
          ]
        },
        {
          "name": "stderr",
          "output_type": "stream",
          "text": []
        },
        {
          "name": "stdout",
          "output_type": "stream",
          "text": [
            "Train Loss(加權): 3.8930 | Train Raw MAE: 3.8930 | Val MAE: 3.8185\n",
            "\n",
            "[FOLD 3] === Epoch 116/400 ===  (LR: 0.000448854)\n"
          ]
        },
        {
          "name": "stderr",
          "output_type": "stream",
          "text": []
        },
        {
          "name": "stdout",
          "output_type": "stream",
          "text": [
            "Train Loss(加權): 3.9496 | Train Raw MAE: 3.9496 | Val MAE: 4.1819\n",
            "\n",
            "[FOLD 3] === Epoch 117/400 ===  (LR: 0.000447532)\n"
          ]
        },
        {
          "name": "stderr",
          "output_type": "stream",
          "text": []
        },
        {
          "name": "stdout",
          "output_type": "stream",
          "text": [
            "Train Loss(加權): 3.9160 | Train Raw MAE: 3.9160 | Val MAE: 3.5627\n",
            "\n",
            "[FOLD 3] === Epoch 118/400 ===  (LR: 0.000446194)\n"
          ]
        },
        {
          "name": "stderr",
          "output_type": "stream",
          "text": []
        },
        {
          "name": "stdout",
          "output_type": "stream",
          "text": [
            "Train Loss(加權): 3.8906 | Train Raw MAE: 3.8906 | Val MAE: 3.9142\n",
            "\n",
            "[FOLD 3] === Epoch 119/400 ===  (LR: 0.000444843)\n"
          ]
        },
        {
          "name": "stderr",
          "output_type": "stream",
          "text": []
        },
        {
          "name": "stdout",
          "output_type": "stream",
          "text": [
            "Train Loss(加權): 3.9008 | Train Raw MAE: 3.9008 | Val MAE: 4.9850\n",
            "\n",
            "[FOLD 3] === Epoch 120/400 ===  (LR: 0.000443476)\n"
          ]
        },
        {
          "name": "stderr",
          "output_type": "stream",
          "text": []
        },
        {
          "name": "stdout",
          "output_type": "stream",
          "text": [
            "Train Loss(加權): 3.8258 | Train Raw MAE: 3.8258 | Val MAE: 3.7999\n",
            "\n",
            "[FOLD 3] === Epoch 121/400 ===  (LR: 0.000442095)\n"
          ]
        },
        {
          "name": "stderr",
          "output_type": "stream",
          "text": []
        },
        {
          "name": "stdout",
          "output_type": "stream",
          "text": [
            "Train Loss(加權): 3.8770 | Train Raw MAE: 3.8770 | Val MAE: 4.0408\n",
            "\n",
            "[FOLD 3] === Epoch 122/400 ===  (LR: 0.000440699)\n"
          ]
        },
        {
          "name": "stderr",
          "output_type": "stream",
          "text": []
        },
        {
          "name": "stdout",
          "output_type": "stream",
          "text": [
            "Train Loss(加權): 3.8397 | Train Raw MAE: 3.8397 | Val MAE: 4.1387\n",
            "\n",
            "[FOLD 3] === Epoch 123/400 ===  (LR: 0.00043929)\n"
          ]
        },
        {
          "name": "stderr",
          "output_type": "stream",
          "text": []
        },
        {
          "name": "stdout",
          "output_type": "stream",
          "text": [
            "Train Loss(加權): 3.8795 | Train Raw MAE: 3.8795 | Val MAE: 3.7138\n",
            "\n",
            "[FOLD 3] === Epoch 124/400 ===  (LR: 0.000437865)\n"
          ]
        },
        {
          "name": "stderr",
          "output_type": "stream",
          "text": []
        },
        {
          "name": "stdout",
          "output_type": "stream",
          "text": [
            "Train Loss(加權): 3.7626 | Train Raw MAE: 3.7626 | Val MAE: 3.8657\n",
            "\n",
            "[FOLD 3] === Epoch 125/400 ===  (LR: 0.000436427)\n"
          ]
        },
        {
          "name": "stderr",
          "output_type": "stream",
          "text": []
        },
        {
          "name": "stdout",
          "output_type": "stream",
          "text": [
            "Train Loss(加權): 3.7445 | Train Raw MAE: 3.7445 | Val MAE: 3.4499\n",
            "🎯 New best Val MAE: 3.4499\n",
            "\n",
            "[FOLD 3] === Epoch 126/400 ===  (LR: 0.000434975)\n"
          ]
        },
        {
          "name": "stderr",
          "output_type": "stream",
          "text": []
        },
        {
          "name": "stdout",
          "output_type": "stream",
          "text": [
            "Train Loss(加權): 3.6898 | Train Raw MAE: 3.6898 | Val MAE: 4.1868\n",
            "\n",
            "[FOLD 3] === Epoch 127/400 ===  (LR: 0.000433509)\n"
          ]
        },
        {
          "name": "stderr",
          "output_type": "stream",
          "text": []
        },
        {
          "name": "stdout",
          "output_type": "stream",
          "text": [
            "Train Loss(加權): 3.6989 | Train Raw MAE: 3.6989 | Val MAE: 3.6498\n",
            "\n",
            "[FOLD 3] === Epoch 128/400 ===  (LR: 0.000432029)\n"
          ]
        },
        {
          "name": "stderr",
          "output_type": "stream",
          "text": []
        },
        {
          "name": "stdout",
          "output_type": "stream",
          "text": [
            "Train Loss(加權): 3.7397 | Train Raw MAE: 3.7397 | Val MAE: 3.4140\n",
            "🎯 New best Val MAE: 3.4140\n",
            "\n",
            "[FOLD 3] === Epoch 129/400 ===  (LR: 0.000430535)\n"
          ]
        },
        {
          "name": "stderr",
          "output_type": "stream",
          "text": []
        },
        {
          "name": "stdout",
          "output_type": "stream",
          "text": [
            "Train Loss(加權): 3.6964 | Train Raw MAE: 3.6964 | Val MAE: 3.5881\n",
            "\n",
            "[FOLD 3] === Epoch 130/400 ===  (LR: 0.000429028)\n"
          ]
        },
        {
          "name": "stderr",
          "output_type": "stream",
          "text": []
        },
        {
          "name": "stdout",
          "output_type": "stream",
          "text": [
            "Train Loss(加權): 3.7732 | Train Raw MAE: 3.7732 | Val MAE: 3.7815\n",
            "\n",
            "[FOLD 3] === Epoch 131/400 ===  (LR: 0.000427508)\n"
          ]
        },
        {
          "name": "stderr",
          "output_type": "stream",
          "text": []
        },
        {
          "name": "stdout",
          "output_type": "stream",
          "text": [
            "Train Loss(加權): 3.7692 | Train Raw MAE: 3.7692 | Val MAE: 3.9511\n",
            "\n",
            "[FOLD 3] === Epoch 132/400 ===  (LR: 0.000425974)\n"
          ]
        },
        {
          "name": "stderr",
          "output_type": "stream",
          "text": []
        },
        {
          "name": "stdout",
          "output_type": "stream",
          "text": [
            "Train Loss(加權): 3.6669 | Train Raw MAE: 3.6669 | Val MAE: 4.2007\n",
            "\n",
            "[FOLD 3] === Epoch 133/400 ===  (LR: 0.000424427)\n"
          ]
        },
        {
          "name": "stderr",
          "output_type": "stream",
          "text": []
        },
        {
          "name": "stdout",
          "output_type": "stream",
          "text": [
            "Train Loss(加權): 3.6320 | Train Raw MAE: 3.6320 | Val MAE: 3.6455\n",
            "\n",
            "[FOLD 3] === Epoch 134/400 ===  (LR: 0.000422867)\n"
          ]
        },
        {
          "name": "stderr",
          "output_type": "stream",
          "text": []
        },
        {
          "name": "stdout",
          "output_type": "stream",
          "text": [
            "Train Loss(加權): 3.6622 | Train Raw MAE: 3.6622 | Val MAE: 3.6235\n",
            "\n",
            "[FOLD 3] === Epoch 135/400 ===  (LR: 0.000421293)\n"
          ]
        },
        {
          "name": "stderr",
          "output_type": "stream",
          "text": []
        },
        {
          "name": "stdout",
          "output_type": "stream",
          "text": [
            "Train Loss(加權): 3.7010 | Train Raw MAE: 3.7010 | Val MAE: 3.6436\n",
            "\n",
            "[FOLD 3] === Epoch 136/400 ===  (LR: 0.000419707)\n"
          ]
        },
        {
          "name": "stderr",
          "output_type": "stream",
          "text": []
        },
        {
          "name": "stdout",
          "output_type": "stream",
          "text": [
            "Train Loss(加權): 3.6497 | Train Raw MAE: 3.6497 | Val MAE: 3.7264\n",
            "\n",
            "[FOLD 3] === Epoch 137/400 ===  (LR: 0.000418109)\n"
          ]
        },
        {
          "name": "stderr",
          "output_type": "stream",
          "text": []
        },
        {
          "name": "stdout",
          "output_type": "stream",
          "text": [
            "Train Loss(加權): 3.6267 | Train Raw MAE: 3.6267 | Val MAE: 3.8090\n",
            "\n",
            "[FOLD 3] === Epoch 138/400 ===  (LR: 0.000416497)\n"
          ]
        },
        {
          "name": "stderr",
          "output_type": "stream",
          "text": []
        },
        {
          "name": "stdout",
          "output_type": "stream",
          "text": [
            "Train Loss(加權): 3.6072 | Train Raw MAE: 3.6072 | Val MAE: 3.5221\n",
            "\n",
            "[FOLD 3] === Epoch 139/400 ===  (LR: 0.000414873)\n"
          ]
        },
        {
          "name": "stderr",
          "output_type": "stream",
          "text": []
        },
        {
          "name": "stdout",
          "output_type": "stream",
          "text": [
            "Train Loss(加權): 3.5328 | Train Raw MAE: 3.5328 | Val MAE: 3.3386\n",
            "🎯 New best Val MAE: 3.3386\n",
            "\n",
            "[FOLD 3] === Epoch 140/400 ===  (LR: 0.000413237)\n"
          ]
        },
        {
          "name": "stderr",
          "output_type": "stream",
          "text": []
        },
        {
          "name": "stdout",
          "output_type": "stream",
          "text": [
            "Train Loss(加權): 3.5978 | Train Raw MAE: 3.5978 | Val MAE: 3.4770\n",
            "\n",
            "[FOLD 3] === Epoch 141/400 ===  (LR: 0.000411589)\n"
          ]
        },
        {
          "name": "stderr",
          "output_type": "stream",
          "text": []
        },
        {
          "name": "stdout",
          "output_type": "stream",
          "text": [
            "Train Loss(加權): 3.6088 | Train Raw MAE: 3.6088 | Val MAE: 4.6388\n",
            "\n",
            "[FOLD 3] === Epoch 142/400 ===  (LR: 0.000409928)\n"
          ]
        },
        {
          "name": "stderr",
          "output_type": "stream",
          "text": []
        },
        {
          "name": "stdout",
          "output_type": "stream",
          "text": [
            "Train Loss(加權): 3.5625 | Train Raw MAE: 3.5625 | Val MAE: 3.6718\n",
            "\n",
            "[FOLD 3] === Epoch 143/400 ===  (LR: 0.000408256)\n"
          ]
        },
        {
          "name": "stderr",
          "output_type": "stream",
          "text": []
        },
        {
          "name": "stdout",
          "output_type": "stream",
          "text": [
            "Train Loss(加權): 3.6010 | Train Raw MAE: 3.6010 | Val MAE: 3.4451\n",
            "\n",
            "[FOLD 3] === Epoch 144/400 ===  (LR: 0.000406571)\n"
          ]
        },
        {
          "name": "stderr",
          "output_type": "stream",
          "text": []
        },
        {
          "name": "stdout",
          "output_type": "stream",
          "text": [
            "Train Loss(加權): 3.5152 | Train Raw MAE: 3.5152 | Val MAE: 3.6868\n",
            "\n",
            "[FOLD 3] === Epoch 145/400 ===  (LR: 0.000404875)\n"
          ]
        },
        {
          "name": "stderr",
          "output_type": "stream",
          "text": []
        },
        {
          "name": "stdout",
          "output_type": "stream",
          "text": [
            "Train Loss(加權): 3.5806 | Train Raw MAE: 3.5806 | Val MAE: 3.5568\n",
            "\n",
            "[FOLD 3] === Epoch 146/400 ===  (LR: 0.000403167)\n"
          ]
        },
        {
          "name": "stderr",
          "output_type": "stream",
          "text": []
        },
        {
          "name": "stdout",
          "output_type": "stream",
          "text": [
            "Train Loss(加權): 3.5517 | Train Raw MAE: 3.5517 | Val MAE: 3.5716\n",
            "\n",
            "[FOLD 3] === Epoch 147/400 ===  (LR: 0.000401448)\n"
          ]
        },
        {
          "name": "stderr",
          "output_type": "stream",
          "text": []
        },
        {
          "name": "stdout",
          "output_type": "stream",
          "text": [
            "Train Loss(加權): 3.5570 | Train Raw MAE: 3.5570 | Val MAE: 3.3437\n",
            "\n",
            "[FOLD 3] === Epoch 148/400 ===  (LR: 0.000399717)\n"
          ]
        },
        {
          "name": "stderr",
          "output_type": "stream",
          "text": []
        },
        {
          "name": "stdout",
          "output_type": "stream",
          "text": [
            "Train Loss(加權): 3.5177 | Train Raw MAE: 3.5177 | Val MAE: 3.5870\n",
            "\n",
            "[FOLD 3] === Epoch 149/400 ===  (LR: 0.000397976)\n"
          ]
        },
        {
          "name": "stderr",
          "output_type": "stream",
          "text": []
        },
        {
          "name": "stdout",
          "output_type": "stream",
          "text": [
            "Train Loss(加權): 3.5359 | Train Raw MAE: 3.5359 | Val MAE: 3.6500\n",
            "\n",
            "[FOLD 3] === Epoch 150/400 ===  (LR: 0.000396223)\n"
          ]
        },
        {
          "name": "stderr",
          "output_type": "stream",
          "text": []
        },
        {
          "name": "stdout",
          "output_type": "stream",
          "text": [
            "Train Loss(加權): 3.4968 | Train Raw MAE: 3.4968 | Val MAE: 3.4256\n",
            "\n",
            "[FOLD 3] === Epoch 151/400 ===  (LR: 0.000394459)\n"
          ]
        },
        {
          "name": "stderr",
          "output_type": "stream",
          "text": []
        },
        {
          "name": "stdout",
          "output_type": "stream",
          "text": [
            "Train Loss(加權): 3.3672 | Train Raw MAE: 3.3672 | Val MAE: 3.2912\n",
            "🎯 New best Val MAE: 3.2912\n",
            "\n",
            "[FOLD 3] === Epoch 152/400 ===  (LR: 0.000392684)\n"
          ]
        },
        {
          "name": "stderr",
          "output_type": "stream",
          "text": []
        },
        {
          "name": "stdout",
          "output_type": "stream",
          "text": [
            "Train Loss(加權): 3.4498 | Train Raw MAE: 3.4498 | Val MAE: 3.4817\n",
            "\n",
            "[FOLD 3] === Epoch 153/400 ===  (LR: 0.000390899)\n"
          ]
        },
        {
          "name": "stderr",
          "output_type": "stream",
          "text": []
        },
        {
          "name": "stdout",
          "output_type": "stream",
          "text": [
            "Train Loss(加權): 3.4300 | Train Raw MAE: 3.4300 | Val MAE: 3.4252\n",
            "\n",
            "[FOLD 3] === Epoch 154/400 ===  (LR: 0.000389103)\n"
          ]
        },
        {
          "name": "stderr",
          "output_type": "stream",
          "text": []
        },
        {
          "name": "stdout",
          "output_type": "stream",
          "text": [
            "Train Loss(加權): 3.4760 | Train Raw MAE: 3.4760 | Val MAE: 3.7860\n",
            "\n",
            "[FOLD 3] === Epoch 155/400 ===  (LR: 0.000387297)\n"
          ]
        },
        {
          "name": "stderr",
          "output_type": "stream",
          "text": []
        },
        {
          "name": "stdout",
          "output_type": "stream",
          "text": [
            "Train Loss(加權): 3.4419 | Train Raw MAE: 3.4419 | Val MAE: 3.6322\n",
            "\n",
            "[FOLD 3] === Epoch 156/400 ===  (LR: 0.00038548)\n"
          ]
        },
        {
          "name": "stderr",
          "output_type": "stream",
          "text": []
        },
        {
          "name": "stdout",
          "output_type": "stream",
          "text": [
            "Train Loss(加權): 3.4411 | Train Raw MAE: 3.4411 | Val MAE: 3.8102\n",
            "\n",
            "[FOLD 3] === Epoch 157/400 ===  (LR: 0.000383654)\n"
          ]
        },
        {
          "name": "stderr",
          "output_type": "stream",
          "text": []
        },
        {
          "name": "stdout",
          "output_type": "stream",
          "text": [
            "Train Loss(加權): 3.4390 | Train Raw MAE: 3.4390 | Val MAE: 3.4679\n",
            "\n",
            "[FOLD 3] === Epoch 158/400 ===  (LR: 0.000381817)\n"
          ]
        },
        {
          "name": "stderr",
          "output_type": "stream",
          "text": []
        },
        {
          "name": "stdout",
          "output_type": "stream",
          "text": [
            "Train Loss(加權): 3.4002 | Train Raw MAE: 3.4002 | Val MAE: 3.5705\n",
            "\n",
            "[FOLD 3] === Epoch 159/400 ===  (LR: 0.000379971)\n"
          ]
        },
        {
          "name": "stderr",
          "output_type": "stream",
          "text": []
        },
        {
          "name": "stdout",
          "output_type": "stream",
          "text": [
            "Train Loss(加權): 3.4626 | Train Raw MAE: 3.4626 | Val MAE: 3.5636\n",
            "\n",
            "[FOLD 3] === Epoch 160/400 ===  (LR: 0.000378114)\n"
          ]
        },
        {
          "name": "stderr",
          "output_type": "stream",
          "text": []
        },
        {
          "name": "stdout",
          "output_type": "stream",
          "text": [
            "Train Loss(加權): 3.4237 | Train Raw MAE: 3.4237 | Val MAE: 3.5525\n",
            "\n",
            "[FOLD 3] === Epoch 161/400 ===  (LR: 0.000376249)\n"
          ]
        },
        {
          "name": "stderr",
          "output_type": "stream",
          "text": []
        },
        {
          "name": "stdout",
          "output_type": "stream",
          "text": [
            "Train Loss(加權): 3.4606 | Train Raw MAE: 3.4606 | Val MAE: 3.4627\n",
            "\n",
            "[FOLD 3] === Epoch 162/400 ===  (LR: 0.000374373)\n"
          ]
        },
        {
          "name": "stderr",
          "output_type": "stream",
          "text": []
        },
        {
          "name": "stdout",
          "output_type": "stream",
          "text": [
            "Train Loss(加權): 3.3745 | Train Raw MAE: 3.3745 | Val MAE: 3.5853\n",
            "\n",
            "[FOLD 3] === Epoch 163/400 ===  (LR: 0.000372489)\n"
          ]
        },
        {
          "name": "stderr",
          "output_type": "stream",
          "text": []
        },
        {
          "name": "stdout",
          "output_type": "stream",
          "text": [
            "Train Loss(加權): 3.3737 | Train Raw MAE: 3.3737 | Val MAE: 3.3731\n",
            "\n",
            "[FOLD 3] === Epoch 164/400 ===  (LR: 0.000370595)\n"
          ]
        },
        {
          "name": "stderr",
          "output_type": "stream",
          "text": []
        },
        {
          "name": "stdout",
          "output_type": "stream",
          "text": [
            "Train Loss(加權): 3.4001 | Train Raw MAE: 3.4001 | Val MAE: 3.6005\n",
            "\n",
            "[FOLD 3] === Epoch 165/400 ===  (LR: 0.000368693)\n"
          ]
        },
        {
          "name": "stderr",
          "output_type": "stream",
          "text": []
        },
        {
          "name": "stdout",
          "output_type": "stream",
          "text": [
            "Train Loss(加權): 3.3359 | Train Raw MAE: 3.3359 | Val MAE: 3.4375\n",
            "\n",
            "[FOLD 3] === Epoch 166/400 ===  (LR: 0.000366781)\n"
          ]
        },
        {
          "name": "stderr",
          "output_type": "stream",
          "text": []
        },
        {
          "name": "stdout",
          "output_type": "stream",
          "text": [
            "Train Loss(加權): 3.3218 | Train Raw MAE: 3.3218 | Val MAE: 4.1154\n",
            "\n",
            "[FOLD 3] === Epoch 167/400 ===  (LR: 0.000364861)\n"
          ]
        },
        {
          "name": "stderr",
          "output_type": "stream",
          "text": []
        },
        {
          "name": "stdout",
          "output_type": "stream",
          "text": [
            "Train Loss(加權): 3.3122 | Train Raw MAE: 3.3122 | Val MAE: 3.8932\n",
            "\n",
            "[FOLD 3] === Epoch 168/400 ===  (LR: 0.000362932)\n"
          ]
        },
        {
          "name": "stderr",
          "output_type": "stream",
          "text": []
        },
        {
          "name": "stdout",
          "output_type": "stream",
          "text": [
            "Train Loss(加權): 3.3319 | Train Raw MAE: 3.3319 | Val MAE: 3.4668\n",
            "\n",
            "[FOLD 3] === Epoch 169/400 ===  (LR: 0.000360995)\n"
          ]
        },
        {
          "name": "stderr",
          "output_type": "stream",
          "text": []
        },
        {
          "name": "stdout",
          "output_type": "stream",
          "text": [
            "Train Loss(加權): 3.3373 | Train Raw MAE: 3.3373 | Val MAE: 3.5245\n",
            "\n",
            "[FOLD 3] === Epoch 170/400 ===  (LR: 0.00035905)\n"
          ]
        },
        {
          "name": "stderr",
          "output_type": "stream",
          "text": []
        },
        {
          "name": "stdout",
          "output_type": "stream",
          "text": [
            "Train Loss(加權): 3.3053 | Train Raw MAE: 3.3053 | Val MAE: 3.3816\n",
            "\n",
            "[FOLD 3] === Epoch 171/400 ===  (LR: 0.000357097)\n"
          ]
        },
        {
          "name": "stderr",
          "output_type": "stream",
          "text": []
        },
        {
          "name": "stdout",
          "output_type": "stream",
          "text": [
            "Train Loss(加權): 3.2896 | Train Raw MAE: 3.2896 | Val MAE: 3.6153\n",
            "\n",
            "[FOLD 3] === Epoch 172/400 ===  (LR: 0.000355135)\n"
          ]
        },
        {
          "name": "stderr",
          "output_type": "stream",
          "text": []
        },
        {
          "name": "stdout",
          "output_type": "stream",
          "text": [
            "Train Loss(加權): 3.3174 | Train Raw MAE: 3.3174 | Val MAE: 3.2826\n",
            "🎯 New best Val MAE: 3.2826\n",
            "\n",
            "[FOLD 3] === Epoch 173/400 ===  (LR: 0.000353166)\n"
          ]
        },
        {
          "name": "stderr",
          "output_type": "stream",
          "text": []
        },
        {
          "name": "stdout",
          "output_type": "stream",
          "text": [
            "Train Loss(加權): 3.2177 | Train Raw MAE: 3.2177 | Val MAE: 3.4718\n",
            "\n",
            "[FOLD 3] === Epoch 174/400 ===  (LR: 0.000351189)\n"
          ]
        },
        {
          "name": "stderr",
          "output_type": "stream",
          "text": []
        },
        {
          "name": "stdout",
          "output_type": "stream",
          "text": [
            "Train Loss(加權): 3.2830 | Train Raw MAE: 3.2830 | Val MAE: 3.2762\n",
            "🎯 New best Val MAE: 3.2762\n",
            "\n",
            "[FOLD 3] === Epoch 175/400 ===  (LR: 0.000349204)\n"
          ]
        },
        {
          "name": "stderr",
          "output_type": "stream",
          "text": []
        },
        {
          "name": "stdout",
          "output_type": "stream",
          "text": [
            "Train Loss(加權): 3.2999 | Train Raw MAE: 3.2999 | Val MAE: 3.5375\n",
            "\n",
            "[FOLD 3] === Epoch 176/400 ===  (LR: 0.000347213)\n"
          ]
        },
        {
          "name": "stderr",
          "output_type": "stream",
          "text": []
        },
        {
          "name": "stdout",
          "output_type": "stream",
          "text": [
            "Train Loss(加權): 3.2766 | Train Raw MAE: 3.2766 | Val MAE: 3.3741\n",
            "\n",
            "[FOLD 3] === Epoch 177/400 ===  (LR: 0.000345214)\n"
          ]
        },
        {
          "name": "stderr",
          "output_type": "stream",
          "text": []
        },
        {
          "name": "stdout",
          "output_type": "stream",
          "text": [
            "Train Loss(加權): 3.1992 | Train Raw MAE: 3.1992 | Val MAE: 3.4152\n",
            "\n",
            "[FOLD 3] === Epoch 178/400 ===  (LR: 0.000343208)\n"
          ]
        },
        {
          "name": "stderr",
          "output_type": "stream",
          "text": []
        },
        {
          "name": "stdout",
          "output_type": "stream",
          "text": [
            "Train Loss(加權): 3.2565 | Train Raw MAE: 3.2565 | Val MAE: 3.3427\n",
            "\n",
            "[FOLD 3] === Epoch 179/400 ===  (LR: 0.000341195)\n"
          ]
        },
        {
          "name": "stderr",
          "output_type": "stream",
          "text": []
        },
        {
          "name": "stdout",
          "output_type": "stream",
          "text": [
            "Train Loss(加權): 3.2022 | Train Raw MAE: 3.2022 | Val MAE: 3.3792\n",
            "\n",
            "[FOLD 3] === Epoch 180/400 ===  (LR: 0.000339175)\n"
          ]
        },
        {
          "name": "stderr",
          "output_type": "stream",
          "text": []
        },
        {
          "name": "stdout",
          "output_type": "stream",
          "text": [
            "Train Loss(加權): 3.2140 | Train Raw MAE: 3.2140 | Val MAE: 4.1038\n",
            "\n",
            "[FOLD 3] === Epoch 181/400 ===  (LR: 0.000337148)\n"
          ]
        },
        {
          "name": "stderr",
          "output_type": "stream",
          "text": []
        },
        {
          "name": "stdout",
          "output_type": "stream",
          "text": [
            "Train Loss(加權): 3.2358 | Train Raw MAE: 3.2358 | Val MAE: 3.4106\n",
            "\n",
            "[FOLD 3] === Epoch 182/400 ===  (LR: 0.000335116)\n"
          ]
        },
        {
          "name": "stderr",
          "output_type": "stream",
          "text": []
        },
        {
          "name": "stdout",
          "output_type": "stream",
          "text": [
            "Train Loss(加權): 3.2253 | Train Raw MAE: 3.2253 | Val MAE: 3.4328\n",
            "\n",
            "[FOLD 3] === Epoch 183/400 ===  (LR: 0.000333077)\n"
          ]
        },
        {
          "name": "stderr",
          "output_type": "stream",
          "text": []
        },
        {
          "name": "stdout",
          "output_type": "stream",
          "text": [
            "Train Loss(加權): 3.1359 | Train Raw MAE: 3.1359 | Val MAE: 3.3372\n",
            "\n",
            "[FOLD 3] === Epoch 184/400 ===  (LR: 0.000331031)\n"
          ]
        },
        {
          "name": "stderr",
          "output_type": "stream",
          "text": []
        },
        {
          "name": "stdout",
          "output_type": "stream",
          "text": [
            "Train Loss(加權): 3.1804 | Train Raw MAE: 3.1804 | Val MAE: 3.5126\n",
            "\n",
            "[FOLD 3] === Epoch 185/400 ===  (LR: 0.00032898)\n"
          ]
        },
        {
          "name": "stderr",
          "output_type": "stream",
          "text": []
        },
        {
          "name": "stdout",
          "output_type": "stream",
          "text": [
            "Train Loss(加權): 3.1656 | Train Raw MAE: 3.1656 | Val MAE: 3.3873\n",
            "\n",
            "[FOLD 3] === Epoch 186/400 ===  (LR: 0.000326923)\n"
          ]
        },
        {
          "name": "stderr",
          "output_type": "stream",
          "text": []
        },
        {
          "name": "stdout",
          "output_type": "stream",
          "text": [
            "Train Loss(加權): 3.0945 | Train Raw MAE: 3.0945 | Val MAE: 3.4732\n",
            "\n",
            "[FOLD 3] === Epoch 187/400 ===  (LR: 0.00032486)\n"
          ]
        },
        {
          "name": "stderr",
          "output_type": "stream",
          "text": []
        },
        {
          "name": "stdout",
          "output_type": "stream",
          "text": [
            "Train Loss(加權): 3.1159 | Train Raw MAE: 3.1159 | Val MAE: 3.2226\n",
            "🎯 New best Val MAE: 3.2226\n",
            "\n",
            "[FOLD 3] === Epoch 188/400 ===  (LR: 0.000322792)\n"
          ]
        },
        {
          "name": "stderr",
          "output_type": "stream",
          "text": []
        },
        {
          "name": "stdout",
          "output_type": "stream",
          "text": [
            "Train Loss(加權): 3.0872 | Train Raw MAE: 3.0872 | Val MAE: 3.1581\n",
            "🎯 New best Val MAE: 3.1581\n",
            "\n",
            "[FOLD 3] === Epoch 189/400 ===  (LR: 0.000320719)\n"
          ]
        },
        {
          "name": "stderr",
          "output_type": "stream",
          "text": []
        },
        {
          "name": "stdout",
          "output_type": "stream",
          "text": [
            "Train Loss(加權): 3.1056 | Train Raw MAE: 3.1056 | Val MAE: 3.2602\n",
            "\n",
            "[FOLD 3] === Epoch 190/400 ===  (LR: 0.00031864)\n"
          ]
        },
        {
          "name": "stderr",
          "output_type": "stream",
          "text": []
        },
        {
          "name": "stdout",
          "output_type": "stream",
          "text": [
            "Train Loss(加權): 3.1381 | Train Raw MAE: 3.1381 | Val MAE: 3.3662\n",
            "\n",
            "[FOLD 3] === Epoch 191/400 ===  (LR: 0.000316556)\n"
          ]
        },
        {
          "name": "stderr",
          "output_type": "stream",
          "text": []
        },
        {
          "name": "stdout",
          "output_type": "stream",
          "text": [
            "Train Loss(加權): 3.0410 | Train Raw MAE: 3.0410 | Val MAE: 3.5245\n",
            "\n",
            "[FOLD 3] === Epoch 192/400 ===  (LR: 0.000314467)\n"
          ]
        },
        {
          "name": "stderr",
          "output_type": "stream",
          "text": []
        },
        {
          "name": "stdout",
          "output_type": "stream",
          "text": [
            "Train Loss(加權): 3.0349 | Train Raw MAE: 3.0349 | Val MAE: 3.2393\n",
            "\n",
            "[FOLD 3] === Epoch 193/400 ===  (LR: 0.000312374)\n"
          ]
        },
        {
          "name": "stderr",
          "output_type": "stream",
          "text": []
        },
        {
          "name": "stdout",
          "output_type": "stream",
          "text": [
            "Train Loss(加權): 3.1063 | Train Raw MAE: 3.1063 | Val MAE: 3.5980\n",
            "\n",
            "[FOLD 3] === Epoch 194/400 ===  (LR: 0.000310276)\n"
          ]
        },
        {
          "name": "stderr",
          "output_type": "stream",
          "text": []
        },
        {
          "name": "stdout",
          "output_type": "stream",
          "text": [
            "Train Loss(加權): 3.0963 | Train Raw MAE: 3.0963 | Val MAE: 3.4012\n",
            "\n",
            "[FOLD 3] === Epoch 195/400 ===  (LR: 0.000308174)\n"
          ]
        },
        {
          "name": "stderr",
          "output_type": "stream",
          "text": []
        },
        {
          "name": "stdout",
          "output_type": "stream",
          "text": [
            "Train Loss(加權): 3.0216 | Train Raw MAE: 3.0216 | Val MAE: 3.4028\n",
            "\n",
            "[FOLD 3] === Epoch 196/400 ===  (LR: 0.000306067)\n"
          ]
        },
        {
          "name": "stderr",
          "output_type": "stream",
          "text": []
        },
        {
          "name": "stdout",
          "output_type": "stream",
          "text": [
            "Train Loss(加權): 3.0338 | Train Raw MAE: 3.0338 | Val MAE: 3.2276\n",
            "\n",
            "[FOLD 3] === Epoch 197/400 ===  (LR: 0.000303957)\n"
          ]
        },
        {
          "name": "stderr",
          "output_type": "stream",
          "text": []
        },
        {
          "name": "stdout",
          "output_type": "stream",
          "text": [
            "Train Loss(加權): 3.0218 | Train Raw MAE: 3.0218 | Val MAE: 3.1316\n",
            "🎯 New best Val MAE: 3.1316\n",
            "\n",
            "[FOLD 3] === Epoch 198/400 ===  (LR: 0.000301842)\n"
          ]
        },
        {
          "name": "stderr",
          "output_type": "stream",
          "text": []
        },
        {
          "name": "stdout",
          "output_type": "stream",
          "text": [
            "Train Loss(加權): 3.0570 | Train Raw MAE: 3.0570 | Val MAE: 3.2166\n",
            "\n",
            "[FOLD 3] === Epoch 199/400 ===  (LR: 0.000299724)\n"
          ]
        },
        {
          "name": "stderr",
          "output_type": "stream",
          "text": []
        },
        {
          "name": "stdout",
          "output_type": "stream",
          "text": [
            "Train Loss(加權): 2.9922 | Train Raw MAE: 2.9922 | Val MAE: 3.2812\n",
            "\n",
            "[FOLD 3] === Epoch 200/400 ===  (LR: 0.000297602)\n"
          ]
        },
        {
          "name": "stderr",
          "output_type": "stream",
          "text": []
        },
        {
          "name": "stdout",
          "output_type": "stream",
          "text": [
            "Train Loss(加權): 3.0273 | Train Raw MAE: 3.0273 | Val MAE: 3.3308\n",
            "\n",
            "[FOLD 3] === Epoch 201/400 ===  (LR: 0.000295476)\n"
          ]
        },
        {
          "name": "stderr",
          "output_type": "stream",
          "text": []
        },
        {
          "name": "stdout",
          "output_type": "stream",
          "text": [
            "Train Loss(加權): 3.0172 | Train Raw MAE: 3.0172 | Val MAE: 3.3669\n",
            "\n",
            "[FOLD 3] === Epoch 202/400 ===  (LR: 0.000293348)\n"
          ]
        },
        {
          "name": "stderr",
          "output_type": "stream",
          "text": []
        },
        {
          "name": "stdout",
          "output_type": "stream",
          "text": [
            "Train Loss(加權): 3.0239 | Train Raw MAE: 3.0239 | Val MAE: 3.1184\n",
            "🎯 New best Val MAE: 3.1184\n",
            "\n",
            "[FOLD 3] === Epoch 203/400 ===  (LR: 0.000291216)\n"
          ]
        },
        {
          "name": "stderr",
          "output_type": "stream",
          "text": []
        },
        {
          "name": "stdout",
          "output_type": "stream",
          "text": [
            "Train Loss(加權): 2.9706 | Train Raw MAE: 2.9706 | Val MAE: 3.2896\n",
            "\n",
            "[FOLD 3] === Epoch 204/400 ===  (LR: 0.000289081)\n"
          ]
        },
        {
          "name": "stderr",
          "output_type": "stream",
          "text": []
        },
        {
          "name": "stdout",
          "output_type": "stream",
          "text": [
            "Train Loss(加權): 2.9788 | Train Raw MAE: 2.9788 | Val MAE: 3.2462\n",
            "\n",
            "[FOLD 3] === Epoch 205/400 ===  (LR: 0.000286944)\n"
          ]
        },
        {
          "name": "stderr",
          "output_type": "stream",
          "text": []
        },
        {
          "name": "stdout",
          "output_type": "stream",
          "text": [
            "Train Loss(加權): 3.0126 | Train Raw MAE: 3.0126 | Val MAE: 3.4353\n",
            "\n",
            "[FOLD 3] === Epoch 206/400 ===  (LR: 0.000284804)\n"
          ]
        },
        {
          "name": "stderr",
          "output_type": "stream",
          "text": []
        },
        {
          "name": "stdout",
          "output_type": "stream",
          "text": [
            "Train Loss(加權): 3.0044 | Train Raw MAE: 3.0044 | Val MAE: 3.3051\n",
            "\n",
            "[FOLD 3] === Epoch 207/400 ===  (LR: 0.000282661)\n"
          ]
        },
        {
          "name": "stderr",
          "output_type": "stream",
          "text": []
        },
        {
          "name": "stdout",
          "output_type": "stream",
          "text": [
            "Train Loss(加權): 2.9520 | Train Raw MAE: 2.9520 | Val MAE: 3.2165\n",
            "\n",
            "[FOLD 3] === Epoch 208/400 ===  (LR: 0.000280516)\n"
          ]
        },
        {
          "name": "stderr",
          "output_type": "stream",
          "text": []
        },
        {
          "name": "stdout",
          "output_type": "stream",
          "text": [
            "Train Loss(加權): 2.9622 | Train Raw MAE: 2.9622 | Val MAE: 3.3660\n",
            "\n",
            "[FOLD 3] === Epoch 209/400 ===  (LR: 0.000278369)\n"
          ]
        },
        {
          "name": "stderr",
          "output_type": "stream",
          "text": []
        },
        {
          "name": "stdout",
          "output_type": "stream",
          "text": [
            "Train Loss(加權): 2.9385 | Train Raw MAE: 2.9385 | Val MAE: 3.7899\n",
            "\n",
            "[FOLD 3] === Epoch 210/400 ===  (LR: 0.00027622)\n"
          ]
        },
        {
          "name": "stderr",
          "output_type": "stream",
          "text": []
        },
        {
          "name": "stdout",
          "output_type": "stream",
          "text": [
            "Train Loss(加權): 2.9290 | Train Raw MAE: 2.9290 | Val MAE: 3.8725\n",
            "\n",
            "[FOLD 3] === Epoch 211/400 ===  (LR: 0.000274069)\n"
          ]
        },
        {
          "name": "stderr",
          "output_type": "stream",
          "text": []
        },
        {
          "name": "stdout",
          "output_type": "stream",
          "text": [
            "Train Loss(加權): 2.9357 | Train Raw MAE: 2.9357 | Val MAE: 3.3030\n",
            "\n",
            "[FOLD 3] === Epoch 212/400 ===  (LR: 0.000271917)\n"
          ]
        },
        {
          "name": "stderr",
          "output_type": "stream",
          "text": []
        },
        {
          "name": "stdout",
          "output_type": "stream",
          "text": [
            "Train Loss(加權): 2.9085 | Train Raw MAE: 2.9085 | Val MAE: 3.1717\n",
            "\n",
            "[FOLD 3] === Epoch 213/400 ===  (LR: 0.000269763)\n"
          ]
        },
        {
          "name": "stderr",
          "output_type": "stream",
          "text": []
        },
        {
          "name": "stdout",
          "output_type": "stream",
          "text": [
            "Train Loss(加權): 2.8690 | Train Raw MAE: 2.8690 | Val MAE: 3.2145\n",
            "\n",
            "[FOLD 3] === Epoch 214/400 ===  (LR: 0.000267608)\n"
          ]
        },
        {
          "name": "stderr",
          "output_type": "stream",
          "text": []
        },
        {
          "name": "stdout",
          "output_type": "stream",
          "text": [
            "Train Loss(加權): 2.9147 | Train Raw MAE: 2.9147 | Val MAE: 3.1431\n",
            "\n",
            "[FOLD 3] === Epoch 215/400 ===  (LR: 0.000265451)\n"
          ]
        },
        {
          "name": "stderr",
          "output_type": "stream",
          "text": []
        },
        {
          "name": "stdout",
          "output_type": "stream",
          "text": [
            "Train Loss(加權): 2.8418 | Train Raw MAE: 2.8418 | Val MAE: 3.1296\n",
            "\n",
            "[FOLD 3] === Epoch 216/400 ===  (LR: 0.000263294)\n"
          ]
        },
        {
          "name": "stderr",
          "output_type": "stream",
          "text": []
        },
        {
          "name": "stdout",
          "output_type": "stream",
          "text": [
            "Train Loss(加權): 2.8911 | Train Raw MAE: 2.8911 | Val MAE: 3.1565\n",
            "\n",
            "[FOLD 3] === Epoch 217/400 ===  (LR: 0.000261136)\n"
          ]
        },
        {
          "name": "stderr",
          "output_type": "stream",
          "text": []
        },
        {
          "name": "stdout",
          "output_type": "stream",
          "text": [
            "Train Loss(加權): 2.8557 | Train Raw MAE: 2.8557 | Val MAE: 3.3510\n",
            "\n",
            "[FOLD 3] === Epoch 218/400 ===  (LR: 0.000258977)\n"
          ]
        },
        {
          "name": "stderr",
          "output_type": "stream",
          "text": []
        },
        {
          "name": "stdout",
          "output_type": "stream",
          "text": [
            "Train Loss(加權): 2.8844 | Train Raw MAE: 2.8844 | Val MAE: 3.2656\n",
            "\n",
            "[FOLD 3] === Epoch 219/400 ===  (LR: 0.000256818)\n"
          ]
        },
        {
          "name": "stderr",
          "output_type": "stream",
          "text": []
        },
        {
          "name": "stdout",
          "output_type": "stream",
          "text": [
            "Train Loss(加權): 2.8290 | Train Raw MAE: 2.8290 | Val MAE: 3.2952\n",
            "\n",
            "[FOLD 3] === Epoch 220/400 ===  (LR: 0.000254658)\n"
          ]
        },
        {
          "name": "stderr",
          "output_type": "stream",
          "text": []
        },
        {
          "name": "stdout",
          "output_type": "stream",
          "text": [
            "Train Loss(加權): 2.8823 | Train Raw MAE: 2.8823 | Val MAE: 3.1900\n",
            "\n",
            "[FOLD 3] === Epoch 221/400 ===  (LR: 0.000252498)\n"
          ]
        },
        {
          "name": "stderr",
          "output_type": "stream",
          "text": []
        },
        {
          "name": "stdout",
          "output_type": "stream",
          "text": [
            "Train Loss(加權): 2.8781 | Train Raw MAE: 2.8781 | Val MAE: 3.3698\n",
            "\n",
            "[FOLD 3] === Epoch 222/400 ===  (LR: 0.000250339)\n"
          ]
        },
        {
          "name": "stderr",
          "output_type": "stream",
          "text": []
        },
        {
          "name": "stdout",
          "output_type": "stream",
          "text": [
            "Train Loss(加權): 2.8547 | Train Raw MAE: 2.8547 | Val MAE: 3.1934\n",
            "\n",
            "[FOLD 3] === Epoch 223/400 ===  (LR: 0.000248179)\n"
          ]
        },
        {
          "name": "stderr",
          "output_type": "stream",
          "text": []
        },
        {
          "name": "stdout",
          "output_type": "stream",
          "text": [
            "Train Loss(加權): 2.8139 | Train Raw MAE: 2.8139 | Val MAE: 3.1895\n",
            "\n",
            "[FOLD 3] === Epoch 224/400 ===  (LR: 0.00024602)\n"
          ]
        },
        {
          "name": "stderr",
          "output_type": "stream",
          "text": []
        },
        {
          "name": "stdout",
          "output_type": "stream",
          "text": [
            "Train Loss(加權): 2.8062 | Train Raw MAE: 2.8062 | Val MAE: 3.2619\n",
            "\n",
            "[FOLD 3] === Epoch 225/400 ===  (LR: 0.000243861)\n"
          ]
        },
        {
          "name": "stderr",
          "output_type": "stream",
          "text": []
        },
        {
          "name": "stdout",
          "output_type": "stream",
          "text": [
            "Train Loss(加權): 2.8036 | Train Raw MAE: 2.8036 | Val MAE: 3.2872\n",
            "\n",
            "[FOLD 3] === Epoch 226/400 ===  (LR: 0.000241703)\n"
          ]
        },
        {
          "name": "stderr",
          "output_type": "stream",
          "text": []
        },
        {
          "name": "stdout",
          "output_type": "stream",
          "text": [
            "Train Loss(加權): 2.8403 | Train Raw MAE: 2.8403 | Val MAE: 3.1959\n",
            "\n",
            "[FOLD 3] === Epoch 227/400 ===  (LR: 0.000239545)\n"
          ]
        },
        {
          "name": "stderr",
          "output_type": "stream",
          "text": []
        },
        {
          "name": "stdout",
          "output_type": "stream",
          "text": [
            "Train Loss(加權): 2.8354 | Train Raw MAE: 2.8354 | Val MAE: 3.0562\n",
            "🎯 New best Val MAE: 3.0562\n",
            "\n",
            "[FOLD 3] === Epoch 228/400 ===  (LR: 0.000237389)\n"
          ]
        },
        {
          "name": "stderr",
          "output_type": "stream",
          "text": []
        },
        {
          "name": "stdout",
          "output_type": "stream",
          "text": [
            "Train Loss(加權): 2.8164 | Train Raw MAE: 2.8164 | Val MAE: 3.2571\n",
            "\n",
            "[FOLD 3] === Epoch 229/400 ===  (LR: 0.000235234)\n"
          ]
        },
        {
          "name": "stderr",
          "output_type": "stream",
          "text": []
        },
        {
          "name": "stdout",
          "output_type": "stream",
          "text": [
            "Train Loss(加權): 2.7771 | Train Raw MAE: 2.7771 | Val MAE: 3.1022\n",
            "\n",
            "[FOLD 3] === Epoch 230/400 ===  (LR: 0.00023308)\n"
          ]
        },
        {
          "name": "stderr",
          "output_type": "stream",
          "text": []
        },
        {
          "name": "stdout",
          "output_type": "stream",
          "text": [
            "Train Loss(加權): 2.8017 | Train Raw MAE: 2.8017 | Val MAE: 3.2126\n",
            "\n",
            "[FOLD 3] === Epoch 231/400 ===  (LR: 0.000230927)\n"
          ]
        },
        {
          "name": "stderr",
          "output_type": "stream",
          "text": []
        },
        {
          "name": "stdout",
          "output_type": "stream",
          "text": [
            "Train Loss(加權): 2.7638 | Train Raw MAE: 2.7638 | Val MAE: 3.1922\n",
            "\n",
            "[FOLD 3] === Epoch 232/400 ===  (LR: 0.000228777)\n"
          ]
        },
        {
          "name": "stderr",
          "output_type": "stream",
          "text": []
        },
        {
          "name": "stdout",
          "output_type": "stream",
          "text": [
            "Train Loss(加權): 2.7626 | Train Raw MAE: 2.7626 | Val MAE: 3.2928\n",
            "\n",
            "[FOLD 3] === Epoch 233/400 ===  (LR: 0.000226628)\n"
          ]
        },
        {
          "name": "stderr",
          "output_type": "stream",
          "text": []
        },
        {
          "name": "stdout",
          "output_type": "stream",
          "text": [
            "Train Loss(加權): 2.7495 | Train Raw MAE: 2.7495 | Val MAE: 3.1062\n",
            "\n",
            "[FOLD 3] === Epoch 234/400 ===  (LR: 0.000224481)\n"
          ]
        },
        {
          "name": "stderr",
          "output_type": "stream",
          "text": []
        },
        {
          "name": "stdout",
          "output_type": "stream",
          "text": [
            "Train Loss(加權): 2.6888 | Train Raw MAE: 2.6888 | Val MAE: 3.3463\n",
            "\n",
            "[FOLD 3] === Epoch 235/400 ===  (LR: 0.000222336)\n"
          ]
        },
        {
          "name": "stderr",
          "output_type": "stream",
          "text": []
        },
        {
          "name": "stdout",
          "output_type": "stream",
          "text": [
            "Train Loss(加權): 2.7360 | Train Raw MAE: 2.7360 | Val MAE: 3.2480\n",
            "\n",
            "[FOLD 3] === Epoch 236/400 ===  (LR: 0.000220193)\n"
          ]
        },
        {
          "name": "stderr",
          "output_type": "stream",
          "text": []
        },
        {
          "name": "stdout",
          "output_type": "stream",
          "text": [
            "Train Loss(加權): 2.7403 | Train Raw MAE: 2.7403 | Val MAE: 3.1556\n",
            "\n",
            "[FOLD 3] === Epoch 237/400 ===  (LR: 0.000218053)\n"
          ]
        },
        {
          "name": "stderr",
          "output_type": "stream",
          "text": []
        },
        {
          "name": "stdout",
          "output_type": "stream",
          "text": [
            "Train Loss(加權): 2.7505 | Train Raw MAE: 2.7505 | Val MAE: 3.3469\n",
            "\n",
            "[FOLD 3] === Epoch 238/400 ===  (LR: 0.000215916)\n"
          ]
        },
        {
          "name": "stderr",
          "output_type": "stream",
          "text": []
        },
        {
          "name": "stdout",
          "output_type": "stream",
          "text": [
            "Train Loss(加權): 2.7131 | Train Raw MAE: 2.7131 | Val MAE: 3.3232\n",
            "\n",
            "[FOLD 3] === Epoch 239/400 ===  (LR: 0.000213781)\n"
          ]
        },
        {
          "name": "stderr",
          "output_type": "stream",
          "text": []
        },
        {
          "name": "stdout",
          "output_type": "stream",
          "text": [
            "Train Loss(加權): 2.6930 | Train Raw MAE: 2.6930 | Val MAE: 3.0294\n",
            "🎯 New best Val MAE: 3.0294\n",
            "\n",
            "[FOLD 3] === Epoch 240/400 ===  (LR: 0.000211649)\n"
          ]
        },
        {
          "name": "stderr",
          "output_type": "stream",
          "text": []
        },
        {
          "name": "stdout",
          "output_type": "stream",
          "text": [
            "Train Loss(加權): 2.6704 | Train Raw MAE: 2.6704 | Val MAE: 3.3365\n",
            "\n",
            "[FOLD 3] === Epoch 241/400 ===  (LR: 0.00020952)\n"
          ]
        },
        {
          "name": "stderr",
          "output_type": "stream",
          "text": []
        },
        {
          "name": "stdout",
          "output_type": "stream",
          "text": [
            "Train Loss(加權): 2.6765 | Train Raw MAE: 2.6765 | Val MAE: 3.2427\n",
            "\n",
            "[FOLD 3] === Epoch 242/400 ===  (LR: 0.000207395)\n"
          ]
        },
        {
          "name": "stderr",
          "output_type": "stream",
          "text": []
        },
        {
          "name": "stdout",
          "output_type": "stream",
          "text": [
            "Train Loss(加權): 2.6705 | Train Raw MAE: 2.6705 | Val MAE: 3.2011\n",
            "\n",
            "[FOLD 3] === Epoch 243/400 ===  (LR: 0.000205273)\n"
          ]
        },
        {
          "name": "stderr",
          "output_type": "stream",
          "text": []
        },
        {
          "name": "stdout",
          "output_type": "stream",
          "text": [
            "Train Loss(加權): 2.6517 | Train Raw MAE: 2.6517 | Val MAE: 3.1023\n",
            "\n",
            "[FOLD 3] === Epoch 244/400 ===  (LR: 0.000203155)\n"
          ]
        },
        {
          "name": "stderr",
          "output_type": "stream",
          "text": []
        },
        {
          "name": "stdout",
          "output_type": "stream",
          "text": [
            "Train Loss(加權): 2.6925 | Train Raw MAE: 2.6925 | Val MAE: 3.0569\n",
            "\n",
            "[FOLD 3] === Epoch 245/400 ===  (LR: 0.00020104)\n"
          ]
        },
        {
          "name": "stderr",
          "output_type": "stream",
          "text": []
        },
        {
          "name": "stdout",
          "output_type": "stream",
          "text": [
            "Train Loss(加權): 2.6626 | Train Raw MAE: 2.6626 | Val MAE: 3.0122\n",
            "🎯 New best Val MAE: 3.0122\n",
            "\n",
            "[FOLD 3] === Epoch 246/400 ===  (LR: 0.00019893)\n"
          ]
        },
        {
          "name": "stderr",
          "output_type": "stream",
          "text": []
        },
        {
          "name": "stdout",
          "output_type": "stream",
          "text": [
            "Train Loss(加權): 2.6625 | Train Raw MAE: 2.6625 | Val MAE: 3.4389\n",
            "\n",
            "[FOLD 3] === Epoch 247/400 ===  (LR: 0.000196823)\n"
          ]
        },
        {
          "name": "stderr",
          "output_type": "stream",
          "text": []
        },
        {
          "name": "stdout",
          "output_type": "stream",
          "text": [
            "Train Loss(加權): 2.6948 | Train Raw MAE: 2.6948 | Val MAE: 3.1723\n",
            "\n",
            "[FOLD 3] === Epoch 248/400 ===  (LR: 0.000194721)\n"
          ]
        },
        {
          "name": "stderr",
          "output_type": "stream",
          "text": []
        },
        {
          "name": "stdout",
          "output_type": "stream",
          "text": [
            "Train Loss(加權): 2.6532 | Train Raw MAE: 2.6532 | Val MAE: 3.0350\n",
            "\n",
            "[FOLD 3] === Epoch 249/400 ===  (LR: 0.000192623)\n"
          ]
        },
        {
          "name": "stderr",
          "output_type": "stream",
          "text": []
        },
        {
          "name": "stdout",
          "output_type": "stream",
          "text": [
            "Train Loss(加權): 2.6615 | Train Raw MAE: 2.6615 | Val MAE: 3.6218\n",
            "\n",
            "[FOLD 3] === Epoch 250/400 ===  (LR: 0.000190529)\n"
          ]
        },
        {
          "name": "stderr",
          "output_type": "stream",
          "text": []
        },
        {
          "name": "stdout",
          "output_type": "stream",
          "text": [
            "Train Loss(加權): 2.6702 | Train Raw MAE: 2.6702 | Val MAE: 3.0729\n",
            "\n",
            "[FOLD 3] === Epoch 251/400 ===  (LR: 0.000188441)\n"
          ]
        },
        {
          "name": "stderr",
          "output_type": "stream",
          "text": []
        },
        {
          "name": "stdout",
          "output_type": "stream",
          "text": [
            "Train Loss(加權): 2.6664 | Train Raw MAE: 2.6664 | Val MAE: 3.0684\n",
            "\n",
            "[FOLD 3] === Epoch 252/400 ===  (LR: 0.000186357)\n"
          ]
        },
        {
          "name": "stderr",
          "output_type": "stream",
          "text": []
        },
        {
          "name": "stdout",
          "output_type": "stream",
          "text": [
            "Train Loss(加權): 2.5904 | Train Raw MAE: 2.5904 | Val MAE: 3.2646\n",
            "\n",
            "[FOLD 3] === Epoch 253/400 ===  (LR: 0.000184278)\n"
          ]
        },
        {
          "name": "stderr",
          "output_type": "stream",
          "text": []
        },
        {
          "name": "stdout",
          "output_type": "stream",
          "text": [
            "Train Loss(加權): 2.5989 | Train Raw MAE: 2.5989 | Val MAE: 3.1863\n",
            "\n",
            "[FOLD 3] === Epoch 254/400 ===  (LR: 0.000182205)\n"
          ]
        },
        {
          "name": "stderr",
          "output_type": "stream",
          "text": []
        },
        {
          "name": "stdout",
          "output_type": "stream",
          "text": [
            "Train Loss(加權): 2.6076 | Train Raw MAE: 2.6076 | Val MAE: 3.0206\n",
            "\n",
            "[FOLD 3] === Epoch 255/400 ===  (LR: 0.000180136)\n"
          ]
        },
        {
          "name": "stderr",
          "output_type": "stream",
          "text": []
        },
        {
          "name": "stdout",
          "output_type": "stream",
          "text": [
            "Train Loss(加權): 2.5988 | Train Raw MAE: 2.5988 | Val MAE: 3.0536\n",
            "\n",
            "[FOLD 3] === Epoch 256/400 ===  (LR: 0.000178074)\n"
          ]
        },
        {
          "name": "stderr",
          "output_type": "stream",
          "text": []
        },
        {
          "name": "stdout",
          "output_type": "stream",
          "text": [
            "Train Loss(加權): 2.5815 | Train Raw MAE: 2.5815 | Val MAE: 3.3011\n",
            "\n",
            "[FOLD 3] === Epoch 257/400 ===  (LR: 0.000176017)\n"
          ]
        },
        {
          "name": "stderr",
          "output_type": "stream",
          "text": []
        },
        {
          "name": "stdout",
          "output_type": "stream",
          "text": [
            "Train Loss(加權): 2.5784 | Train Raw MAE: 2.5784 | Val MAE: 3.1291\n",
            "\n",
            "[FOLD 3] === Epoch 258/400 ===  (LR: 0.000173966)\n"
          ]
        },
        {
          "name": "stderr",
          "output_type": "stream",
          "text": []
        },
        {
          "name": "stdout",
          "output_type": "stream",
          "text": [
            "Train Loss(加權): 2.5496 | Train Raw MAE: 2.5496 | Val MAE: 3.2136\n",
            "\n",
            "[FOLD 3] === Epoch 259/400 ===  (LR: 0.00017192)\n"
          ]
        },
        {
          "name": "stderr",
          "output_type": "stream",
          "text": []
        },
        {
          "name": "stdout",
          "output_type": "stream",
          "text": [
            "Train Loss(加權): 2.6031 | Train Raw MAE: 2.6031 | Val MAE: 3.2172\n",
            "\n",
            "[FOLD 3] === Epoch 260/400 ===  (LR: 0.000169881)\n"
          ]
        },
        {
          "name": "stderr",
          "output_type": "stream",
          "text": []
        },
        {
          "name": "stdout",
          "output_type": "stream",
          "text": [
            "Train Loss(加權): 2.6114 | Train Raw MAE: 2.6114 | Val MAE: 2.9707\n",
            "🎯 New best Val MAE: 2.9707\n",
            "\n",
            "[FOLD 3] === Epoch 261/400 ===  (LR: 0.000167848)\n"
          ]
        },
        {
          "name": "stderr",
          "output_type": "stream",
          "text": []
        },
        {
          "name": "stdout",
          "output_type": "stream",
          "text": [
            "Train Loss(加權): 2.5809 | Train Raw MAE: 2.5809 | Val MAE: 3.0685\n",
            "\n",
            "[FOLD 3] === Epoch 262/400 ===  (LR: 0.000165822)\n"
          ]
        },
        {
          "name": "stderr",
          "output_type": "stream",
          "text": []
        },
        {
          "name": "stdout",
          "output_type": "stream",
          "text": [
            "Train Loss(加權): 2.5494 | Train Raw MAE: 2.5494 | Val MAE: 2.9862\n",
            "\n",
            "[FOLD 3] === Epoch 263/400 ===  (LR: 0.000163802)\n"
          ]
        },
        {
          "name": "stderr",
          "output_type": "stream",
          "text": []
        },
        {
          "name": "stdout",
          "output_type": "stream",
          "text": [
            "Train Loss(加權): 2.5148 | Train Raw MAE: 2.5148 | Val MAE: 3.0617\n",
            "\n",
            "[FOLD 3] === Epoch 264/400 ===  (LR: 0.000161789)\n"
          ]
        },
        {
          "name": "stderr",
          "output_type": "stream",
          "text": []
        },
        {
          "name": "stdout",
          "output_type": "stream",
          "text": [
            "Train Loss(加權): 2.5662 | Train Raw MAE: 2.5662 | Val MAE: 3.1641\n",
            "\n",
            "[FOLD 3] === Epoch 265/400 ===  (LR: 0.000159783)\n"
          ]
        },
        {
          "name": "stderr",
          "output_type": "stream",
          "text": []
        },
        {
          "name": "stdout",
          "output_type": "stream",
          "text": [
            "Train Loss(加權): 2.5384 | Train Raw MAE: 2.5384 | Val MAE: 2.9540\n",
            "🎯 New best Val MAE: 2.9540\n",
            "\n",
            "[FOLD 3] === Epoch 266/400 ===  (LR: 0.000157784)\n"
          ]
        },
        {
          "name": "stderr",
          "output_type": "stream",
          "text": []
        },
        {
          "name": "stdout",
          "output_type": "stream",
          "text": [
            "Train Loss(加權): 2.5218 | Train Raw MAE: 2.5218 | Val MAE: 3.0559\n",
            "\n",
            "[FOLD 3] === Epoch 267/400 ===  (LR: 0.000155793)\n"
          ]
        },
        {
          "name": "stderr",
          "output_type": "stream",
          "text": []
        },
        {
          "name": "stdout",
          "output_type": "stream",
          "text": [
            "Train Loss(加權): 2.5500 | Train Raw MAE: 2.5500 | Val MAE: 3.0828\n",
            "\n",
            "[FOLD 3] === Epoch 268/400 ===  (LR: 0.000153808)\n"
          ]
        },
        {
          "name": "stderr",
          "output_type": "stream",
          "text": []
        },
        {
          "name": "stdout",
          "output_type": "stream",
          "text": [
            "Train Loss(加權): 2.5004 | Train Raw MAE: 2.5004 | Val MAE: 3.1078\n",
            "\n",
            "[FOLD 3] === Epoch 269/400 ===  (LR: 0.000151831)\n"
          ]
        },
        {
          "name": "stderr",
          "output_type": "stream",
          "text": []
        },
        {
          "name": "stdout",
          "output_type": "stream",
          "text": [
            "Train Loss(加權): 2.4919 | Train Raw MAE: 2.4919 | Val MAE: 2.9887\n",
            "\n",
            "[FOLD 3] === Epoch 270/400 ===  (LR: 0.000149862)\n"
          ]
        },
        {
          "name": "stderr",
          "output_type": "stream",
          "text": []
        },
        {
          "name": "stdout",
          "output_type": "stream",
          "text": [
            "Train Loss(加權): 2.5308 | Train Raw MAE: 2.5308 | Val MAE: 3.0306\n",
            "\n",
            "[FOLD 3] === Epoch 271/400 ===  (LR: 0.0001479)\n"
          ]
        },
        {
          "name": "stderr",
          "output_type": "stream",
          "text": []
        },
        {
          "name": "stdout",
          "output_type": "stream",
          "text": [
            "Train Loss(加權): 2.4965 | Train Raw MAE: 2.4965 | Val MAE: 3.0301\n",
            "\n",
            "[FOLD 3] === Epoch 272/400 ===  (LR: 0.000145947)\n"
          ]
        },
        {
          "name": "stderr",
          "output_type": "stream",
          "text": []
        },
        {
          "name": "stdout",
          "output_type": "stream",
          "text": [
            "Train Loss(加權): 2.4877 | Train Raw MAE: 2.4877 | Val MAE: 3.0952\n",
            "\n",
            "[FOLD 3] === Epoch 273/400 ===  (LR: 0.000144002)\n"
          ]
        },
        {
          "name": "stderr",
          "output_type": "stream",
          "text": []
        },
        {
          "name": "stdout",
          "output_type": "stream",
          "text": [
            "Train Loss(加權): 2.4410 | Train Raw MAE: 2.4410 | Val MAE: 2.9755\n",
            "\n",
            "[FOLD 3] === Epoch 274/400 ===  (LR: 0.000142065)\n"
          ]
        },
        {
          "name": "stderr",
          "output_type": "stream",
          "text": []
        },
        {
          "name": "stdout",
          "output_type": "stream",
          "text": [
            "Train Loss(加權): 2.4688 | Train Raw MAE: 2.4688 | Val MAE: 2.9682\n",
            "\n",
            "[FOLD 3] === Epoch 275/400 ===  (LR: 0.000140136)\n"
          ]
        },
        {
          "name": "stderr",
          "output_type": "stream",
          "text": []
        },
        {
          "name": "stdout",
          "output_type": "stream",
          "text": [
            "Train Loss(加權): 2.4693 | Train Raw MAE: 2.4693 | Val MAE: 3.0938\n",
            "\n",
            "[FOLD 3] === Epoch 276/400 ===  (LR: 0.000138216)\n"
          ]
        },
        {
          "name": "stderr",
          "output_type": "stream",
          "text": []
        },
        {
          "name": "stdout",
          "output_type": "stream",
          "text": [
            "Train Loss(加權): 2.5034 | Train Raw MAE: 2.5034 | Val MAE: 3.1132\n",
            "\n",
            "[FOLD 3] === Epoch 277/400 ===  (LR: 0.000136304)\n"
          ]
        },
        {
          "name": "stderr",
          "output_type": "stream",
          "text": []
        },
        {
          "name": "stdout",
          "output_type": "stream",
          "text": [
            "Train Loss(加權): 2.4578 | Train Raw MAE: 2.4578 | Val MAE: 2.9964\n",
            "\n",
            "[FOLD 3] === Epoch 278/400 ===  (LR: 0.000134402)\n"
          ]
        },
        {
          "name": "stderr",
          "output_type": "stream",
          "text": []
        },
        {
          "name": "stdout",
          "output_type": "stream",
          "text": [
            "Train Loss(加權): 2.4412 | Train Raw MAE: 2.4412 | Val MAE: 3.2562\n",
            "\n",
            "[FOLD 3] === Epoch 279/400 ===  (LR: 0.000132508)\n"
          ]
        },
        {
          "name": "stderr",
          "output_type": "stream",
          "text": []
        },
        {
          "name": "stdout",
          "output_type": "stream",
          "text": [
            "Train Loss(加權): 2.4428 | Train Raw MAE: 2.4428 | Val MAE: 2.9765\n",
            "\n",
            "[FOLD 3] === Epoch 280/400 ===  (LR: 0.000130624)\n"
          ]
        },
        {
          "name": "stderr",
          "output_type": "stream",
          "text": []
        },
        {
          "name": "stdout",
          "output_type": "stream",
          "text": [
            "Train Loss(加權): 2.4558 | Train Raw MAE: 2.4558 | Val MAE: 3.1377\n",
            "\n",
            "[FOLD 3] === Epoch 281/400 ===  (LR: 0.000128749)\n"
          ]
        },
        {
          "name": "stderr",
          "output_type": "stream",
          "text": []
        },
        {
          "name": "stdout",
          "output_type": "stream",
          "text": [
            "Train Loss(加權): 2.4394 | Train Raw MAE: 2.4394 | Val MAE: 3.0854\n",
            "\n",
            "[FOLD 3] === Epoch 282/400 ===  (LR: 0.000126883)\n"
          ]
        },
        {
          "name": "stderr",
          "output_type": "stream",
          "text": []
        },
        {
          "name": "stdout",
          "output_type": "stream",
          "text": [
            "Train Loss(加權): 2.4578 | Train Raw MAE: 2.4578 | Val MAE: 3.3701\n",
            "\n",
            "[FOLD 3] === Epoch 283/400 ===  (LR: 0.000125027)\n"
          ]
        },
        {
          "name": "stderr",
          "output_type": "stream",
          "text": []
        },
        {
          "name": "stdout",
          "output_type": "stream",
          "text": [
            "Train Loss(加權): 2.4202 | Train Raw MAE: 2.4202 | Val MAE: 3.2131\n",
            "\n",
            "[FOLD 3] === Epoch 284/400 ===  (LR: 0.00012318)\n"
          ]
        },
        {
          "name": "stderr",
          "output_type": "stream",
          "text": []
        },
        {
          "name": "stdout",
          "output_type": "stream",
          "text": [
            "Train Loss(加權): 2.4456 | Train Raw MAE: 2.4456 | Val MAE: 3.1182\n",
            "\n",
            "[FOLD 3] === Epoch 285/400 ===  (LR: 0.000121344)\n"
          ]
        },
        {
          "name": "stderr",
          "output_type": "stream",
          "text": []
        },
        {
          "name": "stdout",
          "output_type": "stream",
          "text": [
            "Train Loss(加權): 2.3922 | Train Raw MAE: 2.3922 | Val MAE: 2.9428\n",
            "🎯 New best Val MAE: 2.9428\n",
            "\n",
            "[FOLD 3] === Epoch 286/400 ===  (LR: 0.000119517)\n"
          ]
        },
        {
          "name": "stderr",
          "output_type": "stream",
          "text": []
        },
        {
          "name": "stdout",
          "output_type": "stream",
          "text": [
            "Train Loss(加權): 2.3775 | Train Raw MAE: 2.3775 | Val MAE: 3.0156\n",
            "\n",
            "[FOLD 3] === Epoch 287/400 ===  (LR: 0.0001177)\n"
          ]
        },
        {
          "name": "stderr",
          "output_type": "stream",
          "text": []
        },
        {
          "name": "stdout",
          "output_type": "stream",
          "text": [
            "Train Loss(加權): 2.4326 | Train Raw MAE: 2.4326 | Val MAE: 3.1478\n",
            "\n",
            "[FOLD 3] === Epoch 288/400 ===  (LR: 0.000115894)\n"
          ]
        },
        {
          "name": "stderr",
          "output_type": "stream",
          "text": []
        },
        {
          "name": "stdout",
          "output_type": "stream",
          "text": [
            "Train Loss(加權): 2.4131 | Train Raw MAE: 2.4131 | Val MAE: 3.0529\n",
            "\n",
            "[FOLD 3] === Epoch 289/400 ===  (LR: 0.000114098)\n"
          ]
        },
        {
          "name": "stderr",
          "output_type": "stream",
          "text": []
        },
        {
          "name": "stdout",
          "output_type": "stream",
          "text": [
            "Train Loss(加權): 2.3995 | Train Raw MAE: 2.3995 | Val MAE: 2.9616\n",
            "\n",
            "[FOLD 3] === Epoch 290/400 ===  (LR: 0.000112313)\n"
          ]
        },
        {
          "name": "stderr",
          "output_type": "stream",
          "text": []
        },
        {
          "name": "stdout",
          "output_type": "stream",
          "text": [
            "Train Loss(加權): 2.4194 | Train Raw MAE: 2.4194 | Val MAE: 3.0737\n",
            "\n",
            "[FOLD 3] === Epoch 291/400 ===  (LR: 0.000110538)\n"
          ]
        },
        {
          "name": "stderr",
          "output_type": "stream",
          "text": []
        },
        {
          "name": "stdout",
          "output_type": "stream",
          "text": [
            "Train Loss(加權): 2.3886 | Train Raw MAE: 2.3886 | Val MAE: 3.0875\n",
            "\n",
            "[FOLD 3] === Epoch 292/400 ===  (LR: 0.000108775)\n"
          ]
        },
        {
          "name": "stderr",
          "output_type": "stream",
          "text": []
        },
        {
          "name": "stdout",
          "output_type": "stream",
          "text": [
            "Train Loss(加權): 2.3889 | Train Raw MAE: 2.3889 | Val MAE: 2.9270\n",
            "🎯 New best Val MAE: 2.9270\n",
            "\n",
            "[FOLD 3] === Epoch 293/400 ===  (LR: 0.000107022)\n"
          ]
        },
        {
          "name": "stderr",
          "output_type": "stream",
          "text": []
        },
        {
          "name": "stdout",
          "output_type": "stream",
          "text": [
            "Train Loss(加權): 2.3596 | Train Raw MAE: 2.3596 | Val MAE: 2.9780\n",
            "\n",
            "[FOLD 3] === Epoch 294/400 ===  (LR: 0.00010528)\n"
          ]
        },
        {
          "name": "stderr",
          "output_type": "stream",
          "text": []
        },
        {
          "name": "stdout",
          "output_type": "stream",
          "text": [
            "Train Loss(加權): 2.3862 | Train Raw MAE: 2.3862 | Val MAE: 3.0478\n",
            "\n",
            "[FOLD 3] === Epoch 295/400 ===  (LR: 0.000103549)\n"
          ]
        },
        {
          "name": "stderr",
          "output_type": "stream",
          "text": []
        },
        {
          "name": "stdout",
          "output_type": "stream",
          "text": [
            "Train Loss(加權): 2.3331 | Train Raw MAE: 2.3331 | Val MAE: 3.0150\n",
            "\n",
            "[FOLD 3] === Epoch 296/400 ===  (LR: 0.00010183)\n"
          ]
        },
        {
          "name": "stderr",
          "output_type": "stream",
          "text": []
        },
        {
          "name": "stdout",
          "output_type": "stream",
          "text": [
            "Train Loss(加權): 2.3834 | Train Raw MAE: 2.3834 | Val MAE: 2.9893\n",
            "\n",
            "[FOLD 3] === Epoch 297/400 ===  (LR: 0.000100122)\n"
          ]
        },
        {
          "name": "stderr",
          "output_type": "stream",
          "text": []
        },
        {
          "name": "stdout",
          "output_type": "stream",
          "text": [
            "Train Loss(加權): 2.3775 | Train Raw MAE: 2.3775 | Val MAE: 2.9588\n",
            "\n",
            "[FOLD 3] === Epoch 298/400 ===  (LR: 9.84263e-05)\n"
          ]
        },
        {
          "name": "stderr",
          "output_type": "stream",
          "text": []
        },
        {
          "name": "stdout",
          "output_type": "stream",
          "text": [
            "Train Loss(加權): 2.3541 | Train Raw MAE: 2.3541 | Val MAE: 2.9293\n",
            "\n",
            "[FOLD 3] === Epoch 299/400 ===  (LR: 9.67419e-05)\n"
          ]
        },
        {
          "name": "stderr",
          "output_type": "stream",
          "text": []
        },
        {
          "name": "stdout",
          "output_type": "stream",
          "text": [
            "Train Loss(加權): 2.3372 | Train Raw MAE: 2.3372 | Val MAE: 2.9291\n",
            "\n",
            "[FOLD 3] === Epoch 300/400 ===  (LR: 9.50694e-05)\n"
          ]
        },
        {
          "name": "stderr",
          "output_type": "stream",
          "text": []
        },
        {
          "name": "stdout",
          "output_type": "stream",
          "text": [
            "Train Loss(加權): 2.3641 | Train Raw MAE: 2.3641 | Val MAE: 2.9538\n",
            "\n",
            "[FOLD 3] === Epoch 301/400 ===  (LR: 9.34088e-05)\n"
          ]
        },
        {
          "name": "stderr",
          "output_type": "stream",
          "text": []
        },
        {
          "name": "stdout",
          "output_type": "stream",
          "text": [
            "Train Loss(加權): 2.3420 | Train Raw MAE: 2.3420 | Val MAE: 3.0396\n",
            "\n",
            "[FOLD 3] === Epoch 302/400 ===  (LR: 9.17603e-05)\n"
          ]
        },
        {
          "name": "stderr",
          "output_type": "stream",
          "text": []
        },
        {
          "name": "stdout",
          "output_type": "stream",
          "text": [
            "Train Loss(加權): 2.3329 | Train Raw MAE: 2.3329 | Val MAE: 3.0290\n",
            "\n",
            "[FOLD 3] === Epoch 303/400 ===  (LR: 9.01241e-05)\n"
          ]
        },
        {
          "name": "stderr",
          "output_type": "stream",
          "text": []
        },
        {
          "name": "stdout",
          "output_type": "stream",
          "text": [
            "Train Loss(加權): 2.3189 | Train Raw MAE: 2.3189 | Val MAE: 3.0571\n",
            "\n",
            "[FOLD 3] === Epoch 304/400 ===  (LR: 8.85003e-05)\n"
          ]
        },
        {
          "name": "stderr",
          "output_type": "stream",
          "text": []
        },
        {
          "name": "stdout",
          "output_type": "stream",
          "text": [
            "Train Loss(加權): 2.3146 | Train Raw MAE: 2.3146 | Val MAE: 3.0966\n",
            "\n",
            "[FOLD 3] === Epoch 305/400 ===  (LR: 8.68889e-05)\n"
          ]
        },
        {
          "name": "stderr",
          "output_type": "stream",
          "text": []
        },
        {
          "name": "stdout",
          "output_type": "stream",
          "text": [
            "Train Loss(加權): 2.2843 | Train Raw MAE: 2.2843 | Val MAE: 2.9036\n",
            "🎯 New best Val MAE: 2.9036\n",
            "\n",
            "[FOLD 3] === Epoch 306/400 ===  (LR: 8.52902e-05)\n"
          ]
        },
        {
          "name": "stderr",
          "output_type": "stream",
          "text": []
        },
        {
          "name": "stdout",
          "output_type": "stream",
          "text": [
            "Train Loss(加權): 2.2964 | Train Raw MAE: 2.2964 | Val MAE: 2.9883\n",
            "\n",
            "[FOLD 3] === Epoch 307/400 ===  (LR: 8.37042e-05)\n"
          ]
        },
        {
          "name": "stderr",
          "output_type": "stream",
          "text": []
        },
        {
          "name": "stdout",
          "output_type": "stream",
          "text": [
            "Train Loss(加權): 2.3022 | Train Raw MAE: 2.3022 | Val MAE: 2.9284\n",
            "\n",
            "[FOLD 3] === Epoch 308/400 ===  (LR: 8.2131e-05)\n"
          ]
        },
        {
          "name": "stderr",
          "output_type": "stream",
          "text": []
        },
        {
          "name": "stdout",
          "output_type": "stream",
          "text": [
            "Train Loss(加權): 2.3168 | Train Raw MAE: 2.3168 | Val MAE: 2.9552\n",
            "\n",
            "[FOLD 3] === Epoch 309/400 ===  (LR: 8.05709e-05)\n"
          ]
        },
        {
          "name": "stderr",
          "output_type": "stream",
          "text": []
        },
        {
          "name": "stdout",
          "output_type": "stream",
          "text": [
            "Train Loss(加權): 2.2761 | Train Raw MAE: 2.2761 | Val MAE: 2.9910\n",
            "\n",
            "[FOLD 3] === Epoch 310/400 ===  (LR: 7.90238e-05)\n"
          ]
        },
        {
          "name": "stderr",
          "output_type": "stream",
          "text": []
        },
        {
          "name": "stdout",
          "output_type": "stream",
          "text": [
            "Train Loss(加權): 2.2961 | Train Raw MAE: 2.2961 | Val MAE: 2.9507\n",
            "\n",
            "[FOLD 3] === Epoch 311/400 ===  (LR: 7.74899e-05)\n"
          ]
        },
        {
          "name": "stderr",
          "output_type": "stream",
          "text": []
        },
        {
          "name": "stdout",
          "output_type": "stream",
          "text": [
            "Train Loss(加權): 2.2907 | Train Raw MAE: 2.2907 | Val MAE: 3.0511\n",
            "\n",
            "[FOLD 3] === Epoch 312/400 ===  (LR: 7.59694e-05)\n"
          ]
        },
        {
          "name": "stderr",
          "output_type": "stream",
          "text": []
        },
        {
          "name": "stdout",
          "output_type": "stream",
          "text": [
            "Train Loss(加權): 2.2703 | Train Raw MAE: 2.2703 | Val MAE: 2.9595\n",
            "\n",
            "[FOLD 3] === Epoch 313/400 ===  (LR: 7.44622e-05)\n"
          ]
        },
        {
          "name": "stderr",
          "output_type": "stream",
          "text": []
        },
        {
          "name": "stdout",
          "output_type": "stream",
          "text": [
            "Train Loss(加權): 2.2937 | Train Raw MAE: 2.2937 | Val MAE: 2.8740\n",
            "🎯 New best Val MAE: 2.8740\n",
            "\n",
            "[FOLD 3] === Epoch 314/400 ===  (LR: 7.29687e-05)\n"
          ]
        },
        {
          "name": "stderr",
          "output_type": "stream",
          "text": []
        },
        {
          "name": "stdout",
          "output_type": "stream",
          "text": [
            "Train Loss(加權): 2.3236 | Train Raw MAE: 2.3236 | Val MAE: 2.9034\n",
            "\n",
            "[FOLD 3] === Epoch 315/400 ===  (LR: 7.14888e-05)\n"
          ]
        },
        {
          "name": "stderr",
          "output_type": "stream",
          "text": []
        },
        {
          "name": "stdout",
          "output_type": "stream",
          "text": [
            "Train Loss(加權): 2.2616 | Train Raw MAE: 2.2616 | Val MAE: 2.9992\n",
            "\n",
            "[FOLD 3] === Epoch 316/400 ===  (LR: 7.00227e-05)\n"
          ]
        },
        {
          "name": "stderr",
          "output_type": "stream",
          "text": []
        },
        {
          "name": "stdout",
          "output_type": "stream",
          "text": [
            "Train Loss(加權): 2.2552 | Train Raw MAE: 2.2552 | Val MAE: 2.9717\n",
            "\n",
            "[FOLD 3] === Epoch 317/400 ===  (LR: 6.85705e-05)\n"
          ]
        },
        {
          "name": "stderr",
          "output_type": "stream",
          "text": []
        },
        {
          "name": "stdout",
          "output_type": "stream",
          "text": [
            "Train Loss(加權): 2.3025 | Train Raw MAE: 2.3025 | Val MAE: 3.0204\n",
            "\n",
            "[FOLD 3] === Epoch 318/400 ===  (LR: 6.71324e-05)\n"
          ]
        },
        {
          "name": "stderr",
          "output_type": "stream",
          "text": []
        },
        {
          "name": "stdout",
          "output_type": "stream",
          "text": [
            "Train Loss(加權): 2.2661 | Train Raw MAE: 2.2661 | Val MAE: 2.9491\n",
            "\n",
            "[FOLD 3] === Epoch 319/400 ===  (LR: 6.57083e-05)\n"
          ]
        },
        {
          "name": "stderr",
          "output_type": "stream",
          "text": []
        },
        {
          "name": "stdout",
          "output_type": "stream",
          "text": [
            "Train Loss(加權): 2.2625 | Train Raw MAE: 2.2625 | Val MAE: 2.9801\n",
            "\n",
            "[FOLD 3] === Epoch 320/400 ===  (LR: 6.42984e-05)\n"
          ]
        },
        {
          "name": "stderr",
          "output_type": "stream",
          "text": []
        },
        {
          "name": "stdout",
          "output_type": "stream",
          "text": [
            "Train Loss(加權): 2.2454 | Train Raw MAE: 2.2454 | Val MAE: 2.9254\n",
            "\n",
            "[FOLD 3] === Epoch 321/400 ===  (LR: 6.29029e-05)\n"
          ]
        },
        {
          "name": "stderr",
          "output_type": "stream",
          "text": []
        },
        {
          "name": "stdout",
          "output_type": "stream",
          "text": [
            "Train Loss(加權): 2.2315 | Train Raw MAE: 2.2315 | Val MAE: 2.9417\n",
            "\n",
            "[FOLD 3] === Epoch 322/400 ===  (LR: 6.15219e-05)\n"
          ]
        },
        {
          "name": "stderr",
          "output_type": "stream",
          "text": []
        },
        {
          "name": "stdout",
          "output_type": "stream",
          "text": [
            "Train Loss(加權): 2.2319 | Train Raw MAE: 2.2319 | Val MAE: 2.9083\n",
            "\n",
            "[FOLD 3] === Epoch 323/400 ===  (LR: 6.01553e-05)\n"
          ]
        },
        {
          "name": "stderr",
          "output_type": "stream",
          "text": []
        },
        {
          "name": "stdout",
          "output_type": "stream",
          "text": [
            "Train Loss(加權): 2.2414 | Train Raw MAE: 2.2414 | Val MAE: 3.1738\n",
            "\n",
            "[FOLD 3] === Epoch 324/400 ===  (LR: 5.88034e-05)\n"
          ]
        },
        {
          "name": "stderr",
          "output_type": "stream",
          "text": []
        },
        {
          "name": "stdout",
          "output_type": "stream",
          "text": [
            "Train Loss(加權): 2.2132 | Train Raw MAE: 2.2132 | Val MAE: 2.8916\n",
            "\n",
            "[FOLD 3] === Epoch 325/400 ===  (LR: 5.74663e-05)\n"
          ]
        },
        {
          "name": "stderr",
          "output_type": "stream",
          "text": []
        },
        {
          "name": "stdout",
          "output_type": "stream",
          "text": [
            "Train Loss(加權): 2.2352 | Train Raw MAE: 2.2352 | Val MAE: 2.9563\n",
            "\n",
            "[FOLD 3] === Epoch 326/400 ===  (LR: 5.6144e-05)\n"
          ]
        },
        {
          "name": "stderr",
          "output_type": "stream",
          "text": []
        },
        {
          "name": "stdout",
          "output_type": "stream",
          "text": [
            "Train Loss(加權): 2.2328 | Train Raw MAE: 2.2328 | Val MAE: 2.8998\n",
            "\n",
            "[FOLD 3] === Epoch 327/400 ===  (LR: 5.48367e-05)\n"
          ]
        },
        {
          "name": "stderr",
          "output_type": "stream",
          "text": []
        },
        {
          "name": "stdout",
          "output_type": "stream",
          "text": [
            "Train Loss(加權): 2.2141 | Train Raw MAE: 2.2141 | Val MAE: 2.9478\n",
            "\n",
            "[FOLD 3] === Epoch 328/400 ===  (LR: 5.35444e-05)\n"
          ]
        },
        {
          "name": "stderr",
          "output_type": "stream",
          "text": []
        },
        {
          "name": "stdout",
          "output_type": "stream",
          "text": [
            "Train Loss(加權): 2.2214 | Train Raw MAE: 2.2214 | Val MAE: 2.9167\n",
            "\n",
            "[FOLD 3] === Epoch 329/400 ===  (LR: 5.22673e-05)\n"
          ]
        },
        {
          "name": "stderr",
          "output_type": "stream",
          "text": []
        },
        {
          "name": "stdout",
          "output_type": "stream",
          "text": [
            "Train Loss(加權): 2.2220 | Train Raw MAE: 2.2220 | Val MAE: 2.9287\n",
            "\n",
            "[FOLD 3] === Epoch 330/400 ===  (LR: 5.10054e-05)\n"
          ]
        },
        {
          "name": "stderr",
          "output_type": "stream",
          "text": []
        },
        {
          "name": "stdout",
          "output_type": "stream",
          "text": [
            "Train Loss(加權): 2.1920 | Train Raw MAE: 2.1920 | Val MAE: 2.9186\n",
            "\n",
            "[FOLD 3] === Epoch 331/400 ===  (LR: 4.97589e-05)\n"
          ]
        },
        {
          "name": "stderr",
          "output_type": "stream",
          "text": []
        },
        {
          "name": "stdout",
          "output_type": "stream",
          "text": [
            "Train Loss(加權): 2.1969 | Train Raw MAE: 2.1969 | Val MAE: 2.9193\n",
            "\n",
            "[FOLD 3] === Epoch 332/400 ===  (LR: 4.85278e-05)\n"
          ]
        },
        {
          "name": "stderr",
          "output_type": "stream",
          "text": []
        },
        {
          "name": "stdout",
          "output_type": "stream",
          "text": [
            "Train Loss(加權): 2.1855 | Train Raw MAE: 2.1855 | Val MAE: 2.9715\n",
            "\n",
            "[FOLD 3] === Epoch 333/400 ===  (LR: 4.73123e-05)\n"
          ]
        },
        {
          "name": "stderr",
          "output_type": "stream",
          "text": []
        },
        {
          "name": "stdout",
          "output_type": "stream",
          "text": [
            "Train Loss(加權): 2.1915 | Train Raw MAE: 2.1915 | Val MAE: 2.8972\n",
            "\n",
            "[FOLD 3] === Epoch 334/400 ===  (LR: 4.61123e-05)\n"
          ]
        },
        {
          "name": "stderr",
          "output_type": "stream",
          "text": []
        },
        {
          "name": "stdout",
          "output_type": "stream",
          "text": [
            "Train Loss(加權): 2.1623 | Train Raw MAE: 2.1623 | Val MAE: 2.9240\n",
            "\n",
            "[FOLD 3] === Epoch 335/400 ===  (LR: 4.49281e-05)\n"
          ]
        },
        {
          "name": "stderr",
          "output_type": "stream",
          "text": []
        },
        {
          "name": "stdout",
          "output_type": "stream",
          "text": [
            "Train Loss(加權): 2.1943 | Train Raw MAE: 2.1943 | Val MAE: 2.8985\n",
            "\n",
            "[FOLD 3] === Epoch 336/400 ===  (LR: 4.37597e-05)\n"
          ]
        },
        {
          "name": "stderr",
          "output_type": "stream",
          "text": []
        },
        {
          "name": "stdout",
          "output_type": "stream",
          "text": [
            "Train Loss(加權): 2.1913 | Train Raw MAE: 2.1913 | Val MAE: 2.9391\n",
            "\n",
            "[FOLD 3] === Epoch 337/400 ===  (LR: 4.26072e-05)\n"
          ]
        },
        {
          "name": "stderr",
          "output_type": "stream",
          "text": []
        },
        {
          "name": "stdout",
          "output_type": "stream",
          "text": [
            "Train Loss(加權): 2.1929 | Train Raw MAE: 2.1929 | Val MAE: 2.8871\n",
            "\n",
            "[FOLD 3] === Epoch 338/400 ===  (LR: 4.14707e-05)\n"
          ]
        },
        {
          "name": "stderr",
          "output_type": "stream",
          "text": []
        },
        {
          "name": "stdout",
          "output_type": "stream",
          "text": [
            "Train Loss(加權): 2.1912 | Train Raw MAE: 2.1912 | Val MAE: 2.8903\n",
            "\n",
            "[FOLD 3] === Epoch 339/400 ===  (LR: 4.03502e-05)\n"
          ]
        },
        {
          "name": "stderr",
          "output_type": "stream",
          "text": []
        },
        {
          "name": "stdout",
          "output_type": "stream",
          "text": [
            "Train Loss(加權): 2.1714 | Train Raw MAE: 2.1714 | Val MAE: 2.9160\n",
            "\n",
            "[FOLD 3] === Epoch 340/400 ===  (LR: 3.92459e-05)\n"
          ]
        },
        {
          "name": "stderr",
          "output_type": "stream",
          "text": []
        },
        {
          "name": "stdout",
          "output_type": "stream",
          "text": [
            "Train Loss(加權): 2.1759 | Train Raw MAE: 2.1759 | Val MAE: 2.8926\n",
            "\n",
            "[FOLD 3] === Epoch 341/400 ===  (LR: 3.81579e-05)\n"
          ]
        },
        {
          "name": "stderr",
          "output_type": "stream",
          "text": []
        },
        {
          "name": "stdout",
          "output_type": "stream",
          "text": [
            "Train Loss(加權): 2.1687 | Train Raw MAE: 2.1687 | Val MAE: 2.8670\n",
            "🎯 New best Val MAE: 2.8670\n",
            "\n",
            "[FOLD 3] === Epoch 342/400 ===  (LR: 3.70861e-05)\n"
          ]
        },
        {
          "name": "stderr",
          "output_type": "stream",
          "text": []
        },
        {
          "name": "stdout",
          "output_type": "stream",
          "text": [
            "Train Loss(加權): 2.1463 | Train Raw MAE: 2.1463 | Val MAE: 2.9494\n",
            "\n",
            "[FOLD 3] === Epoch 343/400 ===  (LR: 3.60308e-05)\n"
          ]
        },
        {
          "name": "stderr",
          "output_type": "stream",
          "text": []
        },
        {
          "name": "stdout",
          "output_type": "stream",
          "text": [
            "Train Loss(加權): 2.1641 | Train Raw MAE: 2.1641 | Val MAE: 2.9009\n",
            "\n",
            "[FOLD 3] === Epoch 344/400 ===  (LR: 3.4992e-05)\n"
          ]
        },
        {
          "name": "stderr",
          "output_type": "stream",
          "text": []
        },
        {
          "name": "stdout",
          "output_type": "stream",
          "text": [
            "Train Loss(加權): 2.1599 | Train Raw MAE: 2.1599 | Val MAE: 2.9300\n",
            "\n",
            "[FOLD 3] === Epoch 345/400 ===  (LR: 3.39697e-05)\n"
          ]
        },
        {
          "name": "stderr",
          "output_type": "stream",
          "text": []
        },
        {
          "name": "stdout",
          "output_type": "stream",
          "text": [
            "Train Loss(加權): 2.1423 | Train Raw MAE: 2.1423 | Val MAE: 2.8833\n",
            "\n",
            "[FOLD 3] === Epoch 346/400 ===  (LR: 3.29641e-05)\n"
          ]
        },
        {
          "name": "stderr",
          "output_type": "stream",
          "text": []
        },
        {
          "name": "stdout",
          "output_type": "stream",
          "text": [
            "Train Loss(加權): 2.1370 | Train Raw MAE: 2.1370 | Val MAE: 2.8627\n",
            "🎯 New best Val MAE: 2.8627\n",
            "\n",
            "[FOLD 3] === Epoch 347/400 ===  (LR: 3.19751e-05)\n"
          ]
        },
        {
          "name": "stderr",
          "output_type": "stream",
          "text": []
        },
        {
          "name": "stdout",
          "output_type": "stream",
          "text": [
            "Train Loss(加權): 2.1729 | Train Raw MAE: 2.1729 | Val MAE: 2.8837\n",
            "\n",
            "[FOLD 3] === Epoch 348/400 ===  (LR: 3.1003e-05)\n"
          ]
        },
        {
          "name": "stderr",
          "output_type": "stream",
          "text": []
        },
        {
          "name": "stdout",
          "output_type": "stream",
          "text": [
            "Train Loss(加權): 2.1191 | Train Raw MAE: 2.1191 | Val MAE: 2.8985\n",
            "\n",
            "[FOLD 3] === Epoch 349/400 ===  (LR: 3.00477e-05)\n"
          ]
        },
        {
          "name": "stderr",
          "output_type": "stream",
          "text": []
        },
        {
          "name": "stdout",
          "output_type": "stream",
          "text": [
            "Train Loss(加權): 2.1360 | Train Raw MAE: 2.1360 | Val MAE: 2.8937\n",
            "\n",
            "[FOLD 3] === Epoch 350/400 ===  (LR: 2.91094e-05)\n"
          ]
        },
        {
          "name": "stderr",
          "output_type": "stream",
          "text": []
        },
        {
          "name": "stdout",
          "output_type": "stream",
          "text": [
            "Train Loss(加權): 2.1128 | Train Raw MAE: 2.1128 | Val MAE: 2.8788\n",
            "\n",
            "[FOLD 3] === Epoch 351/400 ===  (LR: 2.81881e-05)\n"
          ]
        },
        {
          "name": "stderr",
          "output_type": "stream",
          "text": []
        },
        {
          "name": "stdout",
          "output_type": "stream",
          "text": [
            "Train Loss(加權): 2.1633 | Train Raw MAE: 2.1633 | Val MAE: 2.9190\n",
            "\n",
            "[FOLD 3] === Epoch 352/400 ===  (LR: 2.72839e-05)\n"
          ]
        },
        {
          "name": "stderr",
          "output_type": "stream",
          "text": []
        },
        {
          "name": "stdout",
          "output_type": "stream",
          "text": [
            "Train Loss(加權): 2.1101 | Train Raw MAE: 2.1101 | Val MAE: 2.9386\n",
            "\n",
            "[FOLD 3] === Epoch 353/400 ===  (LR: 2.63968e-05)\n"
          ]
        },
        {
          "name": "stderr",
          "output_type": "stream",
          "text": []
        },
        {
          "name": "stdout",
          "output_type": "stream",
          "text": [
            "Train Loss(加權): 2.1439 | Train Raw MAE: 2.1439 | Val MAE: 2.9133\n",
            "\n",
            "[FOLD 3] === Epoch 354/400 ===  (LR: 2.5527e-05)\n"
          ]
        },
        {
          "name": "stderr",
          "output_type": "stream",
          "text": []
        },
        {
          "name": "stdout",
          "output_type": "stream",
          "text": [
            "Train Loss(加權): 2.1519 | Train Raw MAE: 2.1519 | Val MAE: 2.8793\n",
            "\n",
            "[FOLD 3] === Epoch 355/400 ===  (LR: 2.46744e-05)\n"
          ]
        },
        {
          "name": "stderr",
          "output_type": "stream",
          "text": []
        },
        {
          "name": "stdout",
          "output_type": "stream",
          "text": [
            "Train Loss(加權): 2.1510 | Train Raw MAE: 2.1510 | Val MAE: 2.8605\n",
            "🎯 New best Val MAE: 2.8605\n",
            "\n",
            "[FOLD 3] === Epoch 356/400 ===  (LR: 2.38392e-05)\n"
          ]
        },
        {
          "name": "stderr",
          "output_type": "stream",
          "text": []
        },
        {
          "name": "stdout",
          "output_type": "stream",
          "text": [
            "Train Loss(加權): 2.1324 | Train Raw MAE: 2.1324 | Val MAE: 2.8550\n",
            "🎯 New best Val MAE: 2.8550\n",
            "\n",
            "[FOLD 3] === Epoch 357/400 ===  (LR: 2.30214e-05)\n"
          ]
        },
        {
          "name": "stderr",
          "output_type": "stream",
          "text": []
        },
        {
          "name": "stdout",
          "output_type": "stream",
          "text": [
            "Train Loss(加權): 2.1341 | Train Raw MAE: 2.1341 | Val MAE: 2.8888\n",
            "\n",
            "[FOLD 3] === Epoch 358/400 ===  (LR: 2.2221e-05)\n"
          ]
        },
        {
          "name": "stderr",
          "output_type": "stream",
          "text": []
        },
        {
          "name": "stdout",
          "output_type": "stream",
          "text": [
            "Train Loss(加權): 2.1106 | Train Raw MAE: 2.1106 | Val MAE: 2.8682\n",
            "\n",
            "[FOLD 3] === Epoch 359/400 ===  (LR: 2.14382e-05)\n"
          ]
        },
        {
          "name": "stderr",
          "output_type": "stream",
          "text": []
        },
        {
          "name": "stdout",
          "output_type": "stream",
          "text": [
            "Train Loss(加權): 2.1069 | Train Raw MAE: 2.1069 | Val MAE: 2.8934\n",
            "\n",
            "[FOLD 3] === Epoch 360/400 ===  (LR: 2.06731e-05)\n"
          ]
        },
        {
          "name": "stderr",
          "output_type": "stream",
          "text": []
        },
        {
          "name": "stdout",
          "output_type": "stream",
          "text": [
            "Train Loss(加權): 2.0957 | Train Raw MAE: 2.0957 | Val MAE: 2.8665\n",
            "\n",
            "[FOLD 3] === Epoch 361/400 ===  (LR: 1.99255e-05)\n"
          ]
        },
        {
          "name": "stderr",
          "output_type": "stream",
          "text": []
        },
        {
          "name": "stdout",
          "output_type": "stream",
          "text": [
            "Train Loss(加權): 2.1234 | Train Raw MAE: 2.1234 | Val MAE: 2.8651\n",
            "\n",
            "[FOLD 3] === Epoch 362/400 ===  (LR: 1.91957e-05)\n"
          ]
        },
        {
          "name": "stderr",
          "output_type": "stream",
          "text": []
        },
        {
          "name": "stdout",
          "output_type": "stream",
          "text": [
            "Train Loss(加權): 2.1055 | Train Raw MAE: 2.1055 | Val MAE: 2.9240\n",
            "\n",
            "[FOLD 3] === Epoch 363/400 ===  (LR: 1.84836e-05)\n"
          ]
        },
        {
          "name": "stderr",
          "output_type": "stream",
          "text": []
        },
        {
          "name": "stdout",
          "output_type": "stream",
          "text": [
            "Train Loss(加權): 2.1230 | Train Raw MAE: 2.1230 | Val MAE: 2.8695\n",
            "\n",
            "[FOLD 3] === Epoch 364/400 ===  (LR: 1.77894e-05)\n"
          ]
        },
        {
          "name": "stderr",
          "output_type": "stream",
          "text": []
        },
        {
          "name": "stdout",
          "output_type": "stream",
          "text": [
            "Train Loss(加權): 2.1186 | Train Raw MAE: 2.1186 | Val MAE: 2.9238\n",
            "\n",
            "[FOLD 3] === Epoch 365/400 ===  (LR: 1.7113e-05)\n"
          ]
        },
        {
          "name": "stderr",
          "output_type": "stream",
          "text": []
        },
        {
          "name": "stdout",
          "output_type": "stream",
          "text": [
            "Train Loss(加權): 2.1300 | Train Raw MAE: 2.1300 | Val MAE: 2.8971\n",
            "\n",
            "[FOLD 3] === Epoch 366/400 ===  (LR: 1.64546e-05)\n"
          ]
        },
        {
          "name": "stderr",
          "output_type": "stream",
          "text": []
        },
        {
          "name": "stdout",
          "output_type": "stream",
          "text": [
            "Train Loss(加權): 2.1106 | Train Raw MAE: 2.1106 | Val MAE: 2.8771\n",
            "\n",
            "[FOLD 3] === Epoch 367/400 ===  (LR: 1.58141e-05)\n"
          ]
        },
        {
          "name": "stderr",
          "output_type": "stream",
          "text": []
        },
        {
          "name": "stdout",
          "output_type": "stream",
          "text": [
            "Train Loss(加權): 2.0973 | Train Raw MAE: 2.0973 | Val MAE: 2.8988\n",
            "\n",
            "[FOLD 3] === Epoch 368/400 ===  (LR: 1.51916e-05)\n"
          ]
        },
        {
          "name": "stderr",
          "output_type": "stream",
          "text": []
        },
        {
          "name": "stdout",
          "output_type": "stream",
          "text": [
            "Train Loss(加權): 2.0879 | Train Raw MAE: 2.0879 | Val MAE: 2.8841\n",
            "\n",
            "[FOLD 3] === Epoch 369/400 ===  (LR: 1.45873e-05)\n"
          ]
        },
        {
          "name": "stderr",
          "output_type": "stream",
          "text": []
        },
        {
          "name": "stdout",
          "output_type": "stream",
          "text": [
            "Train Loss(加權): 2.1125 | Train Raw MAE: 2.1125 | Val MAE: 2.9046\n",
            "\n",
            "[FOLD 3] === Epoch 370/400 ===  (LR: 1.4001e-05)\n"
          ]
        },
        {
          "name": "stderr",
          "output_type": "stream",
          "text": []
        },
        {
          "name": "stdout",
          "output_type": "stream",
          "text": [
            "Train Loss(加權): 2.1119 | Train Raw MAE: 2.1119 | Val MAE: 2.8894\n",
            "\n",
            "[FOLD 3] === Epoch 371/400 ===  (LR: 1.34329e-05)\n"
          ]
        },
        {
          "name": "stderr",
          "output_type": "stream",
          "text": []
        },
        {
          "name": "stdout",
          "output_type": "stream",
          "text": [
            "Train Loss(加權): 2.1129 | Train Raw MAE: 2.1129 | Val MAE: 2.8728\n",
            "\n",
            "[FOLD 3] === Epoch 372/400 ===  (LR: 1.2883e-05)\n"
          ]
        },
        {
          "name": "stderr",
          "output_type": "stream",
          "text": []
        },
        {
          "name": "stdout",
          "output_type": "stream",
          "text": [
            "Train Loss(加權): 2.0987 | Train Raw MAE: 2.0987 | Val MAE: 2.8849\n",
            "\n",
            "[FOLD 3] === Epoch 373/400 ===  (LR: 1.23514e-05)\n"
          ]
        },
        {
          "name": "stderr",
          "output_type": "stream",
          "text": []
        },
        {
          "name": "stdout",
          "output_type": "stream",
          "text": [
            "Train Loss(加權): 2.1231 | Train Raw MAE: 2.1231 | Val MAE: 2.8812\n",
            "\n",
            "[FOLD 3] === Epoch 374/400 ===  (LR: 1.18381e-05)\n"
          ]
        },
        {
          "name": "stderr",
          "output_type": "stream",
          "text": []
        },
        {
          "name": "stdout",
          "output_type": "stream",
          "text": [
            "Train Loss(加權): 2.0831 | Train Raw MAE: 2.0831 | Val MAE: 2.8832\n",
            "\n",
            "[FOLD 3] === Epoch 375/400 ===  (LR: 1.1343e-05)\n"
          ]
        },
        {
          "name": "stderr",
          "output_type": "stream",
          "text": []
        },
        {
          "name": "stdout",
          "output_type": "stream",
          "text": [
            "Train Loss(加權): 2.0747 | Train Raw MAE: 2.0747 | Val MAE: 2.8572\n",
            "\n",
            "[FOLD 3] === Epoch 376/400 ===  (LR: 1.08664e-05)\n"
          ]
        },
        {
          "name": "stderr",
          "output_type": "stream",
          "text": []
        },
        {
          "name": "stdout",
          "output_type": "stream",
          "text": [
            "Train Loss(加權): 2.1200 | Train Raw MAE: 2.1200 | Val MAE: 2.8750\n",
            "\n",
            "[FOLD 3] === Epoch 377/400 ===  (LR: 1.04081e-05)\n"
          ]
        },
        {
          "name": "stderr",
          "output_type": "stream",
          "text": []
        },
        {
          "name": "stdout",
          "output_type": "stream",
          "text": [
            "Train Loss(加權): 2.0878 | Train Raw MAE: 2.0878 | Val MAE: 2.8723\n",
            "\n",
            "[FOLD 3] === Epoch 378/400 ===  (LR: 9.9683e-06)\n"
          ]
        },
        {
          "name": "stderr",
          "output_type": "stream",
          "text": []
        },
        {
          "name": "stdout",
          "output_type": "stream",
          "text": [
            "Train Loss(加權): 2.1122 | Train Raw MAE: 2.1122 | Val MAE: 2.9002\n",
            "\n",
            "[FOLD 3] === Epoch 379/400 ===  (LR: 9.54696e-06)\n"
          ]
        },
        {
          "name": "stderr",
          "output_type": "stream",
          "text": []
        },
        {
          "name": "stdout",
          "output_type": "stream",
          "text": [
            "Train Loss(加權): 2.0928 | Train Raw MAE: 2.0928 | Val MAE: 2.8924\n",
            "\n",
            "[FOLD 3] === Epoch 380/400 ===  (LR: 9.14411e-06)\n"
          ]
        },
        {
          "name": "stderr",
          "output_type": "stream",
          "text": []
        },
        {
          "name": "stdout",
          "output_type": "stream",
          "text": [
            "Train Loss(加權): 2.0579 | Train Raw MAE: 2.0579 | Val MAE: 2.8685\n",
            "\n",
            "[FOLD 3] === Epoch 381/400 ===  (LR: 8.75979e-06)\n"
          ]
        },
        {
          "name": "stderr",
          "output_type": "stream",
          "text": []
        },
        {
          "name": "stdout",
          "output_type": "stream",
          "text": [
            "Train Loss(加權): 2.0940 | Train Raw MAE: 2.0940 | Val MAE: 2.8685\n",
            "\n",
            "[FOLD 3] === Epoch 382/400 ===  (LR: 8.39404e-06)\n"
          ]
        },
        {
          "name": "stderr",
          "output_type": "stream",
          "text": []
        },
        {
          "name": "stdout",
          "output_type": "stream",
          "text": [
            "Train Loss(加權): 2.0746 | Train Raw MAE: 2.0746 | Val MAE: 2.9294\n",
            "\n",
            "[FOLD 3] === Epoch 383/400 ===  (LR: 8.04688e-06)\n"
          ]
        },
        {
          "name": "stderr",
          "output_type": "stream",
          "text": []
        },
        {
          "name": "stdout",
          "output_type": "stream",
          "text": [
            "Train Loss(加權): 2.0813 | Train Raw MAE: 2.0813 | Val MAE: 2.8907\n",
            "\n",
            "[FOLD 3] === Epoch 384/400 ===  (LR: 7.71833e-06)\n"
          ]
        },
        {
          "name": "stderr",
          "output_type": "stream",
          "text": []
        },
        {
          "name": "stdout",
          "output_type": "stream",
          "text": [
            "Train Loss(加權): 2.0834 | Train Raw MAE: 2.0834 | Val MAE: 2.9054\n",
            "\n",
            "[FOLD 3] === Epoch 385/400 ===  (LR: 7.40842e-06)\n"
          ]
        },
        {
          "name": "stderr",
          "output_type": "stream",
          "text": []
        },
        {
          "name": "stdout",
          "output_type": "stream",
          "text": [
            "Train Loss(加權): 2.0848 | Train Raw MAE: 2.0848 | Val MAE: 2.8782\n",
            "\n",
            "[FOLD 3] === Epoch 386/400 ===  (LR: 7.11718e-06)\n"
          ]
        },
        {
          "name": "stderr",
          "output_type": "stream",
          "text": []
        },
        {
          "name": "stdout",
          "output_type": "stream",
          "text": [
            "Train Loss(加權): 2.0831 | Train Raw MAE: 2.0831 | Val MAE: 2.8638\n",
            "\n",
            "[FOLD 3] === Epoch 387/400 ===  (LR: 6.84463e-06)\n"
          ]
        },
        {
          "name": "stderr",
          "output_type": "stream",
          "text": []
        },
        {
          "name": "stdout",
          "output_type": "stream",
          "text": [
            "Train Loss(加權): 2.0791 | Train Raw MAE: 2.0791 | Val MAE: 2.8564\n",
            "\n",
            "[FOLD 3] === Epoch 388/400 ===  (LR: 6.59078e-06)\n"
          ]
        },
        {
          "name": "stderr",
          "output_type": "stream",
          "text": []
        },
        {
          "name": "stdout",
          "output_type": "stream",
          "text": [
            "Train Loss(加權): 2.0623 | Train Raw MAE: 2.0623 | Val MAE: 2.8700\n",
            "\n",
            "[FOLD 3] === Epoch 389/400 ===  (LR: 6.35566e-06)\n"
          ]
        },
        {
          "name": "stderr",
          "output_type": "stream",
          "text": []
        },
        {
          "name": "stdout",
          "output_type": "stream",
          "text": [
            "Train Loss(加權): 2.0651 | Train Raw MAE: 2.0651 | Val MAE: 2.8976\n",
            "\n",
            "[FOLD 3] === Epoch 390/400 ===  (LR: 6.13928e-06)\n"
          ]
        },
        {
          "name": "stderr",
          "output_type": "stream",
          "text": []
        },
        {
          "name": "stdout",
          "output_type": "stream",
          "text": [
            "Train Loss(加權): 2.0782 | Train Raw MAE: 2.0782 | Val MAE: 2.8929\n",
            "\n",
            "[FOLD 3] === Epoch 391/400 ===  (LR: 5.94167e-06)\n"
          ]
        },
        {
          "name": "stderr",
          "output_type": "stream",
          "text": []
        },
        {
          "name": "stdout",
          "output_type": "stream",
          "text": [
            "Train Loss(加權): 2.0879 | Train Raw MAE: 2.0879 | Val MAE: 2.8654\n",
            "\n",
            "[FOLD 3] === Epoch 392/400 ===  (LR: 5.76283e-06)\n"
          ]
        },
        {
          "name": "stderr",
          "output_type": "stream",
          "text": []
        },
        {
          "name": "stdout",
          "output_type": "stream",
          "text": [
            "Train Loss(加權): 2.1037 | Train Raw MAE: 2.1037 | Val MAE: 2.8781\n",
            "\n",
            "[FOLD 3] === Epoch 393/400 ===  (LR: 5.60278e-06)\n"
          ]
        },
        {
          "name": "stderr",
          "output_type": "stream",
          "text": []
        },
        {
          "name": "stdout",
          "output_type": "stream",
          "text": [
            "Train Loss(加權): 2.0837 | Train Raw MAE: 2.0837 | Val MAE: 2.8687\n",
            "\n",
            "[FOLD 3] === Epoch 394/400 ===  (LR: 5.46154e-06)\n"
          ]
        },
        {
          "name": "stderr",
          "output_type": "stream",
          "text": []
        },
        {
          "name": "stdout",
          "output_type": "stream",
          "text": [
            "Train Loss(加權): 2.0748 | Train Raw MAE: 2.0748 | Val MAE: 2.8777\n",
            "\n",
            "[FOLD 3] === Epoch 395/400 ===  (LR: 5.3391e-06)\n"
          ]
        },
        {
          "name": "stderr",
          "output_type": "stream",
          "text": []
        },
        {
          "name": "stdout",
          "output_type": "stream",
          "text": [
            "Train Loss(加權): 2.0719 | Train Raw MAE: 2.0719 | Val MAE: 2.8663\n",
            "\n",
            "[FOLD 3] === Epoch 396/400 ===  (LR: 5.23549e-06)\n"
          ]
        },
        {
          "name": "stderr",
          "output_type": "stream",
          "text": []
        },
        {
          "name": "stdout",
          "output_type": "stream",
          "text": [
            "Train Loss(加權): 2.0869 | Train Raw MAE: 2.0869 | Val MAE: 2.8748\n",
            "\n",
            "[FOLD 3] === Epoch 397/400 ===  (LR: 5.15071e-06)\n"
          ]
        },
        {
          "name": "stderr",
          "output_type": "stream",
          "text": []
        },
        {
          "name": "stdout",
          "output_type": "stream",
          "text": [
            "Train Loss(加權): 2.0765 | Train Raw MAE: 2.0765 | Val MAE: 2.8757\n",
            "\n",
            "[FOLD 3] === Epoch 398/400 ===  (LR: 5.08477e-06)\n"
          ]
        },
        {
          "name": "stderr",
          "output_type": "stream",
          "text": []
        },
        {
          "name": "stdout",
          "output_type": "stream",
          "text": [
            "Train Loss(加權): 2.0893 | Train Raw MAE: 2.0893 | Val MAE: 2.8756\n",
            "\n",
            "[FOLD 3] === Epoch 399/400 ===  (LR: 5.03767e-06)\n"
          ]
        },
        {
          "name": "stderr",
          "output_type": "stream",
          "text": []
        },
        {
          "name": "stdout",
          "output_type": "stream",
          "text": [
            "Train Loss(加權): 2.0568 | Train Raw MAE: 2.0568 | Val MAE: 2.8843\n",
            "\n",
            "[FOLD 3] === Epoch 400/400 ===  (LR: 5.00941e-06)\n"
          ]
        },
        {
          "name": "stderr",
          "output_type": "stream",
          "text": []
        },
        {
          "name": "stdout",
          "output_type": "stream",
          "text": [
            "Train Loss(加權): 2.1001 | Train Raw MAE: 2.1001 | Val MAE: 2.8769\n",
            "✅ Fold 3 最佳模型已儲存\n",
            "\n",
            "🚀 開始訓練 Fold 4 (論文式加權 MAE 損失)...\n",
            "📊 年齡組權重分佈:\n",
            "     5-9:  662 樣本, 權重 = 1.000\n",
            "   10-14:  661 樣本, 權重 = 1.000\n",
            "   15-19:  878 樣本, 權重 = 1.000\n",
            "   20-24: 1374 樣本, 權重 = 1.000\n",
            "   25-29:  429 樣本, 權重 = 1.000\n",
            "   30-34:  152 樣本, 權重 = 1.000\n",
            "   35-39:   40 樣本, 權重 = 1.000\n",
            "   40-44:   48 樣本, 權重 = 1.000\n",
            "   45-49:   66 樣本, 權重 = 1.000\n",
            "   50-54:   59 樣本, 權重 = 1.000\n",
            "   55-59:   98 樣本, 權重 = 1.000\n",
            "   60-64:  124 樣本, 權重 = 1.000\n",
            "   65-69:  199 樣本, 權重 = 1.000\n",
            "   70-74:  216 樣本, 權重 = 1.000\n",
            "   75-79:  118 樣本, 權重 = 1.000\n",
            "   80-84:   54 樣本, 權重 = 1.000\n",
            "   85-89:   22 樣本, 權重 = 1.000\n",
            "   90-94:    2 樣本, 權重 = 1.000\n",
            "   95-99:    2 樣本, 權重 = 1.000\n",
            "\n",
            "[FOLD 4] === Epoch 1/400 ===  (LR: 0.0001)\n"
          ]
        },
        {
          "name": "stderr",
          "output_type": "stream",
          "text": []
        },
        {
          "name": "stdout",
          "output_type": "stream",
          "text": [
            "Train Loss(加權): 13.6471 | Train Raw MAE: 13.6471 | Val MAE: 10.2098\n",
            "🎯 New best Val MAE: 10.2098\n",
            "\n",
            "[FOLD 4] === Epoch 2/400 ===  (LR: 0.000100617)\n"
          ]
        },
        {
          "name": "stderr",
          "output_type": "stream",
          "text": []
        },
        {
          "name": "stdout",
          "output_type": "stream",
          "text": [
            "Train Loss(加權): 10.8540 | Train Raw MAE: 10.8540 | Val MAE: 10.4726\n",
            "\n",
            "[FOLD 4] === Epoch 3/400 ===  (LR: 0.000102462)\n"
          ]
        },
        {
          "name": "stderr",
          "output_type": "stream",
          "text": []
        },
        {
          "name": "stdout",
          "output_type": "stream",
          "text": [
            "Train Loss(加權): 10.4023 | Train Raw MAE: 10.4023 | Val MAE: 9.9311\n",
            "🎯 New best Val MAE: 9.9311\n",
            "\n",
            "[FOLD 4] === Epoch 4/400 ===  (LR: 0.000105526)\n"
          ]
        },
        {
          "name": "stderr",
          "output_type": "stream",
          "text": []
        },
        {
          "name": "stdout",
          "output_type": "stream",
          "text": [
            "Train Loss(加權): 10.3656 | Train Raw MAE: 10.3656 | Val MAE: 12.6575\n",
            "\n",
            "[FOLD 4] === Epoch 5/400 ===  (LR: 0.000109789)\n"
          ]
        },
        {
          "name": "stderr",
          "output_type": "stream",
          "text": []
        },
        {
          "name": "stdout",
          "output_type": "stream",
          "text": [
            "Train Loss(加權): 9.9497 | Train Raw MAE: 9.9497 | Val MAE: 8.0986\n",
            "🎯 New best Val MAE: 8.0986\n",
            "\n",
            "[FOLD 4] === Epoch 6/400 ===  (LR: 0.000115225)\n"
          ]
        },
        {
          "name": "stderr",
          "output_type": "stream",
          "text": []
        },
        {
          "name": "stdout",
          "output_type": "stream",
          "text": [
            "Train Loss(加權): 9.7152 | Train Raw MAE: 9.7152 | Val MAE: 10.7838\n",
            "\n",
            "[FOLD 4] === Epoch 7/400 ===  (LR: 0.0001218)\n"
          ]
        },
        {
          "name": "stderr",
          "output_type": "stream",
          "text": []
        },
        {
          "name": "stdout",
          "output_type": "stream",
          "text": [
            "Train Loss(加權): 9.4201 | Train Raw MAE: 9.4201 | Val MAE: 10.4670\n",
            "\n",
            "[FOLD 4] === Epoch 8/400 ===  (LR: 0.000129473)\n"
          ]
        },
        {
          "name": "stderr",
          "output_type": "stream",
          "text": []
        },
        {
          "name": "stdout",
          "output_type": "stream",
          "text": [
            "Train Loss(加權): 9.2713 | Train Raw MAE: 9.2713 | Val MAE: 13.2023\n",
            "\n",
            "[FOLD 4] === Epoch 9/400 ===  (LR: 0.000138198)\n"
          ]
        },
        {
          "name": "stderr",
          "output_type": "stream",
          "text": []
        },
        {
          "name": "stdout",
          "output_type": "stream",
          "text": [
            "Train Loss(加權): 9.1894 | Train Raw MAE: 9.1894 | Val MAE: 12.8937\n",
            "\n",
            "[FOLD 4] === Epoch 10/400 ===  (LR: 0.000147921)\n"
          ]
        },
        {
          "name": "stderr",
          "output_type": "stream",
          "text": []
        },
        {
          "name": "stdout",
          "output_type": "stream",
          "text": [
            "Train Loss(加權): 8.9410 | Train Raw MAE: 8.9410 | Val MAE: 7.3334\n",
            "🎯 New best Val MAE: 7.3334\n",
            "\n",
            "[FOLD 4] === Epoch 11/400 ===  (LR: 0.000158581)\n"
          ]
        },
        {
          "name": "stderr",
          "output_type": "stream",
          "text": []
        },
        {
          "name": "stdout",
          "output_type": "stream",
          "text": [
            "Train Loss(加權): 8.5880 | Train Raw MAE: 8.5880 | Val MAE: 7.0457\n",
            "🎯 New best Val MAE: 7.0457\n",
            "\n",
            "[FOLD 4] === Epoch 12/400 ===  (LR: 0.000170113)\n"
          ]
        },
        {
          "name": "stderr",
          "output_type": "stream",
          "text": []
        },
        {
          "name": "stdout",
          "output_type": "stream",
          "text": [
            "Train Loss(加權): 8.6957 | Train Raw MAE: 8.6957 | Val MAE: 16.2395\n",
            "\n",
            "[FOLD 4] === Epoch 13/400 ===  (LR: 0.000182446)\n"
          ]
        },
        {
          "name": "stderr",
          "output_type": "stream",
          "text": []
        },
        {
          "name": "stdout",
          "output_type": "stream",
          "text": [
            "Train Loss(加權): 8.5260 | Train Raw MAE: 8.5260 | Val MAE: 11.6880\n",
            "\n",
            "[FOLD 4] === Epoch 14/400 ===  (LR: 0.000195504)\n"
          ]
        },
        {
          "name": "stderr",
          "output_type": "stream",
          "text": []
        },
        {
          "name": "stdout",
          "output_type": "stream",
          "text": [
            "Train Loss(加權): 8.5546 | Train Raw MAE: 8.5546 | Val MAE: 8.3778\n",
            "\n",
            "[FOLD 4] === Epoch 15/400 ===  (LR: 0.000209206)\n"
          ]
        },
        {
          "name": "stderr",
          "output_type": "stream",
          "text": []
        },
        {
          "name": "stdout",
          "output_type": "stream",
          "text": [
            "Train Loss(加權): 8.1946 | Train Raw MAE: 8.1946 | Val MAE: 8.8920\n",
            "\n",
            "[FOLD 4] === Epoch 16/400 ===  (LR: 0.000223467)\n"
          ]
        },
        {
          "name": "stderr",
          "output_type": "stream",
          "text": []
        },
        {
          "name": "stdout",
          "output_type": "stream",
          "text": [
            "Train Loss(加權): 8.2046 | Train Raw MAE: 8.2046 | Val MAE: 15.1221\n",
            "\n",
            "[FOLD 4] === Epoch 17/400 ===  (LR: 0.000238201)\n"
          ]
        },
        {
          "name": "stderr",
          "output_type": "stream",
          "text": []
        },
        {
          "name": "stdout",
          "output_type": "stream",
          "text": [
            "Train Loss(加權): 8.1885 | Train Raw MAE: 8.1885 | Val MAE: 10.3203\n",
            "\n",
            "[FOLD 4] === Epoch 18/400 ===  (LR: 0.000253316)\n"
          ]
        },
        {
          "name": "stderr",
          "output_type": "stream",
          "text": []
        },
        {
          "name": "stdout",
          "output_type": "stream",
          "text": [
            "Train Loss(加權): 8.0700 | Train Raw MAE: 8.0700 | Val MAE: 25.0854\n",
            "\n",
            "[FOLD 4] === Epoch 19/400 ===  (LR: 0.000268718)\n"
          ]
        },
        {
          "name": "stderr",
          "output_type": "stream",
          "text": []
        },
        {
          "name": "stdout",
          "output_type": "stream",
          "text": [
            "Train Loss(加權): 8.2618 | Train Raw MAE: 8.2618 | Val MAE: 15.4180\n",
            "\n",
            "[FOLD 4] === Epoch 20/400 ===  (LR: 0.000284314)\n"
          ]
        },
        {
          "name": "stderr",
          "output_type": "stream",
          "text": []
        },
        {
          "name": "stdout",
          "output_type": "stream",
          "text": [
            "Train Loss(加權): 7.8086 | Train Raw MAE: 7.8086 | Val MAE: 11.5102\n",
            "\n",
            "[FOLD 4] === Epoch 21/400 ===  (LR: 0.000300006)\n"
          ]
        },
        {
          "name": "stderr",
          "output_type": "stream",
          "text": []
        },
        {
          "name": "stdout",
          "output_type": "stream",
          "text": [
            "Train Loss(加權): 7.7824 | Train Raw MAE: 7.7824 | Val MAE: 6.2329\n",
            "🎯 New best Val MAE: 6.2329\n",
            "\n",
            "[FOLD 4] === Epoch 22/400 ===  (LR: 0.000315698)\n"
          ]
        },
        {
          "name": "stderr",
          "output_type": "stream",
          "text": []
        },
        {
          "name": "stdout",
          "output_type": "stream",
          "text": [
            "Train Loss(加權): 7.8483 | Train Raw MAE: 7.8483 | Val MAE: 15.7082\n",
            "\n",
            "[FOLD 4] === Epoch 23/400 ===  (LR: 0.000331293)\n"
          ]
        },
        {
          "name": "stderr",
          "output_type": "stream",
          "text": []
        },
        {
          "name": "stdout",
          "output_type": "stream",
          "text": [
            "Train Loss(加權): 7.8709 | Train Raw MAE: 7.8709 | Val MAE: 15.5202\n",
            "\n",
            "[FOLD 4] === Epoch 24/400 ===  (LR: 0.000346696)\n"
          ]
        },
        {
          "name": "stderr",
          "output_type": "stream",
          "text": []
        },
        {
          "name": "stdout",
          "output_type": "stream",
          "text": [
            "Train Loss(加權): 7.6193 | Train Raw MAE: 7.6193 | Val MAE: 5.9436\n",
            "🎯 New best Val MAE: 5.9436\n",
            "\n",
            "[FOLD 4] === Epoch 25/400 ===  (LR: 0.00036181)\n"
          ]
        },
        {
          "name": "stderr",
          "output_type": "stream",
          "text": []
        },
        {
          "name": "stdout",
          "output_type": "stream",
          "text": [
            "Train Loss(加權): 7.2053 | Train Raw MAE: 7.2053 | Val MAE: 9.5277\n",
            "\n",
            "[FOLD 4] === Epoch 26/400 ===  (LR: 0.000376544)\n"
          ]
        },
        {
          "name": "stderr",
          "output_type": "stream",
          "text": []
        },
        {
          "name": "stdout",
          "output_type": "stream",
          "text": [
            "Train Loss(加權): 7.0765 | Train Raw MAE: 7.0765 | Val MAE: 6.5001\n",
            "\n",
            "[FOLD 4] === Epoch 27/400 ===  (LR: 0.000390805)\n"
          ]
        },
        {
          "name": "stderr",
          "output_type": "stream",
          "text": []
        },
        {
          "name": "stdout",
          "output_type": "stream",
          "text": [
            "Train Loss(加權): 6.8306 | Train Raw MAE: 6.8306 | Val MAE: 9.9958\n",
            "\n",
            "[FOLD 4] === Epoch 28/400 ===  (LR: 0.000404507)\n"
          ]
        },
        {
          "name": "stderr",
          "output_type": "stream",
          "text": []
        },
        {
          "name": "stdout",
          "output_type": "stream",
          "text": [
            "Train Loss(加權): 7.0004 | Train Raw MAE: 7.0004 | Val MAE: 11.9659\n",
            "\n",
            "[FOLD 4] === Epoch 29/400 ===  (LR: 0.000417564)\n"
          ]
        },
        {
          "name": "stderr",
          "output_type": "stream",
          "text": []
        },
        {
          "name": "stdout",
          "output_type": "stream",
          "text": [
            "Train Loss(加權): 6.6528 | Train Raw MAE: 6.6528 | Val MAE: 8.3260\n",
            "\n",
            "[FOLD 4] === Epoch 30/400 ===  (LR: 0.000429896)\n"
          ]
        },
        {
          "name": "stderr",
          "output_type": "stream",
          "text": []
        },
        {
          "name": "stdout",
          "output_type": "stream",
          "text": [
            "Train Loss(加權): 6.5673 | Train Raw MAE: 6.5673 | Val MAE: 6.3570\n",
            "\n",
            "[FOLD 4] === Epoch 31/400 ===  (LR: 0.000441428)\n"
          ]
        },
        {
          "name": "stderr",
          "output_type": "stream",
          "text": []
        },
        {
          "name": "stdout",
          "output_type": "stream",
          "text": [
            "Train Loss(加權): 6.5023 | Train Raw MAE: 6.5023 | Val MAE: 7.0897\n",
            "\n",
            "[FOLD 4] === Epoch 32/400 ===  (LR: 0.000452087)\n"
          ]
        },
        {
          "name": "stderr",
          "output_type": "stream",
          "text": []
        },
        {
          "name": "stdout",
          "output_type": "stream",
          "text": [
            "Train Loss(加權): 6.2336 | Train Raw MAE: 6.2336 | Val MAE: 6.9228\n",
            "\n",
            "[FOLD 4] === Epoch 33/400 ===  (LR: 0.000461809)\n"
          ]
        },
        {
          "name": "stderr",
          "output_type": "stream",
          "text": []
        },
        {
          "name": "stdout",
          "output_type": "stream",
          "text": [
            "Train Loss(加權): 6.0025 | Train Raw MAE: 6.0025 | Val MAE: 6.4615\n",
            "\n",
            "[FOLD 4] === Epoch 34/400 ===  (LR: 0.000470533)\n"
          ]
        },
        {
          "name": "stderr",
          "output_type": "stream",
          "text": []
        },
        {
          "name": "stdout",
          "output_type": "stream",
          "text": [
            "Train Loss(加權): 5.9658 | Train Raw MAE: 5.9658 | Val MAE: 12.1728\n",
            "\n",
            "[FOLD 4] === Epoch 35/400 ===  (LR: 0.000478206)\n"
          ]
        },
        {
          "name": "stderr",
          "output_type": "stream",
          "text": []
        },
        {
          "name": "stdout",
          "output_type": "stream",
          "text": [
            "Train Loss(加權): 6.0505 | Train Raw MAE: 6.0505 | Val MAE: 6.7264\n",
            "\n",
            "[FOLD 4] === Epoch 36/400 ===  (LR: 0.00048478)\n"
          ]
        },
        {
          "name": "stderr",
          "output_type": "stream",
          "text": []
        },
        {
          "name": "stdout",
          "output_type": "stream",
          "text": [
            "Train Loss(加權): 6.1791 | Train Raw MAE: 6.1791 | Val MAE: 5.1199\n",
            "🎯 New best Val MAE: 5.1199\n",
            "\n",
            "[FOLD 4] === Epoch 37/400 ===  (LR: 0.000490215)\n"
          ]
        },
        {
          "name": "stderr",
          "output_type": "stream",
          "text": []
        },
        {
          "name": "stdout",
          "output_type": "stream",
          "text": [
            "Train Loss(加權): 5.9068 | Train Raw MAE: 5.9068 | Val MAE: 6.3747\n",
            "\n",
            "[FOLD 4] === Epoch 38/400 ===  (LR: 0.000494477)\n"
          ]
        },
        {
          "name": "stderr",
          "output_type": "stream",
          "text": []
        },
        {
          "name": "stdout",
          "output_type": "stream",
          "text": [
            "Train Loss(加權): 5.6995 | Train Raw MAE: 5.6995 | Val MAE: 4.7240\n",
            "🎯 New best Val MAE: 4.7240\n",
            "\n",
            "[FOLD 4] === Epoch 39/400 ===  (LR: 0.000497539)\n"
          ]
        },
        {
          "name": "stderr",
          "output_type": "stream",
          "text": []
        },
        {
          "name": "stdout",
          "output_type": "stream",
          "text": [
            "Train Loss(加權): 5.6851 | Train Raw MAE: 5.6851 | Val MAE: 4.6812\n",
            "🎯 New best Val MAE: 4.6812\n",
            "\n",
            "[FOLD 4] === Epoch 40/400 ===  (LR: 0.000499384)\n"
          ]
        },
        {
          "name": "stderr",
          "output_type": "stream",
          "text": []
        },
        {
          "name": "stdout",
          "output_type": "stream",
          "text": [
            "Train Loss(加權): 5.5370 | Train Raw MAE: 5.5370 | Val MAE: 4.9231\n",
            "\n",
            "[FOLD 4] === Epoch 41/400 ===  (LR: 0.0005)\n"
          ]
        },
        {
          "name": "stderr",
          "output_type": "stream",
          "text": []
        },
        {
          "name": "stdout",
          "output_type": "stream",
          "text": [
            "Train Loss(加權): 5.5438 | Train Raw MAE: 5.5438 | Val MAE: 8.0699\n",
            "\n",
            "[FOLD 4] === Epoch 42/400 ===  (LR: 0.000499991)\n"
          ]
        },
        {
          "name": "stderr",
          "output_type": "stream",
          "text": []
        },
        {
          "name": "stdout",
          "output_type": "stream",
          "text": [
            "Train Loss(加權): 5.6228 | Train Raw MAE: 5.6228 | Val MAE: 7.2330\n",
            "\n",
            "[FOLD 4] === Epoch 43/400 ===  (LR: 0.000499962)\n"
          ]
        },
        {
          "name": "stderr",
          "output_type": "stream",
          "text": []
        },
        {
          "name": "stdout",
          "output_type": "stream",
          "text": [
            "Train Loss(加權): 5.3826 | Train Raw MAE: 5.3826 | Val MAE: 6.2150\n",
            "\n",
            "[FOLD 4] === Epoch 44/400 ===  (LR: 0.000499915)\n"
          ]
        },
        {
          "name": "stderr",
          "output_type": "stream",
          "text": []
        },
        {
          "name": "stdout",
          "output_type": "stream",
          "text": [
            "Train Loss(加權): 5.3387 | Train Raw MAE: 5.3387 | Val MAE: 4.5151\n",
            "🎯 New best Val MAE: 4.5151\n",
            "\n",
            "[FOLD 4] === Epoch 45/400 ===  (LR: 0.000499849)\n"
          ]
        },
        {
          "name": "stderr",
          "output_type": "stream",
          "text": []
        },
        {
          "name": "stdout",
          "output_type": "stream",
          "text": [
            "Train Loss(加權): 5.1741 | Train Raw MAE: 5.1741 | Val MAE: 7.2303\n",
            "\n",
            "[FOLD 4] === Epoch 46/400 ===  (LR: 0.000499764)\n"
          ]
        },
        {
          "name": "stderr",
          "output_type": "stream",
          "text": []
        },
        {
          "name": "stdout",
          "output_type": "stream",
          "text": [
            "Train Loss(加權): 5.1816 | Train Raw MAE: 5.1816 | Val MAE: 4.3422\n",
            "🎯 New best Val MAE: 4.3422\n",
            "\n",
            "[FOLD 4] === Epoch 47/400 ===  (LR: 0.000499661)\n"
          ]
        },
        {
          "name": "stderr",
          "output_type": "stream",
          "text": []
        },
        {
          "name": "stdout",
          "output_type": "stream",
          "text": [
            "Train Loss(加權): 5.3241 | Train Raw MAE: 5.3241 | Val MAE: 4.7253\n",
            "\n",
            "[FOLD 4] === Epoch 48/400 ===  (LR: 0.000499538)\n"
          ]
        },
        {
          "name": "stderr",
          "output_type": "stream",
          "text": []
        },
        {
          "name": "stdout",
          "output_type": "stream",
          "text": [
            "Train Loss(加權): 5.1665 | Train Raw MAE: 5.1665 | Val MAE: 4.5803\n",
            "\n",
            "[FOLD 4] === Epoch 49/400 ===  (LR: 0.000499397)\n"
          ]
        },
        {
          "name": "stderr",
          "output_type": "stream",
          "text": []
        },
        {
          "name": "stdout",
          "output_type": "stream",
          "text": [
            "Train Loss(加權): 5.0809 | Train Raw MAE: 5.0809 | Val MAE: 5.3855\n",
            "\n",
            "[FOLD 4] === Epoch 50/400 ===  (LR: 0.000499237)\n"
          ]
        },
        {
          "name": "stderr",
          "output_type": "stream",
          "text": []
        },
        {
          "name": "stdout",
          "output_type": "stream",
          "text": [
            "Train Loss(加權): 5.0259 | Train Raw MAE: 5.0259 | Val MAE: 4.3432\n",
            "\n",
            "[FOLD 4] === Epoch 51/400 ===  (LR: 0.000499058)\n"
          ]
        },
        {
          "name": "stderr",
          "output_type": "stream",
          "text": []
        },
        {
          "name": "stdout",
          "output_type": "stream",
          "text": [
            "Train Loss(加權): 5.0437 | Train Raw MAE: 5.0437 | Val MAE: 8.8248\n",
            "\n",
            "[FOLD 4] === Epoch 52/400 ===  (LR: 0.00049886)\n"
          ]
        },
        {
          "name": "stderr",
          "output_type": "stream",
          "text": []
        },
        {
          "name": "stdout",
          "output_type": "stream",
          "text": [
            "Train Loss(加權): 5.0528 | Train Raw MAE: 5.0528 | Val MAE: 4.1584\n",
            "🎯 New best Val MAE: 4.1584\n",
            "\n",
            "[FOLD 4] === Epoch 53/400 ===  (LR: 0.000498644)\n"
          ]
        },
        {
          "name": "stderr",
          "output_type": "stream",
          "text": []
        },
        {
          "name": "stdout",
          "output_type": "stream",
          "text": [
            "Train Loss(加權): 4.9534 | Train Raw MAE: 4.9534 | Val MAE: 5.5568\n",
            "\n",
            "[FOLD 4] === Epoch 54/400 ===  (LR: 0.000498409)\n"
          ]
        },
        {
          "name": "stderr",
          "output_type": "stream",
          "text": []
        },
        {
          "name": "stdout",
          "output_type": "stream",
          "text": [
            "Train Loss(加權): 4.8824 | Train Raw MAE: 4.8824 | Val MAE: 4.7383\n",
            "\n",
            "[FOLD 4] === Epoch 55/400 ===  (LR: 0.000498155)\n"
          ]
        },
        {
          "name": "stderr",
          "output_type": "stream",
          "text": []
        },
        {
          "name": "stdout",
          "output_type": "stream",
          "text": [
            "Train Loss(加權): 4.9715 | Train Raw MAE: 4.9715 | Val MAE: 5.2547\n",
            "\n",
            "[FOLD 4] === Epoch 56/400 ===  (LR: 0.000497882)\n"
          ]
        },
        {
          "name": "stderr",
          "output_type": "stream",
          "text": []
        },
        {
          "name": "stdout",
          "output_type": "stream",
          "text": [
            "Train Loss(加權): 4.8905 | Train Raw MAE: 4.8905 | Val MAE: 4.4331\n",
            "\n",
            "[FOLD 4] === Epoch 57/400 ===  (LR: 0.000497591)\n"
          ]
        },
        {
          "name": "stderr",
          "output_type": "stream",
          "text": []
        },
        {
          "name": "stdout",
          "output_type": "stream",
          "text": [
            "Train Loss(加權): 4.8377 | Train Raw MAE: 4.8377 | Val MAE: 4.2732\n",
            "\n",
            "[FOLD 4] === Epoch 58/400 ===  (LR: 0.000497281)\n"
          ]
        },
        {
          "name": "stderr",
          "output_type": "stream",
          "text": []
        },
        {
          "name": "stdout",
          "output_type": "stream",
          "text": [
            "Train Loss(加權): 4.7882 | Train Raw MAE: 4.7882 | Val MAE: 4.4570\n",
            "\n",
            "[FOLD 4] === Epoch 59/400 ===  (LR: 0.000496953)\n"
          ]
        },
        {
          "name": "stderr",
          "output_type": "stream",
          "text": []
        },
        {
          "name": "stdout",
          "output_type": "stream",
          "text": [
            "Train Loss(加權): 4.7412 | Train Raw MAE: 4.7412 | Val MAE: 4.7250\n",
            "\n",
            "[FOLD 4] === Epoch 60/400 ===  (LR: 0.000496605)\n"
          ]
        },
        {
          "name": "stderr",
          "output_type": "stream",
          "text": []
        },
        {
          "name": "stdout",
          "output_type": "stream",
          "text": [
            "Train Loss(加權): 4.6371 | Train Raw MAE: 4.6371 | Val MAE: 4.2355\n",
            "\n",
            "[FOLD 4] === Epoch 61/400 ===  (LR: 0.00049624)\n"
          ]
        },
        {
          "name": "stderr",
          "output_type": "stream",
          "text": []
        },
        {
          "name": "stdout",
          "output_type": "stream",
          "text": [
            "Train Loss(加權): 4.6850 | Train Raw MAE: 4.6850 | Val MAE: 4.7790\n",
            "\n",
            "[FOLD 4] === Epoch 62/400 ===  (LR: 0.000495855)\n"
          ]
        },
        {
          "name": "stderr",
          "output_type": "stream",
          "text": []
        },
        {
          "name": "stdout",
          "output_type": "stream",
          "text": [
            "Train Loss(加權): 4.7120 | Train Raw MAE: 4.7120 | Val MAE: 4.7264\n",
            "\n",
            "[FOLD 4] === Epoch 63/400 ===  (LR: 0.000495452)\n"
          ]
        },
        {
          "name": "stderr",
          "output_type": "stream",
          "text": []
        },
        {
          "name": "stdout",
          "output_type": "stream",
          "text": [
            "Train Loss(加權): 4.6514 | Train Raw MAE: 4.6514 | Val MAE: 4.0128\n",
            "🎯 New best Val MAE: 4.0128\n",
            "\n",
            "[FOLD 4] === Epoch 64/400 ===  (LR: 0.000495031)\n"
          ]
        },
        {
          "name": "stderr",
          "output_type": "stream",
          "text": []
        },
        {
          "name": "stdout",
          "output_type": "stream",
          "text": [
            "Train Loss(加權): 4.5675 | Train Raw MAE: 4.5675 | Val MAE: 5.7691\n",
            "\n",
            "[FOLD 4] === Epoch 65/400 ===  (LR: 0.000494591)\n"
          ]
        },
        {
          "name": "stderr",
          "output_type": "stream",
          "text": []
        },
        {
          "name": "stdout",
          "output_type": "stream",
          "text": [
            "Train Loss(加權): 4.5130 | Train Raw MAE: 4.5130 | Val MAE: 5.1429\n",
            "\n",
            "[FOLD 4] === Epoch 66/400 ===  (LR: 0.000494133)\n"
          ]
        },
        {
          "name": "stderr",
          "output_type": "stream",
          "text": []
        },
        {
          "name": "stdout",
          "output_type": "stream",
          "text": [
            "Train Loss(加權): 4.4820 | Train Raw MAE: 4.4820 | Val MAE: 4.2950\n",
            "\n",
            "[FOLD 4] === Epoch 67/400 ===  (LR: 0.000493656)\n"
          ]
        },
        {
          "name": "stderr",
          "output_type": "stream",
          "text": []
        },
        {
          "name": "stdout",
          "output_type": "stream",
          "text": [
            "Train Loss(加權): 4.5569 | Train Raw MAE: 4.5569 | Val MAE: 6.3311\n",
            "\n",
            "[FOLD 4] === Epoch 68/400 ===  (LR: 0.000493161)\n"
          ]
        },
        {
          "name": "stderr",
          "output_type": "stream",
          "text": []
        },
        {
          "name": "stdout",
          "output_type": "stream",
          "text": [
            "Train Loss(加權): 4.4805 | Train Raw MAE: 4.4805 | Val MAE: 4.0857\n",
            "\n",
            "[FOLD 4] === Epoch 69/400 ===  (LR: 0.000492648)\n"
          ]
        },
        {
          "name": "stderr",
          "output_type": "stream",
          "text": []
        },
        {
          "name": "stdout",
          "output_type": "stream",
          "text": [
            "Train Loss(加權): 4.4009 | Train Raw MAE: 4.4009 | Val MAE: 3.8406\n",
            "🎯 New best Val MAE: 3.8406\n",
            "\n",
            "[FOLD 4] === Epoch 70/400 ===  (LR: 0.000492116)\n"
          ]
        },
        {
          "name": "stderr",
          "output_type": "stream",
          "text": []
        },
        {
          "name": "stdout",
          "output_type": "stream",
          "text": [
            "Train Loss(加權): 4.4533 | Train Raw MAE: 4.4533 | Val MAE: 3.8898\n",
            "\n",
            "[FOLD 4] === Epoch 71/400 ===  (LR: 0.000491566)\n"
          ]
        },
        {
          "name": "stderr",
          "output_type": "stream",
          "text": []
        },
        {
          "name": "stdout",
          "output_type": "stream",
          "text": [
            "Train Loss(加權): 4.3480 | Train Raw MAE: 4.3480 | Val MAE: 3.9483\n",
            "\n",
            "[FOLD 4] === Epoch 72/400 ===  (LR: 0.000490998)\n"
          ]
        },
        {
          "name": "stderr",
          "output_type": "stream",
          "text": []
        },
        {
          "name": "stdout",
          "output_type": "stream",
          "text": [
            "Train Loss(加權): 4.4139 | Train Raw MAE: 4.4139 | Val MAE: 3.9269\n",
            "\n",
            "[FOLD 4] === Epoch 73/400 ===  (LR: 0.000490412)\n"
          ]
        },
        {
          "name": "stderr",
          "output_type": "stream",
          "text": []
        },
        {
          "name": "stdout",
          "output_type": "stream",
          "text": [
            "Train Loss(加權): 4.3744 | Train Raw MAE: 4.3744 | Val MAE: 4.7345\n",
            "\n",
            "[FOLD 4] === Epoch 74/400 ===  (LR: 0.000489807)\n"
          ]
        },
        {
          "name": "stderr",
          "output_type": "stream",
          "text": []
        },
        {
          "name": "stdout",
          "output_type": "stream",
          "text": [
            "Train Loss(加權): 4.3853 | Train Raw MAE: 4.3853 | Val MAE: 4.1485\n",
            "\n",
            "[FOLD 4] === Epoch 75/400 ===  (LR: 0.000489185)\n"
          ]
        },
        {
          "name": "stderr",
          "output_type": "stream",
          "text": []
        },
        {
          "name": "stdout",
          "output_type": "stream",
          "text": [
            "Train Loss(加權): 4.3170 | Train Raw MAE: 4.3170 | Val MAE: 4.1790\n",
            "\n",
            "[FOLD 4] === Epoch 76/400 ===  (LR: 0.000488544)\n"
          ]
        },
        {
          "name": "stderr",
          "output_type": "stream",
          "text": []
        },
        {
          "name": "stdout",
          "output_type": "stream",
          "text": [
            "Train Loss(加權): 4.3373 | Train Raw MAE: 4.3373 | Val MAE: 3.8962\n",
            "\n",
            "[FOLD 4] === Epoch 77/400 ===  (LR: 0.000487886)\n"
          ]
        },
        {
          "name": "stderr",
          "output_type": "stream",
          "text": []
        },
        {
          "name": "stdout",
          "output_type": "stream",
          "text": [
            "Train Loss(加權): 4.2595 | Train Raw MAE: 4.2595 | Val MAE: 4.0804\n",
            "\n",
            "[FOLD 4] === Epoch 78/400 ===  (LR: 0.00048721)\n"
          ]
        },
        {
          "name": "stderr",
          "output_type": "stream",
          "text": []
        },
        {
          "name": "stdout",
          "output_type": "stream",
          "text": [
            "Train Loss(加權): 4.2375 | Train Raw MAE: 4.2375 | Val MAE: 3.7652\n",
            "🎯 New best Val MAE: 3.7652\n",
            "\n",
            "[FOLD 4] === Epoch 79/400 ===  (LR: 0.000486515)\n"
          ]
        },
        {
          "name": "stderr",
          "output_type": "stream",
          "text": []
        },
        {
          "name": "stdout",
          "output_type": "stream",
          "text": [
            "Train Loss(加權): 4.1644 | Train Raw MAE: 4.1644 | Val MAE: 3.8096\n",
            "\n",
            "[FOLD 4] === Epoch 80/400 ===  (LR: 0.000485803)\n"
          ]
        },
        {
          "name": "stderr",
          "output_type": "stream",
          "text": []
        },
        {
          "name": "stdout",
          "output_type": "stream",
          "text": [
            "Train Loss(加權): 4.1744 | Train Raw MAE: 4.1744 | Val MAE: 4.0713\n",
            "\n",
            "[FOLD 4] === Epoch 81/400 ===  (LR: 0.000485073)\n"
          ]
        },
        {
          "name": "stderr",
          "output_type": "stream",
          "text": []
        },
        {
          "name": "stdout",
          "output_type": "stream",
          "text": [
            "Train Loss(加權): 4.2205 | Train Raw MAE: 4.2205 | Val MAE: 3.9460\n",
            "\n",
            "[FOLD 4] === Epoch 82/400 ===  (LR: 0.000484326)\n"
          ]
        },
        {
          "name": "stderr",
          "output_type": "stream",
          "text": []
        },
        {
          "name": "stdout",
          "output_type": "stream",
          "text": [
            "Train Loss(加權): 4.2213 | Train Raw MAE: 4.2213 | Val MAE: 3.9555\n",
            "\n",
            "[FOLD 4] === Epoch 83/400 ===  (LR: 0.000483561)\n"
          ]
        },
        {
          "name": "stderr",
          "output_type": "stream",
          "text": []
        },
        {
          "name": "stdout",
          "output_type": "stream",
          "text": [
            "Train Loss(加權): 4.1259 | Train Raw MAE: 4.1259 | Val MAE: 3.7723\n",
            "\n",
            "[FOLD 4] === Epoch 84/400 ===  (LR: 0.000482778)\n"
          ]
        },
        {
          "name": "stderr",
          "output_type": "stream",
          "text": []
        },
        {
          "name": "stdout",
          "output_type": "stream",
          "text": [
            "Train Loss(加權): 4.2099 | Train Raw MAE: 4.2099 | Val MAE: 3.7354\n",
            "🎯 New best Val MAE: 3.7354\n",
            "\n",
            "[FOLD 4] === Epoch 85/400 ===  (LR: 0.000481977)\n"
          ]
        },
        {
          "name": "stderr",
          "output_type": "stream",
          "text": []
        },
        {
          "name": "stdout",
          "output_type": "stream",
          "text": [
            "Train Loss(加權): 4.1606 | Train Raw MAE: 4.1606 | Val MAE: 4.2450\n",
            "\n",
            "[FOLD 4] === Epoch 86/400 ===  (LR: 0.00048116)\n"
          ]
        },
        {
          "name": "stderr",
          "output_type": "stream",
          "text": []
        },
        {
          "name": "stdout",
          "output_type": "stream",
          "text": [
            "Train Loss(加權): 4.0895 | Train Raw MAE: 4.0895 | Val MAE: 3.8840\n",
            "\n",
            "[FOLD 4] === Epoch 87/400 ===  (LR: 0.000480324)\n"
          ]
        },
        {
          "name": "stderr",
          "output_type": "stream",
          "text": []
        },
        {
          "name": "stdout",
          "output_type": "stream",
          "text": [
            "Train Loss(加權): 4.1507 | Train Raw MAE: 4.1507 | Val MAE: 4.2907\n",
            "\n",
            "[FOLD 4] === Epoch 88/400 ===  (LR: 0.000479472)\n"
          ]
        },
        {
          "name": "stderr",
          "output_type": "stream",
          "text": []
        },
        {
          "name": "stdout",
          "output_type": "stream",
          "text": [
            "Train Loss(加權): 4.0136 | Train Raw MAE: 4.0136 | Val MAE: 4.3670\n",
            "\n",
            "[FOLD 4] === Epoch 89/400 ===  (LR: 0.000478602)\n"
          ]
        },
        {
          "name": "stderr",
          "output_type": "stream",
          "text": []
        },
        {
          "name": "stdout",
          "output_type": "stream",
          "text": [
            "Train Loss(加權): 4.1374 | Train Raw MAE: 4.1374 | Val MAE: 3.9578\n",
            "\n",
            "[FOLD 4] === Epoch 90/400 ===  (LR: 0.000477715)\n"
          ]
        },
        {
          "name": "stderr",
          "output_type": "stream",
          "text": []
        },
        {
          "name": "stdout",
          "output_type": "stream",
          "text": [
            "Train Loss(加權): 4.0037 | Train Raw MAE: 4.0037 | Val MAE: 4.0600\n",
            "\n",
            "[FOLD 4] === Epoch 91/400 ===  (LR: 0.00047681)\n"
          ]
        },
        {
          "name": "stderr",
          "output_type": "stream",
          "text": []
        },
        {
          "name": "stdout",
          "output_type": "stream",
          "text": [
            "Train Loss(加權): 4.0030 | Train Raw MAE: 4.0030 | Val MAE: 3.9099\n",
            "\n",
            "[FOLD 4] === Epoch 92/400 ===  (LR: 0.000475889)\n"
          ]
        },
        {
          "name": "stderr",
          "output_type": "stream",
          "text": []
        },
        {
          "name": "stdout",
          "output_type": "stream",
          "text": [
            "Train Loss(加權): 3.9994 | Train Raw MAE: 3.9994 | Val MAE: 3.8867\n",
            "\n",
            "[FOLD 4] === Epoch 93/400 ===  (LR: 0.000474951)\n"
          ]
        },
        {
          "name": "stderr",
          "output_type": "stream",
          "text": []
        },
        {
          "name": "stdout",
          "output_type": "stream",
          "text": [
            "Train Loss(加權): 4.0534 | Train Raw MAE: 4.0534 | Val MAE: 3.7162\n",
            "🎯 New best Val MAE: 3.7162\n",
            "\n",
            "[FOLD 4] === Epoch 94/400 ===  (LR: 0.000473996)\n"
          ]
        },
        {
          "name": "stderr",
          "output_type": "stream",
          "text": []
        },
        {
          "name": "stdout",
          "output_type": "stream",
          "text": [
            "Train Loss(加權): 4.0841 | Train Raw MAE: 4.0841 | Val MAE: 4.5390\n",
            "\n",
            "[FOLD 4] === Epoch 95/400 ===  (LR: 0.000473023)\n"
          ]
        },
        {
          "name": "stderr",
          "output_type": "stream",
          "text": []
        },
        {
          "name": "stdout",
          "output_type": "stream",
          "text": [
            "Train Loss(加權): 4.0291 | Train Raw MAE: 4.0291 | Val MAE: 4.0632\n",
            "\n",
            "[FOLD 4] === Epoch 96/400 ===  (LR: 0.000472034)\n"
          ]
        },
        {
          "name": "stderr",
          "output_type": "stream",
          "text": []
        },
        {
          "name": "stdout",
          "output_type": "stream",
          "text": [
            "Train Loss(加權): 3.9001 | Train Raw MAE: 3.9001 | Val MAE: 4.4133\n",
            "\n",
            "[FOLD 4] === Epoch 97/400 ===  (LR: 0.000471029)\n"
          ]
        },
        {
          "name": "stderr",
          "output_type": "stream",
          "text": []
        },
        {
          "name": "stdout",
          "output_type": "stream",
          "text": [
            "Train Loss(加權): 3.8731 | Train Raw MAE: 3.8731 | Val MAE: 3.7245\n",
            "\n",
            "[FOLD 4] === Epoch 98/400 ===  (LR: 0.000470006)\n"
          ]
        },
        {
          "name": "stderr",
          "output_type": "stream",
          "text": []
        },
        {
          "name": "stdout",
          "output_type": "stream",
          "text": [
            "Train Loss(加權): 3.9091 | Train Raw MAE: 3.9091 | Val MAE: 4.0724\n",
            "\n",
            "[FOLD 4] === Epoch 99/400 ===  (LR: 0.000468968)\n"
          ]
        },
        {
          "name": "stderr",
          "output_type": "stream",
          "text": []
        },
        {
          "name": "stdout",
          "output_type": "stream",
          "text": [
            "Train Loss(加權): 3.8759 | Train Raw MAE: 3.8759 | Val MAE: 4.1631\n",
            "\n",
            "[FOLD 4] === Epoch 100/400 ===  (LR: 0.000467912)\n"
          ]
        },
        {
          "name": "stderr",
          "output_type": "stream",
          "text": []
        },
        {
          "name": "stdout",
          "output_type": "stream",
          "text": [
            "Train Loss(加權): 3.8843 | Train Raw MAE: 3.8843 | Val MAE: 3.8000\n",
            "\n",
            "[FOLD 4] === Epoch 101/400 ===  (LR: 0.00046684)\n"
          ]
        },
        {
          "name": "stderr",
          "output_type": "stream",
          "text": []
        },
        {
          "name": "stdout",
          "output_type": "stream",
          "text": [
            "Train Loss(加權): 3.9298 | Train Raw MAE: 3.9298 | Val MAE: 3.6744\n",
            "🎯 New best Val MAE: 3.6744\n",
            "\n",
            "[FOLD 4] === Epoch 102/400 ===  (LR: 0.000465752)\n"
          ]
        },
        {
          "name": "stderr",
          "output_type": "stream",
          "text": []
        },
        {
          "name": "stdout",
          "output_type": "stream",
          "text": [
            "Train Loss(加權): 3.8884 | Train Raw MAE: 3.8884 | Val MAE: 3.7351\n",
            "\n",
            "[FOLD 4] === Epoch 103/400 ===  (LR: 0.000464648)\n"
          ]
        },
        {
          "name": "stderr",
          "output_type": "stream",
          "text": []
        },
        {
          "name": "stdout",
          "output_type": "stream",
          "text": [
            "Train Loss(加權): 3.8723 | Train Raw MAE: 3.8723 | Val MAE: 3.9060\n",
            "\n",
            "[FOLD 4] === Epoch 104/400 ===  (LR: 0.000463528)\n"
          ]
        },
        {
          "name": "stderr",
          "output_type": "stream",
          "text": []
        },
        {
          "name": "stdout",
          "output_type": "stream",
          "text": [
            "Train Loss(加權): 3.8714 | Train Raw MAE: 3.8714 | Val MAE: 3.4631\n",
            "🎯 New best Val MAE: 3.4631\n",
            "\n",
            "[FOLD 4] === Epoch 105/400 ===  (LR: 0.000462391)\n"
          ]
        },
        {
          "name": "stderr",
          "output_type": "stream",
          "text": []
        },
        {
          "name": "stdout",
          "output_type": "stream",
          "text": [
            "Train Loss(加權): 3.8710 | Train Raw MAE: 3.8710 | Val MAE: 4.3316\n",
            "\n",
            "[FOLD 4] === Epoch 106/400 ===  (LR: 0.000461238)\n"
          ]
        },
        {
          "name": "stderr",
          "output_type": "stream",
          "text": []
        },
        {
          "name": "stdout",
          "output_type": "stream",
          "text": [
            "Train Loss(加權): 3.8414 | Train Raw MAE: 3.8414 | Val MAE: 3.5911\n",
            "\n",
            "[FOLD 4] === Epoch 107/400 ===  (LR: 0.00046007)\n"
          ]
        },
        {
          "name": "stderr",
          "output_type": "stream",
          "text": []
        },
        {
          "name": "stdout",
          "output_type": "stream",
          "text": [
            "Train Loss(加權): 3.8265 | Train Raw MAE: 3.8265 | Val MAE: 3.6101\n",
            "\n",
            "[FOLD 4] === Epoch 108/400 ===  (LR: 0.000458886)\n"
          ]
        },
        {
          "name": "stderr",
          "output_type": "stream",
          "text": []
        },
        {
          "name": "stdout",
          "output_type": "stream",
          "text": [
            "Train Loss(加權): 3.7661 | Train Raw MAE: 3.7661 | Val MAE: 4.0494\n",
            "\n",
            "[FOLD 4] === Epoch 109/400 ===  (LR: 0.000457686)\n"
          ]
        },
        {
          "name": "stderr",
          "output_type": "stream",
          "text": []
        },
        {
          "name": "stdout",
          "output_type": "stream",
          "text": [
            "Train Loss(加權): 3.8334 | Train Raw MAE: 3.8334 | Val MAE: 3.5922\n",
            "\n",
            "[FOLD 4] === Epoch 110/400 ===  (LR: 0.00045647)\n"
          ]
        },
        {
          "name": "stderr",
          "output_type": "stream",
          "text": []
        },
        {
          "name": "stdout",
          "output_type": "stream",
          "text": [
            "Train Loss(加權): 3.7751 | Train Raw MAE: 3.7751 | Val MAE: 3.4865\n",
            "\n",
            "[FOLD 4] === Epoch 111/400 ===  (LR: 0.000455239)\n"
          ]
        },
        {
          "name": "stderr",
          "output_type": "stream",
          "text": []
        },
        {
          "name": "stdout",
          "output_type": "stream",
          "text": [
            "Train Loss(加權): 3.7780 | Train Raw MAE: 3.7780 | Val MAE: 4.0070\n",
            "\n",
            "[FOLD 4] === Epoch 112/400 ===  (LR: 0.000453993)\n"
          ]
        },
        {
          "name": "stderr",
          "output_type": "stream",
          "text": []
        },
        {
          "name": "stdout",
          "output_type": "stream",
          "text": [
            "Train Loss(加權): 3.6760 | Train Raw MAE: 3.6760 | Val MAE: 3.9348\n",
            "\n",
            "[FOLD 4] === Epoch 113/400 ===  (LR: 0.000452731)\n"
          ]
        },
        {
          "name": "stderr",
          "output_type": "stream",
          "text": []
        },
        {
          "name": "stdout",
          "output_type": "stream",
          "text": [
            "Train Loss(加權): 3.7319 | Train Raw MAE: 3.7319 | Val MAE: 3.5569\n",
            "\n",
            "[FOLD 4] === Epoch 114/400 ===  (LR: 0.000451454)\n"
          ]
        },
        {
          "name": "stderr",
          "output_type": "stream",
          "text": []
        },
        {
          "name": "stdout",
          "output_type": "stream",
          "text": [
            "Train Loss(加權): 3.6988 | Train Raw MAE: 3.6988 | Val MAE: 3.6219\n",
            "\n",
            "[FOLD 4] === Epoch 115/400 ===  (LR: 0.000450161)\n"
          ]
        },
        {
          "name": "stderr",
          "output_type": "stream",
          "text": []
        },
        {
          "name": "stdout",
          "output_type": "stream",
          "text": [
            "Train Loss(加權): 3.6854 | Train Raw MAE: 3.6854 | Val MAE: 3.5818\n",
            "\n",
            "[FOLD 4] === Epoch 116/400 ===  (LR: 0.000448854)\n"
          ]
        },
        {
          "name": "stderr",
          "output_type": "stream",
          "text": []
        },
        {
          "name": "stdout",
          "output_type": "stream",
          "text": [
            "Train Loss(加權): 3.6776 | Train Raw MAE: 3.6776 | Val MAE: 4.1535\n",
            "\n",
            "[FOLD 4] === Epoch 117/400 ===  (LR: 0.000447532)\n"
          ]
        },
        {
          "name": "stderr",
          "output_type": "stream",
          "text": []
        },
        {
          "name": "stdout",
          "output_type": "stream",
          "text": [
            "Train Loss(加權): 3.7224 | Train Raw MAE: 3.7224 | Val MAE: 3.4095\n",
            "🎯 New best Val MAE: 3.4095\n",
            "\n",
            "[FOLD 4] === Epoch 118/400 ===  (LR: 0.000446194)\n"
          ]
        },
        {
          "name": "stderr",
          "output_type": "stream",
          "text": []
        },
        {
          "name": "stdout",
          "output_type": "stream",
          "text": [
            "Train Loss(加權): 3.6304 | Train Raw MAE: 3.6304 | Val MAE: 3.6831\n",
            "\n",
            "[FOLD 4] === Epoch 119/400 ===  (LR: 0.000444843)\n"
          ]
        },
        {
          "name": "stderr",
          "output_type": "stream",
          "text": []
        },
        {
          "name": "stdout",
          "output_type": "stream",
          "text": [
            "Train Loss(加權): 3.6607 | Train Raw MAE: 3.6607 | Val MAE: 3.4037\n",
            "🎯 New best Val MAE: 3.4037\n",
            "\n",
            "[FOLD 4] === Epoch 120/400 ===  (LR: 0.000443476)\n"
          ]
        },
        {
          "name": "stderr",
          "output_type": "stream",
          "text": []
        },
        {
          "name": "stdout",
          "output_type": "stream",
          "text": [
            "Train Loss(加權): 3.6072 | Train Raw MAE: 3.6072 | Val MAE: 4.0856\n",
            "\n",
            "[FOLD 4] === Epoch 121/400 ===  (LR: 0.000442095)\n"
          ]
        },
        {
          "name": "stderr",
          "output_type": "stream",
          "text": []
        },
        {
          "name": "stdout",
          "output_type": "stream",
          "text": [
            "Train Loss(加權): 3.6763 | Train Raw MAE: 3.6763 | Val MAE: 4.8146\n",
            "\n",
            "[FOLD 4] === Epoch 122/400 ===  (LR: 0.000440699)\n"
          ]
        },
        {
          "name": "stderr",
          "output_type": "stream",
          "text": []
        },
        {
          "name": "stdout",
          "output_type": "stream",
          "text": [
            "Train Loss(加權): 3.5915 | Train Raw MAE: 3.5915 | Val MAE: 3.8552\n",
            "\n",
            "[FOLD 4] === Epoch 123/400 ===  (LR: 0.00043929)\n"
          ]
        },
        {
          "name": "stderr",
          "output_type": "stream",
          "text": []
        },
        {
          "name": "stdout",
          "output_type": "stream",
          "text": [
            "Train Loss(加權): 3.5962 | Train Raw MAE: 3.5962 | Val MAE: 4.2251\n",
            "\n",
            "[FOLD 4] === Epoch 124/400 ===  (LR: 0.000437865)\n"
          ]
        },
        {
          "name": "stderr",
          "output_type": "stream",
          "text": []
        },
        {
          "name": "stdout",
          "output_type": "stream",
          "text": [
            "Train Loss(加權): 3.5517 | Train Raw MAE: 3.5517 | Val MAE: 3.9899\n",
            "\n",
            "[FOLD 4] === Epoch 125/400 ===  (LR: 0.000436427)\n"
          ]
        },
        {
          "name": "stderr",
          "output_type": "stream",
          "text": []
        },
        {
          "name": "stdout",
          "output_type": "stream",
          "text": [
            "Train Loss(加權): 3.5442 | Train Raw MAE: 3.5442 | Val MAE: 3.6997\n",
            "\n",
            "[FOLD 4] === Epoch 126/400 ===  (LR: 0.000434975)\n"
          ]
        },
        {
          "name": "stderr",
          "output_type": "stream",
          "text": []
        },
        {
          "name": "stdout",
          "output_type": "stream",
          "text": [
            "Train Loss(加權): 3.5509 | Train Raw MAE: 3.5509 | Val MAE: 3.4605\n",
            "\n",
            "[FOLD 4] === Epoch 127/400 ===  (LR: 0.000433509)\n"
          ]
        },
        {
          "name": "stderr",
          "output_type": "stream",
          "text": []
        },
        {
          "name": "stdout",
          "output_type": "stream",
          "text": [
            "Train Loss(加權): 3.5251 | Train Raw MAE: 3.5251 | Val MAE: 4.4300\n",
            "\n",
            "[FOLD 4] === Epoch 128/400 ===  (LR: 0.000432029)\n"
          ]
        },
        {
          "name": "stderr",
          "output_type": "stream",
          "text": []
        },
        {
          "name": "stdout",
          "output_type": "stream",
          "text": [
            "Train Loss(加權): 3.5656 | Train Raw MAE: 3.5656 | Val MAE: 3.4929\n",
            "\n",
            "[FOLD 4] === Epoch 129/400 ===  (LR: 0.000430535)\n"
          ]
        },
        {
          "name": "stderr",
          "output_type": "stream",
          "text": []
        },
        {
          "name": "stdout",
          "output_type": "stream",
          "text": [
            "Train Loss(加權): 3.5542 | Train Raw MAE: 3.5542 | Val MAE: 3.5738\n",
            "\n",
            "[FOLD 4] === Epoch 130/400 ===  (LR: 0.000429028)\n"
          ]
        },
        {
          "name": "stderr",
          "output_type": "stream",
          "text": []
        },
        {
          "name": "stdout",
          "output_type": "stream",
          "text": [
            "Train Loss(加權): 3.5363 | Train Raw MAE: 3.5363 | Val MAE: 3.4263\n",
            "\n",
            "[FOLD 4] === Epoch 131/400 ===  (LR: 0.000427508)\n"
          ]
        },
        {
          "name": "stderr",
          "output_type": "stream",
          "text": []
        },
        {
          "name": "stdout",
          "output_type": "stream",
          "text": [
            "Train Loss(加權): 3.5204 | Train Raw MAE: 3.5204 | Val MAE: 3.8588\n",
            "\n",
            "[FOLD 4] === Epoch 132/400 ===  (LR: 0.000425974)\n"
          ]
        },
        {
          "name": "stderr",
          "output_type": "stream",
          "text": []
        },
        {
          "name": "stdout",
          "output_type": "stream",
          "text": [
            "Train Loss(加權): 3.5342 | Train Raw MAE: 3.5342 | Val MAE: 3.5001\n",
            "\n",
            "[FOLD 4] === Epoch 133/400 ===  (LR: 0.000424427)\n"
          ]
        },
        {
          "name": "stderr",
          "output_type": "stream",
          "text": []
        },
        {
          "name": "stdout",
          "output_type": "stream",
          "text": [
            "Train Loss(加權): 3.5017 | Train Raw MAE: 3.5017 | Val MAE: 3.4494\n",
            "\n",
            "[FOLD 4] === Epoch 134/400 ===  (LR: 0.000422867)\n"
          ]
        },
        {
          "name": "stderr",
          "output_type": "stream",
          "text": []
        },
        {
          "name": "stdout",
          "output_type": "stream",
          "text": [
            "Train Loss(加權): 3.5115 | Train Raw MAE: 3.5115 | Val MAE: 4.2544\n",
            "\n",
            "[FOLD 4] === Epoch 135/400 ===  (LR: 0.000421293)\n"
          ]
        },
        {
          "name": "stderr",
          "output_type": "stream",
          "text": []
        },
        {
          "name": "stdout",
          "output_type": "stream",
          "text": [
            "Train Loss(加權): 3.5151 | Train Raw MAE: 3.5151 | Val MAE: 3.5923\n",
            "\n",
            "[FOLD 4] === Epoch 136/400 ===  (LR: 0.000419707)\n"
          ]
        },
        {
          "name": "stderr",
          "output_type": "stream",
          "text": []
        },
        {
          "name": "stdout",
          "output_type": "stream",
          "text": [
            "Train Loss(加權): 3.5187 | Train Raw MAE: 3.5187 | Val MAE: 3.4554\n",
            "\n",
            "[FOLD 4] === Epoch 137/400 ===  (LR: 0.000418109)\n"
          ]
        },
        {
          "name": "stderr",
          "output_type": "stream",
          "text": []
        },
        {
          "name": "stdout",
          "output_type": "stream",
          "text": [
            "Train Loss(加權): 3.4439 | Train Raw MAE: 3.4439 | Val MAE: 3.5878\n",
            "\n",
            "[FOLD 4] === Epoch 138/400 ===  (LR: 0.000416497)\n"
          ]
        },
        {
          "name": "stderr",
          "output_type": "stream",
          "text": []
        },
        {
          "name": "stdout",
          "output_type": "stream",
          "text": [
            "Train Loss(加權): 3.4212 | Train Raw MAE: 3.4212 | Val MAE: 3.4108\n",
            "\n",
            "[FOLD 4] === Epoch 139/400 ===  (LR: 0.000414873)\n"
          ]
        },
        {
          "name": "stderr",
          "output_type": "stream",
          "text": []
        },
        {
          "name": "stdout",
          "output_type": "stream",
          "text": [
            "Train Loss(加權): 3.4390 | Train Raw MAE: 3.4390 | Val MAE: 3.3391\n",
            "🎯 New best Val MAE: 3.3391\n",
            "\n",
            "[FOLD 4] === Epoch 140/400 ===  (LR: 0.000413237)\n"
          ]
        },
        {
          "name": "stderr",
          "output_type": "stream",
          "text": []
        },
        {
          "name": "stdout",
          "output_type": "stream",
          "text": [
            "Train Loss(加權): 3.4257 | Train Raw MAE: 3.4257 | Val MAE: 3.2600\n",
            "🎯 New best Val MAE: 3.2600\n",
            "\n",
            "[FOLD 4] === Epoch 141/400 ===  (LR: 0.000411589)\n"
          ]
        },
        {
          "name": "stderr",
          "output_type": "stream",
          "text": []
        },
        {
          "name": "stdout",
          "output_type": "stream",
          "text": [
            "Train Loss(加權): 3.3512 | Train Raw MAE: 3.3512 | Val MAE: 3.3782\n",
            "\n",
            "[FOLD 4] === Epoch 142/400 ===  (LR: 0.000409928)\n"
          ]
        },
        {
          "name": "stderr",
          "output_type": "stream",
          "text": []
        },
        {
          "name": "stdout",
          "output_type": "stream",
          "text": [
            "Train Loss(加權): 3.4021 | Train Raw MAE: 3.4021 | Val MAE: 3.9285\n",
            "\n",
            "[FOLD 4] === Epoch 143/400 ===  (LR: 0.000408256)\n"
          ]
        },
        {
          "name": "stderr",
          "output_type": "stream",
          "text": []
        },
        {
          "name": "stdout",
          "output_type": "stream",
          "text": [
            "Train Loss(加權): 3.3722 | Train Raw MAE: 3.3722 | Val MAE: 3.4441\n",
            "\n",
            "[FOLD 4] === Epoch 144/400 ===  (LR: 0.000406571)\n"
          ]
        },
        {
          "name": "stderr",
          "output_type": "stream",
          "text": []
        },
        {
          "name": "stdout",
          "output_type": "stream",
          "text": [
            "Train Loss(加權): 3.3885 | Train Raw MAE: 3.3885 | Val MAE: 3.4864\n",
            "\n",
            "[FOLD 4] === Epoch 145/400 ===  (LR: 0.000404875)\n"
          ]
        },
        {
          "name": "stderr",
          "output_type": "stream",
          "text": []
        },
        {
          "name": "stdout",
          "output_type": "stream",
          "text": [
            "Train Loss(加權): 3.3404 | Train Raw MAE: 3.3404 | Val MAE: 3.4945\n",
            "\n",
            "[FOLD 4] === Epoch 146/400 ===  (LR: 0.000403167)\n"
          ]
        },
        {
          "name": "stderr",
          "output_type": "stream",
          "text": []
        },
        {
          "name": "stdout",
          "output_type": "stream",
          "text": [
            "Train Loss(加權): 3.3371 | Train Raw MAE: 3.3371 | Val MAE: 3.2863\n",
            "\n",
            "[FOLD 4] === Epoch 147/400 ===  (LR: 0.000401448)\n"
          ]
        },
        {
          "name": "stderr",
          "output_type": "stream",
          "text": []
        },
        {
          "name": "stdout",
          "output_type": "stream",
          "text": [
            "Train Loss(加權): 3.3686 | Train Raw MAE: 3.3686 | Val MAE: 3.3723\n",
            "\n",
            "[FOLD 4] === Epoch 148/400 ===  (LR: 0.000399717)\n"
          ]
        },
        {
          "name": "stderr",
          "output_type": "stream",
          "text": []
        },
        {
          "name": "stdout",
          "output_type": "stream",
          "text": [
            "Train Loss(加權): 3.2965 | Train Raw MAE: 3.2965 | Val MAE: 3.4339\n",
            "\n",
            "[FOLD 4] === Epoch 149/400 ===  (LR: 0.000397976)\n"
          ]
        },
        {
          "name": "stderr",
          "output_type": "stream",
          "text": []
        },
        {
          "name": "stdout",
          "output_type": "stream",
          "text": [
            "Train Loss(加權): 3.3392 | Train Raw MAE: 3.3392 | Val MAE: 3.3772\n",
            "\n",
            "[FOLD 4] === Epoch 150/400 ===  (LR: 0.000396223)\n"
          ]
        },
        {
          "name": "stderr",
          "output_type": "stream",
          "text": []
        },
        {
          "name": "stdout",
          "output_type": "stream",
          "text": [
            "Train Loss(加權): 3.2725 | Train Raw MAE: 3.2725 | Val MAE: 3.3288\n",
            "\n",
            "[FOLD 4] === Epoch 151/400 ===  (LR: 0.000394459)\n"
          ]
        },
        {
          "name": "stderr",
          "output_type": "stream",
          "text": []
        },
        {
          "name": "stdout",
          "output_type": "stream",
          "text": [
            "Train Loss(加權): 3.2984 | Train Raw MAE: 3.2984 | Val MAE: 3.4250\n",
            "\n",
            "[FOLD 4] === Epoch 152/400 ===  (LR: 0.000392684)\n"
          ]
        },
        {
          "name": "stderr",
          "output_type": "stream",
          "text": []
        },
        {
          "name": "stdout",
          "output_type": "stream",
          "text": [
            "Train Loss(加權): 3.3089 | Train Raw MAE: 3.3089 | Val MAE: 3.5224\n",
            "\n",
            "[FOLD 4] === Epoch 153/400 ===  (LR: 0.000390899)\n"
          ]
        },
        {
          "name": "stderr",
          "output_type": "stream",
          "text": []
        },
        {
          "name": "stdout",
          "output_type": "stream",
          "text": [
            "Train Loss(加權): 3.3180 | Train Raw MAE: 3.3180 | Val MAE: 3.4654\n",
            "\n",
            "[FOLD 4] === Epoch 154/400 ===  (LR: 0.000389103)\n"
          ]
        },
        {
          "name": "stderr",
          "output_type": "stream",
          "text": []
        },
        {
          "name": "stdout",
          "output_type": "stream",
          "text": [
            "Train Loss(加權): 3.2491 | Train Raw MAE: 3.2491 | Val MAE: 3.3222\n",
            "\n",
            "[FOLD 4] === Epoch 155/400 ===  (LR: 0.000387297)\n"
          ]
        },
        {
          "name": "stderr",
          "output_type": "stream",
          "text": []
        },
        {
          "name": "stdout",
          "output_type": "stream",
          "text": [
            "Train Loss(加權): 3.2119 | Train Raw MAE: 3.2119 | Val MAE: 3.5718\n",
            "\n",
            "[FOLD 4] === Epoch 156/400 ===  (LR: 0.00038548)\n"
          ]
        },
        {
          "name": "stderr",
          "output_type": "stream",
          "text": []
        },
        {
          "name": "stdout",
          "output_type": "stream",
          "text": [
            "Train Loss(加權): 3.1859 | Train Raw MAE: 3.1859 | Val MAE: 3.2922\n",
            "\n",
            "[FOLD 4] === Epoch 157/400 ===  (LR: 0.000383654)\n"
          ]
        },
        {
          "name": "stderr",
          "output_type": "stream",
          "text": []
        },
        {
          "name": "stdout",
          "output_type": "stream",
          "text": [
            "Train Loss(加權): 3.2259 | Train Raw MAE: 3.2259 | Val MAE: 3.3087\n",
            "\n",
            "[FOLD 4] === Epoch 158/400 ===  (LR: 0.000381817)\n"
          ]
        },
        {
          "name": "stderr",
          "output_type": "stream",
          "text": []
        },
        {
          "name": "stdout",
          "output_type": "stream",
          "text": [
            "Train Loss(加權): 3.2008 | Train Raw MAE: 3.2008 | Val MAE: 3.5465\n",
            "\n",
            "[FOLD 4] === Epoch 159/400 ===  (LR: 0.000379971)\n"
          ]
        },
        {
          "name": "stderr",
          "output_type": "stream",
          "text": []
        },
        {
          "name": "stdout",
          "output_type": "stream",
          "text": [
            "Train Loss(加權): 3.1563 | Train Raw MAE: 3.1563 | Val MAE: 3.2590\n",
            "🎯 New best Val MAE: 3.2590\n",
            "\n",
            "[FOLD 4] === Epoch 160/400 ===  (LR: 0.000378114)\n"
          ]
        },
        {
          "name": "stderr",
          "output_type": "stream",
          "text": []
        },
        {
          "name": "stdout",
          "output_type": "stream",
          "text": [
            "Train Loss(加權): 3.2067 | Train Raw MAE: 3.2067 | Val MAE: 3.1578\n",
            "🎯 New best Val MAE: 3.1578\n",
            "\n",
            "[FOLD 4] === Epoch 161/400 ===  (LR: 0.000376249)\n"
          ]
        },
        {
          "name": "stderr",
          "output_type": "stream",
          "text": []
        },
        {
          "name": "stdout",
          "output_type": "stream",
          "text": [
            "Train Loss(加權): 3.1832 | Train Raw MAE: 3.1832 | Val MAE: 3.7064\n",
            "\n",
            "[FOLD 4] === Epoch 162/400 ===  (LR: 0.000374373)\n"
          ]
        },
        {
          "name": "stderr",
          "output_type": "stream",
          "text": []
        },
        {
          "name": "stdout",
          "output_type": "stream",
          "text": [
            "Train Loss(加權): 3.1906 | Train Raw MAE: 3.1906 | Val MAE: 3.2386\n",
            "\n",
            "[FOLD 4] === Epoch 163/400 ===  (LR: 0.000372489)\n"
          ]
        },
        {
          "name": "stderr",
          "output_type": "stream",
          "text": []
        },
        {
          "name": "stdout",
          "output_type": "stream",
          "text": [
            "Train Loss(加權): 3.1762 | Train Raw MAE: 3.1762 | Val MAE: 3.3527\n",
            "\n",
            "[FOLD 4] === Epoch 164/400 ===  (LR: 0.000370595)\n"
          ]
        },
        {
          "name": "stderr",
          "output_type": "stream",
          "text": []
        },
        {
          "name": "stdout",
          "output_type": "stream",
          "text": [
            "Train Loss(加權): 3.1326 | Train Raw MAE: 3.1326 | Val MAE: 3.3111\n",
            "\n",
            "[FOLD 4] === Epoch 165/400 ===  (LR: 0.000368693)\n"
          ]
        },
        {
          "name": "stderr",
          "output_type": "stream",
          "text": []
        },
        {
          "name": "stdout",
          "output_type": "stream",
          "text": [
            "Train Loss(加權): 3.1875 | Train Raw MAE: 3.1875 | Val MAE: 3.3691\n",
            "\n",
            "[FOLD 4] === Epoch 166/400 ===  (LR: 0.000366781)\n"
          ]
        },
        {
          "name": "stderr",
          "output_type": "stream",
          "text": []
        },
        {
          "name": "stdout",
          "output_type": "stream",
          "text": [
            "Train Loss(加權): 3.1549 | Train Raw MAE: 3.1549 | Val MAE: 3.4035\n",
            "\n",
            "[FOLD 4] === Epoch 167/400 ===  (LR: 0.000364861)\n"
          ]
        },
        {
          "name": "stderr",
          "output_type": "stream",
          "text": []
        },
        {
          "name": "stdout",
          "output_type": "stream",
          "text": [
            "Train Loss(加權): 3.0704 | Train Raw MAE: 3.0704 | Val MAE: 3.5416\n",
            "\n",
            "[FOLD 4] === Epoch 168/400 ===  (LR: 0.000362932)\n"
          ]
        },
        {
          "name": "stderr",
          "output_type": "stream",
          "text": []
        },
        {
          "name": "stdout",
          "output_type": "stream",
          "text": [
            "Train Loss(加權): 3.1275 | Train Raw MAE: 3.1275 | Val MAE: 3.3924\n",
            "\n",
            "[FOLD 4] === Epoch 169/400 ===  (LR: 0.000360995)\n"
          ]
        },
        {
          "name": "stderr",
          "output_type": "stream",
          "text": []
        },
        {
          "name": "stdout",
          "output_type": "stream",
          "text": [
            "Train Loss(加權): 3.1025 | Train Raw MAE: 3.1025 | Val MAE: 3.2603\n",
            "\n",
            "[FOLD 4] === Epoch 170/400 ===  (LR: 0.00035905)\n"
          ]
        },
        {
          "name": "stderr",
          "output_type": "stream",
          "text": []
        },
        {
          "name": "stdout",
          "output_type": "stream",
          "text": [
            "Train Loss(加權): 3.1004 | Train Raw MAE: 3.1004 | Val MAE: 3.8228\n",
            "\n",
            "[FOLD 4] === Epoch 171/400 ===  (LR: 0.000357097)\n"
          ]
        },
        {
          "name": "stderr",
          "output_type": "stream",
          "text": []
        },
        {
          "name": "stdout",
          "output_type": "stream",
          "text": [
            "Train Loss(加權): 3.0133 | Train Raw MAE: 3.0133 | Val MAE: 3.1235\n",
            "🎯 New best Val MAE: 3.1235\n",
            "\n",
            "[FOLD 4] === Epoch 172/400 ===  (LR: 0.000355135)\n"
          ]
        },
        {
          "name": "stderr",
          "output_type": "stream",
          "text": []
        },
        {
          "name": "stdout",
          "output_type": "stream",
          "text": [
            "Train Loss(加權): 3.0447 | Train Raw MAE: 3.0447 | Val MAE: 3.6221\n",
            "\n",
            "[FOLD 4] === Epoch 173/400 ===  (LR: 0.000353166)\n"
          ]
        },
        {
          "name": "stderr",
          "output_type": "stream",
          "text": []
        },
        {
          "name": "stdout",
          "output_type": "stream",
          "text": [
            "Train Loss(加權): 3.0618 | Train Raw MAE: 3.0618 | Val MAE: 3.3352\n",
            "\n",
            "[FOLD 4] === Epoch 174/400 ===  (LR: 0.000351189)\n"
          ]
        },
        {
          "name": "stderr",
          "output_type": "stream",
          "text": []
        },
        {
          "name": "stdout",
          "output_type": "stream",
          "text": [
            "Train Loss(加權): 3.0556 | Train Raw MAE: 3.0556 | Val MAE: 3.2142\n",
            "\n",
            "[FOLD 4] === Epoch 175/400 ===  (LR: 0.000349204)\n"
          ]
        },
        {
          "name": "stderr",
          "output_type": "stream",
          "text": []
        },
        {
          "name": "stdout",
          "output_type": "stream",
          "text": [
            "Train Loss(加權): 3.0187 | Train Raw MAE: 3.0187 | Val MAE: 3.2598\n",
            "\n",
            "[FOLD 4] === Epoch 176/400 ===  (LR: 0.000347213)\n"
          ]
        },
        {
          "name": "stderr",
          "output_type": "stream",
          "text": []
        },
        {
          "name": "stdout",
          "output_type": "stream",
          "text": [
            "Train Loss(加權): 3.0311 | Train Raw MAE: 3.0311 | Val MAE: 3.1877\n",
            "\n",
            "[FOLD 4] === Epoch 177/400 ===  (LR: 0.000345214)\n"
          ]
        },
        {
          "name": "stderr",
          "output_type": "stream",
          "text": []
        },
        {
          "name": "stdout",
          "output_type": "stream",
          "text": [
            "Train Loss(加權): 2.9655 | Train Raw MAE: 2.9655 | Val MAE: 3.2316\n",
            "\n",
            "[FOLD 4] === Epoch 178/400 ===  (LR: 0.000343208)\n"
          ]
        },
        {
          "name": "stderr",
          "output_type": "stream",
          "text": []
        },
        {
          "name": "stdout",
          "output_type": "stream",
          "text": [
            "Train Loss(加權): 3.0056 | Train Raw MAE: 3.0056 | Val MAE: 3.5294\n",
            "\n",
            "[FOLD 4] === Epoch 179/400 ===  (LR: 0.000341195)\n"
          ]
        },
        {
          "name": "stderr",
          "output_type": "stream",
          "text": []
        },
        {
          "name": "stdout",
          "output_type": "stream",
          "text": [
            "Train Loss(加權): 3.0545 | Train Raw MAE: 3.0545 | Val MAE: 3.6893\n",
            "\n",
            "[FOLD 4] === Epoch 180/400 ===  (LR: 0.000339175)\n"
          ]
        },
        {
          "name": "stderr",
          "output_type": "stream",
          "text": []
        },
        {
          "name": "stdout",
          "output_type": "stream",
          "text": [
            "Train Loss(加權): 2.9864 | Train Raw MAE: 2.9864 | Val MAE: 3.6751\n",
            "\n",
            "[FOLD 4] === Epoch 181/400 ===  (LR: 0.000337148)\n"
          ]
        },
        {
          "name": "stderr",
          "output_type": "stream",
          "text": []
        },
        {
          "name": "stdout",
          "output_type": "stream",
          "text": [
            "Train Loss(加權): 3.0288 | Train Raw MAE: 3.0288 | Val MAE: 3.4249\n",
            "\n",
            "[FOLD 4] === Epoch 182/400 ===  (LR: 0.000335116)\n"
          ]
        },
        {
          "name": "stderr",
          "output_type": "stream",
          "text": []
        },
        {
          "name": "stdout",
          "output_type": "stream",
          "text": [
            "Train Loss(加權): 3.0024 | Train Raw MAE: 3.0024 | Val MAE: 3.3240\n",
            "\n",
            "[FOLD 4] === Epoch 183/400 ===  (LR: 0.000333077)\n"
          ]
        },
        {
          "name": "stderr",
          "output_type": "stream",
          "text": []
        },
        {
          "name": "stdout",
          "output_type": "stream",
          "text": [
            "Train Loss(加權): 2.9684 | Train Raw MAE: 2.9684 | Val MAE: 3.1580\n",
            "\n",
            "[FOLD 4] === Epoch 184/400 ===  (LR: 0.000331031)\n"
          ]
        },
        {
          "name": "stderr",
          "output_type": "stream",
          "text": []
        },
        {
          "name": "stdout",
          "output_type": "stream",
          "text": [
            "Train Loss(加權): 2.9420 | Train Raw MAE: 2.9420 | Val MAE: 3.0745\n",
            "🎯 New best Val MAE: 3.0745\n",
            "\n",
            "[FOLD 4] === Epoch 185/400 ===  (LR: 0.00032898)\n"
          ]
        },
        {
          "name": "stderr",
          "output_type": "stream",
          "text": []
        },
        {
          "name": "stdout",
          "output_type": "stream",
          "text": [
            "Train Loss(加權): 2.9389 | Train Raw MAE: 2.9389 | Val MAE: 3.2472\n",
            "\n",
            "[FOLD 4] === Epoch 186/400 ===  (LR: 0.000326923)\n"
          ]
        },
        {
          "name": "stderr",
          "output_type": "stream",
          "text": []
        },
        {
          "name": "stdout",
          "output_type": "stream",
          "text": [
            "Train Loss(加權): 2.9482 | Train Raw MAE: 2.9482 | Val MAE: 3.6192\n",
            "\n",
            "[FOLD 4] === Epoch 187/400 ===  (LR: 0.00032486)\n"
          ]
        },
        {
          "name": "stderr",
          "output_type": "stream",
          "text": []
        },
        {
          "name": "stdout",
          "output_type": "stream",
          "text": [
            "Train Loss(加權): 2.9332 | Train Raw MAE: 2.9332 | Val MAE: 3.3639\n",
            "\n",
            "[FOLD 4] === Epoch 188/400 ===  (LR: 0.000322792)\n"
          ]
        },
        {
          "name": "stderr",
          "output_type": "stream",
          "text": []
        },
        {
          "name": "stdout",
          "output_type": "stream",
          "text": [
            "Train Loss(加權): 2.9101 | Train Raw MAE: 2.9101 | Val MAE: 3.6775\n",
            "\n",
            "[FOLD 4] === Epoch 189/400 ===  (LR: 0.000320719)\n"
          ]
        },
        {
          "name": "stderr",
          "output_type": "stream",
          "text": []
        },
        {
          "name": "stdout",
          "output_type": "stream",
          "text": [
            "Train Loss(加權): 2.8895 | Train Raw MAE: 2.8895 | Val MAE: 3.2032\n",
            "\n",
            "[FOLD 4] === Epoch 190/400 ===  (LR: 0.00031864)\n"
          ]
        },
        {
          "name": "stderr",
          "output_type": "stream",
          "text": []
        },
        {
          "name": "stdout",
          "output_type": "stream",
          "text": [
            "Train Loss(加權): 2.9580 | Train Raw MAE: 2.9580 | Val MAE: 3.8944\n",
            "\n",
            "[FOLD 4] === Epoch 191/400 ===  (LR: 0.000316556)\n"
          ]
        },
        {
          "name": "stderr",
          "output_type": "stream",
          "text": []
        },
        {
          "name": "stdout",
          "output_type": "stream",
          "text": [
            "Train Loss(加權): 2.8967 | Train Raw MAE: 2.8967 | Val MAE: 3.3311\n",
            "\n",
            "[FOLD 4] === Epoch 192/400 ===  (LR: 0.000314467)\n"
          ]
        },
        {
          "name": "stderr",
          "output_type": "stream",
          "text": []
        },
        {
          "name": "stdout",
          "output_type": "stream",
          "text": [
            "Train Loss(加權): 2.9107 | Train Raw MAE: 2.9107 | Val MAE: 3.1577\n",
            "\n",
            "[FOLD 4] === Epoch 193/400 ===  (LR: 0.000312374)\n"
          ]
        },
        {
          "name": "stderr",
          "output_type": "stream",
          "text": []
        },
        {
          "name": "stdout",
          "output_type": "stream",
          "text": [
            "Train Loss(加權): 2.8959 | Train Raw MAE: 2.8959 | Val MAE: 3.2458\n",
            "\n",
            "[FOLD 4] === Epoch 194/400 ===  (LR: 0.000310276)\n"
          ]
        },
        {
          "name": "stderr",
          "output_type": "stream",
          "text": []
        },
        {
          "name": "stdout",
          "output_type": "stream",
          "text": [
            "Train Loss(加權): 2.8151 | Train Raw MAE: 2.8151 | Val MAE: 3.4170\n",
            "\n",
            "[FOLD 4] === Epoch 195/400 ===  (LR: 0.000308174)\n"
          ]
        },
        {
          "name": "stderr",
          "output_type": "stream",
          "text": []
        },
        {
          "name": "stdout",
          "output_type": "stream",
          "text": [
            "Train Loss(加權): 2.8348 | Train Raw MAE: 2.8348 | Val MAE: 3.3838\n",
            "\n",
            "[FOLD 4] === Epoch 196/400 ===  (LR: 0.000306067)\n"
          ]
        },
        {
          "name": "stderr",
          "output_type": "stream",
          "text": []
        },
        {
          "name": "stdout",
          "output_type": "stream",
          "text": [
            "Train Loss(加權): 2.8480 | Train Raw MAE: 2.8480 | Val MAE: 3.5693\n",
            "\n",
            "[FOLD 4] === Epoch 197/400 ===  (LR: 0.000303957)\n"
          ]
        },
        {
          "name": "stderr",
          "output_type": "stream",
          "text": []
        },
        {
          "name": "stdout",
          "output_type": "stream",
          "text": [
            "Train Loss(加權): 2.7882 | Train Raw MAE: 2.7882 | Val MAE: 3.0088\n",
            "🎯 New best Val MAE: 3.0088\n",
            "\n",
            "[FOLD 4] === Epoch 198/400 ===  (LR: 0.000301842)\n"
          ]
        },
        {
          "name": "stderr",
          "output_type": "stream",
          "text": []
        },
        {
          "name": "stdout",
          "output_type": "stream",
          "text": [
            "Train Loss(加權): 2.8030 | Train Raw MAE: 2.8030 | Val MAE: 3.2099\n",
            "\n",
            "[FOLD 4] === Epoch 199/400 ===  (LR: 0.000299724)\n"
          ]
        },
        {
          "name": "stderr",
          "output_type": "stream",
          "text": []
        },
        {
          "name": "stdout",
          "output_type": "stream",
          "text": [
            "Train Loss(加權): 2.8015 | Train Raw MAE: 2.8015 | Val MAE: 3.3047\n",
            "\n",
            "[FOLD 4] === Epoch 200/400 ===  (LR: 0.000297602)\n"
          ]
        },
        {
          "name": "stderr",
          "output_type": "stream",
          "text": []
        },
        {
          "name": "stdout",
          "output_type": "stream",
          "text": [
            "Train Loss(加權): 2.8226 | Train Raw MAE: 2.8226 | Val MAE: 3.0255\n",
            "\n",
            "[FOLD 4] === Epoch 201/400 ===  (LR: 0.000295476)\n"
          ]
        },
        {
          "name": "stderr",
          "output_type": "stream",
          "text": []
        },
        {
          "name": "stdout",
          "output_type": "stream",
          "text": [
            "Train Loss(加權): 2.7931 | Train Raw MAE: 2.7931 | Val MAE: 3.0716\n",
            "\n",
            "[FOLD 4] === Epoch 202/400 ===  (LR: 0.000293348)\n"
          ]
        },
        {
          "name": "stderr",
          "output_type": "stream",
          "text": []
        },
        {
          "name": "stdout",
          "output_type": "stream",
          "text": [
            "Train Loss(加權): 2.7667 | Train Raw MAE: 2.7667 | Val MAE: 3.3091\n",
            "\n",
            "[FOLD 4] === Epoch 203/400 ===  (LR: 0.000291216)\n"
          ]
        },
        {
          "name": "stderr",
          "output_type": "stream",
          "text": []
        },
        {
          "name": "stdout",
          "output_type": "stream",
          "text": [
            "Train Loss(加權): 2.7867 | Train Raw MAE: 2.7867 | Val MAE: 3.3580\n",
            "\n",
            "[FOLD 4] === Epoch 204/400 ===  (LR: 0.000289081)\n"
          ]
        },
        {
          "name": "stderr",
          "output_type": "stream",
          "text": []
        },
        {
          "name": "stdout",
          "output_type": "stream",
          "text": [
            "Train Loss(加權): 2.7979 | Train Raw MAE: 2.7979 | Val MAE: 3.4183\n",
            "\n",
            "[FOLD 4] === Epoch 205/400 ===  (LR: 0.000286944)\n"
          ]
        },
        {
          "name": "stderr",
          "output_type": "stream",
          "text": []
        },
        {
          "name": "stdout",
          "output_type": "stream",
          "text": [
            "Train Loss(加權): 2.7502 | Train Raw MAE: 2.7502 | Val MAE: 3.0144\n",
            "\n",
            "[FOLD 4] === Epoch 206/400 ===  (LR: 0.000284804)\n"
          ]
        },
        {
          "name": "stderr",
          "output_type": "stream",
          "text": []
        },
        {
          "name": "stdout",
          "output_type": "stream",
          "text": [
            "Train Loss(加權): 2.7326 | Train Raw MAE: 2.7326 | Val MAE: 3.0687\n",
            "\n",
            "[FOLD 4] === Epoch 207/400 ===  (LR: 0.000282661)\n"
          ]
        },
        {
          "name": "stderr",
          "output_type": "stream",
          "text": []
        },
        {
          "name": "stdout",
          "output_type": "stream",
          "text": [
            "Train Loss(加權): 2.7080 | Train Raw MAE: 2.7080 | Val MAE: 3.3003\n",
            "\n",
            "[FOLD 4] === Epoch 208/400 ===  (LR: 0.000280516)\n"
          ]
        },
        {
          "name": "stderr",
          "output_type": "stream",
          "text": []
        },
        {
          "name": "stdout",
          "output_type": "stream",
          "text": [
            "Train Loss(加權): 2.7173 | Train Raw MAE: 2.7173 | Val MAE: 3.2455\n",
            "\n",
            "[FOLD 4] === Epoch 209/400 ===  (LR: 0.000278369)\n"
          ]
        },
        {
          "name": "stderr",
          "output_type": "stream",
          "text": []
        },
        {
          "name": "stdout",
          "output_type": "stream",
          "text": [
            "Train Loss(加權): 2.7202 | Train Raw MAE: 2.7202 | Val MAE: 3.0711\n",
            "\n",
            "[FOLD 4] === Epoch 210/400 ===  (LR: 0.00027622)\n"
          ]
        },
        {
          "name": "stderr",
          "output_type": "stream",
          "text": []
        },
        {
          "name": "stdout",
          "output_type": "stream",
          "text": [
            "Train Loss(加權): 2.7576 | Train Raw MAE: 2.7576 | Val MAE: 3.9338\n",
            "\n",
            "[FOLD 4] === Epoch 211/400 ===  (LR: 0.000274069)\n"
          ]
        },
        {
          "name": "stderr",
          "output_type": "stream",
          "text": []
        },
        {
          "name": "stdout",
          "output_type": "stream",
          "text": [
            "Train Loss(加權): 2.7560 | Train Raw MAE: 2.7560 | Val MAE: 3.3177\n",
            "\n",
            "[FOLD 4] === Epoch 212/400 ===  (LR: 0.000271917)\n"
          ]
        },
        {
          "name": "stderr",
          "output_type": "stream",
          "text": []
        },
        {
          "name": "stdout",
          "output_type": "stream",
          "text": [
            "Train Loss(加權): 2.6496 | Train Raw MAE: 2.6496 | Val MAE: 3.0511\n",
            "\n",
            "[FOLD 4] === Epoch 213/400 ===  (LR: 0.000269763)\n"
          ]
        },
        {
          "name": "stderr",
          "output_type": "stream",
          "text": []
        },
        {
          "name": "stdout",
          "output_type": "stream",
          "text": [
            "Train Loss(加權): 2.6736 | Train Raw MAE: 2.6736 | Val MAE: 3.8333\n",
            "\n",
            "[FOLD 4] === Epoch 214/400 ===  (LR: 0.000267608)\n"
          ]
        },
        {
          "name": "stderr",
          "output_type": "stream",
          "text": []
        },
        {
          "name": "stdout",
          "output_type": "stream",
          "text": [
            "Train Loss(加權): 2.6581 | Train Raw MAE: 2.6581 | Val MAE: 3.1730\n",
            "\n",
            "[FOLD 4] === Epoch 215/400 ===  (LR: 0.000265451)\n"
          ]
        },
        {
          "name": "stderr",
          "output_type": "stream",
          "text": []
        },
        {
          "name": "stdout",
          "output_type": "stream",
          "text": [
            "Train Loss(加權): 2.6497 | Train Raw MAE: 2.6497 | Val MAE: 3.1967\n",
            "\n",
            "[FOLD 4] === Epoch 216/400 ===  (LR: 0.000263294)\n"
          ]
        },
        {
          "name": "stderr",
          "output_type": "stream",
          "text": []
        },
        {
          "name": "stdout",
          "output_type": "stream",
          "text": [
            "Train Loss(加權): 2.6371 | Train Raw MAE: 2.6371 | Val MAE: 3.4038\n",
            "\n",
            "[FOLD 4] === Epoch 217/400 ===  (LR: 0.000261136)\n"
          ]
        },
        {
          "name": "stderr",
          "output_type": "stream",
          "text": []
        },
        {
          "name": "stdout",
          "output_type": "stream",
          "text": [
            "Train Loss(加權): 2.6213 | Train Raw MAE: 2.6213 | Val MAE: 3.0078\n",
            "🎯 New best Val MAE: 3.0078\n",
            "\n",
            "[FOLD 4] === Epoch 218/400 ===  (LR: 0.000258977)\n"
          ]
        },
        {
          "name": "stderr",
          "output_type": "stream",
          "text": []
        },
        {
          "name": "stdout",
          "output_type": "stream",
          "text": [
            "Train Loss(加權): 2.6731 | Train Raw MAE: 2.6731 | Val MAE: 3.4682\n",
            "\n",
            "[FOLD 4] === Epoch 219/400 ===  (LR: 0.000256818)\n"
          ]
        },
        {
          "name": "stderr",
          "output_type": "stream",
          "text": []
        },
        {
          "name": "stdout",
          "output_type": "stream",
          "text": [
            "Train Loss(加權): 2.6540 | Train Raw MAE: 2.6540 | Val MAE: 3.0378\n",
            "\n",
            "[FOLD 4] === Epoch 220/400 ===  (LR: 0.000254658)\n"
          ]
        },
        {
          "name": "stderr",
          "output_type": "stream",
          "text": []
        },
        {
          "name": "stdout",
          "output_type": "stream",
          "text": [
            "Train Loss(加權): 2.6278 | Train Raw MAE: 2.6278 | Val MAE: 3.4434\n",
            "\n",
            "[FOLD 4] === Epoch 221/400 ===  (LR: 0.000252498)\n"
          ]
        },
        {
          "name": "stderr",
          "output_type": "stream",
          "text": []
        },
        {
          "name": "stdout",
          "output_type": "stream",
          "text": [
            "Train Loss(加權): 2.6255 | Train Raw MAE: 2.6255 | Val MAE: 3.4126\n",
            "\n",
            "[FOLD 4] === Epoch 222/400 ===  (LR: 0.000250339)\n"
          ]
        },
        {
          "name": "stderr",
          "output_type": "stream",
          "text": []
        },
        {
          "name": "stdout",
          "output_type": "stream",
          "text": [
            "Train Loss(加權): 2.5799 | Train Raw MAE: 2.5799 | Val MAE: 3.0081\n",
            "\n",
            "[FOLD 4] === Epoch 223/400 ===  (LR: 0.000248179)\n"
          ]
        },
        {
          "name": "stderr",
          "output_type": "stream",
          "text": []
        },
        {
          "name": "stdout",
          "output_type": "stream",
          "text": [
            "Train Loss(加權): 2.5674 | Train Raw MAE: 2.5674 | Val MAE: 3.9101\n",
            "\n",
            "[FOLD 4] === Epoch 224/400 ===  (LR: 0.00024602)\n"
          ]
        },
        {
          "name": "stderr",
          "output_type": "stream",
          "text": []
        },
        {
          "name": "stdout",
          "output_type": "stream",
          "text": [
            "Train Loss(加權): 2.6090 | Train Raw MAE: 2.6090 | Val MAE: 3.1405\n",
            "\n",
            "[FOLD 4] === Epoch 225/400 ===  (LR: 0.000243861)\n"
          ]
        },
        {
          "name": "stderr",
          "output_type": "stream",
          "text": []
        },
        {
          "name": "stdout",
          "output_type": "stream",
          "text": [
            "Train Loss(加權): 2.5609 | Train Raw MAE: 2.5609 | Val MAE: 3.4480\n",
            "\n",
            "[FOLD 4] === Epoch 226/400 ===  (LR: 0.000241703)\n"
          ]
        },
        {
          "name": "stderr",
          "output_type": "stream",
          "text": []
        },
        {
          "name": "stdout",
          "output_type": "stream",
          "text": [
            "Train Loss(加權): 2.6093 | Train Raw MAE: 2.6093 | Val MAE: 2.9827\n",
            "🎯 New best Val MAE: 2.9827\n",
            "\n",
            "[FOLD 4] === Epoch 227/400 ===  (LR: 0.000239545)\n"
          ]
        },
        {
          "name": "stderr",
          "output_type": "stream",
          "text": []
        },
        {
          "name": "stdout",
          "output_type": "stream",
          "text": [
            "Train Loss(加權): 2.5399 | Train Raw MAE: 2.5399 | Val MAE: 2.9985\n",
            "\n",
            "[FOLD 4] === Epoch 228/400 ===  (LR: 0.000237389)\n"
          ]
        },
        {
          "name": "stderr",
          "output_type": "stream",
          "text": []
        },
        {
          "name": "stdout",
          "output_type": "stream",
          "text": [
            "Train Loss(加權): 2.5776 | Train Raw MAE: 2.5776 | Val MAE: 3.1509\n",
            "\n",
            "[FOLD 4] === Epoch 229/400 ===  (LR: 0.000235234)\n"
          ]
        },
        {
          "name": "stderr",
          "output_type": "stream",
          "text": []
        },
        {
          "name": "stdout",
          "output_type": "stream",
          "text": [
            "Train Loss(加權): 2.5396 | Train Raw MAE: 2.5396 | Val MAE: 2.9887\n",
            "\n",
            "[FOLD 4] === Epoch 230/400 ===  (LR: 0.00023308)\n"
          ]
        },
        {
          "name": "stderr",
          "output_type": "stream",
          "text": []
        },
        {
          "name": "stdout",
          "output_type": "stream",
          "text": [
            "Train Loss(加權): 2.5098 | Train Raw MAE: 2.5098 | Val MAE: 2.9542\n",
            "🎯 New best Val MAE: 2.9542\n",
            "\n",
            "[FOLD 4] === Epoch 231/400 ===  (LR: 0.000230927)\n"
          ]
        },
        {
          "name": "stderr",
          "output_type": "stream",
          "text": []
        },
        {
          "name": "stdout",
          "output_type": "stream",
          "text": [
            "Train Loss(加權): 2.5212 | Train Raw MAE: 2.5212 | Val MAE: 3.1472\n",
            "\n",
            "[FOLD 4] === Epoch 232/400 ===  (LR: 0.000228777)\n"
          ]
        },
        {
          "name": "stderr",
          "output_type": "stream",
          "text": []
        },
        {
          "name": "stdout",
          "output_type": "stream",
          "text": [
            "Train Loss(加權): 2.5033 | Train Raw MAE: 2.5033 | Val MAE: 2.9887\n",
            "\n",
            "[FOLD 4] === Epoch 233/400 ===  (LR: 0.000226628)\n"
          ]
        },
        {
          "name": "stderr",
          "output_type": "stream",
          "text": []
        },
        {
          "name": "stdout",
          "output_type": "stream",
          "text": [
            "Train Loss(加權): 2.5045 | Train Raw MAE: 2.5045 | Val MAE: 2.9355\n",
            "🎯 New best Val MAE: 2.9355\n",
            "\n",
            "[FOLD 4] === Epoch 234/400 ===  (LR: 0.000224481)\n"
          ]
        },
        {
          "name": "stderr",
          "output_type": "stream",
          "text": []
        },
        {
          "name": "stdout",
          "output_type": "stream",
          "text": [
            "Train Loss(加權): 2.5021 | Train Raw MAE: 2.5021 | Val MAE: 3.4443\n",
            "\n",
            "[FOLD 4] === Epoch 235/400 ===  (LR: 0.000222336)\n"
          ]
        },
        {
          "name": "stderr",
          "output_type": "stream",
          "text": []
        },
        {
          "name": "stdout",
          "output_type": "stream",
          "text": [
            "Train Loss(加權): 2.5384 | Train Raw MAE: 2.5384 | Val MAE: 3.1018\n",
            "\n",
            "[FOLD 4] === Epoch 236/400 ===  (LR: 0.000220193)\n"
          ]
        },
        {
          "name": "stderr",
          "output_type": "stream",
          "text": []
        },
        {
          "name": "stdout",
          "output_type": "stream",
          "text": [
            "Train Loss(加權): 2.5087 | Train Raw MAE: 2.5087 | Val MAE: 3.4714\n",
            "\n",
            "[FOLD 4] === Epoch 237/400 ===  (LR: 0.000218053)\n"
          ]
        },
        {
          "name": "stderr",
          "output_type": "stream",
          "text": []
        },
        {
          "name": "stdout",
          "output_type": "stream",
          "text": [
            "Train Loss(加權): 2.4755 | Train Raw MAE: 2.4755 | Val MAE: 3.2814\n",
            "\n",
            "[FOLD 4] === Epoch 238/400 ===  (LR: 0.000215916)\n"
          ]
        },
        {
          "name": "stderr",
          "output_type": "stream",
          "text": []
        },
        {
          "name": "stdout",
          "output_type": "stream",
          "text": [
            "Train Loss(加權): 2.4989 | Train Raw MAE: 2.4989 | Val MAE: 3.0050\n",
            "\n",
            "[FOLD 4] === Epoch 239/400 ===  (LR: 0.000213781)\n"
          ]
        },
        {
          "name": "stderr",
          "output_type": "stream",
          "text": []
        },
        {
          "name": "stdout",
          "output_type": "stream",
          "text": [
            "Train Loss(加權): 2.4939 | Train Raw MAE: 2.4939 | Val MAE: 2.9650\n",
            "\n",
            "[FOLD 4] === Epoch 240/400 ===  (LR: 0.000211649)\n"
          ]
        },
        {
          "name": "stderr",
          "output_type": "stream",
          "text": []
        },
        {
          "name": "stdout",
          "output_type": "stream",
          "text": [
            "Train Loss(加權): 2.4688 | Train Raw MAE: 2.4688 | Val MAE: 3.2029\n",
            "\n",
            "[FOLD 4] === Epoch 241/400 ===  (LR: 0.00020952)\n"
          ]
        },
        {
          "name": "stderr",
          "output_type": "stream",
          "text": []
        },
        {
          "name": "stdout",
          "output_type": "stream",
          "text": [
            "Train Loss(加權): 2.4632 | Train Raw MAE: 2.4632 | Val MAE: 3.4285\n",
            "\n",
            "[FOLD 4] === Epoch 242/400 ===  (LR: 0.000207395)\n"
          ]
        },
        {
          "name": "stderr",
          "output_type": "stream",
          "text": []
        },
        {
          "name": "stdout",
          "output_type": "stream",
          "text": [
            "Train Loss(加權): 2.4436 | Train Raw MAE: 2.4436 | Val MAE: 3.1741\n",
            "\n",
            "[FOLD 4] === Epoch 243/400 ===  (LR: 0.000205273)\n"
          ]
        },
        {
          "name": "stderr",
          "output_type": "stream",
          "text": []
        },
        {
          "name": "stdout",
          "output_type": "stream",
          "text": [
            "Train Loss(加權): 2.4689 | Train Raw MAE: 2.4689 | Val MAE: 3.2614\n",
            "\n",
            "[FOLD 4] === Epoch 244/400 ===  (LR: 0.000203155)\n"
          ]
        },
        {
          "name": "stderr",
          "output_type": "stream",
          "text": []
        },
        {
          "name": "stdout",
          "output_type": "stream",
          "text": [
            "Train Loss(加權): 2.4541 | Train Raw MAE: 2.4541 | Val MAE: 2.8809\n",
            "🎯 New best Val MAE: 2.8809\n",
            "\n",
            "[FOLD 4] === Epoch 245/400 ===  (LR: 0.00020104)\n"
          ]
        },
        {
          "name": "stderr",
          "output_type": "stream",
          "text": []
        },
        {
          "name": "stdout",
          "output_type": "stream",
          "text": [
            "Train Loss(加權): 2.4353 | Train Raw MAE: 2.4353 | Val MAE: 3.4062\n",
            "\n",
            "[FOLD 4] === Epoch 246/400 ===  (LR: 0.00019893)\n"
          ]
        },
        {
          "name": "stderr",
          "output_type": "stream",
          "text": []
        },
        {
          "name": "stdout",
          "output_type": "stream",
          "text": [
            "Train Loss(加權): 2.4296 | Train Raw MAE: 2.4296 | Val MAE: 3.1154\n",
            "\n",
            "[FOLD 4] === Epoch 247/400 ===  (LR: 0.000196823)\n"
          ]
        },
        {
          "name": "stderr",
          "output_type": "stream",
          "text": []
        },
        {
          "name": "stdout",
          "output_type": "stream",
          "text": [
            "Train Loss(加權): 2.3879 | Train Raw MAE: 2.3879 | Val MAE: 3.0382\n",
            "\n",
            "[FOLD 4] === Epoch 248/400 ===  (LR: 0.000194721)\n"
          ]
        },
        {
          "name": "stderr",
          "output_type": "stream",
          "text": []
        },
        {
          "name": "stdout",
          "output_type": "stream",
          "text": [
            "Train Loss(加權): 2.3588 | Train Raw MAE: 2.3588 | Val MAE: 3.0090\n",
            "\n",
            "[FOLD 4] === Epoch 249/400 ===  (LR: 0.000192623)\n"
          ]
        },
        {
          "name": "stderr",
          "output_type": "stream",
          "text": []
        },
        {
          "name": "stdout",
          "output_type": "stream",
          "text": [
            "Train Loss(加權): 2.4057 | Train Raw MAE: 2.4057 | Val MAE: 3.3529\n",
            "\n",
            "[FOLD 4] === Epoch 250/400 ===  (LR: 0.000190529)\n"
          ]
        },
        {
          "name": "stderr",
          "output_type": "stream",
          "text": []
        },
        {
          "name": "stdout",
          "output_type": "stream",
          "text": [
            "Train Loss(加權): 2.3810 | Train Raw MAE: 2.3810 | Val MAE: 2.8482\n",
            "🎯 New best Val MAE: 2.8482\n",
            "\n",
            "[FOLD 4] === Epoch 251/400 ===  (LR: 0.000188441)\n"
          ]
        },
        {
          "name": "stderr",
          "output_type": "stream",
          "text": []
        },
        {
          "name": "stdout",
          "output_type": "stream",
          "text": [
            "Train Loss(加權): 2.3885 | Train Raw MAE: 2.3885 | Val MAE: 2.8292\n",
            "🎯 New best Val MAE: 2.8292\n",
            "\n",
            "[FOLD 4] === Epoch 252/400 ===  (LR: 0.000186357)\n"
          ]
        },
        {
          "name": "stderr",
          "output_type": "stream",
          "text": []
        },
        {
          "name": "stdout",
          "output_type": "stream",
          "text": [
            "Train Loss(加權): 2.3380 | Train Raw MAE: 2.3380 | Val MAE: 3.0887\n",
            "\n",
            "[FOLD 4] === Epoch 253/400 ===  (LR: 0.000184278)\n"
          ]
        },
        {
          "name": "stderr",
          "output_type": "stream",
          "text": []
        },
        {
          "name": "stdout",
          "output_type": "stream",
          "text": [
            "Train Loss(加權): 2.3361 | Train Raw MAE: 2.3361 | Val MAE: 3.1877\n",
            "\n",
            "[FOLD 4] === Epoch 254/400 ===  (LR: 0.000182205)\n"
          ]
        },
        {
          "name": "stderr",
          "output_type": "stream",
          "text": []
        },
        {
          "name": "stdout",
          "output_type": "stream",
          "text": [
            "Train Loss(加權): 2.3468 | Train Raw MAE: 2.3468 | Val MAE: 3.2943\n",
            "\n",
            "[FOLD 4] === Epoch 255/400 ===  (LR: 0.000180136)\n"
          ]
        },
        {
          "name": "stderr",
          "output_type": "stream",
          "text": []
        },
        {
          "name": "stdout",
          "output_type": "stream",
          "text": [
            "Train Loss(加權): 2.3498 | Train Raw MAE: 2.3498 | Val MAE: 3.0131\n",
            "\n",
            "[FOLD 4] === Epoch 256/400 ===  (LR: 0.000178074)\n"
          ]
        },
        {
          "name": "stderr",
          "output_type": "stream",
          "text": []
        },
        {
          "name": "stdout",
          "output_type": "stream",
          "text": [
            "Train Loss(加權): 2.3381 | Train Raw MAE: 2.3381 | Val MAE: 3.3192\n",
            "\n",
            "[FOLD 4] === Epoch 257/400 ===  (LR: 0.000176017)\n"
          ]
        },
        {
          "name": "stderr",
          "output_type": "stream",
          "text": []
        },
        {
          "name": "stdout",
          "output_type": "stream",
          "text": [
            "Train Loss(加權): 2.3450 | Train Raw MAE: 2.3450 | Val MAE: 2.9698\n",
            "\n",
            "[FOLD 4] === Epoch 258/400 ===  (LR: 0.000173966)\n"
          ]
        },
        {
          "name": "stderr",
          "output_type": "stream",
          "text": []
        },
        {
          "name": "stdout",
          "output_type": "stream",
          "text": [
            "Train Loss(加權): 2.3328 | Train Raw MAE: 2.3328 | Val MAE: 3.8601\n",
            "\n",
            "[FOLD 4] === Epoch 259/400 ===  (LR: 0.00017192)\n"
          ]
        },
        {
          "name": "stderr",
          "output_type": "stream",
          "text": []
        },
        {
          "name": "stdout",
          "output_type": "stream",
          "text": [
            "Train Loss(加權): 2.3582 | Train Raw MAE: 2.3582 | Val MAE: 2.9069\n",
            "\n",
            "[FOLD 4] === Epoch 260/400 ===  (LR: 0.000169881)\n"
          ]
        },
        {
          "name": "stderr",
          "output_type": "stream",
          "text": []
        },
        {
          "name": "stdout",
          "output_type": "stream",
          "text": [
            "Train Loss(加權): 2.3431 | Train Raw MAE: 2.3431 | Val MAE: 3.1423\n",
            "\n",
            "[FOLD 4] === Epoch 261/400 ===  (LR: 0.000167848)\n"
          ]
        },
        {
          "name": "stderr",
          "output_type": "stream",
          "text": []
        },
        {
          "name": "stdout",
          "output_type": "stream",
          "text": [
            "Train Loss(加權): 2.3298 | Train Raw MAE: 2.3298 | Val MAE: 3.5393\n",
            "\n",
            "[FOLD 4] === Epoch 262/400 ===  (LR: 0.000165822)\n"
          ]
        },
        {
          "name": "stderr",
          "output_type": "stream",
          "text": []
        },
        {
          "name": "stdout",
          "output_type": "stream",
          "text": [
            "Train Loss(加權): 2.3185 | Train Raw MAE: 2.3185 | Val MAE: 3.1732\n",
            "\n",
            "[FOLD 4] === Epoch 263/400 ===  (LR: 0.000163802)\n"
          ]
        },
        {
          "name": "stderr",
          "output_type": "stream",
          "text": []
        },
        {
          "name": "stdout",
          "output_type": "stream",
          "text": [
            "Train Loss(加權): 2.3388 | Train Raw MAE: 2.3388 | Val MAE: 3.2031\n",
            "\n",
            "[FOLD 4] === Epoch 264/400 ===  (LR: 0.000161789)\n"
          ]
        },
        {
          "name": "stderr",
          "output_type": "stream",
          "text": []
        },
        {
          "name": "stdout",
          "output_type": "stream",
          "text": [
            "Train Loss(加權): 2.2903 | Train Raw MAE: 2.2903 | Val MAE: 3.2738\n",
            "\n",
            "[FOLD 4] === Epoch 265/400 ===  (LR: 0.000159783)\n"
          ]
        },
        {
          "name": "stderr",
          "output_type": "stream",
          "text": []
        },
        {
          "name": "stdout",
          "output_type": "stream",
          "text": [
            "Train Loss(加權): 2.2922 | Train Raw MAE: 2.2922 | Val MAE: 3.0782\n",
            "\n",
            "[FOLD 4] === Epoch 266/400 ===  (LR: 0.000157784)\n"
          ]
        },
        {
          "name": "stderr",
          "output_type": "stream",
          "text": []
        },
        {
          "name": "stdout",
          "output_type": "stream",
          "text": [
            "Train Loss(加權): 2.3163 | Train Raw MAE: 2.3163 | Val MAE: 3.1623\n",
            "\n",
            "[FOLD 4] === Epoch 267/400 ===  (LR: 0.000155793)\n"
          ]
        },
        {
          "name": "stderr",
          "output_type": "stream",
          "text": []
        },
        {
          "name": "stdout",
          "output_type": "stream",
          "text": [
            "Train Loss(加權): 2.2547 | Train Raw MAE: 2.2547 | Val MAE: 3.1153\n",
            "\n",
            "[FOLD 4] === Epoch 268/400 ===  (LR: 0.000153808)\n"
          ]
        },
        {
          "name": "stderr",
          "output_type": "stream",
          "text": []
        },
        {
          "name": "stdout",
          "output_type": "stream",
          "text": [
            "Train Loss(加權): 2.2824 | Train Raw MAE: 2.2824 | Val MAE: 3.0251\n",
            "\n",
            "[FOLD 4] === Epoch 269/400 ===  (LR: 0.000151831)\n"
          ]
        },
        {
          "name": "stderr",
          "output_type": "stream",
          "text": []
        },
        {
          "name": "stdout",
          "output_type": "stream",
          "text": [
            "Train Loss(加權): 2.2663 | Train Raw MAE: 2.2663 | Val MAE: 3.0918\n",
            "\n",
            "[FOLD 4] === Epoch 270/400 ===  (LR: 0.000149862)\n"
          ]
        },
        {
          "name": "stderr",
          "output_type": "stream",
          "text": []
        },
        {
          "name": "stdout",
          "output_type": "stream",
          "text": [
            "Train Loss(加權): 2.2559 | Train Raw MAE: 2.2559 | Val MAE: 2.9793\n",
            "\n",
            "[FOLD 4] === Epoch 271/400 ===  (LR: 0.0001479)\n"
          ]
        },
        {
          "name": "stderr",
          "output_type": "stream",
          "text": []
        },
        {
          "name": "stdout",
          "output_type": "stream",
          "text": [
            "Train Loss(加權): 2.2506 | Train Raw MAE: 2.2506 | Val MAE: 3.1901\n",
            "\n",
            "[FOLD 4] === Epoch 272/400 ===  (LR: 0.000145947)\n"
          ]
        },
        {
          "name": "stderr",
          "output_type": "stream",
          "text": []
        },
        {
          "name": "stdout",
          "output_type": "stream",
          "text": [
            "Train Loss(加權): 2.2689 | Train Raw MAE: 2.2689 | Val MAE: 2.9710\n",
            "\n",
            "[FOLD 4] === Epoch 273/400 ===  (LR: 0.000144002)\n"
          ]
        },
        {
          "name": "stderr",
          "output_type": "stream",
          "text": []
        },
        {
          "name": "stdout",
          "output_type": "stream",
          "text": [
            "Train Loss(加權): 2.2340 | Train Raw MAE: 2.2340 | Val MAE: 3.2351\n",
            "\n",
            "[FOLD 4] === Epoch 274/400 ===  (LR: 0.000142065)\n"
          ]
        },
        {
          "name": "stderr",
          "output_type": "stream",
          "text": []
        },
        {
          "name": "stdout",
          "output_type": "stream",
          "text": [
            "Train Loss(加權): 2.2812 | Train Raw MAE: 2.2812 | Val MAE: 3.2438\n",
            "\n",
            "[FOLD 4] === Epoch 275/400 ===  (LR: 0.000140136)\n"
          ]
        },
        {
          "name": "stderr",
          "output_type": "stream",
          "text": []
        },
        {
          "name": "stdout",
          "output_type": "stream",
          "text": [
            "Train Loss(加權): 2.2359 | Train Raw MAE: 2.2359 | Val MAE: 3.2613\n",
            "\n",
            "[FOLD 4] === Epoch 276/400 ===  (LR: 0.000138216)\n"
          ]
        },
        {
          "name": "stderr",
          "output_type": "stream",
          "text": []
        },
        {
          "name": "stdout",
          "output_type": "stream",
          "text": [
            "Train Loss(加權): 2.2300 | Train Raw MAE: 2.2300 | Val MAE: 3.0994\n",
            "\n",
            "[FOLD 4] === Epoch 277/400 ===  (LR: 0.000136304)\n"
          ]
        },
        {
          "name": "stderr",
          "output_type": "stream",
          "text": []
        },
        {
          "name": "stdout",
          "output_type": "stream",
          "text": [
            "Train Loss(加權): 2.2314 | Train Raw MAE: 2.2314 | Val MAE: 3.1229\n",
            "\n",
            "[FOLD 4] === Epoch 278/400 ===  (LR: 0.000134402)\n"
          ]
        },
        {
          "name": "stderr",
          "output_type": "stream",
          "text": []
        },
        {
          "name": "stdout",
          "output_type": "stream",
          "text": [
            "Train Loss(加權): 2.2199 | Train Raw MAE: 2.2199 | Val MAE: 2.9924\n",
            "\n",
            "[FOLD 4] === Epoch 279/400 ===  (LR: 0.000132508)\n"
          ]
        },
        {
          "name": "stderr",
          "output_type": "stream",
          "text": []
        },
        {
          "name": "stdout",
          "output_type": "stream",
          "text": [
            "Train Loss(加權): 2.2090 | Train Raw MAE: 2.2090 | Val MAE: 3.0010\n",
            "\n",
            "[FOLD 4] === Epoch 280/400 ===  (LR: 0.000130624)\n"
          ]
        },
        {
          "name": "stderr",
          "output_type": "stream",
          "text": []
        },
        {
          "name": "stdout",
          "output_type": "stream",
          "text": [
            "Train Loss(加權): 2.2364 | Train Raw MAE: 2.2364 | Val MAE: 3.3614\n",
            "\n",
            "[FOLD 4] === Epoch 281/400 ===  (LR: 0.000128749)\n"
          ]
        },
        {
          "name": "stderr",
          "output_type": "stream",
          "text": []
        },
        {
          "name": "stdout",
          "output_type": "stream",
          "text": [
            "Train Loss(加權): 2.1838 | Train Raw MAE: 2.1838 | Val MAE: 3.4653\n",
            "\n",
            "[FOLD 4] === Epoch 282/400 ===  (LR: 0.000126883)\n"
          ]
        },
        {
          "name": "stderr",
          "output_type": "stream",
          "text": []
        },
        {
          "name": "stdout",
          "output_type": "stream",
          "text": [
            "Train Loss(加權): 2.1534 | Train Raw MAE: 2.1534 | Val MAE: 2.8453\n",
            "\n",
            "[FOLD 4] === Epoch 283/400 ===  (LR: 0.000125027)\n"
          ]
        },
        {
          "name": "stderr",
          "output_type": "stream",
          "text": []
        },
        {
          "name": "stdout",
          "output_type": "stream",
          "text": [
            "Train Loss(加權): 2.1634 | Train Raw MAE: 2.1634 | Val MAE: 3.1156\n",
            "\n",
            "[FOLD 4] === Epoch 284/400 ===  (LR: 0.00012318)\n"
          ]
        },
        {
          "name": "stderr",
          "output_type": "stream",
          "text": []
        },
        {
          "name": "stdout",
          "output_type": "stream",
          "text": [
            "Train Loss(加權): 2.1676 | Train Raw MAE: 2.1676 | Val MAE: 3.0462\n",
            "\n",
            "[FOLD 4] === Epoch 285/400 ===  (LR: 0.000121344)\n"
          ]
        },
        {
          "name": "stderr",
          "output_type": "stream",
          "text": []
        },
        {
          "name": "stdout",
          "output_type": "stream",
          "text": [
            "Train Loss(加權): 2.1563 | Train Raw MAE: 2.1563 | Val MAE: 2.9172\n",
            "\n",
            "[FOLD 4] === Epoch 286/400 ===  (LR: 0.000119517)\n"
          ]
        },
        {
          "name": "stderr",
          "output_type": "stream",
          "text": []
        },
        {
          "name": "stdout",
          "output_type": "stream",
          "text": [
            "Train Loss(加權): 2.1578 | Train Raw MAE: 2.1578 | Val MAE: 2.9452\n",
            "\n",
            "[FOLD 4] === Epoch 287/400 ===  (LR: 0.0001177)\n"
          ]
        },
        {
          "name": "stderr",
          "output_type": "stream",
          "text": []
        },
        {
          "name": "stdout",
          "output_type": "stream",
          "text": [
            "Train Loss(加權): 2.1373 | Train Raw MAE: 2.1373 | Val MAE: 3.2509\n",
            "\n",
            "[FOLD 4] === Epoch 288/400 ===  (LR: 0.000115894)\n"
          ]
        },
        {
          "name": "stderr",
          "output_type": "stream",
          "text": []
        },
        {
          "name": "stdout",
          "output_type": "stream",
          "text": [
            "Train Loss(加權): 2.1482 | Train Raw MAE: 2.1482 | Val MAE: 2.9446\n",
            "\n",
            "[FOLD 4] === Epoch 289/400 ===  (LR: 0.000114098)\n"
          ]
        },
        {
          "name": "stderr",
          "output_type": "stream",
          "text": []
        },
        {
          "name": "stdout",
          "output_type": "stream",
          "text": [
            "Train Loss(加權): 2.1135 | Train Raw MAE: 2.1135 | Val MAE: 2.8813\n",
            "\n",
            "[FOLD 4] === Epoch 290/400 ===  (LR: 0.000112313)\n"
          ]
        },
        {
          "name": "stderr",
          "output_type": "stream",
          "text": []
        },
        {
          "name": "stdout",
          "output_type": "stream",
          "text": [
            "Train Loss(加權): 2.1284 | Train Raw MAE: 2.1284 | Val MAE: 3.0520\n",
            "\n",
            "[FOLD 4] === Epoch 291/400 ===  (LR: 0.000110538)\n"
          ]
        },
        {
          "name": "stderr",
          "output_type": "stream",
          "text": []
        },
        {
          "name": "stdout",
          "output_type": "stream",
          "text": [
            "Train Loss(加權): 2.1452 | Train Raw MAE: 2.1452 | Val MAE: 3.5567\n",
            "\n",
            "[FOLD 4] === Epoch 292/400 ===  (LR: 0.000108775)\n"
          ]
        },
        {
          "name": "stderr",
          "output_type": "stream",
          "text": []
        },
        {
          "name": "stdout",
          "output_type": "stream",
          "text": [
            "Train Loss(加權): 2.1089 | Train Raw MAE: 2.1089 | Val MAE: 2.9742\n",
            "\n",
            "[FOLD 4] === Epoch 293/400 ===  (LR: 0.000107022)\n"
          ]
        },
        {
          "name": "stderr",
          "output_type": "stream",
          "text": []
        },
        {
          "name": "stdout",
          "output_type": "stream",
          "text": [
            "Train Loss(加權): 2.1371 | Train Raw MAE: 2.1371 | Val MAE: 2.8842\n",
            "\n",
            "[FOLD 4] === Epoch 294/400 ===  (LR: 0.00010528)\n"
          ]
        },
        {
          "name": "stderr",
          "output_type": "stream",
          "text": []
        },
        {
          "name": "stdout",
          "output_type": "stream",
          "text": [
            "Train Loss(加權): 2.1204 | Train Raw MAE: 2.1204 | Val MAE: 3.0791\n",
            "\n",
            "[FOLD 4] === Epoch 295/400 ===  (LR: 0.000103549)\n"
          ]
        },
        {
          "name": "stderr",
          "output_type": "stream",
          "text": []
        },
        {
          "name": "stdout",
          "output_type": "stream",
          "text": [
            "Train Loss(加權): 2.1289 | Train Raw MAE: 2.1289 | Val MAE: 2.9618\n",
            "\n",
            "[FOLD 4] === Epoch 296/400 ===  (LR: 0.00010183)\n"
          ]
        },
        {
          "name": "stderr",
          "output_type": "stream",
          "text": []
        },
        {
          "name": "stdout",
          "output_type": "stream",
          "text": [
            "Train Loss(加權): 2.1355 | Train Raw MAE: 2.1355 | Val MAE: 2.9699\n",
            "\n",
            "[FOLD 4] === Epoch 297/400 ===  (LR: 0.000100122)\n"
          ]
        },
        {
          "name": "stderr",
          "output_type": "stream",
          "text": []
        },
        {
          "name": "stdout",
          "output_type": "stream",
          "text": [
            "Train Loss(加權): 2.1149 | Train Raw MAE: 2.1149 | Val MAE: 2.8772\n",
            "\n",
            "[FOLD 4] === Epoch 298/400 ===  (LR: 9.84263e-05)\n"
          ]
        },
        {
          "name": "stderr",
          "output_type": "stream",
          "text": []
        },
        {
          "name": "stdout",
          "output_type": "stream",
          "text": [
            "Train Loss(加權): 2.1133 | Train Raw MAE: 2.1133 | Val MAE: 2.8949\n",
            "\n",
            "[FOLD 4] === Epoch 299/400 ===  (LR: 9.67419e-05)\n"
          ]
        },
        {
          "name": "stderr",
          "output_type": "stream",
          "text": []
        },
        {
          "name": "stdout",
          "output_type": "stream",
          "text": [
            "Train Loss(加權): 2.1211 | Train Raw MAE: 2.1211 | Val MAE: 2.9907\n",
            "\n",
            "[FOLD 4] === Epoch 300/400 ===  (LR: 9.50694e-05)\n"
          ]
        },
        {
          "name": "stderr",
          "output_type": "stream",
          "text": []
        },
        {
          "name": "stdout",
          "output_type": "stream",
          "text": [
            "Train Loss(加權): 2.0913 | Train Raw MAE: 2.0913 | Val MAE: 3.1285\n",
            "\n",
            "[FOLD 4] === Epoch 301/400 ===  (LR: 9.34088e-05)\n"
          ]
        },
        {
          "name": "stderr",
          "output_type": "stream",
          "text": []
        },
        {
          "name": "stdout",
          "output_type": "stream",
          "text": [
            "Train Loss(加權): 2.0902 | Train Raw MAE: 2.0902 | Val MAE: 2.9427\n",
            "\n",
            "[FOLD 4] === Epoch 302/400 ===  (LR: 9.17603e-05)\n"
          ]
        },
        {
          "name": "stderr",
          "output_type": "stream",
          "text": []
        },
        {
          "name": "stdout",
          "output_type": "stream",
          "text": [
            "Train Loss(加權): 2.0938 | Train Raw MAE: 2.0938 | Val MAE: 2.9778\n",
            "\n",
            "[FOLD 4] === Epoch 303/400 ===  (LR: 9.01241e-05)\n"
          ]
        },
        {
          "name": "stderr",
          "output_type": "stream",
          "text": []
        },
        {
          "name": "stdout",
          "output_type": "stream",
          "text": [
            "Train Loss(加權): 2.0856 | Train Raw MAE: 2.0856 | Val MAE: 3.0297\n",
            "\n",
            "[FOLD 4] === Epoch 304/400 ===  (LR: 8.85003e-05)\n"
          ]
        },
        {
          "name": "stderr",
          "output_type": "stream",
          "text": []
        },
        {
          "name": "stdout",
          "output_type": "stream",
          "text": [
            "Train Loss(加權): 2.0495 | Train Raw MAE: 2.0495 | Val MAE: 2.9681\n",
            "\n",
            "[FOLD 4] === Epoch 305/400 ===  (LR: 8.68889e-05)\n"
          ]
        },
        {
          "name": "stderr",
          "output_type": "stream",
          "text": []
        },
        {
          "name": "stdout",
          "output_type": "stream",
          "text": [
            "Train Loss(加權): 2.0779 | Train Raw MAE: 2.0779 | Val MAE: 2.9635\n",
            "\n",
            "[FOLD 4] === Epoch 306/400 ===  (LR: 8.52902e-05)\n"
          ]
        },
        {
          "name": "stderr",
          "output_type": "stream",
          "text": []
        },
        {
          "name": "stdout",
          "output_type": "stream",
          "text": [
            "Train Loss(加權): 2.0784 | Train Raw MAE: 2.0784 | Val MAE: 3.0841\n",
            "\n",
            "[FOLD 4] === Epoch 307/400 ===  (LR: 8.37042e-05)\n"
          ]
        },
        {
          "name": "stderr",
          "output_type": "stream",
          "text": []
        },
        {
          "name": "stdout",
          "output_type": "stream",
          "text": [
            "Train Loss(加權): 2.0432 | Train Raw MAE: 2.0432 | Val MAE: 3.0259\n",
            "\n",
            "[FOLD 4] === Epoch 308/400 ===  (LR: 8.2131e-05)\n"
          ]
        },
        {
          "name": "stderr",
          "output_type": "stream",
          "text": []
        },
        {
          "name": "stdout",
          "output_type": "stream",
          "text": [
            "Train Loss(加權): 2.0614 | Train Raw MAE: 2.0614 | Val MAE: 2.9881\n",
            "\n",
            "[FOLD 4] === Epoch 309/400 ===  (LR: 8.05709e-05)\n"
          ]
        },
        {
          "name": "stderr",
          "output_type": "stream",
          "text": []
        },
        {
          "name": "stdout",
          "output_type": "stream",
          "text": [
            "Train Loss(加權): 2.0511 | Train Raw MAE: 2.0511 | Val MAE: 2.8950\n",
            "\n",
            "[FOLD 4] === Epoch 310/400 ===  (LR: 7.90238e-05)\n"
          ]
        },
        {
          "name": "stderr",
          "output_type": "stream",
          "text": []
        },
        {
          "name": "stdout",
          "output_type": "stream",
          "text": [
            "Train Loss(加權): 2.0278 | Train Raw MAE: 2.0278 | Val MAE: 3.0773\n",
            "\n",
            "[FOLD 4] === Epoch 311/400 ===  (LR: 7.74899e-05)\n"
          ]
        },
        {
          "name": "stderr",
          "output_type": "stream",
          "text": []
        },
        {
          "name": "stdout",
          "output_type": "stream",
          "text": [
            "Train Loss(加權): 2.0352 | Train Raw MAE: 2.0352 | Val MAE: 2.9128\n",
            "\n",
            "[FOLD 4] === Epoch 312/400 ===  (LR: 7.59694e-05)\n"
          ]
        },
        {
          "name": "stderr",
          "output_type": "stream",
          "text": []
        },
        {
          "name": "stdout",
          "output_type": "stream",
          "text": [
            "Train Loss(加權): 2.0258 | Train Raw MAE: 2.0258 | Val MAE: 2.9722\n",
            "\n",
            "[FOLD 4] === Epoch 313/400 ===  (LR: 7.44622e-05)\n"
          ]
        },
        {
          "name": "stderr",
          "output_type": "stream",
          "text": []
        },
        {
          "name": "stdout",
          "output_type": "stream",
          "text": [
            "Train Loss(加權): 2.0181 | Train Raw MAE: 2.0181 | Val MAE: 3.2559\n",
            "\n",
            "[FOLD 4] === Epoch 314/400 ===  (LR: 7.29687e-05)\n"
          ]
        },
        {
          "name": "stderr",
          "output_type": "stream",
          "text": []
        },
        {
          "name": "stdout",
          "output_type": "stream",
          "text": [
            "Train Loss(加權): 2.0235 | Train Raw MAE: 2.0235 | Val MAE: 2.9093\n",
            "\n",
            "[FOLD 4] === Epoch 315/400 ===  (LR: 7.14888e-05)\n"
          ]
        },
        {
          "name": "stderr",
          "output_type": "stream",
          "text": []
        },
        {
          "name": "stdout",
          "output_type": "stream",
          "text": [
            "Train Loss(加權): 2.0139 | Train Raw MAE: 2.0139 | Val MAE: 2.8927\n",
            "\n",
            "[FOLD 4] === Epoch 316/400 ===  (LR: 7.00227e-05)\n"
          ]
        },
        {
          "name": "stderr",
          "output_type": "stream",
          "text": []
        },
        {
          "name": "stdout",
          "output_type": "stream",
          "text": [
            "Train Loss(加權): 2.0106 | Train Raw MAE: 2.0106 | Val MAE: 2.8761\n",
            "\n",
            "[FOLD 4] === Epoch 317/400 ===  (LR: 6.85705e-05)\n"
          ]
        },
        {
          "name": "stderr",
          "output_type": "stream",
          "text": []
        },
        {
          "name": "stdout",
          "output_type": "stream",
          "text": [
            "Train Loss(加權): 2.0294 | Train Raw MAE: 2.0294 | Val MAE: 2.9299\n",
            "\n",
            "[FOLD 4] === Epoch 318/400 ===  (LR: 6.71324e-05)\n"
          ]
        },
        {
          "name": "stderr",
          "output_type": "stream",
          "text": []
        },
        {
          "name": "stdout",
          "output_type": "stream",
          "text": [
            "Train Loss(加權): 2.0144 | Train Raw MAE: 2.0144 | Val MAE: 3.0377\n",
            "\n",
            "[FOLD 4] === Epoch 319/400 ===  (LR: 6.57083e-05)\n"
          ]
        },
        {
          "name": "stderr",
          "output_type": "stream",
          "text": []
        },
        {
          "name": "stdout",
          "output_type": "stream",
          "text": [
            "Train Loss(加權): 2.0006 | Train Raw MAE: 2.0006 | Val MAE: 2.9547\n",
            "\n",
            "[FOLD 4] === Epoch 320/400 ===  (LR: 6.42984e-05)\n"
          ]
        },
        {
          "name": "stderr",
          "output_type": "stream",
          "text": []
        },
        {
          "name": "stdout",
          "output_type": "stream",
          "text": [
            "Train Loss(加權): 1.9878 | Train Raw MAE: 1.9878 | Val MAE: 2.9384\n",
            "\n",
            "[FOLD 4] === Epoch 321/400 ===  (LR: 6.29029e-05)\n"
          ]
        },
        {
          "name": "stderr",
          "output_type": "stream",
          "text": []
        },
        {
          "name": "stdout",
          "output_type": "stream",
          "text": [
            "Train Loss(加權): 1.9935 | Train Raw MAE: 1.9935 | Val MAE: 2.9353\n",
            "\n",
            "[FOLD 4] === Epoch 322/400 ===  (LR: 6.15219e-05)\n"
          ]
        },
        {
          "name": "stderr",
          "output_type": "stream",
          "text": []
        },
        {
          "name": "stdout",
          "output_type": "stream",
          "text": [
            "Train Loss(加權): 1.9849 | Train Raw MAE: 1.9849 | Val MAE: 2.8631\n",
            "\n",
            "[FOLD 4] === Epoch 323/400 ===  (LR: 6.01553e-05)\n"
          ]
        },
        {
          "name": "stderr",
          "output_type": "stream",
          "text": []
        },
        {
          "name": "stdout",
          "output_type": "stream",
          "text": [
            "Train Loss(加權): 1.9886 | Train Raw MAE: 1.9886 | Val MAE: 3.0660\n",
            "\n",
            "[FOLD 4] === Epoch 324/400 ===  (LR: 5.88034e-05)\n"
          ]
        },
        {
          "name": "stderr",
          "output_type": "stream",
          "text": []
        },
        {
          "name": "stdout",
          "output_type": "stream",
          "text": [
            "Train Loss(加權): 1.9796 | Train Raw MAE: 1.9796 | Val MAE: 2.9987\n",
            "\n",
            "[FOLD 4] === Epoch 325/400 ===  (LR: 5.74663e-05)\n"
          ]
        },
        {
          "name": "stderr",
          "output_type": "stream",
          "text": []
        },
        {
          "name": "stdout",
          "output_type": "stream",
          "text": [
            "Train Loss(加權): 1.9980 | Train Raw MAE: 1.9980 | Val MAE: 3.0002\n",
            "\n",
            "[FOLD 4] === Epoch 326/400 ===  (LR: 5.6144e-05)\n"
          ]
        },
        {
          "name": "stderr",
          "output_type": "stream",
          "text": []
        },
        {
          "name": "stdout",
          "output_type": "stream",
          "text": [
            "Train Loss(加權): 1.9839 | Train Raw MAE: 1.9839 | Val MAE: 2.9897\n",
            "\n",
            "[FOLD 4] === Epoch 327/400 ===  (LR: 5.48367e-05)\n"
          ]
        },
        {
          "name": "stderr",
          "output_type": "stream",
          "text": []
        },
        {
          "name": "stdout",
          "output_type": "stream",
          "text": [
            "Train Loss(加權): 1.9771 | Train Raw MAE: 1.9771 | Val MAE: 2.8872\n",
            "\n",
            "[FOLD 4] === Epoch 328/400 ===  (LR: 5.35444e-05)\n"
          ]
        },
        {
          "name": "stderr",
          "output_type": "stream",
          "text": []
        },
        {
          "name": "stdout",
          "output_type": "stream",
          "text": [
            "Train Loss(加權): 1.9682 | Train Raw MAE: 1.9682 | Val MAE: 2.9402\n",
            "\n",
            "[FOLD 4] === Epoch 329/400 ===  (LR: 5.22673e-05)\n"
          ]
        },
        {
          "name": "stderr",
          "output_type": "stream",
          "text": []
        },
        {
          "name": "stdout",
          "output_type": "stream",
          "text": [
            "Train Loss(加權): 1.9719 | Train Raw MAE: 1.9719 | Val MAE: 3.0362\n",
            "\n",
            "[FOLD 4] === Epoch 330/400 ===  (LR: 5.10054e-05)\n"
          ]
        },
        {
          "name": "stderr",
          "output_type": "stream",
          "text": []
        },
        {
          "name": "stdout",
          "output_type": "stream",
          "text": [
            "Train Loss(加權): 1.9434 | Train Raw MAE: 1.9434 | Val MAE: 2.8442\n",
            "\n",
            "[FOLD 4] === Epoch 331/400 ===  (LR: 4.97589e-05)\n"
          ]
        },
        {
          "name": "stderr",
          "output_type": "stream",
          "text": []
        },
        {
          "name": "stdout",
          "output_type": "stream",
          "text": [
            "Train Loss(加權): 1.9298 | Train Raw MAE: 1.9298 | Val MAE: 2.9332\n",
            "\n",
            "[FOLD 4] === Epoch 332/400 ===  (LR: 4.85278e-05)\n"
          ]
        },
        {
          "name": "stderr",
          "output_type": "stream",
          "text": []
        },
        {
          "name": "stdout",
          "output_type": "stream",
          "text": [
            "Train Loss(加權): 1.9523 | Train Raw MAE: 1.9523 | Val MAE: 3.1880\n",
            "\n",
            "[FOLD 4] === Epoch 333/400 ===  (LR: 4.73123e-05)\n"
          ]
        },
        {
          "name": "stderr",
          "output_type": "stream",
          "text": []
        },
        {
          "name": "stdout",
          "output_type": "stream",
          "text": [
            "Train Loss(加權): 1.9211 | Train Raw MAE: 1.9211 | Val MAE: 3.0298\n",
            "\n",
            "[FOLD 4] === Epoch 334/400 ===  (LR: 4.61123e-05)\n"
          ]
        },
        {
          "name": "stderr",
          "output_type": "stream",
          "text": []
        },
        {
          "name": "stdout",
          "output_type": "stream",
          "text": [
            "Train Loss(加權): 1.9516 | Train Raw MAE: 1.9516 | Val MAE: 3.0527\n",
            "\n",
            "[FOLD 4] === Epoch 335/400 ===  (LR: 4.49281e-05)\n"
          ]
        },
        {
          "name": "stderr",
          "output_type": "stream",
          "text": []
        },
        {
          "name": "stdout",
          "output_type": "stream",
          "text": [
            "Train Loss(加權): 1.9383 | Train Raw MAE: 1.9383 | Val MAE: 3.1431\n",
            "\n",
            "[FOLD 4] === Epoch 336/400 ===  (LR: 4.37597e-05)\n"
          ]
        },
        {
          "name": "stderr",
          "output_type": "stream",
          "text": []
        },
        {
          "name": "stdout",
          "output_type": "stream",
          "text": [
            "Train Loss(加權): 1.9059 | Train Raw MAE: 1.9059 | Val MAE: 3.0298\n",
            "\n",
            "[FOLD 4] === Epoch 337/400 ===  (LR: 4.26072e-05)\n"
          ]
        },
        {
          "name": "stderr",
          "output_type": "stream",
          "text": []
        },
        {
          "name": "stdout",
          "output_type": "stream",
          "text": [
            "Train Loss(加權): 1.9557 | Train Raw MAE: 1.9557 | Val MAE: 2.9329\n",
            "\n",
            "[FOLD 4] === Epoch 338/400 ===  (LR: 4.14707e-05)\n"
          ]
        },
        {
          "name": "stderr",
          "output_type": "stream",
          "text": []
        },
        {
          "name": "stdout",
          "output_type": "stream",
          "text": [
            "Train Loss(加權): 1.9489 | Train Raw MAE: 1.9489 | Val MAE: 2.9609\n",
            "\n",
            "[FOLD 4] === Epoch 339/400 ===  (LR: 4.03502e-05)\n"
          ]
        },
        {
          "name": "stderr",
          "output_type": "stream",
          "text": []
        },
        {
          "name": "stdout",
          "output_type": "stream",
          "text": [
            "Train Loss(加權): 1.9276 | Train Raw MAE: 1.9276 | Val MAE: 3.1022\n",
            "\n",
            "[FOLD 4] === Epoch 340/400 ===  (LR: 3.92459e-05)\n"
          ]
        },
        {
          "name": "stderr",
          "output_type": "stream",
          "text": []
        },
        {
          "name": "stdout",
          "output_type": "stream",
          "text": [
            "Train Loss(加權): 1.9153 | Train Raw MAE: 1.9153 | Val MAE: 3.1578\n",
            "\n",
            "[FOLD 4] === Epoch 341/400 ===  (LR: 3.81579e-05)\n"
          ]
        },
        {
          "name": "stderr",
          "output_type": "stream",
          "text": []
        },
        {
          "name": "stdout",
          "output_type": "stream",
          "text": [
            "Train Loss(加權): 1.9272 | Train Raw MAE: 1.9272 | Val MAE: 2.9739\n",
            "\n",
            "[FOLD 4] === Epoch 342/400 ===  (LR: 3.70861e-05)\n"
          ]
        },
        {
          "name": "stderr",
          "output_type": "stream",
          "text": []
        },
        {
          "name": "stdout",
          "output_type": "stream",
          "text": [
            "Train Loss(加權): 1.9321 | Train Raw MAE: 1.9321 | Val MAE: 2.9512\n",
            "\n",
            "[FOLD 4] === Epoch 343/400 ===  (LR: 3.60308e-05)\n"
          ]
        },
        {
          "name": "stderr",
          "output_type": "stream",
          "text": []
        },
        {
          "name": "stdout",
          "output_type": "stream",
          "text": [
            "Train Loss(加權): 1.8977 | Train Raw MAE: 1.8977 | Val MAE: 2.9337\n",
            "\n",
            "[FOLD 4] === Epoch 344/400 ===  (LR: 3.4992e-05)\n"
          ]
        },
        {
          "name": "stderr",
          "output_type": "stream",
          "text": []
        },
        {
          "name": "stdout",
          "output_type": "stream",
          "text": [
            "Train Loss(加權): 1.9175 | Train Raw MAE: 1.9175 | Val MAE: 3.0929\n",
            "\n",
            "[FOLD 4] === Epoch 345/400 ===  (LR: 3.39697e-05)\n"
          ]
        },
        {
          "name": "stderr",
          "output_type": "stream",
          "text": []
        },
        {
          "name": "stdout",
          "output_type": "stream",
          "text": [
            "Train Loss(加權): 1.9208 | Train Raw MAE: 1.9208 | Val MAE: 2.9485\n",
            "\n",
            "[FOLD 4] === Epoch 346/400 ===  (LR: 3.29641e-05)\n"
          ]
        },
        {
          "name": "stderr",
          "output_type": "stream",
          "text": []
        },
        {
          "name": "stdout",
          "output_type": "stream",
          "text": [
            "Train Loss(加權): 1.9057 | Train Raw MAE: 1.9057 | Val MAE: 2.9075\n",
            "\n",
            "[FOLD 4] === Epoch 347/400 ===  (LR: 3.19751e-05)\n"
          ]
        },
        {
          "name": "stderr",
          "output_type": "stream",
          "text": []
        },
        {
          "name": "stdout",
          "output_type": "stream",
          "text": [
            "Train Loss(加權): 1.8903 | Train Raw MAE: 1.8903 | Val MAE: 2.9708\n",
            "\n",
            "[FOLD 4] === Epoch 348/400 ===  (LR: 3.1003e-05)\n"
          ]
        },
        {
          "name": "stderr",
          "output_type": "stream",
          "text": []
        },
        {
          "name": "stdout",
          "output_type": "stream",
          "text": [
            "Train Loss(加權): 1.8891 | Train Raw MAE: 1.8891 | Val MAE: 3.0348\n",
            "\n",
            "[FOLD 4] === Epoch 349/400 ===  (LR: 3.00477e-05)\n"
          ]
        },
        {
          "name": "stderr",
          "output_type": "stream",
          "text": []
        },
        {
          "name": "stdout",
          "output_type": "stream",
          "text": [
            "Train Loss(加權): 1.9231 | Train Raw MAE: 1.9231 | Val MAE: 3.0185\n",
            "\n",
            "[FOLD 4] === Epoch 350/400 ===  (LR: 2.91094e-05)\n"
          ]
        },
        {
          "name": "stderr",
          "output_type": "stream",
          "text": []
        },
        {
          "name": "stdout",
          "output_type": "stream",
          "text": [
            "Train Loss(加權): 1.8879 | Train Raw MAE: 1.8879 | Val MAE: 2.9310\n",
            "\n",
            "[FOLD 4] === Epoch 351/400 ===  (LR: 2.81881e-05)\n"
          ]
        },
        {
          "name": "stderr",
          "output_type": "stream",
          "text": []
        },
        {
          "name": "stdout",
          "output_type": "stream",
          "text": [
            "Train Loss(加權): 1.8742 | Train Raw MAE: 1.8742 | Val MAE: 2.9624\n",
            "\n",
            "[FOLD 4] === Epoch 352/400 ===  (LR: 2.72839e-05)\n"
          ]
        },
        {
          "name": "stderr",
          "output_type": "stream",
          "text": []
        },
        {
          "name": "stdout",
          "output_type": "stream",
          "text": [
            "Train Loss(加權): 1.8802 | Train Raw MAE: 1.8802 | Val MAE: 2.9004\n",
            "\n",
            "[FOLD 4] === Epoch 353/400 ===  (LR: 2.63968e-05)\n"
          ]
        },
        {
          "name": "stderr",
          "output_type": "stream",
          "text": []
        },
        {
          "name": "stdout",
          "output_type": "stream",
          "text": [
            "Train Loss(加權): 1.8700 | Train Raw MAE: 1.8700 | Val MAE: 2.9254\n",
            "\n",
            "[FOLD 4] === Epoch 354/400 ===  (LR: 2.5527e-05)\n"
          ]
        },
        {
          "name": "stderr",
          "output_type": "stream",
          "text": []
        },
        {
          "name": "stdout",
          "output_type": "stream",
          "text": [
            "Train Loss(加權): 1.8886 | Train Raw MAE: 1.8886 | Val MAE: 3.0457\n",
            "\n",
            "[FOLD 4] === Epoch 355/400 ===  (LR: 2.46744e-05)\n"
          ]
        },
        {
          "name": "stderr",
          "output_type": "stream",
          "text": []
        },
        {
          "name": "stdout",
          "output_type": "stream",
          "text": [
            "Train Loss(加權): 1.8711 | Train Raw MAE: 1.8711 | Val MAE: 2.9029\n",
            "\n",
            "[FOLD 4] === Epoch 356/400 ===  (LR: 2.38392e-05)\n"
          ]
        },
        {
          "name": "stderr",
          "output_type": "stream",
          "text": []
        },
        {
          "name": "stdout",
          "output_type": "stream",
          "text": [
            "Train Loss(加權): 1.8846 | Train Raw MAE: 1.8846 | Val MAE: 2.9463\n",
            "\n",
            "[FOLD 4] === Epoch 357/400 ===  (LR: 2.30214e-05)\n"
          ]
        },
        {
          "name": "stderr",
          "output_type": "stream",
          "text": []
        },
        {
          "name": "stdout",
          "output_type": "stream",
          "text": [
            "Train Loss(加權): 1.8854 | Train Raw MAE: 1.8854 | Val MAE: 2.9261\n",
            "\n",
            "[FOLD 4] === Epoch 358/400 ===  (LR: 2.2221e-05)\n"
          ]
        },
        {
          "name": "stderr",
          "output_type": "stream",
          "text": []
        },
        {
          "name": "stdout",
          "output_type": "stream",
          "text": [
            "Train Loss(加權): 1.8962 | Train Raw MAE: 1.8962 | Val MAE: 2.9005\n",
            "\n",
            "[FOLD 4] === Epoch 359/400 ===  (LR: 2.14382e-05)\n"
          ]
        },
        {
          "name": "stderr",
          "output_type": "stream",
          "text": []
        },
        {
          "name": "stdout",
          "output_type": "stream",
          "text": [
            "Train Loss(加權): 1.8976 | Train Raw MAE: 1.8976 | Val MAE: 3.0059\n",
            "\n",
            "[FOLD 4] === Epoch 360/400 ===  (LR: 2.06731e-05)\n"
          ]
        },
        {
          "name": "stderr",
          "output_type": "stream",
          "text": []
        },
        {
          "name": "stdout",
          "output_type": "stream",
          "text": [
            "Train Loss(加權): 1.8611 | Train Raw MAE: 1.8611 | Val MAE: 3.0460\n",
            "\n",
            "[FOLD 4] === Epoch 361/400 ===  (LR: 1.99255e-05)\n"
          ]
        },
        {
          "name": "stderr",
          "output_type": "stream",
          "text": []
        },
        {
          "name": "stdout",
          "output_type": "stream",
          "text": [
            "Train Loss(加權): 1.8927 | Train Raw MAE: 1.8927 | Val MAE: 2.9847\n",
            "\n",
            "[FOLD 4] === Epoch 362/400 ===  (LR: 1.91957e-05)\n"
          ]
        },
        {
          "name": "stderr",
          "output_type": "stream",
          "text": []
        },
        {
          "name": "stdout",
          "output_type": "stream",
          "text": [
            "Train Loss(加權): 1.8618 | Train Raw MAE: 1.8618 | Val MAE: 2.9589\n",
            "\n",
            "[FOLD 4] === Epoch 363/400 ===  (LR: 1.84836e-05)\n"
          ]
        },
        {
          "name": "stderr",
          "output_type": "stream",
          "text": []
        },
        {
          "name": "stdout",
          "output_type": "stream",
          "text": [
            "Train Loss(加權): 1.8643 | Train Raw MAE: 1.8643 | Val MAE: 2.9194\n",
            "\n",
            "[FOLD 4] === Epoch 364/400 ===  (LR: 1.77894e-05)\n"
          ]
        },
        {
          "name": "stderr",
          "output_type": "stream",
          "text": []
        },
        {
          "name": "stdout",
          "output_type": "stream",
          "text": [
            "Train Loss(加權): 1.8632 | Train Raw MAE: 1.8632 | Val MAE: 3.0731\n",
            "\n",
            "[FOLD 4] === Epoch 365/400 ===  (LR: 1.7113e-05)\n"
          ]
        },
        {
          "name": "stderr",
          "output_type": "stream",
          "text": []
        },
        {
          "name": "stdout",
          "output_type": "stream",
          "text": [
            "Train Loss(加權): 1.8572 | Train Raw MAE: 1.8572 | Val MAE: 3.0121\n",
            "\n",
            "[FOLD 4] === Epoch 366/400 ===  (LR: 1.64546e-05)\n"
          ]
        },
        {
          "name": "stderr",
          "output_type": "stream",
          "text": []
        },
        {
          "name": "stdout",
          "output_type": "stream",
          "text": [
            "Train Loss(加權): 1.8641 | Train Raw MAE: 1.8641 | Val MAE: 3.0660\n",
            "\n",
            "[FOLD 4] === Epoch 367/400 ===  (LR: 1.58141e-05)\n"
          ]
        },
        {
          "name": "stderr",
          "output_type": "stream",
          "text": []
        },
        {
          "name": "stdout",
          "output_type": "stream",
          "text": [
            "Train Loss(加權): 1.8676 | Train Raw MAE: 1.8676 | Val MAE: 3.0061\n",
            "\n",
            "[FOLD 4] === Epoch 368/400 ===  (LR: 1.51916e-05)\n"
          ]
        },
        {
          "name": "stderr",
          "output_type": "stream",
          "text": []
        },
        {
          "name": "stdout",
          "output_type": "stream",
          "text": [
            "Train Loss(加權): 1.8613 | Train Raw MAE: 1.8613 | Val MAE: 3.0142\n",
            "\n",
            "[FOLD 4] === Epoch 369/400 ===  (LR: 1.45873e-05)\n"
          ]
        },
        {
          "name": "stderr",
          "output_type": "stream",
          "text": []
        },
        {
          "name": "stdout",
          "output_type": "stream",
          "text": [
            "Train Loss(加權): 1.8647 | Train Raw MAE: 1.8647 | Val MAE: 2.9362\n",
            "\n",
            "[FOLD 4] === Epoch 370/400 ===  (LR: 1.4001e-05)\n"
          ]
        },
        {
          "name": "stderr",
          "output_type": "stream",
          "text": []
        },
        {
          "name": "stdout",
          "output_type": "stream",
          "text": [
            "Train Loss(加權): 1.8670 | Train Raw MAE: 1.8670 | Val MAE: 2.9876\n",
            "\n",
            "[FOLD 4] === Epoch 371/400 ===  (LR: 1.34329e-05)\n"
          ]
        },
        {
          "name": "stderr",
          "output_type": "stream",
          "text": []
        },
        {
          "name": "stdout",
          "output_type": "stream",
          "text": [
            "Train Loss(加權): 1.8575 | Train Raw MAE: 1.8575 | Val MAE: 2.9740\n",
            "\n",
            "[FOLD 4] === Epoch 372/400 ===  (LR: 1.2883e-05)\n"
          ]
        },
        {
          "name": "stderr",
          "output_type": "stream",
          "text": []
        },
        {
          "name": "stdout",
          "output_type": "stream",
          "text": [
            "Train Loss(加權): 1.8429 | Train Raw MAE: 1.8429 | Val MAE: 2.9202\n",
            "\n",
            "[FOLD 4] === Epoch 373/400 ===  (LR: 1.23514e-05)\n"
          ]
        },
        {
          "name": "stderr",
          "output_type": "stream",
          "text": []
        },
        {
          "name": "stdout",
          "output_type": "stream",
          "text": [
            "Train Loss(加權): 1.8524 | Train Raw MAE: 1.8524 | Val MAE: 2.9469\n",
            "\n",
            "[FOLD 4] === Epoch 374/400 ===  (LR: 1.18381e-05)\n"
          ]
        },
        {
          "name": "stderr",
          "output_type": "stream",
          "text": []
        },
        {
          "name": "stdout",
          "output_type": "stream",
          "text": [
            "Train Loss(加權): 1.8444 | Train Raw MAE: 1.8444 | Val MAE: 2.9609\n",
            "\n",
            "[FOLD 4] === Epoch 375/400 ===  (LR: 1.1343e-05)\n"
          ]
        },
        {
          "name": "stderr",
          "output_type": "stream",
          "text": []
        },
        {
          "name": "stdout",
          "output_type": "stream",
          "text": [
            "Train Loss(加權): 1.8408 | Train Raw MAE: 1.8408 | Val MAE: 2.9570\n",
            "\n",
            "[FOLD 4] === Epoch 376/400 ===  (LR: 1.08664e-05)\n"
          ]
        },
        {
          "name": "stderr",
          "output_type": "stream",
          "text": []
        },
        {
          "name": "stdout",
          "output_type": "stream",
          "text": [
            "Train Loss(加權): 1.8445 | Train Raw MAE: 1.8445 | Val MAE: 3.0437\n",
            "\n",
            "[FOLD 4] === Epoch 377/400 ===  (LR: 1.04081e-05)\n"
          ]
        },
        {
          "name": "stderr",
          "output_type": "stream",
          "text": []
        },
        {
          "name": "stdout",
          "output_type": "stream",
          "text": [
            "Train Loss(加權): 1.8400 | Train Raw MAE: 1.8400 | Val MAE: 3.0310\n",
            "\n",
            "[FOLD 4] === Epoch 378/400 ===  (LR: 9.9683e-06)\n"
          ]
        },
        {
          "name": "stderr",
          "output_type": "stream",
          "text": []
        },
        {
          "name": "stdout",
          "output_type": "stream",
          "text": [
            "Train Loss(加權): 1.8459 | Train Raw MAE: 1.8459 | Val MAE: 2.9724\n",
            "\n",
            "[FOLD 4] === Epoch 379/400 ===  (LR: 9.54696e-06)\n"
          ]
        },
        {
          "name": "stderr",
          "output_type": "stream",
          "text": []
        },
        {
          "name": "stdout",
          "output_type": "stream",
          "text": [
            "Train Loss(加權): 1.8425 | Train Raw MAE: 1.8425 | Val MAE: 2.9747\n",
            "\n",
            "[FOLD 4] === Epoch 380/400 ===  (LR: 9.14411e-06)\n"
          ]
        },
        {
          "name": "stderr",
          "output_type": "stream",
          "text": []
        },
        {
          "name": "stdout",
          "output_type": "stream",
          "text": [
            "Train Loss(加權): 1.8613 | Train Raw MAE: 1.8613 | Val MAE: 3.0009\n",
            "\n",
            "[FOLD 4] === Epoch 381/400 ===  (LR: 8.75979e-06)\n"
          ]
        },
        {
          "name": "stderr",
          "output_type": "stream",
          "text": []
        },
        {
          "name": "stdout",
          "output_type": "stream",
          "text": [
            "Train Loss(加權): 1.8508 | Train Raw MAE: 1.8508 | Val MAE: 2.9656\n",
            "\n",
            "[FOLD 4] === Epoch 382/400 ===  (LR: 8.39404e-06)\n"
          ]
        },
        {
          "name": "stderr",
          "output_type": "stream",
          "text": []
        },
        {
          "name": "stdout",
          "output_type": "stream",
          "text": [
            "Train Loss(加權): 1.8471 | Train Raw MAE: 1.8471 | Val MAE: 2.9856\n",
            "\n",
            "[FOLD 4] === Epoch 383/400 ===  (LR: 8.04688e-06)\n"
          ]
        },
        {
          "name": "stderr",
          "output_type": "stream",
          "text": []
        },
        {
          "name": "stdout",
          "output_type": "stream",
          "text": [
            "Train Loss(加權): 1.8455 | Train Raw MAE: 1.8455 | Val MAE: 3.0282\n",
            "\n",
            "[FOLD 4] === Epoch 384/400 ===  (LR: 7.71833e-06)\n"
          ]
        },
        {
          "name": "stderr",
          "output_type": "stream",
          "text": []
        },
        {
          "name": "stdout",
          "output_type": "stream",
          "text": [
            "Train Loss(加權): 1.8307 | Train Raw MAE: 1.8307 | Val MAE: 2.9522\n",
            "\n",
            "[FOLD 4] === Epoch 385/400 ===  (LR: 7.40842e-06)\n"
          ]
        },
        {
          "name": "stderr",
          "output_type": "stream",
          "text": []
        },
        {
          "name": "stdout",
          "output_type": "stream",
          "text": [
            "Train Loss(加權): 1.8173 | Train Raw MAE: 1.8173 | Val MAE: 2.9874\n",
            "\n",
            "[FOLD 4] === Epoch 386/400 ===  (LR: 7.11718e-06)\n"
          ]
        },
        {
          "name": "stderr",
          "output_type": "stream",
          "text": []
        },
        {
          "name": "stdout",
          "output_type": "stream",
          "text": [
            "Train Loss(加權): 1.8259 | Train Raw MAE: 1.8259 | Val MAE: 2.9564\n",
            "\n",
            "[FOLD 4] === Epoch 387/400 ===  (LR: 6.84463e-06)\n"
          ]
        },
        {
          "name": "stderr",
          "output_type": "stream",
          "text": []
        },
        {
          "name": "stdout",
          "output_type": "stream",
          "text": [
            "Train Loss(加權): 1.8550 | Train Raw MAE: 1.8550 | Val MAE: 2.9683\n",
            "\n",
            "[FOLD 4] === Epoch 388/400 ===  (LR: 6.59078e-06)\n"
          ]
        },
        {
          "name": "stderr",
          "output_type": "stream",
          "text": []
        },
        {
          "name": "stdout",
          "output_type": "stream",
          "text": [
            "Train Loss(加權): 1.8466 | Train Raw MAE: 1.8466 | Val MAE: 3.0219\n",
            "\n",
            "[FOLD 4] === Epoch 389/400 ===  (LR: 6.35566e-06)\n"
          ]
        },
        {
          "name": "stderr",
          "output_type": "stream",
          "text": []
        },
        {
          "name": "stdout",
          "output_type": "stream",
          "text": [
            "Train Loss(加權): 1.8246 | Train Raw MAE: 1.8246 | Val MAE: 2.9657\n",
            "\n",
            "[FOLD 4] === Epoch 390/400 ===  (LR: 6.13928e-06)\n"
          ]
        },
        {
          "name": "stderr",
          "output_type": "stream",
          "text": []
        },
        {
          "name": "stdout",
          "output_type": "stream",
          "text": [
            "Train Loss(加權): 1.8407 | Train Raw MAE: 1.8407 | Val MAE: 3.0144\n",
            "\n",
            "[FOLD 4] === Epoch 391/400 ===  (LR: 5.94167e-06)\n"
          ]
        },
        {
          "name": "stderr",
          "output_type": "stream",
          "text": []
        },
        {
          "name": "stdout",
          "output_type": "stream",
          "text": [
            "Train Loss(加權): 1.8428 | Train Raw MAE: 1.8428 | Val MAE: 2.9102\n",
            "\n",
            "[FOLD 4] === Epoch 392/400 ===  (LR: 5.76283e-06)\n"
          ]
        },
        {
          "name": "stderr",
          "output_type": "stream",
          "text": []
        },
        {
          "name": "stdout",
          "output_type": "stream",
          "text": [
            "Train Loss(加權): 1.8073 | Train Raw MAE: 1.8073 | Val MAE: 2.9592\n",
            "\n",
            "[FOLD 4] === Epoch 393/400 ===  (LR: 5.60278e-06)\n"
          ]
        },
        {
          "name": "stderr",
          "output_type": "stream",
          "text": []
        },
        {
          "name": "stdout",
          "output_type": "stream",
          "text": [
            "Train Loss(加權): 1.8332 | Train Raw MAE: 1.8332 | Val MAE: 2.9518\n",
            "\n",
            "[FOLD 4] === Epoch 394/400 ===  (LR: 5.46154e-06)\n"
          ]
        },
        {
          "name": "stderr",
          "output_type": "stream",
          "text": []
        },
        {
          "name": "stdout",
          "output_type": "stream",
          "text": [
            "Train Loss(加權): 1.8492 | Train Raw MAE: 1.8492 | Val MAE: 2.9479\n",
            "\n",
            "[FOLD 4] === Epoch 395/400 ===  (LR: 5.3391e-06)\n"
          ]
        },
        {
          "name": "stderr",
          "output_type": "stream",
          "text": []
        },
        {
          "name": "stdout",
          "output_type": "stream",
          "text": [
            "Train Loss(加權): 1.8372 | Train Raw MAE: 1.8372 | Val MAE: 2.9399\n",
            "\n",
            "[FOLD 4] === Epoch 396/400 ===  (LR: 5.23549e-06)\n"
          ]
        },
        {
          "name": "stderr",
          "output_type": "stream",
          "text": []
        },
        {
          "name": "stdout",
          "output_type": "stream",
          "text": [
            "Train Loss(加權): 1.8173 | Train Raw MAE: 1.8173 | Val MAE: 3.0483\n",
            "\n",
            "[FOLD 4] === Epoch 397/400 ===  (LR: 5.15071e-06)\n"
          ]
        },
        {
          "name": "stderr",
          "output_type": "stream",
          "text": []
        },
        {
          "name": "stdout",
          "output_type": "stream",
          "text": [
            "Train Loss(加權): 1.7938 | Train Raw MAE: 1.7938 | Val MAE: 3.0145\n",
            "\n",
            "[FOLD 4] === Epoch 398/400 ===  (LR: 5.08477e-06)\n"
          ]
        },
        {
          "name": "stderr",
          "output_type": "stream",
          "text": []
        },
        {
          "name": "stdout",
          "output_type": "stream",
          "text": [
            "Train Loss(加權): 1.8243 | Train Raw MAE: 1.8243 | Val MAE: 2.9907\n",
            "\n",
            "[FOLD 4] === Epoch 399/400 ===  (LR: 5.03767e-06)\n"
          ]
        },
        {
          "name": "stderr",
          "output_type": "stream",
          "text": []
        },
        {
          "name": "stdout",
          "output_type": "stream",
          "text": [
            "Train Loss(加權): 1.8425 | Train Raw MAE: 1.8425 | Val MAE: 3.0213\n",
            "\n",
            "[FOLD 4] === Epoch 400/400 ===  (LR: 5.00941e-06)\n"
          ]
        },
        {
          "name": "stderr",
          "output_type": "stream",
          "text": []
        },
        {
          "name": "stdout",
          "output_type": "stream",
          "text": [
            "Train Loss(加權): 1.8189 | Train Raw MAE: 1.8189 | Val MAE: 2.9886\n",
            "✅ Fold 4 最佳模型已儲存\n",
            "\n",
            "🚀 開始訓練 Fold 5 (論文式加權 MAE 損失)...\n",
            "📊 年齡組權重分佈:\n",
            "     5-9:  664 樣本, 權重 = 1.000\n",
            "   10-14:  649 樣本, 權重 = 1.000\n",
            "   15-19:  882 樣本, 權重 = 1.000\n",
            "   20-24: 1348 樣本, 權重 = 1.000\n",
            "   25-29:  447 樣本, 權重 = 1.000\n",
            "   30-34:  151 樣本, 權重 = 1.000\n",
            "   35-39:   55 樣本, 權重 = 1.000\n",
            "   40-44:   41 樣本, 權重 = 1.000\n",
            "   45-49:   72 樣本, 權重 = 1.000\n",
            "   50-54:   61 樣本, 權重 = 1.000\n",
            "   55-59:   95 樣本, 權重 = 1.000\n",
            "   60-64:  120 樣本, 權重 = 1.000\n",
            "   65-69:  217 樣本, 權重 = 1.000\n",
            "   70-74:  216 樣本, 權重 = 1.000\n",
            "   75-79:  106 樣本, 權重 = 1.000\n",
            "   80-84:   55 樣本, 權重 = 1.000\n",
            "   85-89:   23 樣本, 權重 = 1.000\n",
            "   90-94:    1 樣本, 權重 = 1.000\n",
            "   95-99:    1 樣本, 權重 = 1.000\n",
            "\n",
            "[FOLD 5] === Epoch 1/400 ===  (LR: 0.0001)\n"
          ]
        },
        {
          "name": "stderr",
          "output_type": "stream",
          "text": []
        },
        {
          "name": "stdout",
          "output_type": "stream",
          "text": [
            "Train Loss(加權): 13.4146 | Train Raw MAE: 13.4146 | Val MAE: 12.9411\n",
            "🎯 New best Val MAE: 12.9411\n",
            "\n",
            "[FOLD 5] === Epoch 2/400 ===  (LR: 0.000100617)\n"
          ]
        },
        {
          "name": "stderr",
          "output_type": "stream",
          "text": []
        },
        {
          "name": "stdout",
          "output_type": "stream",
          "text": [
            "Train Loss(加權): 10.9207 | Train Raw MAE: 10.9207 | Val MAE: 10.1612\n",
            "🎯 New best Val MAE: 10.1612\n",
            "\n",
            "[FOLD 5] === Epoch 3/400 ===  (LR: 0.000102462)\n"
          ]
        },
        {
          "name": "stderr",
          "output_type": "stream",
          "text": []
        },
        {
          "name": "stdout",
          "output_type": "stream",
          "text": [
            "Train Loss(加權): 10.4181 | Train Raw MAE: 10.4181 | Val MAE: 10.6289\n",
            "\n",
            "[FOLD 5] === Epoch 4/400 ===  (LR: 0.000105526)\n"
          ]
        },
        {
          "name": "stderr",
          "output_type": "stream",
          "text": []
        },
        {
          "name": "stdout",
          "output_type": "stream",
          "text": [
            "Train Loss(加權): 10.2650 | Train Raw MAE: 10.2650 | Val MAE: 8.2642\n",
            "🎯 New best Val MAE: 8.2642\n",
            "\n",
            "[FOLD 5] === Epoch 5/400 ===  (LR: 0.000109789)\n"
          ]
        },
        {
          "name": "stderr",
          "output_type": "stream",
          "text": []
        },
        {
          "name": "stdout",
          "output_type": "stream",
          "text": [
            "Train Loss(加權): 10.0200 | Train Raw MAE: 10.0200 | Val MAE: 8.1048\n",
            "🎯 New best Val MAE: 8.1048\n",
            "\n",
            "[FOLD 5] === Epoch 6/400 ===  (LR: 0.000115225)\n"
          ]
        },
        {
          "name": "stderr",
          "output_type": "stream",
          "text": []
        },
        {
          "name": "stdout",
          "output_type": "stream",
          "text": [
            "Train Loss(加權): 9.6184 | Train Raw MAE: 9.6184 | Val MAE: 11.5863\n",
            "\n",
            "[FOLD 5] === Epoch 7/400 ===  (LR: 0.0001218)\n"
          ]
        },
        {
          "name": "stderr",
          "output_type": "stream",
          "text": []
        },
        {
          "name": "stdout",
          "output_type": "stream",
          "text": [
            "Train Loss(加權): 9.4620 | Train Raw MAE: 9.4620 | Val MAE: 17.1625\n",
            "\n",
            "[FOLD 5] === Epoch 8/400 ===  (LR: 0.000129473)\n"
          ]
        },
        {
          "name": "stderr",
          "output_type": "stream",
          "text": []
        },
        {
          "name": "stdout",
          "output_type": "stream",
          "text": [
            "Train Loss(加權): 9.2995 | Train Raw MAE: 9.2995 | Val MAE: 9.1464\n",
            "\n",
            "[FOLD 5] === Epoch 9/400 ===  (LR: 0.000138198)\n"
          ]
        },
        {
          "name": "stderr",
          "output_type": "stream",
          "text": []
        },
        {
          "name": "stdout",
          "output_type": "stream",
          "text": [
            "Train Loss(加權): 9.1835 | Train Raw MAE: 9.1835 | Val MAE: 10.7638\n",
            "\n",
            "[FOLD 5] === Epoch 10/400 ===  (LR: 0.000147921)\n"
          ]
        },
        {
          "name": "stderr",
          "output_type": "stream",
          "text": []
        },
        {
          "name": "stdout",
          "output_type": "stream",
          "text": [
            "Train Loss(加權): 8.8916 | Train Raw MAE: 8.8916 | Val MAE: 7.3623\n",
            "🎯 New best Val MAE: 7.3623\n",
            "\n",
            "[FOLD 5] === Epoch 11/400 ===  (LR: 0.000158581)\n"
          ]
        },
        {
          "name": "stderr",
          "output_type": "stream",
          "text": []
        },
        {
          "name": "stdout",
          "output_type": "stream",
          "text": [
            "Train Loss(加權): 8.9023 | Train Raw MAE: 8.9023 | Val MAE: 8.5514\n",
            "\n",
            "[FOLD 5] === Epoch 12/400 ===  (LR: 0.000170113)\n"
          ]
        },
        {
          "name": "stderr",
          "output_type": "stream",
          "text": []
        },
        {
          "name": "stdout",
          "output_type": "stream",
          "text": [
            "Train Loss(加權): 8.6595 | Train Raw MAE: 8.6595 | Val MAE: 8.8172\n",
            "\n",
            "[FOLD 5] === Epoch 13/400 ===  (LR: 0.000182446)\n"
          ]
        },
        {
          "name": "stderr",
          "output_type": "stream",
          "text": []
        },
        {
          "name": "stdout",
          "output_type": "stream",
          "text": [
            "Train Loss(加權): 8.3570 | Train Raw MAE: 8.3570 | Val MAE: 22.8140\n",
            "\n",
            "[FOLD 5] === Epoch 14/400 ===  (LR: 0.000195504)\n"
          ]
        },
        {
          "name": "stderr",
          "output_type": "stream",
          "text": []
        },
        {
          "name": "stdout",
          "output_type": "stream",
          "text": [
            "Train Loss(加權): 8.5649 | Train Raw MAE: 8.5649 | Val MAE: 12.8596\n",
            "\n",
            "[FOLD 5] === Epoch 15/400 ===  (LR: 0.000209206)\n"
          ]
        },
        {
          "name": "stderr",
          "output_type": "stream",
          "text": []
        },
        {
          "name": "stdout",
          "output_type": "stream",
          "text": [
            "Train Loss(加權): 8.7278 | Train Raw MAE: 8.7278 | Val MAE: 6.6283\n",
            "🎯 New best Val MAE: 6.6283\n",
            "\n",
            "[FOLD 5] === Epoch 16/400 ===  (LR: 0.000223467)\n"
          ]
        },
        {
          "name": "stderr",
          "output_type": "stream",
          "text": []
        },
        {
          "name": "stdout",
          "output_type": "stream",
          "text": [
            "Train Loss(加權): 8.2785 | Train Raw MAE: 8.2785 | Val MAE: 16.1078\n",
            "\n",
            "[FOLD 5] === Epoch 17/400 ===  (LR: 0.000238201)\n"
          ]
        },
        {
          "name": "stderr",
          "output_type": "stream",
          "text": []
        },
        {
          "name": "stdout",
          "output_type": "stream",
          "text": [
            "Train Loss(加權): 8.3194 | Train Raw MAE: 8.3194 | Val MAE: 9.9921\n",
            "\n",
            "[FOLD 5] === Epoch 18/400 ===  (LR: 0.000253316)\n"
          ]
        },
        {
          "name": "stderr",
          "output_type": "stream",
          "text": []
        },
        {
          "name": "stdout",
          "output_type": "stream",
          "text": [
            "Train Loss(加權): 8.2974 | Train Raw MAE: 8.2974 | Val MAE: 9.6095\n",
            "\n",
            "[FOLD 5] === Epoch 19/400 ===  (LR: 0.000268718)\n"
          ]
        },
        {
          "name": "stderr",
          "output_type": "stream",
          "text": []
        },
        {
          "name": "stdout",
          "output_type": "stream",
          "text": [
            "Train Loss(加權): 8.2296 | Train Raw MAE: 8.2296 | Val MAE: 16.1034\n",
            "\n",
            "[FOLD 5] === Epoch 20/400 ===  (LR: 0.000284314)\n"
          ]
        },
        {
          "name": "stderr",
          "output_type": "stream",
          "text": []
        },
        {
          "name": "stdout",
          "output_type": "stream",
          "text": [
            "Train Loss(加權): 8.4154 | Train Raw MAE: 8.4154 | Val MAE: 8.2748\n",
            "\n",
            "[FOLD 5] === Epoch 21/400 ===  (LR: 0.000300006)\n"
          ]
        },
        {
          "name": "stderr",
          "output_type": "stream",
          "text": []
        },
        {
          "name": "stdout",
          "output_type": "stream",
          "text": [
            "Train Loss(加權): 7.7966 | Train Raw MAE: 7.7966 | Val MAE: 7.2967\n",
            "\n",
            "[FOLD 5] === Epoch 22/400 ===  (LR: 0.000315698)\n"
          ]
        },
        {
          "name": "stderr",
          "output_type": "stream",
          "text": []
        },
        {
          "name": "stdout",
          "output_type": "stream",
          "text": [
            "Train Loss(加權): 7.6723 | Train Raw MAE: 7.6723 | Val MAE: 13.8711\n",
            "\n",
            "[FOLD 5] === Epoch 23/400 ===  (LR: 0.000331293)\n"
          ]
        },
        {
          "name": "stderr",
          "output_type": "stream",
          "text": []
        },
        {
          "name": "stdout",
          "output_type": "stream",
          "text": [
            "Train Loss(加權): 7.2411 | Train Raw MAE: 7.2411 | Val MAE: 11.4733\n",
            "\n",
            "[FOLD 5] === Epoch 24/400 ===  (LR: 0.000346696)\n"
          ]
        },
        {
          "name": "stderr",
          "output_type": "stream",
          "text": []
        },
        {
          "name": "stdout",
          "output_type": "stream",
          "text": [
            "Train Loss(加權): 7.0249 | Train Raw MAE: 7.0249 | Val MAE: 7.1271\n",
            "\n",
            "[FOLD 5] === Epoch 25/400 ===  (LR: 0.00036181)\n"
          ]
        },
        {
          "name": "stderr",
          "output_type": "stream",
          "text": []
        },
        {
          "name": "stdout",
          "output_type": "stream",
          "text": [
            "Train Loss(加權): 6.8300 | Train Raw MAE: 6.8300 | Val MAE: 7.9012\n",
            "\n",
            "[FOLD 5] === Epoch 26/400 ===  (LR: 0.000376544)\n"
          ]
        },
        {
          "name": "stderr",
          "output_type": "stream",
          "text": []
        },
        {
          "name": "stdout",
          "output_type": "stream",
          "text": [
            "Train Loss(加權): 6.7484 | Train Raw MAE: 6.7484 | Val MAE: 6.0446\n",
            "🎯 New best Val MAE: 6.0446\n",
            "\n",
            "[FOLD 5] === Epoch 27/400 ===  (LR: 0.000390805)\n"
          ]
        },
        {
          "name": "stderr",
          "output_type": "stream",
          "text": []
        },
        {
          "name": "stdout",
          "output_type": "stream",
          "text": [
            "Train Loss(加權): 6.6209 | Train Raw MAE: 6.6209 | Val MAE: 17.6217\n",
            "\n",
            "[FOLD 5] === Epoch 28/400 ===  (LR: 0.000404507)\n"
          ]
        },
        {
          "name": "stderr",
          "output_type": "stream",
          "text": []
        },
        {
          "name": "stdout",
          "output_type": "stream",
          "text": [
            "Train Loss(加權): 6.4281 | Train Raw MAE: 6.4281 | Val MAE: 7.7398\n",
            "\n",
            "[FOLD 5] === Epoch 29/400 ===  (LR: 0.000417564)\n"
          ]
        },
        {
          "name": "stderr",
          "output_type": "stream",
          "text": []
        },
        {
          "name": "stdout",
          "output_type": "stream",
          "text": [
            "Train Loss(加權): 6.5629 | Train Raw MAE: 6.5629 | Val MAE: 9.3759\n",
            "\n",
            "[FOLD 5] === Epoch 30/400 ===  (LR: 0.000429896)\n"
          ]
        },
        {
          "name": "stderr",
          "output_type": "stream",
          "text": []
        },
        {
          "name": "stdout",
          "output_type": "stream",
          "text": [
            "Train Loss(加權): 6.1816 | Train Raw MAE: 6.1816 | Val MAE: 5.6091\n",
            "🎯 New best Val MAE: 5.6091\n",
            "\n",
            "[FOLD 5] === Epoch 31/400 ===  (LR: 0.000441428)\n"
          ]
        },
        {
          "name": "stderr",
          "output_type": "stream",
          "text": []
        },
        {
          "name": "stdout",
          "output_type": "stream",
          "text": [
            "Train Loss(加權): 6.3420 | Train Raw MAE: 6.3420 | Val MAE: 5.7263\n",
            "\n",
            "[FOLD 5] === Epoch 32/400 ===  (LR: 0.000452087)\n"
          ]
        },
        {
          "name": "stderr",
          "output_type": "stream",
          "text": []
        },
        {
          "name": "stdout",
          "output_type": "stream",
          "text": [
            "Train Loss(加權): 6.2348 | Train Raw MAE: 6.2348 | Val MAE: 4.9016\n",
            "🎯 New best Val MAE: 4.9016\n",
            "\n",
            "[FOLD 5] === Epoch 33/400 ===  (LR: 0.000461809)\n"
          ]
        },
        {
          "name": "stderr",
          "output_type": "stream",
          "text": []
        },
        {
          "name": "stdout",
          "output_type": "stream",
          "text": [
            "Train Loss(加權): 5.9298 | Train Raw MAE: 5.9298 | Val MAE: 5.1268\n",
            "\n",
            "[FOLD 5] === Epoch 34/400 ===  (LR: 0.000470533)\n"
          ]
        },
        {
          "name": "stderr",
          "output_type": "stream",
          "text": []
        },
        {
          "name": "stdout",
          "output_type": "stream",
          "text": [
            "Train Loss(加權): 6.0873 | Train Raw MAE: 6.0873 | Val MAE: 6.5371\n",
            "\n",
            "[FOLD 5] === Epoch 35/400 ===  (LR: 0.000478206)\n"
          ]
        },
        {
          "name": "stderr",
          "output_type": "stream",
          "text": []
        },
        {
          "name": "stdout",
          "output_type": "stream",
          "text": [
            "Train Loss(加權): 5.8030 | Train Raw MAE: 5.8030 | Val MAE: 7.9329\n",
            "\n",
            "[FOLD 5] === Epoch 36/400 ===  (LR: 0.00048478)\n"
          ]
        },
        {
          "name": "stderr",
          "output_type": "stream",
          "text": []
        },
        {
          "name": "stdout",
          "output_type": "stream",
          "text": [
            "Train Loss(加權): 5.8622 | Train Raw MAE: 5.8622 | Val MAE: 10.4943\n",
            "\n",
            "[FOLD 5] === Epoch 37/400 ===  (LR: 0.000490215)\n"
          ]
        },
        {
          "name": "stderr",
          "output_type": "stream",
          "text": []
        },
        {
          "name": "stdout",
          "output_type": "stream",
          "text": [
            "Train Loss(加權): 5.6669 | Train Raw MAE: 5.6669 | Val MAE: 8.9378\n",
            "\n",
            "[FOLD 5] === Epoch 38/400 ===  (LR: 0.000494477)\n"
          ]
        },
        {
          "name": "stderr",
          "output_type": "stream",
          "text": []
        },
        {
          "name": "stdout",
          "output_type": "stream",
          "text": [
            "Train Loss(加權): 5.5948 | Train Raw MAE: 5.5948 | Val MAE: 4.4638\n",
            "🎯 New best Val MAE: 4.4638\n",
            "\n",
            "[FOLD 5] === Epoch 39/400 ===  (LR: 0.000497539)\n"
          ]
        },
        {
          "name": "stderr",
          "output_type": "stream",
          "text": []
        },
        {
          "name": "stdout",
          "output_type": "stream",
          "text": [
            "Train Loss(加權): 5.7142 | Train Raw MAE: 5.7142 | Val MAE: 5.3273\n",
            "\n",
            "[FOLD 5] === Epoch 40/400 ===  (LR: 0.000499384)\n"
          ]
        },
        {
          "name": "stderr",
          "output_type": "stream",
          "text": []
        },
        {
          "name": "stdout",
          "output_type": "stream",
          "text": [
            "Train Loss(加權): 5.3824 | Train Raw MAE: 5.3824 | Val MAE: 5.5541\n",
            "\n",
            "[FOLD 5] === Epoch 41/400 ===  (LR: 0.0005)\n"
          ]
        },
        {
          "name": "stderr",
          "output_type": "stream",
          "text": []
        },
        {
          "name": "stdout",
          "output_type": "stream",
          "text": [
            "Train Loss(加權): 5.4800 | Train Raw MAE: 5.4800 | Val MAE: 4.5365\n",
            "\n",
            "[FOLD 5] === Epoch 42/400 ===  (LR: 0.000499991)\n"
          ]
        },
        {
          "name": "stderr",
          "output_type": "stream",
          "text": []
        },
        {
          "name": "stdout",
          "output_type": "stream",
          "text": [
            "Train Loss(加權): 5.4362 | Train Raw MAE: 5.4362 | Val MAE: 5.2386\n",
            "\n",
            "[FOLD 5] === Epoch 43/400 ===  (LR: 0.000499962)\n"
          ]
        },
        {
          "name": "stderr",
          "output_type": "stream",
          "text": []
        },
        {
          "name": "stdout",
          "output_type": "stream",
          "text": [
            "Train Loss(加權): 5.2365 | Train Raw MAE: 5.2365 | Val MAE: 4.5868\n",
            "\n",
            "[FOLD 5] === Epoch 44/400 ===  (LR: 0.000499915)\n"
          ]
        },
        {
          "name": "stderr",
          "output_type": "stream",
          "text": []
        },
        {
          "name": "stdout",
          "output_type": "stream",
          "text": [
            "Train Loss(加權): 5.3118 | Train Raw MAE: 5.3118 | Val MAE: 5.8575\n",
            "\n",
            "[FOLD 5] === Epoch 45/400 ===  (LR: 0.000499849)\n"
          ]
        },
        {
          "name": "stderr",
          "output_type": "stream",
          "text": []
        },
        {
          "name": "stdout",
          "output_type": "stream",
          "text": [
            "Train Loss(加權): 5.2550 | Train Raw MAE: 5.2550 | Val MAE: 4.5973\n",
            "\n",
            "[FOLD 5] === Epoch 46/400 ===  (LR: 0.000499764)\n"
          ]
        },
        {
          "name": "stderr",
          "output_type": "stream",
          "text": []
        },
        {
          "name": "stdout",
          "output_type": "stream",
          "text": [
            "Train Loss(加權): 5.0793 | Train Raw MAE: 5.0793 | Val MAE: 7.2866\n",
            "\n",
            "[FOLD 5] === Epoch 47/400 ===  (LR: 0.000499661)\n"
          ]
        },
        {
          "name": "stderr",
          "output_type": "stream",
          "text": []
        },
        {
          "name": "stdout",
          "output_type": "stream",
          "text": [
            "Train Loss(加權): 5.1886 | Train Raw MAE: 5.1886 | Val MAE: 4.6163\n",
            "\n",
            "[FOLD 5] === Epoch 48/400 ===  (LR: 0.000499538)\n"
          ]
        },
        {
          "name": "stderr",
          "output_type": "stream",
          "text": []
        },
        {
          "name": "stdout",
          "output_type": "stream",
          "text": [
            "Train Loss(加權): 5.0969 | Train Raw MAE: 5.0969 | Val MAE: 4.7704\n",
            "\n",
            "[FOLD 5] === Epoch 49/400 ===  (LR: 0.000499397)\n"
          ]
        },
        {
          "name": "stderr",
          "output_type": "stream",
          "text": []
        },
        {
          "name": "stdout",
          "output_type": "stream",
          "text": [
            "Train Loss(加權): 5.2844 | Train Raw MAE: 5.2844 | Val MAE: 5.0819\n",
            "\n",
            "[FOLD 5] === Epoch 50/400 ===  (LR: 0.000499237)\n"
          ]
        },
        {
          "name": "stderr",
          "output_type": "stream",
          "text": []
        },
        {
          "name": "stdout",
          "output_type": "stream",
          "text": [
            "Train Loss(加權): 5.1337 | Train Raw MAE: 5.1337 | Val MAE: 4.3945\n",
            "🎯 New best Val MAE: 4.3945\n",
            "\n",
            "[FOLD 5] === Epoch 51/400 ===  (LR: 0.000499058)\n"
          ]
        },
        {
          "name": "stderr",
          "output_type": "stream",
          "text": []
        },
        {
          "name": "stdout",
          "output_type": "stream",
          "text": [
            "Train Loss(加權): 5.0336 | Train Raw MAE: 5.0336 | Val MAE: 4.2921\n",
            "🎯 New best Val MAE: 4.2921\n",
            "\n",
            "[FOLD 5] === Epoch 52/400 ===  (LR: 0.00049886)\n"
          ]
        },
        {
          "name": "stderr",
          "output_type": "stream",
          "text": []
        },
        {
          "name": "stdout",
          "output_type": "stream",
          "text": [
            "Train Loss(加權): 5.0609 | Train Raw MAE: 5.0609 | Val MAE: 4.2171\n",
            "🎯 New best Val MAE: 4.2171\n",
            "\n",
            "[FOLD 5] === Epoch 53/400 ===  (LR: 0.000498644)\n"
          ]
        },
        {
          "name": "stderr",
          "output_type": "stream",
          "text": []
        },
        {
          "name": "stdout",
          "output_type": "stream",
          "text": [
            "Train Loss(加權): 4.9653 | Train Raw MAE: 4.9653 | Val MAE: 4.5975\n",
            "\n",
            "[FOLD 5] === Epoch 54/400 ===  (LR: 0.000498409)\n"
          ]
        },
        {
          "name": "stderr",
          "output_type": "stream",
          "text": []
        },
        {
          "name": "stdout",
          "output_type": "stream",
          "text": [
            "Train Loss(加權): 4.9105 | Train Raw MAE: 4.9105 | Val MAE: 4.3693\n",
            "\n",
            "[FOLD 5] === Epoch 55/400 ===  (LR: 0.000498155)\n"
          ]
        },
        {
          "name": "stderr",
          "output_type": "stream",
          "text": []
        },
        {
          "name": "stdout",
          "output_type": "stream",
          "text": [
            "Train Loss(加權): 4.7830 | Train Raw MAE: 4.7830 | Val MAE: 5.3123\n",
            "\n",
            "[FOLD 5] === Epoch 56/400 ===  (LR: 0.000497882)\n"
          ]
        },
        {
          "name": "stderr",
          "output_type": "stream",
          "text": []
        },
        {
          "name": "stdout",
          "output_type": "stream",
          "text": [
            "Train Loss(加權): 4.9710 | Train Raw MAE: 4.9710 | Val MAE: 5.3056\n",
            "\n",
            "[FOLD 5] === Epoch 57/400 ===  (LR: 0.000497591)\n"
          ]
        },
        {
          "name": "stderr",
          "output_type": "stream",
          "text": []
        },
        {
          "name": "stdout",
          "output_type": "stream",
          "text": [
            "Train Loss(加權): 4.7787 | Train Raw MAE: 4.7787 | Val MAE: 6.1832\n",
            "\n",
            "[FOLD 5] === Epoch 58/400 ===  (LR: 0.000497281)\n"
          ]
        },
        {
          "name": "stderr",
          "output_type": "stream",
          "text": []
        },
        {
          "name": "stdout",
          "output_type": "stream",
          "text": [
            "Train Loss(加權): 4.6952 | Train Raw MAE: 4.6952 | Val MAE: 3.9289\n",
            "🎯 New best Val MAE: 3.9289\n",
            "\n",
            "[FOLD 5] === Epoch 59/400 ===  (LR: 0.000496953)\n"
          ]
        },
        {
          "name": "stderr",
          "output_type": "stream",
          "text": []
        },
        {
          "name": "stdout",
          "output_type": "stream",
          "text": [
            "Train Loss(加權): 4.8184 | Train Raw MAE: 4.8184 | Val MAE: 8.1834\n",
            "\n",
            "[FOLD 5] === Epoch 60/400 ===  (LR: 0.000496605)\n"
          ]
        },
        {
          "name": "stderr",
          "output_type": "stream",
          "text": []
        },
        {
          "name": "stdout",
          "output_type": "stream",
          "text": [
            "Train Loss(加權): 4.6246 | Train Raw MAE: 4.6246 | Val MAE: 4.2415\n",
            "\n",
            "[FOLD 5] === Epoch 61/400 ===  (LR: 0.00049624)\n"
          ]
        },
        {
          "name": "stderr",
          "output_type": "stream",
          "text": []
        },
        {
          "name": "stdout",
          "output_type": "stream",
          "text": [
            "Train Loss(加權): 4.6463 | Train Raw MAE: 4.6463 | Val MAE: 4.2550\n",
            "\n",
            "[FOLD 5] === Epoch 62/400 ===  (LR: 0.000495855)\n"
          ]
        },
        {
          "name": "stderr",
          "output_type": "stream",
          "text": []
        },
        {
          "name": "stdout",
          "output_type": "stream",
          "text": [
            "Train Loss(加權): 4.5979 | Train Raw MAE: 4.5979 | Val MAE: 4.1108\n",
            "\n",
            "[FOLD 5] === Epoch 63/400 ===  (LR: 0.000495452)\n"
          ]
        },
        {
          "name": "stderr",
          "output_type": "stream",
          "text": []
        },
        {
          "name": "stdout",
          "output_type": "stream",
          "text": [
            "Train Loss(加權): 4.6589 | Train Raw MAE: 4.6589 | Val MAE: 4.1192\n",
            "\n",
            "[FOLD 5] === Epoch 64/400 ===  (LR: 0.000495031)\n"
          ]
        },
        {
          "name": "stderr",
          "output_type": "stream",
          "text": []
        },
        {
          "name": "stdout",
          "output_type": "stream",
          "text": [
            "Train Loss(加權): 4.6997 | Train Raw MAE: 4.6997 | Val MAE: 4.3912\n",
            "\n",
            "[FOLD 5] === Epoch 65/400 ===  (LR: 0.000494591)\n"
          ]
        },
        {
          "name": "stderr",
          "output_type": "stream",
          "text": []
        },
        {
          "name": "stdout",
          "output_type": "stream",
          "text": [
            "Train Loss(加權): 4.6363 | Train Raw MAE: 4.6363 | Val MAE: 4.0904\n",
            "\n",
            "[FOLD 5] === Epoch 66/400 ===  (LR: 0.000494133)\n"
          ]
        },
        {
          "name": "stderr",
          "output_type": "stream",
          "text": []
        },
        {
          "name": "stdout",
          "output_type": "stream",
          "text": [
            "Train Loss(加權): 4.5506 | Train Raw MAE: 4.5506 | Val MAE: 3.8228\n",
            "🎯 New best Val MAE: 3.8228\n",
            "\n",
            "[FOLD 5] === Epoch 67/400 ===  (LR: 0.000493656)\n"
          ]
        },
        {
          "name": "stderr",
          "output_type": "stream",
          "text": []
        },
        {
          "name": "stdout",
          "output_type": "stream",
          "text": [
            "Train Loss(加權): 4.4589 | Train Raw MAE: 4.4589 | Val MAE: 5.1087\n",
            "\n",
            "[FOLD 5] === Epoch 68/400 ===  (LR: 0.000493161)\n"
          ]
        },
        {
          "name": "stderr",
          "output_type": "stream",
          "text": []
        },
        {
          "name": "stdout",
          "output_type": "stream",
          "text": [
            "Train Loss(加權): 4.4890 | Train Raw MAE: 4.4890 | Val MAE: 4.3965\n",
            "\n",
            "[FOLD 5] === Epoch 69/400 ===  (LR: 0.000492648)\n"
          ]
        },
        {
          "name": "stderr",
          "output_type": "stream",
          "text": []
        },
        {
          "name": "stdout",
          "output_type": "stream",
          "text": [
            "Train Loss(加權): 4.4328 | Train Raw MAE: 4.4328 | Val MAE: 4.5096\n",
            "\n",
            "[FOLD 5] === Epoch 70/400 ===  (LR: 0.000492116)\n"
          ]
        },
        {
          "name": "stderr",
          "output_type": "stream",
          "text": []
        },
        {
          "name": "stdout",
          "output_type": "stream",
          "text": [
            "Train Loss(加權): 4.5212 | Train Raw MAE: 4.5212 | Val MAE: 5.7393\n",
            "\n",
            "[FOLD 5] === Epoch 71/400 ===  (LR: 0.000491566)\n"
          ]
        },
        {
          "name": "stderr",
          "output_type": "stream",
          "text": []
        },
        {
          "name": "stdout",
          "output_type": "stream",
          "text": [
            "Train Loss(加權): 4.5067 | Train Raw MAE: 4.5067 | Val MAE: 3.8248\n",
            "\n",
            "[FOLD 5] === Epoch 72/400 ===  (LR: 0.000490998)\n"
          ]
        },
        {
          "name": "stderr",
          "output_type": "stream",
          "text": []
        },
        {
          "name": "stdout",
          "output_type": "stream",
          "text": [
            "Train Loss(加權): 4.4266 | Train Raw MAE: 4.4266 | Val MAE: 4.8767\n",
            "\n",
            "[FOLD 5] === Epoch 73/400 ===  (LR: 0.000490412)\n"
          ]
        },
        {
          "name": "stderr",
          "output_type": "stream",
          "text": []
        },
        {
          "name": "stdout",
          "output_type": "stream",
          "text": [
            "Train Loss(加權): 4.4117 | Train Raw MAE: 4.4117 | Val MAE: 4.8794\n",
            "\n",
            "[FOLD 5] === Epoch 74/400 ===  (LR: 0.000489807)\n"
          ]
        },
        {
          "name": "stderr",
          "output_type": "stream",
          "text": []
        },
        {
          "name": "stdout",
          "output_type": "stream",
          "text": [
            "Train Loss(加權): 4.2823 | Train Raw MAE: 4.2823 | Val MAE: 3.8769\n",
            "\n",
            "[FOLD 5] === Epoch 75/400 ===  (LR: 0.000489185)\n"
          ]
        },
        {
          "name": "stderr",
          "output_type": "stream",
          "text": []
        },
        {
          "name": "stdout",
          "output_type": "stream",
          "text": [
            "Train Loss(加權): 4.4277 | Train Raw MAE: 4.4277 | Val MAE: 3.7001\n",
            "🎯 New best Val MAE: 3.7001\n",
            "\n",
            "[FOLD 5] === Epoch 76/400 ===  (LR: 0.000488544)\n"
          ]
        },
        {
          "name": "stderr",
          "output_type": "stream",
          "text": []
        },
        {
          "name": "stdout",
          "output_type": "stream",
          "text": [
            "Train Loss(加權): 4.2700 | Train Raw MAE: 4.2700 | Val MAE: 3.9862\n",
            "\n",
            "[FOLD 5] === Epoch 77/400 ===  (LR: 0.000487886)\n"
          ]
        },
        {
          "name": "stderr",
          "output_type": "stream",
          "text": []
        },
        {
          "name": "stdout",
          "output_type": "stream",
          "text": [
            "Train Loss(加權): 4.3385 | Train Raw MAE: 4.3385 | Val MAE: 4.7754\n",
            "\n",
            "[FOLD 5] === Epoch 78/400 ===  (LR: 0.00048721)\n"
          ]
        },
        {
          "name": "stderr",
          "output_type": "stream",
          "text": []
        },
        {
          "name": "stdout",
          "output_type": "stream",
          "text": [
            "Train Loss(加權): 4.3665 | Train Raw MAE: 4.3665 | Val MAE: 3.8916\n",
            "\n",
            "[FOLD 5] === Epoch 79/400 ===  (LR: 0.000486515)\n"
          ]
        },
        {
          "name": "stderr",
          "output_type": "stream",
          "text": []
        },
        {
          "name": "stdout",
          "output_type": "stream",
          "text": [
            "Train Loss(加權): 4.3297 | Train Raw MAE: 4.3297 | Val MAE: 3.8981\n",
            "\n",
            "[FOLD 5] === Epoch 80/400 ===  (LR: 0.000485803)\n"
          ]
        },
        {
          "name": "stderr",
          "output_type": "stream",
          "text": []
        },
        {
          "name": "stdout",
          "output_type": "stream",
          "text": [
            "Train Loss(加權): 4.2762 | Train Raw MAE: 4.2762 | Val MAE: 3.6615\n",
            "🎯 New best Val MAE: 3.6615\n",
            "\n",
            "[FOLD 5] === Epoch 81/400 ===  (LR: 0.000485073)\n"
          ]
        },
        {
          "name": "stderr",
          "output_type": "stream",
          "text": []
        },
        {
          "name": "stdout",
          "output_type": "stream",
          "text": [
            "Train Loss(加權): 4.1919 | Train Raw MAE: 4.1919 | Val MAE: 5.0447\n",
            "\n",
            "[FOLD 5] === Epoch 82/400 ===  (LR: 0.000484326)\n"
          ]
        },
        {
          "name": "stderr",
          "output_type": "stream",
          "text": []
        },
        {
          "name": "stdout",
          "output_type": "stream",
          "text": [
            "Train Loss(加權): 4.2558 | Train Raw MAE: 4.2558 | Val MAE: 3.7616\n",
            "\n",
            "[FOLD 5] === Epoch 83/400 ===  (LR: 0.000483561)\n"
          ]
        },
        {
          "name": "stderr",
          "output_type": "stream",
          "text": []
        },
        {
          "name": "stdout",
          "output_type": "stream",
          "text": [
            "Train Loss(加權): 4.2108 | Train Raw MAE: 4.2108 | Val MAE: 3.7328\n",
            "\n",
            "[FOLD 5] === Epoch 84/400 ===  (LR: 0.000482778)\n"
          ]
        },
        {
          "name": "stderr",
          "output_type": "stream",
          "text": []
        },
        {
          "name": "stdout",
          "output_type": "stream",
          "text": [
            "Train Loss(加權): 4.2298 | Train Raw MAE: 4.2298 | Val MAE: 4.7277\n",
            "\n",
            "[FOLD 5] === Epoch 85/400 ===  (LR: 0.000481977)\n"
          ]
        },
        {
          "name": "stderr",
          "output_type": "stream",
          "text": []
        },
        {
          "name": "stdout",
          "output_type": "stream",
          "text": [
            "Train Loss(加權): 4.2581 | Train Raw MAE: 4.2581 | Val MAE: 4.3952\n",
            "\n",
            "[FOLD 5] === Epoch 86/400 ===  (LR: 0.00048116)\n"
          ]
        },
        {
          "name": "stderr",
          "output_type": "stream",
          "text": []
        },
        {
          "name": "stdout",
          "output_type": "stream",
          "text": [
            "Train Loss(加權): 4.1646 | Train Raw MAE: 4.1646 | Val MAE: 4.0071\n",
            "\n",
            "[FOLD 5] === Epoch 87/400 ===  (LR: 0.000480324)\n"
          ]
        },
        {
          "name": "stderr",
          "output_type": "stream",
          "text": []
        },
        {
          "name": "stdout",
          "output_type": "stream",
          "text": [
            "Train Loss(加權): 4.1297 | Train Raw MAE: 4.1297 | Val MAE: 3.7341\n",
            "\n",
            "[FOLD 5] === Epoch 88/400 ===  (LR: 0.000479472)\n"
          ]
        },
        {
          "name": "stderr",
          "output_type": "stream",
          "text": []
        },
        {
          "name": "stdout",
          "output_type": "stream",
          "text": [
            "Train Loss(加權): 4.1689 | Train Raw MAE: 4.1689 | Val MAE: 3.7228\n",
            "\n",
            "[FOLD 5] === Epoch 89/400 ===  (LR: 0.000478602)\n"
          ]
        },
        {
          "name": "stderr",
          "output_type": "stream",
          "text": []
        },
        {
          "name": "stdout",
          "output_type": "stream",
          "text": [
            "Train Loss(加權): 4.1575 | Train Raw MAE: 4.1575 | Val MAE: 4.0000\n",
            "\n",
            "[FOLD 5] === Epoch 90/400 ===  (LR: 0.000477715)\n"
          ]
        },
        {
          "name": "stderr",
          "output_type": "stream",
          "text": []
        },
        {
          "name": "stdout",
          "output_type": "stream",
          "text": [
            "Train Loss(加權): 4.0441 | Train Raw MAE: 4.0441 | Val MAE: 3.8685\n",
            "\n",
            "[FOLD 5] === Epoch 91/400 ===  (LR: 0.00047681)\n"
          ]
        },
        {
          "name": "stderr",
          "output_type": "stream",
          "text": []
        },
        {
          "name": "stdout",
          "output_type": "stream",
          "text": [
            "Train Loss(加權): 4.0962 | Train Raw MAE: 4.0962 | Val MAE: 3.7619\n",
            "\n",
            "[FOLD 5] === Epoch 92/400 ===  (LR: 0.000475889)\n"
          ]
        },
        {
          "name": "stderr",
          "output_type": "stream",
          "text": []
        },
        {
          "name": "stdout",
          "output_type": "stream",
          "text": [
            "Train Loss(加權): 3.9954 | Train Raw MAE: 3.9954 | Val MAE: 3.5405\n",
            "🎯 New best Val MAE: 3.5405\n",
            "\n",
            "[FOLD 5] === Epoch 93/400 ===  (LR: 0.000474951)\n"
          ]
        },
        {
          "name": "stderr",
          "output_type": "stream",
          "text": []
        },
        {
          "name": "stdout",
          "output_type": "stream",
          "text": [
            "Train Loss(加權): 4.0185 | Train Raw MAE: 4.0185 | Val MAE: 3.9680\n",
            "\n",
            "[FOLD 5] === Epoch 94/400 ===  (LR: 0.000473996)\n"
          ]
        },
        {
          "name": "stderr",
          "output_type": "stream",
          "text": []
        },
        {
          "name": "stdout",
          "output_type": "stream",
          "text": [
            "Train Loss(加權): 3.9484 | Train Raw MAE: 3.9484 | Val MAE: 3.7173\n",
            "\n",
            "[FOLD 5] === Epoch 95/400 ===  (LR: 0.000473023)\n"
          ]
        },
        {
          "name": "stderr",
          "output_type": "stream",
          "text": []
        },
        {
          "name": "stdout",
          "output_type": "stream",
          "text": [
            "Train Loss(加權): 3.9995 | Train Raw MAE: 3.9995 | Val MAE: 4.4291\n",
            "\n",
            "[FOLD 5] === Epoch 96/400 ===  (LR: 0.000472034)\n"
          ]
        },
        {
          "name": "stderr",
          "output_type": "stream",
          "text": []
        },
        {
          "name": "stdout",
          "output_type": "stream",
          "text": [
            "Train Loss(加權): 3.9293 | Train Raw MAE: 3.9293 | Val MAE: 4.1999\n",
            "\n",
            "[FOLD 5] === Epoch 97/400 ===  (LR: 0.000471029)\n"
          ]
        },
        {
          "name": "stderr",
          "output_type": "stream",
          "text": []
        },
        {
          "name": "stdout",
          "output_type": "stream",
          "text": [
            "Train Loss(加權): 3.9102 | Train Raw MAE: 3.9102 | Val MAE: 3.5345\n",
            "🎯 New best Val MAE: 3.5345\n",
            "\n",
            "[FOLD 5] === Epoch 98/400 ===  (LR: 0.000470006)\n"
          ]
        },
        {
          "name": "stderr",
          "output_type": "stream",
          "text": []
        },
        {
          "name": "stdout",
          "output_type": "stream",
          "text": [
            "Train Loss(加權): 3.9201 | Train Raw MAE: 3.9201 | Val MAE: 3.6165\n",
            "\n",
            "[FOLD 5] === Epoch 99/400 ===  (LR: 0.000468968)\n"
          ]
        },
        {
          "name": "stderr",
          "output_type": "stream",
          "text": []
        },
        {
          "name": "stdout",
          "output_type": "stream",
          "text": [
            "Train Loss(加權): 3.9768 | Train Raw MAE: 3.9768 | Val MAE: 3.7203\n",
            "\n",
            "[FOLD 5] === Epoch 100/400 ===  (LR: 0.000467912)\n"
          ]
        },
        {
          "name": "stderr",
          "output_type": "stream",
          "text": []
        },
        {
          "name": "stdout",
          "output_type": "stream",
          "text": [
            "Train Loss(加權): 3.9111 | Train Raw MAE: 3.9111 | Val MAE: 3.7038\n",
            "\n",
            "[FOLD 5] === Epoch 101/400 ===  (LR: 0.00046684)\n"
          ]
        },
        {
          "name": "stderr",
          "output_type": "stream",
          "text": []
        },
        {
          "name": "stdout",
          "output_type": "stream",
          "text": [
            "Train Loss(加權): 3.8947 | Train Raw MAE: 3.8947 | Val MAE: 4.2367\n",
            "\n",
            "[FOLD 5] === Epoch 102/400 ===  (LR: 0.000465752)\n"
          ]
        },
        {
          "name": "stderr",
          "output_type": "stream",
          "text": []
        },
        {
          "name": "stdout",
          "output_type": "stream",
          "text": [
            "Train Loss(加權): 3.8209 | Train Raw MAE: 3.8209 | Val MAE: 3.3220\n",
            "🎯 New best Val MAE: 3.3220\n",
            "\n",
            "[FOLD 5] === Epoch 103/400 ===  (LR: 0.000464648)\n"
          ]
        },
        {
          "name": "stderr",
          "output_type": "stream",
          "text": []
        },
        {
          "name": "stdout",
          "output_type": "stream",
          "text": [
            "Train Loss(加權): 3.8436 | Train Raw MAE: 3.8436 | Val MAE: 3.8358\n",
            "\n",
            "[FOLD 5] === Epoch 104/400 ===  (LR: 0.000463528)\n"
          ]
        },
        {
          "name": "stderr",
          "output_type": "stream",
          "text": []
        },
        {
          "name": "stdout",
          "output_type": "stream",
          "text": [
            "Train Loss(加權): 3.9153 | Train Raw MAE: 3.9153 | Val MAE: 3.7619\n",
            "\n",
            "[FOLD 5] === Epoch 105/400 ===  (LR: 0.000462391)\n"
          ]
        },
        {
          "name": "stderr",
          "output_type": "stream",
          "text": []
        },
        {
          "name": "stdout",
          "output_type": "stream",
          "text": [
            "Train Loss(加權): 3.8124 | Train Raw MAE: 3.8124 | Val MAE: 3.7738\n",
            "\n",
            "[FOLD 5] === Epoch 106/400 ===  (LR: 0.000461238)\n"
          ]
        },
        {
          "name": "stderr",
          "output_type": "stream",
          "text": []
        },
        {
          "name": "stdout",
          "output_type": "stream",
          "text": [
            "Train Loss(加權): 3.7722 | Train Raw MAE: 3.7722 | Val MAE: 3.4677\n",
            "\n",
            "[FOLD 5] === Epoch 107/400 ===  (LR: 0.00046007)\n"
          ]
        },
        {
          "name": "stderr",
          "output_type": "stream",
          "text": []
        },
        {
          "name": "stdout",
          "output_type": "stream",
          "text": [
            "Train Loss(加權): 3.7490 | Train Raw MAE: 3.7490 | Val MAE: 3.5909\n",
            "\n",
            "[FOLD 5] === Epoch 108/400 ===  (LR: 0.000458886)\n"
          ]
        },
        {
          "name": "stderr",
          "output_type": "stream",
          "text": []
        },
        {
          "name": "stdout",
          "output_type": "stream",
          "text": [
            "Train Loss(加權): 3.7507 | Train Raw MAE: 3.7507 | Val MAE: 3.4385\n",
            "\n",
            "[FOLD 5] === Epoch 109/400 ===  (LR: 0.000457686)\n"
          ]
        },
        {
          "name": "stderr",
          "output_type": "stream",
          "text": []
        },
        {
          "name": "stdout",
          "output_type": "stream",
          "text": [
            "Train Loss(加權): 3.7767 | Train Raw MAE: 3.7767 | Val MAE: 3.8459\n",
            "\n",
            "[FOLD 5] === Epoch 110/400 ===  (LR: 0.00045647)\n"
          ]
        },
        {
          "name": "stderr",
          "output_type": "stream",
          "text": []
        },
        {
          "name": "stdout",
          "output_type": "stream",
          "text": [
            "Train Loss(加權): 3.7837 | Train Raw MAE: 3.7837 | Val MAE: 3.4279\n",
            "\n",
            "[FOLD 5] === Epoch 111/400 ===  (LR: 0.000455239)\n"
          ]
        },
        {
          "name": "stderr",
          "output_type": "stream",
          "text": []
        },
        {
          "name": "stdout",
          "output_type": "stream",
          "text": [
            "Train Loss(加權): 3.7554 | Train Raw MAE: 3.7554 | Val MAE: 3.8421\n",
            "\n",
            "[FOLD 5] === Epoch 112/400 ===  (LR: 0.000453993)\n"
          ]
        },
        {
          "name": "stderr",
          "output_type": "stream",
          "text": []
        },
        {
          "name": "stdout",
          "output_type": "stream",
          "text": [
            "Train Loss(加權): 3.7046 | Train Raw MAE: 3.7046 | Val MAE: 3.3593\n",
            "\n",
            "[FOLD 5] === Epoch 113/400 ===  (LR: 0.000452731)\n"
          ]
        },
        {
          "name": "stderr",
          "output_type": "stream",
          "text": []
        },
        {
          "name": "stdout",
          "output_type": "stream",
          "text": [
            "Train Loss(加權): 3.7136 | Train Raw MAE: 3.7136 | Val MAE: 4.1021\n",
            "\n",
            "[FOLD 5] === Epoch 114/400 ===  (LR: 0.000451454)\n"
          ]
        },
        {
          "name": "stderr",
          "output_type": "stream",
          "text": []
        },
        {
          "name": "stdout",
          "output_type": "stream",
          "text": [
            "Train Loss(加權): 3.7093 | Train Raw MAE: 3.7093 | Val MAE: 4.1445\n",
            "\n",
            "[FOLD 5] === Epoch 115/400 ===  (LR: 0.000450161)\n"
          ]
        },
        {
          "name": "stderr",
          "output_type": "stream",
          "text": []
        },
        {
          "name": "stdout",
          "output_type": "stream",
          "text": [
            "Train Loss(加權): 3.6759 | Train Raw MAE: 3.6759 | Val MAE: 3.4448\n",
            "\n",
            "[FOLD 5] === Epoch 116/400 ===  (LR: 0.000448854)\n"
          ]
        },
        {
          "name": "stderr",
          "output_type": "stream",
          "text": []
        },
        {
          "name": "stdout",
          "output_type": "stream",
          "text": [
            "Train Loss(加權): 3.6984 | Train Raw MAE: 3.6984 | Val MAE: 3.3761\n",
            "\n",
            "[FOLD 5] === Epoch 117/400 ===  (LR: 0.000447532)\n"
          ]
        },
        {
          "name": "stderr",
          "output_type": "stream",
          "text": []
        },
        {
          "name": "stdout",
          "output_type": "stream",
          "text": [
            "Train Loss(加權): 3.6654 | Train Raw MAE: 3.6654 | Val MAE: 3.4358\n",
            "\n",
            "[FOLD 5] === Epoch 118/400 ===  (LR: 0.000446194)\n"
          ]
        },
        {
          "name": "stderr",
          "output_type": "stream",
          "text": []
        },
        {
          "name": "stdout",
          "output_type": "stream",
          "text": [
            "Train Loss(加權): 3.7143 | Train Raw MAE: 3.7143 | Val MAE: 3.6721\n",
            "\n",
            "[FOLD 5] === Epoch 119/400 ===  (LR: 0.000444843)\n"
          ]
        },
        {
          "name": "stderr",
          "output_type": "stream",
          "text": []
        },
        {
          "name": "stdout",
          "output_type": "stream",
          "text": [
            "Train Loss(加權): 3.6189 | Train Raw MAE: 3.6189 | Val MAE: 3.6086\n",
            "\n",
            "[FOLD 5] === Epoch 120/400 ===  (LR: 0.000443476)\n"
          ]
        },
        {
          "name": "stderr",
          "output_type": "stream",
          "text": []
        },
        {
          "name": "stdout",
          "output_type": "stream",
          "text": [
            "Train Loss(加權): 3.6456 | Train Raw MAE: 3.6456 | Val MAE: 3.6665\n",
            "\n",
            "[FOLD 5] === Epoch 121/400 ===  (LR: 0.000442095)\n"
          ]
        },
        {
          "name": "stderr",
          "output_type": "stream",
          "text": []
        },
        {
          "name": "stdout",
          "output_type": "stream",
          "text": [
            "Train Loss(加權): 3.6061 | Train Raw MAE: 3.6061 | Val MAE: 3.3479\n",
            "\n",
            "[FOLD 5] === Epoch 122/400 ===  (LR: 0.000440699)\n"
          ]
        },
        {
          "name": "stderr",
          "output_type": "stream",
          "text": []
        },
        {
          "name": "stdout",
          "output_type": "stream",
          "text": [
            "Train Loss(加權): 3.5882 | Train Raw MAE: 3.5882 | Val MAE: 3.5027\n",
            "\n",
            "[FOLD 5] === Epoch 123/400 ===  (LR: 0.00043929)\n"
          ]
        },
        {
          "name": "stderr",
          "output_type": "stream",
          "text": []
        },
        {
          "name": "stdout",
          "output_type": "stream",
          "text": [
            "Train Loss(加權): 3.5864 | Train Raw MAE: 3.5864 | Val MAE: 3.9998\n",
            "\n",
            "[FOLD 5] === Epoch 124/400 ===  (LR: 0.000437865)\n"
          ]
        },
        {
          "name": "stderr",
          "output_type": "stream",
          "text": []
        },
        {
          "name": "stdout",
          "output_type": "stream",
          "text": [
            "Train Loss(加權): 3.6016 | Train Raw MAE: 3.6016 | Val MAE: 3.6000\n",
            "\n",
            "[FOLD 5] === Epoch 125/400 ===  (LR: 0.000436427)\n"
          ]
        },
        {
          "name": "stderr",
          "output_type": "stream",
          "text": []
        },
        {
          "name": "stdout",
          "output_type": "stream",
          "text": [
            "Train Loss(加權): 3.5743 | Train Raw MAE: 3.5743 | Val MAE: 3.6778\n",
            "\n",
            "[FOLD 5] === Epoch 126/400 ===  (LR: 0.000434975)\n"
          ]
        },
        {
          "name": "stderr",
          "output_type": "stream",
          "text": []
        },
        {
          "name": "stdout",
          "output_type": "stream",
          "text": [
            "Train Loss(加權): 3.6668 | Train Raw MAE: 3.6668 | Val MAE: 3.4384\n",
            "\n",
            "[FOLD 5] === Epoch 127/400 ===  (LR: 0.000433509)\n"
          ]
        },
        {
          "name": "stderr",
          "output_type": "stream",
          "text": []
        },
        {
          "name": "stdout",
          "output_type": "stream",
          "text": [
            "Train Loss(加權): 3.5840 | Train Raw MAE: 3.5840 | Val MAE: 3.6300\n",
            "\n",
            "[FOLD 5] === Epoch 128/400 ===  (LR: 0.000432029)\n"
          ]
        },
        {
          "name": "stderr",
          "output_type": "stream",
          "text": []
        },
        {
          "name": "stdout",
          "output_type": "stream",
          "text": [
            "Train Loss(加權): 3.4840 | Train Raw MAE: 3.4840 | Val MAE: 3.8137\n",
            "\n",
            "[FOLD 5] === Epoch 129/400 ===  (LR: 0.000430535)\n"
          ]
        },
        {
          "name": "stderr",
          "output_type": "stream",
          "text": []
        },
        {
          "name": "stdout",
          "output_type": "stream",
          "text": [
            "Train Loss(加權): 3.5639 | Train Raw MAE: 3.5639 | Val MAE: 3.2310\n",
            "🎯 New best Val MAE: 3.2310\n",
            "\n",
            "[FOLD 5] === Epoch 130/400 ===  (LR: 0.000429028)\n"
          ]
        },
        {
          "name": "stderr",
          "output_type": "stream",
          "text": []
        },
        {
          "name": "stdout",
          "output_type": "stream",
          "text": [
            "Train Loss(加權): 3.5385 | Train Raw MAE: 3.5385 | Val MAE: 3.3495\n",
            "\n",
            "[FOLD 5] === Epoch 131/400 ===  (LR: 0.000427508)\n"
          ]
        },
        {
          "name": "stderr",
          "output_type": "stream",
          "text": []
        },
        {
          "name": "stdout",
          "output_type": "stream",
          "text": [
            "Train Loss(加權): 3.5634 | Train Raw MAE: 3.5634 | Val MAE: 3.9495\n",
            "\n",
            "[FOLD 5] === Epoch 132/400 ===  (LR: 0.000425974)\n"
          ]
        },
        {
          "name": "stderr",
          "output_type": "stream",
          "text": []
        },
        {
          "name": "stdout",
          "output_type": "stream",
          "text": [
            "Train Loss(加權): 3.4716 | Train Raw MAE: 3.4716 | Val MAE: 4.1575\n",
            "\n",
            "[FOLD 5] === Epoch 133/400 ===  (LR: 0.000424427)\n"
          ]
        },
        {
          "name": "stderr",
          "output_type": "stream",
          "text": []
        },
        {
          "name": "stdout",
          "output_type": "stream",
          "text": [
            "Train Loss(加權): 3.5045 | Train Raw MAE: 3.5045 | Val MAE: 3.5901\n",
            "\n",
            "[FOLD 5] === Epoch 134/400 ===  (LR: 0.000422867)\n"
          ]
        },
        {
          "name": "stderr",
          "output_type": "stream",
          "text": []
        },
        {
          "name": "stdout",
          "output_type": "stream",
          "text": [
            "Train Loss(加權): 3.5040 | Train Raw MAE: 3.5040 | Val MAE: 3.4801\n",
            "\n",
            "[FOLD 5] === Epoch 135/400 ===  (LR: 0.000421293)\n"
          ]
        },
        {
          "name": "stderr",
          "output_type": "stream",
          "text": []
        },
        {
          "name": "stdout",
          "output_type": "stream",
          "text": [
            "Train Loss(加權): 3.4379 | Train Raw MAE: 3.4379 | Val MAE: 3.4029\n",
            "\n",
            "[FOLD 5] === Epoch 136/400 ===  (LR: 0.000419707)\n"
          ]
        },
        {
          "name": "stderr",
          "output_type": "stream",
          "text": []
        },
        {
          "name": "stdout",
          "output_type": "stream",
          "text": [
            "Train Loss(加權): 3.4302 | Train Raw MAE: 3.4302 | Val MAE: 3.1699\n",
            "🎯 New best Val MAE: 3.1699\n",
            "\n",
            "[FOLD 5] === Epoch 137/400 ===  (LR: 0.000418109)\n"
          ]
        },
        {
          "name": "stderr",
          "output_type": "stream",
          "text": []
        },
        {
          "name": "stdout",
          "output_type": "stream",
          "text": [
            "Train Loss(加權): 3.5296 | Train Raw MAE: 3.5296 | Val MAE: 3.3998\n",
            "\n",
            "[FOLD 5] === Epoch 138/400 ===  (LR: 0.000416497)\n"
          ]
        },
        {
          "name": "stderr",
          "output_type": "stream",
          "text": []
        },
        {
          "name": "stdout",
          "output_type": "stream",
          "text": [
            "Train Loss(加權): 3.5009 | Train Raw MAE: 3.5009 | Val MAE: 3.1732\n",
            "\n",
            "[FOLD 5] === Epoch 139/400 ===  (LR: 0.000414873)\n"
          ]
        },
        {
          "name": "stderr",
          "output_type": "stream",
          "text": []
        },
        {
          "name": "stdout",
          "output_type": "stream",
          "text": [
            "Train Loss(加權): 3.4295 | Train Raw MAE: 3.4295 | Val MAE: 3.4135\n",
            "\n",
            "[FOLD 5] === Epoch 140/400 ===  (LR: 0.000413237)\n"
          ]
        },
        {
          "name": "stderr",
          "output_type": "stream",
          "text": []
        },
        {
          "name": "stdout",
          "output_type": "stream",
          "text": [
            "Train Loss(加權): 3.4112 | Train Raw MAE: 3.4112 | Val MAE: 3.7891\n",
            "\n",
            "[FOLD 5] === Epoch 141/400 ===  (LR: 0.000411589)\n"
          ]
        },
        {
          "name": "stderr",
          "output_type": "stream",
          "text": []
        },
        {
          "name": "stdout",
          "output_type": "stream",
          "text": [
            "Train Loss(加權): 3.3545 | Train Raw MAE: 3.3545 | Val MAE: 3.5302\n",
            "\n",
            "[FOLD 5] === Epoch 142/400 ===  (LR: 0.000409928)\n"
          ]
        },
        {
          "name": "stderr",
          "output_type": "stream",
          "text": []
        },
        {
          "name": "stdout",
          "output_type": "stream",
          "text": [
            "Train Loss(加權): 3.3586 | Train Raw MAE: 3.3586 | Val MAE: 3.2631\n",
            "\n",
            "[FOLD 5] === Epoch 143/400 ===  (LR: 0.000408256)\n"
          ]
        },
        {
          "name": "stderr",
          "output_type": "stream",
          "text": []
        },
        {
          "name": "stdout",
          "output_type": "stream",
          "text": [
            "Train Loss(加權): 3.4363 | Train Raw MAE: 3.4363 | Val MAE: 3.4604\n",
            "\n",
            "[FOLD 5] === Epoch 144/400 ===  (LR: 0.000406571)\n"
          ]
        },
        {
          "name": "stderr",
          "output_type": "stream",
          "text": []
        },
        {
          "name": "stdout",
          "output_type": "stream",
          "text": [
            "Train Loss(加權): 3.4033 | Train Raw MAE: 3.4033 | Val MAE: 3.1663\n",
            "🎯 New best Val MAE: 3.1663\n",
            "\n",
            "[FOLD 5] === Epoch 145/400 ===  (LR: 0.000404875)\n"
          ]
        },
        {
          "name": "stderr",
          "output_type": "stream",
          "text": []
        },
        {
          "name": "stdout",
          "output_type": "stream",
          "text": [
            "Train Loss(加權): 3.3880 | Train Raw MAE: 3.3880 | Val MAE: 3.4260\n",
            "\n",
            "[FOLD 5] === Epoch 146/400 ===  (LR: 0.000403167)\n"
          ]
        },
        {
          "name": "stderr",
          "output_type": "stream",
          "text": []
        },
        {
          "name": "stdout",
          "output_type": "stream",
          "text": [
            "Train Loss(加權): 3.3288 | Train Raw MAE: 3.3288 | Val MAE: 3.4270\n",
            "\n",
            "[FOLD 5] === Epoch 147/400 ===  (LR: 0.000401448)\n"
          ]
        },
        {
          "name": "stderr",
          "output_type": "stream",
          "text": []
        },
        {
          "name": "stdout",
          "output_type": "stream",
          "text": [
            "Train Loss(加權): 3.3842 | Train Raw MAE: 3.3842 | Val MAE: 3.4721\n",
            "\n",
            "[FOLD 5] === Epoch 148/400 ===  (LR: 0.000399717)\n"
          ]
        },
        {
          "name": "stderr",
          "output_type": "stream",
          "text": []
        },
        {
          "name": "stdout",
          "output_type": "stream",
          "text": [
            "Train Loss(加權): 3.3008 | Train Raw MAE: 3.3008 | Val MAE: 3.3211\n",
            "\n",
            "[FOLD 5] === Epoch 149/400 ===  (LR: 0.000397976)\n"
          ]
        },
        {
          "name": "stderr",
          "output_type": "stream",
          "text": []
        },
        {
          "name": "stdout",
          "output_type": "stream",
          "text": [
            "Train Loss(加權): 3.3378 | Train Raw MAE: 3.3378 | Val MAE: 5.1403\n",
            "\n",
            "[FOLD 5] === Epoch 150/400 ===  (LR: 0.000396223)\n"
          ]
        },
        {
          "name": "stderr",
          "output_type": "stream",
          "text": []
        },
        {
          "name": "stdout",
          "output_type": "stream",
          "text": [
            "Train Loss(加權): 3.3470 | Train Raw MAE: 3.3470 | Val MAE: 3.3561\n",
            "\n",
            "[FOLD 5] === Epoch 151/400 ===  (LR: 0.000394459)\n"
          ]
        },
        {
          "name": "stderr",
          "output_type": "stream",
          "text": []
        },
        {
          "name": "stdout",
          "output_type": "stream",
          "text": [
            "Train Loss(加權): 3.3946 | Train Raw MAE: 3.3946 | Val MAE: 3.4826\n",
            "\n",
            "[FOLD 5] === Epoch 152/400 ===  (LR: 0.000392684)\n"
          ]
        },
        {
          "name": "stderr",
          "output_type": "stream",
          "text": []
        },
        {
          "name": "stdout",
          "output_type": "stream",
          "text": [
            "Train Loss(加權): 3.2906 | Train Raw MAE: 3.2906 | Val MAE: 3.3172\n",
            "\n",
            "[FOLD 5] === Epoch 153/400 ===  (LR: 0.000390899)\n"
          ]
        },
        {
          "name": "stderr",
          "output_type": "stream",
          "text": []
        },
        {
          "name": "stdout",
          "output_type": "stream",
          "text": [
            "Train Loss(加權): 3.2698 | Train Raw MAE: 3.2698 | Val MAE: 3.9105\n",
            "\n",
            "[FOLD 5] === Epoch 154/400 ===  (LR: 0.000389103)\n"
          ]
        },
        {
          "name": "stderr",
          "output_type": "stream",
          "text": []
        },
        {
          "name": "stdout",
          "output_type": "stream",
          "text": [
            "Train Loss(加權): 3.2905 | Train Raw MAE: 3.2905 | Val MAE: 3.5371\n",
            "\n",
            "[FOLD 5] === Epoch 155/400 ===  (LR: 0.000387297)\n"
          ]
        },
        {
          "name": "stderr",
          "output_type": "stream",
          "text": []
        },
        {
          "name": "stdout",
          "output_type": "stream",
          "text": [
            "Train Loss(加權): 3.2349 | Train Raw MAE: 3.2349 | Val MAE: 3.5232\n",
            "\n",
            "[FOLD 5] === Epoch 156/400 ===  (LR: 0.00038548)\n"
          ]
        },
        {
          "name": "stderr",
          "output_type": "stream",
          "text": []
        },
        {
          "name": "stdout",
          "output_type": "stream",
          "text": [
            "Train Loss(加權): 3.2167 | Train Raw MAE: 3.2167 | Val MAE: 3.1334\n",
            "🎯 New best Val MAE: 3.1334\n",
            "\n",
            "[FOLD 5] === Epoch 157/400 ===  (LR: 0.000383654)\n"
          ]
        },
        {
          "name": "stderr",
          "output_type": "stream",
          "text": []
        },
        {
          "name": "stdout",
          "output_type": "stream",
          "text": [
            "Train Loss(加權): 3.2668 | Train Raw MAE: 3.2668 | Val MAE: 3.4737\n",
            "\n",
            "[FOLD 5] === Epoch 158/400 ===  (LR: 0.000381817)\n"
          ]
        },
        {
          "name": "stderr",
          "output_type": "stream",
          "text": []
        },
        {
          "name": "stdout",
          "output_type": "stream",
          "text": [
            "Train Loss(加權): 3.2374 | Train Raw MAE: 3.2374 | Val MAE: 3.2780\n",
            "\n",
            "[FOLD 5] === Epoch 159/400 ===  (LR: 0.000379971)\n"
          ]
        },
        {
          "name": "stderr",
          "output_type": "stream",
          "text": []
        },
        {
          "name": "stdout",
          "output_type": "stream",
          "text": [
            "Train Loss(加權): 3.2583 | Train Raw MAE: 3.2583 | Val MAE: 3.2467\n",
            "\n",
            "[FOLD 5] === Epoch 160/400 ===  (LR: 0.000378114)\n"
          ]
        },
        {
          "name": "stderr",
          "output_type": "stream",
          "text": []
        },
        {
          "name": "stdout",
          "output_type": "stream",
          "text": [
            "Train Loss(加權): 3.2091 | Train Raw MAE: 3.2091 | Val MAE: 3.4115\n",
            "\n",
            "[FOLD 5] === Epoch 161/400 ===  (LR: 0.000376249)\n"
          ]
        },
        {
          "name": "stderr",
          "output_type": "stream",
          "text": []
        },
        {
          "name": "stdout",
          "output_type": "stream",
          "text": [
            "Train Loss(加權): 3.2237 | Train Raw MAE: 3.2237 | Val MAE: 3.1695\n",
            "\n",
            "[FOLD 5] === Epoch 162/400 ===  (LR: 0.000374373)\n"
          ]
        },
        {
          "name": "stderr",
          "output_type": "stream",
          "text": []
        },
        {
          "name": "stdout",
          "output_type": "stream",
          "text": [
            "Train Loss(加權): 3.2621 | Train Raw MAE: 3.2621 | Val MAE: 4.5659\n",
            "\n",
            "[FOLD 5] === Epoch 163/400 ===  (LR: 0.000372489)\n"
          ]
        },
        {
          "name": "stderr",
          "output_type": "stream",
          "text": []
        },
        {
          "name": "stdout",
          "output_type": "stream",
          "text": [
            "Train Loss(加權): 3.2590 | Train Raw MAE: 3.2590 | Val MAE: 3.7486\n",
            "\n",
            "[FOLD 5] === Epoch 164/400 ===  (LR: 0.000370595)\n"
          ]
        },
        {
          "name": "stderr",
          "output_type": "stream",
          "text": []
        },
        {
          "name": "stdout",
          "output_type": "stream",
          "text": [
            "Train Loss(加權): 3.1976 | Train Raw MAE: 3.1976 | Val MAE: 3.2754\n",
            "\n",
            "[FOLD 5] === Epoch 165/400 ===  (LR: 0.000368693)\n"
          ]
        },
        {
          "name": "stderr",
          "output_type": "stream",
          "text": []
        },
        {
          "name": "stdout",
          "output_type": "stream",
          "text": [
            "Train Loss(加權): 3.1743 | Train Raw MAE: 3.1743 | Val MAE: 4.1512\n",
            "\n",
            "[FOLD 5] === Epoch 166/400 ===  (LR: 0.000366781)\n"
          ]
        },
        {
          "name": "stderr",
          "output_type": "stream",
          "text": []
        },
        {
          "name": "stdout",
          "output_type": "stream",
          "text": [
            "Train Loss(加權): 3.1744 | Train Raw MAE: 3.1744 | Val MAE: 3.3587\n",
            "\n",
            "[FOLD 5] === Epoch 167/400 ===  (LR: 0.000364861)\n"
          ]
        },
        {
          "name": "stderr",
          "output_type": "stream",
          "text": []
        },
        {
          "name": "stdout",
          "output_type": "stream",
          "text": [
            "Train Loss(加權): 3.1478 | Train Raw MAE: 3.1478 | Val MAE: 3.0577\n",
            "🎯 New best Val MAE: 3.0577\n",
            "\n",
            "[FOLD 5] === Epoch 168/400 ===  (LR: 0.000362932)\n"
          ]
        },
        {
          "name": "stderr",
          "output_type": "stream",
          "text": []
        },
        {
          "name": "stdout",
          "output_type": "stream",
          "text": [
            "Train Loss(加權): 3.1584 | Train Raw MAE: 3.1584 | Val MAE: 3.4118\n",
            "\n",
            "[FOLD 5] === Epoch 169/400 ===  (LR: 0.000360995)\n"
          ]
        },
        {
          "name": "stderr",
          "output_type": "stream",
          "text": []
        },
        {
          "name": "stdout",
          "output_type": "stream",
          "text": [
            "Train Loss(加權): 3.1511 | Train Raw MAE: 3.1511 | Val MAE: 3.1856\n",
            "\n",
            "[FOLD 5] === Epoch 170/400 ===  (LR: 0.00035905)\n"
          ]
        },
        {
          "name": "stderr",
          "output_type": "stream",
          "text": []
        },
        {
          "name": "stdout",
          "output_type": "stream",
          "text": [
            "Train Loss(加權): 3.0796 | Train Raw MAE: 3.0796 | Val MAE: 3.2756\n",
            "\n",
            "[FOLD 5] === Epoch 171/400 ===  (LR: 0.000357097)\n"
          ]
        },
        {
          "name": "stderr",
          "output_type": "stream",
          "text": []
        },
        {
          "name": "stdout",
          "output_type": "stream",
          "text": [
            "Train Loss(加權): 3.0886 | Train Raw MAE: 3.0886 | Val MAE: 3.1047\n",
            "\n",
            "[FOLD 5] === Epoch 172/400 ===  (LR: 0.000355135)\n"
          ]
        },
        {
          "name": "stderr",
          "output_type": "stream",
          "text": []
        },
        {
          "name": "stdout",
          "output_type": "stream",
          "text": [
            "Train Loss(加權): 3.0627 | Train Raw MAE: 3.0627 | Val MAE: 3.1564\n",
            "\n",
            "[FOLD 5] === Epoch 173/400 ===  (LR: 0.000353166)\n"
          ]
        },
        {
          "name": "stderr",
          "output_type": "stream",
          "text": []
        },
        {
          "name": "stdout",
          "output_type": "stream",
          "text": [
            "Train Loss(加權): 3.1290 | Train Raw MAE: 3.1290 | Val MAE: 3.2231\n",
            "\n",
            "[FOLD 5] === Epoch 174/400 ===  (LR: 0.000351189)\n"
          ]
        },
        {
          "name": "stderr",
          "output_type": "stream",
          "text": []
        },
        {
          "name": "stdout",
          "output_type": "stream",
          "text": [
            "Train Loss(加權): 3.0986 | Train Raw MAE: 3.0986 | Val MAE: 3.1644\n",
            "\n",
            "[FOLD 5] === Epoch 175/400 ===  (LR: 0.000349204)\n"
          ]
        },
        {
          "name": "stderr",
          "output_type": "stream",
          "text": []
        },
        {
          "name": "stdout",
          "output_type": "stream",
          "text": [
            "Train Loss(加權): 3.0743 | Train Raw MAE: 3.0743 | Val MAE: 3.1550\n",
            "\n",
            "[FOLD 5] === Epoch 176/400 ===  (LR: 0.000347213)\n"
          ]
        },
        {
          "name": "stderr",
          "output_type": "stream",
          "text": []
        },
        {
          "name": "stdout",
          "output_type": "stream",
          "text": [
            "Train Loss(加權): 3.0395 | Train Raw MAE: 3.0395 | Val MAE: 3.1386\n",
            "\n",
            "[FOLD 5] === Epoch 177/400 ===  (LR: 0.000345214)\n"
          ]
        },
        {
          "name": "stderr",
          "output_type": "stream",
          "text": []
        },
        {
          "name": "stdout",
          "output_type": "stream",
          "text": [
            "Train Loss(加權): 3.0528 | Train Raw MAE: 3.0528 | Val MAE: 3.9898\n",
            "\n",
            "[FOLD 5] === Epoch 178/400 ===  (LR: 0.000343208)\n"
          ]
        },
        {
          "name": "stderr",
          "output_type": "stream",
          "text": []
        },
        {
          "name": "stdout",
          "output_type": "stream",
          "text": [
            "Train Loss(加權): 3.0652 | Train Raw MAE: 3.0652 | Val MAE: 3.0448\n",
            "🎯 New best Val MAE: 3.0448\n",
            "\n",
            "[FOLD 5] === Epoch 179/400 ===  (LR: 0.000341195)\n"
          ]
        },
        {
          "name": "stderr",
          "output_type": "stream",
          "text": []
        },
        {
          "name": "stdout",
          "output_type": "stream",
          "text": [
            "Train Loss(加權): 3.0536 | Train Raw MAE: 3.0536 | Val MAE: 3.0539\n",
            "\n",
            "[FOLD 5] === Epoch 180/400 ===  (LR: 0.000339175)\n"
          ]
        },
        {
          "name": "stderr",
          "output_type": "stream",
          "text": []
        },
        {
          "name": "stdout",
          "output_type": "stream",
          "text": [
            "Train Loss(加權): 3.0795 | Train Raw MAE: 3.0795 | Val MAE: 3.5767\n",
            "\n",
            "[FOLD 5] === Epoch 181/400 ===  (LR: 0.000337148)\n"
          ]
        },
        {
          "name": "stderr",
          "output_type": "stream",
          "text": []
        },
        {
          "name": "stdout",
          "output_type": "stream",
          "text": [
            "Train Loss(加權): 3.0622 | Train Raw MAE: 3.0622 | Val MAE: 3.7572\n",
            "\n",
            "[FOLD 5] === Epoch 182/400 ===  (LR: 0.000335116)\n"
          ]
        },
        {
          "name": "stderr",
          "output_type": "stream",
          "text": []
        },
        {
          "name": "stdout",
          "output_type": "stream",
          "text": [
            "Train Loss(加權): 3.0417 | Train Raw MAE: 3.0417 | Val MAE: 3.2071\n",
            "\n",
            "[FOLD 5] === Epoch 183/400 ===  (LR: 0.000333077)\n"
          ]
        },
        {
          "name": "stderr",
          "output_type": "stream",
          "text": []
        },
        {
          "name": "stdout",
          "output_type": "stream",
          "text": [
            "Train Loss(加權): 3.0131 | Train Raw MAE: 3.0131 | Val MAE: 3.3863\n",
            "\n",
            "[FOLD 5] === Epoch 184/400 ===  (LR: 0.000331031)\n"
          ]
        },
        {
          "name": "stderr",
          "output_type": "stream",
          "text": []
        },
        {
          "name": "stdout",
          "output_type": "stream",
          "text": [
            "Train Loss(加權): 2.9642 | Train Raw MAE: 2.9642 | Val MAE: 3.1711\n",
            "\n",
            "[FOLD 5] === Epoch 185/400 ===  (LR: 0.00032898)\n"
          ]
        },
        {
          "name": "stderr",
          "output_type": "stream",
          "text": []
        },
        {
          "name": "stdout",
          "output_type": "stream",
          "text": [
            "Train Loss(加權): 2.9805 | Train Raw MAE: 2.9805 | Val MAE: 3.1697\n",
            "\n",
            "[FOLD 5] === Epoch 186/400 ===  (LR: 0.000326923)\n"
          ]
        },
        {
          "name": "stderr",
          "output_type": "stream",
          "text": []
        },
        {
          "name": "stdout",
          "output_type": "stream",
          "text": [
            "Train Loss(加權): 2.9978 | Train Raw MAE: 2.9978 | Val MAE: 3.3642\n",
            "\n",
            "[FOLD 5] === Epoch 187/400 ===  (LR: 0.00032486)\n"
          ]
        },
        {
          "name": "stderr",
          "output_type": "stream",
          "text": []
        },
        {
          "name": "stdout",
          "output_type": "stream",
          "text": [
            "Train Loss(加權): 3.0174 | Train Raw MAE: 3.0174 | Val MAE: 3.0622\n",
            "\n",
            "[FOLD 5] === Epoch 188/400 ===  (LR: 0.000322792)\n"
          ]
        },
        {
          "name": "stderr",
          "output_type": "stream",
          "text": []
        },
        {
          "name": "stdout",
          "output_type": "stream",
          "text": [
            "Train Loss(加權): 2.9544 | Train Raw MAE: 2.9544 | Val MAE: 3.7234\n",
            "\n",
            "[FOLD 5] === Epoch 189/400 ===  (LR: 0.000320719)\n"
          ]
        },
        {
          "name": "stderr",
          "output_type": "stream",
          "text": []
        },
        {
          "name": "stdout",
          "output_type": "stream",
          "text": [
            "Train Loss(加權): 2.9609 | Train Raw MAE: 2.9609 | Val MAE: 3.0368\n",
            "🎯 New best Val MAE: 3.0368\n",
            "\n",
            "[FOLD 5] === Epoch 190/400 ===  (LR: 0.00031864)\n"
          ]
        },
        {
          "name": "stderr",
          "output_type": "stream",
          "text": []
        },
        {
          "name": "stdout",
          "output_type": "stream",
          "text": [
            "Train Loss(加權): 2.9634 | Train Raw MAE: 2.9634 | Val MAE: 3.2659\n",
            "\n",
            "[FOLD 5] === Epoch 191/400 ===  (LR: 0.000316556)\n"
          ]
        },
        {
          "name": "stderr",
          "output_type": "stream",
          "text": []
        },
        {
          "name": "stdout",
          "output_type": "stream",
          "text": [
            "Train Loss(加權): 2.8983 | Train Raw MAE: 2.8983 | Val MAE: 3.2310\n",
            "\n",
            "[FOLD 5] === Epoch 192/400 ===  (LR: 0.000314467)\n"
          ]
        },
        {
          "name": "stderr",
          "output_type": "stream",
          "text": []
        },
        {
          "name": "stdout",
          "output_type": "stream",
          "text": [
            "Train Loss(加權): 2.9696 | Train Raw MAE: 2.9696 | Val MAE: 2.9952\n",
            "🎯 New best Val MAE: 2.9952\n",
            "\n",
            "[FOLD 5] === Epoch 193/400 ===  (LR: 0.000312374)\n"
          ]
        },
        {
          "name": "stderr",
          "output_type": "stream",
          "text": []
        },
        {
          "name": "stdout",
          "output_type": "stream",
          "text": [
            "Train Loss(加權): 2.9545 | Train Raw MAE: 2.9545 | Val MAE: 3.4960\n",
            "\n",
            "[FOLD 5] === Epoch 194/400 ===  (LR: 0.000310276)\n"
          ]
        },
        {
          "name": "stderr",
          "output_type": "stream",
          "text": []
        },
        {
          "name": "stdout",
          "output_type": "stream",
          "text": [
            "Train Loss(加權): 2.9023 | Train Raw MAE: 2.9023 | Val MAE: 3.1388\n",
            "\n",
            "[FOLD 5] === Epoch 195/400 ===  (LR: 0.000308174)\n"
          ]
        },
        {
          "name": "stderr",
          "output_type": "stream",
          "text": []
        },
        {
          "name": "stdout",
          "output_type": "stream",
          "text": [
            "Train Loss(加權): 2.8838 | Train Raw MAE: 2.8838 | Val MAE: 3.1212\n",
            "\n",
            "[FOLD 5] === Epoch 196/400 ===  (LR: 0.000306067)\n"
          ]
        },
        {
          "name": "stderr",
          "output_type": "stream",
          "text": []
        },
        {
          "name": "stdout",
          "output_type": "stream",
          "text": [
            "Train Loss(加權): 2.9035 | Train Raw MAE: 2.9035 | Val MAE: 3.2856\n",
            "\n",
            "[FOLD 5] === Epoch 197/400 ===  (LR: 0.000303957)\n"
          ]
        },
        {
          "name": "stderr",
          "output_type": "stream",
          "text": []
        },
        {
          "name": "stdout",
          "output_type": "stream",
          "text": [
            "Train Loss(加權): 2.9022 | Train Raw MAE: 2.9022 | Val MAE: 3.0340\n",
            "\n",
            "[FOLD 5] === Epoch 198/400 ===  (LR: 0.000301842)\n"
          ]
        },
        {
          "name": "stderr",
          "output_type": "stream",
          "text": []
        },
        {
          "name": "stdout",
          "output_type": "stream",
          "text": [
            "Train Loss(加權): 2.9159 | Train Raw MAE: 2.9159 | Val MAE: 3.5478\n",
            "\n",
            "[FOLD 5] === Epoch 199/400 ===  (LR: 0.000299724)\n"
          ]
        },
        {
          "name": "stderr",
          "output_type": "stream",
          "text": []
        },
        {
          "name": "stdout",
          "output_type": "stream",
          "text": [
            "Train Loss(加權): 2.9068 | Train Raw MAE: 2.9068 | Val MAE: 3.1065\n",
            "\n",
            "[FOLD 5] === Epoch 200/400 ===  (LR: 0.000297602)\n"
          ]
        },
        {
          "name": "stderr",
          "output_type": "stream",
          "text": []
        },
        {
          "name": "stdout",
          "output_type": "stream",
          "text": [
            "Train Loss(加權): 2.8572 | Train Raw MAE: 2.8572 | Val MAE: 2.9928\n",
            "🎯 New best Val MAE: 2.9928\n",
            "\n",
            "[FOLD 5] === Epoch 201/400 ===  (LR: 0.000295476)\n"
          ]
        },
        {
          "name": "stderr",
          "output_type": "stream",
          "text": []
        },
        {
          "name": "stdout",
          "output_type": "stream",
          "text": [
            "Train Loss(加權): 2.8456 | Train Raw MAE: 2.8456 | Val MAE: 2.9259\n",
            "🎯 New best Val MAE: 2.9259\n",
            "\n",
            "[FOLD 5] === Epoch 202/400 ===  (LR: 0.000293348)\n"
          ]
        },
        {
          "name": "stderr",
          "output_type": "stream",
          "text": []
        },
        {
          "name": "stdout",
          "output_type": "stream",
          "text": [
            "Train Loss(加權): 2.8121 | Train Raw MAE: 2.8121 | Val MAE: 3.0643\n",
            "\n",
            "[FOLD 5] === Epoch 203/400 ===  (LR: 0.000291216)\n"
          ]
        },
        {
          "name": "stderr",
          "output_type": "stream",
          "text": []
        },
        {
          "name": "stdout",
          "output_type": "stream",
          "text": [
            "Train Loss(加權): 2.8116 | Train Raw MAE: 2.8116 | Val MAE: 3.1091\n",
            "\n",
            "[FOLD 5] === Epoch 204/400 ===  (LR: 0.000289081)\n"
          ]
        },
        {
          "name": "stderr",
          "output_type": "stream",
          "text": []
        },
        {
          "name": "stdout",
          "output_type": "stream",
          "text": [
            "Train Loss(加權): 2.7812 | Train Raw MAE: 2.7812 | Val MAE: 3.0763\n",
            "\n",
            "[FOLD 5] === Epoch 205/400 ===  (LR: 0.000286944)\n"
          ]
        },
        {
          "name": "stderr",
          "output_type": "stream",
          "text": []
        },
        {
          "name": "stdout",
          "output_type": "stream",
          "text": [
            "Train Loss(加權): 2.7944 | Train Raw MAE: 2.7944 | Val MAE: 3.4873\n",
            "\n",
            "[FOLD 5] === Epoch 206/400 ===  (LR: 0.000284804)\n"
          ]
        },
        {
          "name": "stderr",
          "output_type": "stream",
          "text": []
        },
        {
          "name": "stdout",
          "output_type": "stream",
          "text": [
            "Train Loss(加權): 2.8242 | Train Raw MAE: 2.8242 | Val MAE: 2.9294\n",
            "\n",
            "[FOLD 5] === Epoch 207/400 ===  (LR: 0.000282661)\n"
          ]
        },
        {
          "name": "stderr",
          "output_type": "stream",
          "text": []
        },
        {
          "name": "stdout",
          "output_type": "stream",
          "text": [
            "Train Loss(加權): 2.8348 | Train Raw MAE: 2.8348 | Val MAE: 2.9558\n",
            "\n",
            "[FOLD 5] === Epoch 208/400 ===  (LR: 0.000280516)\n"
          ]
        },
        {
          "name": "stderr",
          "output_type": "stream",
          "text": []
        },
        {
          "name": "stdout",
          "output_type": "stream",
          "text": [
            "Train Loss(加權): 2.8219 | Train Raw MAE: 2.8219 | Val MAE: 3.0701\n",
            "\n",
            "[FOLD 5] === Epoch 209/400 ===  (LR: 0.000278369)\n"
          ]
        },
        {
          "name": "stderr",
          "output_type": "stream",
          "text": []
        },
        {
          "name": "stdout",
          "output_type": "stream",
          "text": [
            "Train Loss(加權): 2.7915 | Train Raw MAE: 2.7915 | Val MAE: 2.9795\n",
            "\n",
            "[FOLD 5] === Epoch 210/400 ===  (LR: 0.00027622)\n"
          ]
        },
        {
          "name": "stderr",
          "output_type": "stream",
          "text": []
        },
        {
          "name": "stdout",
          "output_type": "stream",
          "text": [
            "Train Loss(加權): 2.7753 | Train Raw MAE: 2.7753 | Val MAE: 3.0035\n",
            "\n",
            "[FOLD 5] === Epoch 211/400 ===  (LR: 0.000274069)\n"
          ]
        },
        {
          "name": "stderr",
          "output_type": "stream",
          "text": []
        },
        {
          "name": "stdout",
          "output_type": "stream",
          "text": [
            "Train Loss(加權): 2.7597 | Train Raw MAE: 2.7597 | Val MAE: 3.0742\n",
            "\n",
            "[FOLD 5] === Epoch 212/400 ===  (LR: 0.000271917)\n"
          ]
        },
        {
          "name": "stderr",
          "output_type": "stream",
          "text": []
        },
        {
          "name": "stdout",
          "output_type": "stream",
          "text": [
            "Train Loss(加權): 2.7490 | Train Raw MAE: 2.7490 | Val MAE: 3.1676\n",
            "\n",
            "[FOLD 5] === Epoch 213/400 ===  (LR: 0.000269763)\n"
          ]
        },
        {
          "name": "stderr",
          "output_type": "stream",
          "text": []
        },
        {
          "name": "stdout",
          "output_type": "stream",
          "text": [
            "Train Loss(加權): 2.7611 | Train Raw MAE: 2.7611 | Val MAE: 2.9610\n",
            "\n",
            "[FOLD 5] === Epoch 214/400 ===  (LR: 0.000267608)\n"
          ]
        },
        {
          "name": "stderr",
          "output_type": "stream",
          "text": []
        },
        {
          "name": "stdout",
          "output_type": "stream",
          "text": [
            "Train Loss(加權): 2.7502 | Train Raw MAE: 2.7502 | Val MAE: 3.2968\n",
            "\n",
            "[FOLD 5] === Epoch 215/400 ===  (LR: 0.000265451)\n"
          ]
        },
        {
          "name": "stderr",
          "output_type": "stream",
          "text": []
        },
        {
          "name": "stdout",
          "output_type": "stream",
          "text": [
            "Train Loss(加權): 2.7186 | Train Raw MAE: 2.7186 | Val MAE: 3.1307\n",
            "\n",
            "[FOLD 5] === Epoch 216/400 ===  (LR: 0.000263294)\n"
          ]
        },
        {
          "name": "stderr",
          "output_type": "stream",
          "text": []
        },
        {
          "name": "stdout",
          "output_type": "stream",
          "text": [
            "Train Loss(加權): 2.7162 | Train Raw MAE: 2.7162 | Val MAE: 3.0903\n",
            "\n",
            "[FOLD 5] === Epoch 217/400 ===  (LR: 0.000261136)\n"
          ]
        },
        {
          "name": "stderr",
          "output_type": "stream",
          "text": []
        },
        {
          "name": "stdout",
          "output_type": "stream",
          "text": [
            "Train Loss(加權): 2.7297 | Train Raw MAE: 2.7297 | Val MAE: 2.9856\n",
            "\n",
            "[FOLD 5] === Epoch 218/400 ===  (LR: 0.000258977)\n"
          ]
        },
        {
          "name": "stderr",
          "output_type": "stream",
          "text": []
        },
        {
          "name": "stdout",
          "output_type": "stream",
          "text": [
            "Train Loss(加權): 2.6971 | Train Raw MAE: 2.6971 | Val MAE: 3.0529\n",
            "\n",
            "[FOLD 5] === Epoch 219/400 ===  (LR: 0.000256818)\n"
          ]
        },
        {
          "name": "stderr",
          "output_type": "stream",
          "text": []
        },
        {
          "name": "stdout",
          "output_type": "stream",
          "text": [
            "Train Loss(加權): 2.6817 | Train Raw MAE: 2.6817 | Val MAE: 2.9431\n",
            "\n",
            "[FOLD 5] === Epoch 220/400 ===  (LR: 0.000254658)\n"
          ]
        },
        {
          "name": "stderr",
          "output_type": "stream",
          "text": []
        },
        {
          "name": "stdout",
          "output_type": "stream",
          "text": [
            "Train Loss(加權): 2.6841 | Train Raw MAE: 2.6841 | Val MAE: 2.9381\n",
            "\n",
            "[FOLD 5] === Epoch 221/400 ===  (LR: 0.000252498)\n"
          ]
        },
        {
          "name": "stderr",
          "output_type": "stream",
          "text": []
        },
        {
          "name": "stdout",
          "output_type": "stream",
          "text": [
            "Train Loss(加權): 2.7135 | Train Raw MAE: 2.7135 | Val MAE: 2.9610\n",
            "\n",
            "[FOLD 5] === Epoch 222/400 ===  (LR: 0.000250339)\n"
          ]
        },
        {
          "name": "stderr",
          "output_type": "stream",
          "text": []
        },
        {
          "name": "stdout",
          "output_type": "stream",
          "text": [
            "Train Loss(加權): 2.6666 | Train Raw MAE: 2.6666 | Val MAE: 3.1410\n",
            "\n",
            "[FOLD 5] === Epoch 223/400 ===  (LR: 0.000248179)\n"
          ]
        },
        {
          "name": "stderr",
          "output_type": "stream",
          "text": []
        },
        {
          "name": "stdout",
          "output_type": "stream",
          "text": [
            "Train Loss(加權): 2.6754 | Train Raw MAE: 2.6754 | Val MAE: 3.0259\n",
            "\n",
            "[FOLD 5] === Epoch 224/400 ===  (LR: 0.00024602)\n"
          ]
        },
        {
          "name": "stderr",
          "output_type": "stream",
          "text": []
        },
        {
          "name": "stdout",
          "output_type": "stream",
          "text": [
            "Train Loss(加權): 2.7078 | Train Raw MAE: 2.7078 | Val MAE: 2.9870\n",
            "\n",
            "[FOLD 5] === Epoch 225/400 ===  (LR: 0.000243861)\n"
          ]
        },
        {
          "name": "stderr",
          "output_type": "stream",
          "text": []
        },
        {
          "name": "stdout",
          "output_type": "stream",
          "text": [
            "Train Loss(加權): 2.7071 | Train Raw MAE: 2.7071 | Val MAE: 2.9894\n",
            "\n",
            "[FOLD 5] === Epoch 226/400 ===  (LR: 0.000241703)\n"
          ]
        },
        {
          "name": "stderr",
          "output_type": "stream",
          "text": []
        },
        {
          "name": "stdout",
          "output_type": "stream",
          "text": [
            "Train Loss(加權): 2.6766 | Train Raw MAE: 2.6766 | Val MAE: 3.3455\n",
            "\n",
            "[FOLD 5] === Epoch 227/400 ===  (LR: 0.000239545)\n"
          ]
        },
        {
          "name": "stderr",
          "output_type": "stream",
          "text": []
        },
        {
          "name": "stdout",
          "output_type": "stream",
          "text": [
            "Train Loss(加權): 2.6526 | Train Raw MAE: 2.6526 | Val MAE: 2.9009\n",
            "🎯 New best Val MAE: 2.9009\n",
            "\n",
            "[FOLD 5] === Epoch 228/400 ===  (LR: 0.000237389)\n"
          ]
        },
        {
          "name": "stderr",
          "output_type": "stream",
          "text": []
        },
        {
          "name": "stdout",
          "output_type": "stream",
          "text": [
            "Train Loss(加權): 2.6742 | Train Raw MAE: 2.6742 | Val MAE: 2.9805\n",
            "\n",
            "[FOLD 5] === Epoch 229/400 ===  (LR: 0.000235234)\n"
          ]
        },
        {
          "name": "stderr",
          "output_type": "stream",
          "text": []
        },
        {
          "name": "stdout",
          "output_type": "stream",
          "text": [
            "Train Loss(加權): 2.6443 | Train Raw MAE: 2.6443 | Val MAE: 3.0482\n",
            "\n",
            "[FOLD 5] === Epoch 230/400 ===  (LR: 0.00023308)\n"
          ]
        },
        {
          "name": "stderr",
          "output_type": "stream",
          "text": []
        },
        {
          "name": "stdout",
          "output_type": "stream",
          "text": [
            "Train Loss(加權): 2.6746 | Train Raw MAE: 2.6746 | Val MAE: 2.9574\n",
            "\n",
            "[FOLD 5] === Epoch 231/400 ===  (LR: 0.000230927)\n"
          ]
        },
        {
          "name": "stderr",
          "output_type": "stream",
          "text": []
        },
        {
          "name": "stdout",
          "output_type": "stream",
          "text": [
            "Train Loss(加權): 2.6364 | Train Raw MAE: 2.6364 | Val MAE: 2.9126\n",
            "\n",
            "[FOLD 5] === Epoch 232/400 ===  (LR: 0.000228777)\n"
          ]
        },
        {
          "name": "stderr",
          "output_type": "stream",
          "text": []
        },
        {
          "name": "stdout",
          "output_type": "stream",
          "text": [
            "Train Loss(加權): 2.5977 | Train Raw MAE: 2.5977 | Val MAE: 2.9897\n",
            "\n",
            "[FOLD 5] === Epoch 233/400 ===  (LR: 0.000226628)\n"
          ]
        },
        {
          "name": "stderr",
          "output_type": "stream",
          "text": []
        },
        {
          "name": "stdout",
          "output_type": "stream",
          "text": [
            "Train Loss(加權): 2.5677 | Train Raw MAE: 2.5677 | Val MAE: 2.9249\n",
            "\n",
            "[FOLD 5] === Epoch 234/400 ===  (LR: 0.000224481)\n"
          ]
        },
        {
          "name": "stderr",
          "output_type": "stream",
          "text": []
        },
        {
          "name": "stdout",
          "output_type": "stream",
          "text": [
            "Train Loss(加權): 2.6003 | Train Raw MAE: 2.6003 | Val MAE: 2.9959\n",
            "\n",
            "[FOLD 5] === Epoch 235/400 ===  (LR: 0.000222336)\n"
          ]
        },
        {
          "name": "stderr",
          "output_type": "stream",
          "text": []
        },
        {
          "name": "stdout",
          "output_type": "stream",
          "text": [
            "Train Loss(加權): 2.5626 | Train Raw MAE: 2.5626 | Val MAE: 2.9616\n",
            "\n",
            "[FOLD 5] === Epoch 236/400 ===  (LR: 0.000220193)\n"
          ]
        },
        {
          "name": "stderr",
          "output_type": "stream",
          "text": []
        },
        {
          "name": "stdout",
          "output_type": "stream",
          "text": [
            "Train Loss(加權): 2.5572 | Train Raw MAE: 2.5572 | Val MAE: 2.9369\n",
            "\n",
            "[FOLD 5] === Epoch 237/400 ===  (LR: 0.000218053)\n"
          ]
        },
        {
          "name": "stderr",
          "output_type": "stream",
          "text": []
        },
        {
          "name": "stdout",
          "output_type": "stream",
          "text": [
            "Train Loss(加權): 2.5380 | Train Raw MAE: 2.5380 | Val MAE: 3.0122\n",
            "\n",
            "[FOLD 5] === Epoch 238/400 ===  (LR: 0.000215916)\n"
          ]
        },
        {
          "name": "stderr",
          "output_type": "stream",
          "text": []
        },
        {
          "name": "stdout",
          "output_type": "stream",
          "text": [
            "Train Loss(加權): 2.5992 | Train Raw MAE: 2.5992 | Val MAE: 3.3912\n",
            "\n",
            "[FOLD 5] === Epoch 239/400 ===  (LR: 0.000213781)\n"
          ]
        },
        {
          "name": "stderr",
          "output_type": "stream",
          "text": []
        },
        {
          "name": "stdout",
          "output_type": "stream",
          "text": [
            "Train Loss(加權): 2.5718 | Train Raw MAE: 2.5718 | Val MAE: 2.9140\n",
            "\n",
            "[FOLD 5] === Epoch 240/400 ===  (LR: 0.000211649)\n"
          ]
        },
        {
          "name": "stderr",
          "output_type": "stream",
          "text": []
        },
        {
          "name": "stdout",
          "output_type": "stream",
          "text": [
            "Train Loss(加權): 2.5851 | Train Raw MAE: 2.5851 | Val MAE: 2.9855\n",
            "\n",
            "[FOLD 5] === Epoch 241/400 ===  (LR: 0.00020952)\n"
          ]
        },
        {
          "name": "stderr",
          "output_type": "stream",
          "text": []
        },
        {
          "name": "stdout",
          "output_type": "stream",
          "text": [
            "Train Loss(加權): 2.5374 | Train Raw MAE: 2.5374 | Val MAE: 2.8637\n",
            "🎯 New best Val MAE: 2.8637\n",
            "\n",
            "[FOLD 5] === Epoch 242/400 ===  (LR: 0.000207395)\n"
          ]
        },
        {
          "name": "stderr",
          "output_type": "stream",
          "text": []
        },
        {
          "name": "stdout",
          "output_type": "stream",
          "text": [
            "Train Loss(加權): 2.5205 | Train Raw MAE: 2.5205 | Val MAE: 3.0863\n",
            "\n",
            "[FOLD 5] === Epoch 243/400 ===  (LR: 0.000205273)\n"
          ]
        },
        {
          "name": "stderr",
          "output_type": "stream",
          "text": []
        },
        {
          "name": "stdout",
          "output_type": "stream",
          "text": [
            "Train Loss(加權): 2.5348 | Train Raw MAE: 2.5348 | Val MAE: 2.8708\n",
            "\n",
            "[FOLD 5] === Epoch 244/400 ===  (LR: 0.000203155)\n"
          ]
        },
        {
          "name": "stderr",
          "output_type": "stream",
          "text": []
        },
        {
          "name": "stdout",
          "output_type": "stream",
          "text": [
            "Train Loss(加權): 2.4981 | Train Raw MAE: 2.4981 | Val MAE: 2.8773\n",
            "\n",
            "[FOLD 5] === Epoch 245/400 ===  (LR: 0.00020104)\n"
          ]
        },
        {
          "name": "stderr",
          "output_type": "stream",
          "text": []
        },
        {
          "name": "stdout",
          "output_type": "stream",
          "text": [
            "Train Loss(加權): 2.5120 | Train Raw MAE: 2.5120 | Val MAE: 3.0386\n",
            "\n",
            "[FOLD 5] === Epoch 246/400 ===  (LR: 0.00019893)\n"
          ]
        },
        {
          "name": "stderr",
          "output_type": "stream",
          "text": []
        },
        {
          "name": "stdout",
          "output_type": "stream",
          "text": [
            "Train Loss(加權): 2.5082 | Train Raw MAE: 2.5082 | Val MAE: 2.8303\n",
            "🎯 New best Val MAE: 2.8303\n",
            "\n",
            "[FOLD 5] === Epoch 247/400 ===  (LR: 0.000196823)\n"
          ]
        },
        {
          "name": "stderr",
          "output_type": "stream",
          "text": []
        },
        {
          "name": "stdout",
          "output_type": "stream",
          "text": [
            "Train Loss(加權): 2.5173 | Train Raw MAE: 2.5173 | Val MAE: 2.9160\n",
            "\n",
            "[FOLD 5] === Epoch 248/400 ===  (LR: 0.000194721)\n"
          ]
        },
        {
          "name": "stderr",
          "output_type": "stream",
          "text": []
        },
        {
          "name": "stdout",
          "output_type": "stream",
          "text": [
            "Train Loss(加權): 2.5259 | Train Raw MAE: 2.5259 | Val MAE: 2.9494\n",
            "\n",
            "[FOLD 5] === Epoch 249/400 ===  (LR: 0.000192623)\n"
          ]
        },
        {
          "name": "stderr",
          "output_type": "stream",
          "text": []
        },
        {
          "name": "stdout",
          "output_type": "stream",
          "text": [
            "Train Loss(加權): 2.4579 | Train Raw MAE: 2.4579 | Val MAE: 2.8364\n",
            "\n",
            "[FOLD 5] === Epoch 250/400 ===  (LR: 0.000190529)\n"
          ]
        },
        {
          "name": "stderr",
          "output_type": "stream",
          "text": []
        },
        {
          "name": "stdout",
          "output_type": "stream",
          "text": [
            "Train Loss(加權): 2.5289 | Train Raw MAE: 2.5289 | Val MAE: 3.0484\n",
            "\n",
            "[FOLD 5] === Epoch 251/400 ===  (LR: 0.000188441)\n"
          ]
        },
        {
          "name": "stderr",
          "output_type": "stream",
          "text": []
        },
        {
          "name": "stdout",
          "output_type": "stream",
          "text": [
            "Train Loss(加權): 2.4837 | Train Raw MAE: 2.4837 | Val MAE: 3.1760\n",
            "\n",
            "[FOLD 5] === Epoch 252/400 ===  (LR: 0.000186357)\n"
          ]
        },
        {
          "name": "stderr",
          "output_type": "stream",
          "text": []
        },
        {
          "name": "stdout",
          "output_type": "stream",
          "text": [
            "Train Loss(加權): 2.4712 | Train Raw MAE: 2.4712 | Val MAE: 3.0799\n",
            "\n",
            "[FOLD 5] === Epoch 253/400 ===  (LR: 0.000184278)\n"
          ]
        },
        {
          "name": "stderr",
          "output_type": "stream",
          "text": []
        },
        {
          "name": "stdout",
          "output_type": "stream",
          "text": [
            "Train Loss(加權): 2.4728 | Train Raw MAE: 2.4728 | Val MAE: 2.8915\n",
            "\n",
            "[FOLD 5] === Epoch 254/400 ===  (LR: 0.000182205)\n"
          ]
        },
        {
          "name": "stderr",
          "output_type": "stream",
          "text": []
        },
        {
          "name": "stdout",
          "output_type": "stream",
          "text": [
            "Train Loss(加權): 2.4148 | Train Raw MAE: 2.4148 | Val MAE: 3.0940\n",
            "\n",
            "[FOLD 5] === Epoch 255/400 ===  (LR: 0.000180136)\n"
          ]
        },
        {
          "name": "stderr",
          "output_type": "stream",
          "text": []
        },
        {
          "name": "stdout",
          "output_type": "stream",
          "text": [
            "Train Loss(加權): 2.4503 | Train Raw MAE: 2.4503 | Val MAE: 3.0973\n",
            "\n",
            "[FOLD 5] === Epoch 256/400 ===  (LR: 0.000178074)\n"
          ]
        },
        {
          "name": "stderr",
          "output_type": "stream",
          "text": []
        },
        {
          "name": "stdout",
          "output_type": "stream",
          "text": [
            "Train Loss(加權): 2.4823 | Train Raw MAE: 2.4823 | Val MAE: 2.8445\n",
            "\n",
            "[FOLD 5] === Epoch 257/400 ===  (LR: 0.000176017)\n"
          ]
        },
        {
          "name": "stderr",
          "output_type": "stream",
          "text": []
        },
        {
          "name": "stdout",
          "output_type": "stream",
          "text": [
            "Train Loss(加權): 2.4544 | Train Raw MAE: 2.4544 | Val MAE: 2.8340\n",
            "\n",
            "[FOLD 5] === Epoch 258/400 ===  (LR: 0.000173966)\n"
          ]
        },
        {
          "name": "stderr",
          "output_type": "stream",
          "text": []
        },
        {
          "name": "stdout",
          "output_type": "stream",
          "text": [
            "Train Loss(加權): 2.4244 | Train Raw MAE: 2.4244 | Val MAE: 3.0430\n",
            "\n",
            "[FOLD 5] === Epoch 259/400 ===  (LR: 0.00017192)\n"
          ]
        },
        {
          "name": "stderr",
          "output_type": "stream",
          "text": []
        },
        {
          "name": "stdout",
          "output_type": "stream",
          "text": [
            "Train Loss(加權): 2.4236 | Train Raw MAE: 2.4236 | Val MAE: 2.9783\n",
            "\n",
            "[FOLD 5] === Epoch 260/400 ===  (LR: 0.000169881)\n"
          ]
        },
        {
          "name": "stderr",
          "output_type": "stream",
          "text": []
        },
        {
          "name": "stdout",
          "output_type": "stream",
          "text": [
            "Train Loss(加權): 2.4110 | Train Raw MAE: 2.4110 | Val MAE: 2.9634\n",
            "\n",
            "[FOLD 5] === Epoch 261/400 ===  (LR: 0.000167848)\n"
          ]
        },
        {
          "name": "stderr",
          "output_type": "stream",
          "text": []
        },
        {
          "name": "stdout",
          "output_type": "stream",
          "text": [
            "Train Loss(加權): 2.3791 | Train Raw MAE: 2.3791 | Val MAE: 2.9816\n",
            "\n",
            "[FOLD 5] === Epoch 262/400 ===  (LR: 0.000165822)\n"
          ]
        },
        {
          "name": "stderr",
          "output_type": "stream",
          "text": []
        },
        {
          "name": "stdout",
          "output_type": "stream",
          "text": [
            "Train Loss(加權): 2.4197 | Train Raw MAE: 2.4197 | Val MAE: 2.8620\n",
            "\n",
            "[FOLD 5] === Epoch 263/400 ===  (LR: 0.000163802)\n"
          ]
        },
        {
          "name": "stderr",
          "output_type": "stream",
          "text": []
        },
        {
          "name": "stdout",
          "output_type": "stream",
          "text": [
            "Train Loss(加權): 2.3977 | Train Raw MAE: 2.3977 | Val MAE: 2.9576\n",
            "\n",
            "[FOLD 5] === Epoch 264/400 ===  (LR: 0.000161789)\n"
          ]
        },
        {
          "name": "stderr",
          "output_type": "stream",
          "text": []
        },
        {
          "name": "stdout",
          "output_type": "stream",
          "text": [
            "Train Loss(加權): 2.4255 | Train Raw MAE: 2.4255 | Val MAE: 2.9027\n",
            "\n",
            "[FOLD 5] === Epoch 265/400 ===  (LR: 0.000159783)\n"
          ]
        },
        {
          "name": "stderr",
          "output_type": "stream",
          "text": []
        },
        {
          "name": "stdout",
          "output_type": "stream",
          "text": [
            "Train Loss(加權): 2.4022 | Train Raw MAE: 2.4022 | Val MAE: 2.9653\n",
            "\n",
            "[FOLD 5] === Epoch 266/400 ===  (LR: 0.000157784)\n"
          ]
        },
        {
          "name": "stderr",
          "output_type": "stream",
          "text": []
        },
        {
          "name": "stdout",
          "output_type": "stream",
          "text": [
            "Train Loss(加權): 2.3890 | Train Raw MAE: 2.3890 | Val MAE: 2.9668\n",
            "\n",
            "[FOLD 5] === Epoch 267/400 ===  (LR: 0.000155793)\n"
          ]
        },
        {
          "name": "stderr",
          "output_type": "stream",
          "text": []
        },
        {
          "name": "stdout",
          "output_type": "stream",
          "text": [
            "Train Loss(加權): 2.3530 | Train Raw MAE: 2.3530 | Val MAE: 3.0721\n",
            "\n",
            "[FOLD 5] === Epoch 268/400 ===  (LR: 0.000153808)\n"
          ]
        },
        {
          "name": "stderr",
          "output_type": "stream",
          "text": []
        },
        {
          "name": "stdout",
          "output_type": "stream",
          "text": [
            "Train Loss(加權): 2.3644 | Train Raw MAE: 2.3644 | Val MAE: 3.0657\n",
            "\n",
            "[FOLD 5] === Epoch 269/400 ===  (LR: 0.000151831)\n"
          ]
        },
        {
          "name": "stderr",
          "output_type": "stream",
          "text": []
        },
        {
          "name": "stdout",
          "output_type": "stream",
          "text": [
            "Train Loss(加權): 2.3585 | Train Raw MAE: 2.3585 | Val MAE: 2.8769\n",
            "\n",
            "[FOLD 5] === Epoch 270/400 ===  (LR: 0.000149862)\n"
          ]
        },
        {
          "name": "stderr",
          "output_type": "stream",
          "text": []
        },
        {
          "name": "stdout",
          "output_type": "stream",
          "text": [
            "Train Loss(加權): 2.3390 | Train Raw MAE: 2.3390 | Val MAE: 2.9116\n",
            "\n",
            "[FOLD 5] === Epoch 271/400 ===  (LR: 0.0001479)\n"
          ]
        },
        {
          "name": "stderr",
          "output_type": "stream",
          "text": []
        },
        {
          "name": "stdout",
          "output_type": "stream",
          "text": [
            "Train Loss(加權): 2.3591 | Train Raw MAE: 2.3591 | Val MAE: 2.8896\n",
            "\n",
            "[FOLD 5] === Epoch 272/400 ===  (LR: 0.000145947)\n"
          ]
        },
        {
          "name": "stderr",
          "output_type": "stream",
          "text": []
        },
        {
          "name": "stdout",
          "output_type": "stream",
          "text": [
            "Train Loss(加權): 2.3192 | Train Raw MAE: 2.3192 | Val MAE: 3.0718\n",
            "\n",
            "[FOLD 5] === Epoch 273/400 ===  (LR: 0.000144002)\n"
          ]
        },
        {
          "name": "stderr",
          "output_type": "stream",
          "text": []
        },
        {
          "name": "stdout",
          "output_type": "stream",
          "text": [
            "Train Loss(加權): 2.3183 | Train Raw MAE: 2.3183 | Val MAE: 3.0107\n",
            "\n",
            "[FOLD 5] === Epoch 274/400 ===  (LR: 0.000142065)\n"
          ]
        },
        {
          "name": "stderr",
          "output_type": "stream",
          "text": []
        },
        {
          "name": "stdout",
          "output_type": "stream",
          "text": [
            "Train Loss(加權): 2.3359 | Train Raw MAE: 2.3359 | Val MAE: 2.9653\n",
            "\n",
            "[FOLD 5] === Epoch 275/400 ===  (LR: 0.000140136)\n"
          ]
        },
        {
          "name": "stderr",
          "output_type": "stream",
          "text": []
        },
        {
          "name": "stdout",
          "output_type": "stream",
          "text": [
            "Train Loss(加權): 2.3267 | Train Raw MAE: 2.3267 | Val MAE: 2.9763\n",
            "\n",
            "[FOLD 5] === Epoch 276/400 ===  (LR: 0.000138216)\n"
          ]
        },
        {
          "name": "stderr",
          "output_type": "stream",
          "text": []
        },
        {
          "name": "stdout",
          "output_type": "stream",
          "text": [
            "Train Loss(加權): 2.3475 | Train Raw MAE: 2.3475 | Val MAE: 2.9507\n",
            "\n",
            "[FOLD 5] === Epoch 277/400 ===  (LR: 0.000136304)\n"
          ]
        },
        {
          "name": "stderr",
          "output_type": "stream",
          "text": []
        },
        {
          "name": "stdout",
          "output_type": "stream",
          "text": [
            "Train Loss(加權): 2.3240 | Train Raw MAE: 2.3240 | Val MAE: 2.9210\n",
            "\n",
            "[FOLD 5] === Epoch 278/400 ===  (LR: 0.000134402)\n"
          ]
        },
        {
          "name": "stderr",
          "output_type": "stream",
          "text": []
        },
        {
          "name": "stdout",
          "output_type": "stream",
          "text": [
            "Train Loss(加權): 2.3230 | Train Raw MAE: 2.3230 | Val MAE: 2.9143\n",
            "\n",
            "[FOLD 5] === Epoch 279/400 ===  (LR: 0.000132508)\n"
          ]
        },
        {
          "name": "stderr",
          "output_type": "stream",
          "text": []
        },
        {
          "name": "stdout",
          "output_type": "stream",
          "text": [
            "Train Loss(加權): 2.2974 | Train Raw MAE: 2.2974 | Val MAE: 2.9416\n",
            "\n",
            "[FOLD 5] === Epoch 280/400 ===  (LR: 0.000130624)\n"
          ]
        },
        {
          "name": "stderr",
          "output_type": "stream",
          "text": []
        },
        {
          "name": "stdout",
          "output_type": "stream",
          "text": [
            "Train Loss(加權): 2.2835 | Train Raw MAE: 2.2835 | Val MAE: 3.0286\n",
            "\n",
            "[FOLD 5] === Epoch 281/400 ===  (LR: 0.000128749)\n"
          ]
        },
        {
          "name": "stderr",
          "output_type": "stream",
          "text": []
        },
        {
          "name": "stdout",
          "output_type": "stream",
          "text": [
            "Train Loss(加權): 2.3463 | Train Raw MAE: 2.3463 | Val MAE: 3.0029\n",
            "\n",
            "[FOLD 5] === Epoch 282/400 ===  (LR: 0.000126883)\n"
          ]
        },
        {
          "name": "stderr",
          "output_type": "stream",
          "text": []
        },
        {
          "name": "stdout",
          "output_type": "stream",
          "text": [
            "Train Loss(加權): 2.2954 | Train Raw MAE: 2.2954 | Val MAE: 2.9602\n",
            "\n",
            "[FOLD 5] === Epoch 283/400 ===  (LR: 0.000125027)\n"
          ]
        },
        {
          "name": "stderr",
          "output_type": "stream",
          "text": []
        },
        {
          "name": "stdout",
          "output_type": "stream",
          "text": [
            "Train Loss(加權): 2.2722 | Train Raw MAE: 2.2722 | Val MAE: 3.0066\n",
            "\n",
            "[FOLD 5] === Epoch 284/400 ===  (LR: 0.00012318)\n"
          ]
        },
        {
          "name": "stderr",
          "output_type": "stream",
          "text": []
        },
        {
          "name": "stdout",
          "output_type": "stream",
          "text": [
            "Train Loss(加權): 2.2509 | Train Raw MAE: 2.2509 | Val MAE: 2.9931\n",
            "\n",
            "[FOLD 5] === Epoch 285/400 ===  (LR: 0.000121344)\n"
          ]
        },
        {
          "name": "stderr",
          "output_type": "stream",
          "text": []
        },
        {
          "name": "stdout",
          "output_type": "stream",
          "text": [
            "Train Loss(加權): 2.2890 | Train Raw MAE: 2.2890 | Val MAE: 2.9569\n",
            "\n",
            "[FOLD 5] === Epoch 286/400 ===  (LR: 0.000119517)\n"
          ]
        },
        {
          "name": "stderr",
          "output_type": "stream",
          "text": []
        },
        {
          "name": "stdout",
          "output_type": "stream",
          "text": [
            "Train Loss(加權): 2.2458 | Train Raw MAE: 2.2458 | Val MAE: 2.9319\n",
            "\n",
            "[FOLD 5] === Epoch 287/400 ===  (LR: 0.0001177)\n"
          ]
        },
        {
          "name": "stderr",
          "output_type": "stream",
          "text": []
        },
        {
          "name": "stdout",
          "output_type": "stream",
          "text": [
            "Train Loss(加權): 2.2475 | Train Raw MAE: 2.2475 | Val MAE: 3.0235\n",
            "\n",
            "[FOLD 5] === Epoch 288/400 ===  (LR: 0.000115894)\n"
          ]
        },
        {
          "name": "stderr",
          "output_type": "stream",
          "text": []
        },
        {
          "name": "stdout",
          "output_type": "stream",
          "text": [
            "Train Loss(加權): 2.2430 | Train Raw MAE: 2.2430 | Val MAE: 2.8415\n",
            "\n",
            "[FOLD 5] === Epoch 289/400 ===  (LR: 0.000114098)\n"
          ]
        },
        {
          "name": "stderr",
          "output_type": "stream",
          "text": []
        },
        {
          "name": "stdout",
          "output_type": "stream",
          "text": [
            "Train Loss(加權): 2.2270 | Train Raw MAE: 2.2270 | Val MAE: 3.0102\n",
            "\n",
            "[FOLD 5] === Epoch 290/400 ===  (LR: 0.000112313)\n"
          ]
        },
        {
          "name": "stderr",
          "output_type": "stream",
          "text": []
        },
        {
          "name": "stdout",
          "output_type": "stream",
          "text": [
            "Train Loss(加權): 2.2640 | Train Raw MAE: 2.2640 | Val MAE: 2.9178\n",
            "\n",
            "[FOLD 5] === Epoch 291/400 ===  (LR: 0.000110538)\n"
          ]
        },
        {
          "name": "stderr",
          "output_type": "stream",
          "text": []
        },
        {
          "name": "stdout",
          "output_type": "stream",
          "text": [
            "Train Loss(加權): 2.2361 | Train Raw MAE: 2.2361 | Val MAE: 3.0623\n",
            "\n",
            "[FOLD 5] === Epoch 292/400 ===  (LR: 0.000108775)\n"
          ]
        },
        {
          "name": "stderr",
          "output_type": "stream",
          "text": []
        },
        {
          "name": "stdout",
          "output_type": "stream",
          "text": [
            "Train Loss(加權): 2.2699 | Train Raw MAE: 2.2699 | Val MAE: 2.8508\n",
            "\n",
            "[FOLD 5] === Epoch 293/400 ===  (LR: 0.000107022)\n"
          ]
        },
        {
          "name": "stderr",
          "output_type": "stream",
          "text": []
        },
        {
          "name": "stdout",
          "output_type": "stream",
          "text": [
            "Train Loss(加權): 2.2107 | Train Raw MAE: 2.2107 | Val MAE: 2.9535\n",
            "\n",
            "[FOLD 5] === Epoch 294/400 ===  (LR: 0.00010528)\n"
          ]
        },
        {
          "name": "stderr",
          "output_type": "stream",
          "text": []
        },
        {
          "name": "stdout",
          "output_type": "stream",
          "text": [
            "Train Loss(加權): 2.2061 | Train Raw MAE: 2.2061 | Val MAE: 2.9055\n",
            "\n",
            "[FOLD 5] === Epoch 295/400 ===  (LR: 0.000103549)\n"
          ]
        },
        {
          "name": "stderr",
          "output_type": "stream",
          "text": []
        },
        {
          "name": "stdout",
          "output_type": "stream",
          "text": [
            "Train Loss(加權): 2.2300 | Train Raw MAE: 2.2300 | Val MAE: 2.9286\n",
            "\n",
            "[FOLD 5] === Epoch 296/400 ===  (LR: 0.00010183)\n"
          ]
        },
        {
          "name": "stderr",
          "output_type": "stream",
          "text": []
        },
        {
          "name": "stdout",
          "output_type": "stream",
          "text": [
            "Train Loss(加權): 2.2265 | Train Raw MAE: 2.2265 | Val MAE: 2.8638\n",
            "\n",
            "[FOLD 5] === Epoch 297/400 ===  (LR: 0.000100122)\n"
          ]
        },
        {
          "name": "stderr",
          "output_type": "stream",
          "text": []
        },
        {
          "name": "stdout",
          "output_type": "stream",
          "text": [
            "Train Loss(加權): 2.2186 | Train Raw MAE: 2.2186 | Val MAE: 2.9282\n",
            "\n",
            "[FOLD 5] === Epoch 298/400 ===  (LR: 9.84263e-05)\n"
          ]
        },
        {
          "name": "stderr",
          "output_type": "stream",
          "text": []
        },
        {
          "name": "stdout",
          "output_type": "stream",
          "text": [
            "Train Loss(加權): 2.2476 | Train Raw MAE: 2.2476 | Val MAE: 2.9780\n",
            "\n",
            "[FOLD 5] === Epoch 299/400 ===  (LR: 9.67419e-05)\n"
          ]
        },
        {
          "name": "stderr",
          "output_type": "stream",
          "text": []
        },
        {
          "name": "stdout",
          "output_type": "stream",
          "text": [
            "Train Loss(加權): 2.2061 | Train Raw MAE: 2.2061 | Val MAE: 2.8989\n",
            "\n",
            "[FOLD 5] === Epoch 300/400 ===  (LR: 9.50694e-05)\n"
          ]
        },
        {
          "name": "stderr",
          "output_type": "stream",
          "text": []
        },
        {
          "name": "stdout",
          "output_type": "stream",
          "text": [
            "Train Loss(加權): 2.1973 | Train Raw MAE: 2.1973 | Val MAE: 2.9547\n",
            "\n",
            "[FOLD 5] === Epoch 301/400 ===  (LR: 9.34088e-05)\n"
          ]
        },
        {
          "name": "stderr",
          "output_type": "stream",
          "text": []
        },
        {
          "name": "stdout",
          "output_type": "stream",
          "text": [
            "Train Loss(加權): 2.1968 | Train Raw MAE: 2.1968 | Val MAE: 2.9967\n",
            "\n",
            "[FOLD 5] === Epoch 302/400 ===  (LR: 9.17603e-05)\n"
          ]
        },
        {
          "name": "stderr",
          "output_type": "stream",
          "text": []
        },
        {
          "name": "stdout",
          "output_type": "stream",
          "text": [
            "Train Loss(加權): 2.1919 | Train Raw MAE: 2.1919 | Val MAE: 2.9613\n",
            "\n",
            "[FOLD 5] === Epoch 303/400 ===  (LR: 9.01241e-05)\n"
          ]
        },
        {
          "name": "stderr",
          "output_type": "stream",
          "text": []
        },
        {
          "name": "stdout",
          "output_type": "stream",
          "text": [
            "Train Loss(加權): 2.1849 | Train Raw MAE: 2.1849 | Val MAE: 2.8999\n",
            "\n",
            "[FOLD 5] === Epoch 304/400 ===  (LR: 8.85003e-05)\n"
          ]
        },
        {
          "name": "stderr",
          "output_type": "stream",
          "text": []
        },
        {
          "name": "stdout",
          "output_type": "stream",
          "text": [
            "Train Loss(加權): 2.1812 | Train Raw MAE: 2.1812 | Val MAE: 2.9968\n",
            "\n",
            "[FOLD 5] === Epoch 305/400 ===  (LR: 8.68889e-05)\n"
          ]
        },
        {
          "name": "stderr",
          "output_type": "stream",
          "text": []
        },
        {
          "name": "stdout",
          "output_type": "stream",
          "text": [
            "Train Loss(加權): 2.1681 | Train Raw MAE: 2.1681 | Val MAE: 2.8502\n",
            "\n",
            "[FOLD 5] === Epoch 306/400 ===  (LR: 8.52902e-05)\n"
          ]
        },
        {
          "name": "stderr",
          "output_type": "stream",
          "text": []
        },
        {
          "name": "stdout",
          "output_type": "stream",
          "text": [
            "Train Loss(加權): 2.1755 | Train Raw MAE: 2.1755 | Val MAE: 2.8603\n",
            "\n",
            "[FOLD 5] === Epoch 307/400 ===  (LR: 8.37042e-05)\n"
          ]
        },
        {
          "name": "stderr",
          "output_type": "stream",
          "text": []
        },
        {
          "name": "stdout",
          "output_type": "stream",
          "text": [
            "Train Loss(加權): 2.1496 | Train Raw MAE: 2.1496 | Val MAE: 2.8947\n",
            "\n",
            "[FOLD 5] === Epoch 308/400 ===  (LR: 8.2131e-05)\n"
          ]
        },
        {
          "name": "stderr",
          "output_type": "stream",
          "text": []
        },
        {
          "name": "stdout",
          "output_type": "stream",
          "text": [
            "Train Loss(加權): 2.1277 | Train Raw MAE: 2.1277 | Val MAE: 2.8744\n",
            "\n",
            "[FOLD 5] === Epoch 309/400 ===  (LR: 8.05709e-05)\n"
          ]
        },
        {
          "name": "stderr",
          "output_type": "stream",
          "text": []
        },
        {
          "name": "stdout",
          "output_type": "stream",
          "text": [
            "Train Loss(加權): 2.1255 | Train Raw MAE: 2.1255 | Val MAE: 2.9354\n",
            "\n",
            "[FOLD 5] === Epoch 310/400 ===  (LR: 7.90238e-05)\n"
          ]
        },
        {
          "name": "stderr",
          "output_type": "stream",
          "text": []
        },
        {
          "name": "stdout",
          "output_type": "stream",
          "text": [
            "Train Loss(加權): 2.1420 | Train Raw MAE: 2.1420 | Val MAE: 2.8636\n",
            "\n",
            "[FOLD 5] === Epoch 311/400 ===  (LR: 7.74899e-05)\n"
          ]
        },
        {
          "name": "stderr",
          "output_type": "stream",
          "text": []
        },
        {
          "name": "stdout",
          "output_type": "stream",
          "text": [
            "Train Loss(加權): 2.1299 | Train Raw MAE: 2.1299 | Val MAE: 2.9844\n",
            "\n",
            "[FOLD 5] === Epoch 312/400 ===  (LR: 7.59694e-05)\n"
          ]
        },
        {
          "name": "stderr",
          "output_type": "stream",
          "text": []
        },
        {
          "name": "stdout",
          "output_type": "stream",
          "text": [
            "Train Loss(加權): 2.1484 | Train Raw MAE: 2.1484 | Val MAE: 2.8742\n",
            "\n",
            "[FOLD 5] === Epoch 313/400 ===  (LR: 7.44622e-05)\n"
          ]
        },
        {
          "name": "stderr",
          "output_type": "stream",
          "text": []
        },
        {
          "name": "stdout",
          "output_type": "stream",
          "text": [
            "Train Loss(加權): 2.1769 | Train Raw MAE: 2.1769 | Val MAE: 2.8246\n",
            "🎯 New best Val MAE: 2.8246\n",
            "\n",
            "[FOLD 5] === Epoch 314/400 ===  (LR: 7.29687e-05)\n"
          ]
        },
        {
          "name": "stderr",
          "output_type": "stream",
          "text": []
        },
        {
          "name": "stdout",
          "output_type": "stream",
          "text": [
            "Train Loss(加權): 2.1390 | Train Raw MAE: 2.1390 | Val MAE: 2.9006\n",
            "\n",
            "[FOLD 5] === Epoch 315/400 ===  (LR: 7.14888e-05)\n"
          ]
        },
        {
          "name": "stderr",
          "output_type": "stream",
          "text": []
        },
        {
          "name": "stdout",
          "output_type": "stream",
          "text": [
            "Train Loss(加權): 2.1333 | Train Raw MAE: 2.1333 | Val MAE: 2.9314\n",
            "\n",
            "[FOLD 5] === Epoch 316/400 ===  (LR: 7.00227e-05)\n"
          ]
        },
        {
          "name": "stderr",
          "output_type": "stream",
          "text": []
        },
        {
          "name": "stdout",
          "output_type": "stream",
          "text": [
            "Train Loss(加權): 2.1196 | Train Raw MAE: 2.1196 | Val MAE: 2.8737\n",
            "\n",
            "[FOLD 5] === Epoch 317/400 ===  (LR: 6.85705e-05)\n"
          ]
        },
        {
          "name": "stderr",
          "output_type": "stream",
          "text": []
        },
        {
          "name": "stdout",
          "output_type": "stream",
          "text": [
            "Train Loss(加權): 2.1145 | Train Raw MAE: 2.1145 | Val MAE: 2.8755\n",
            "\n",
            "[FOLD 5] === Epoch 318/400 ===  (LR: 6.71324e-05)\n"
          ]
        },
        {
          "name": "stderr",
          "output_type": "stream",
          "text": []
        },
        {
          "name": "stdout",
          "output_type": "stream",
          "text": [
            "Train Loss(加權): 2.1004 | Train Raw MAE: 2.1004 | Val MAE: 2.9039\n",
            "\n",
            "[FOLD 5] === Epoch 319/400 ===  (LR: 6.57083e-05)\n"
          ]
        },
        {
          "name": "stderr",
          "output_type": "stream",
          "text": []
        },
        {
          "name": "stdout",
          "output_type": "stream",
          "text": [
            "Train Loss(加權): 2.0963 | Train Raw MAE: 2.0963 | Val MAE: 2.9428\n",
            "\n",
            "[FOLD 5] === Epoch 320/400 ===  (LR: 6.42984e-05)\n"
          ]
        },
        {
          "name": "stderr",
          "output_type": "stream",
          "text": []
        },
        {
          "name": "stdout",
          "output_type": "stream",
          "text": [
            "Train Loss(加權): 2.1224 | Train Raw MAE: 2.1224 | Val MAE: 2.9210\n",
            "\n",
            "[FOLD 5] === Epoch 321/400 ===  (LR: 6.29029e-05)\n"
          ]
        },
        {
          "name": "stderr",
          "output_type": "stream",
          "text": []
        },
        {
          "name": "stdout",
          "output_type": "stream",
          "text": [
            "Train Loss(加權): 2.0879 | Train Raw MAE: 2.0879 | Val MAE: 2.8785\n",
            "\n",
            "[FOLD 5] === Epoch 322/400 ===  (LR: 6.15219e-05)\n"
          ]
        },
        {
          "name": "stderr",
          "output_type": "stream",
          "text": []
        },
        {
          "name": "stdout",
          "output_type": "stream",
          "text": [
            "Train Loss(加權): 2.1097 | Train Raw MAE: 2.1097 | Val MAE: 2.8383\n",
            "\n",
            "[FOLD 5] === Epoch 323/400 ===  (LR: 6.01553e-05)\n"
          ]
        },
        {
          "name": "stderr",
          "output_type": "stream",
          "text": []
        },
        {
          "name": "stdout",
          "output_type": "stream",
          "text": [
            "Train Loss(加權): 2.0891 | Train Raw MAE: 2.0891 | Val MAE: 2.8841\n",
            "\n",
            "[FOLD 5] === Epoch 324/400 ===  (LR: 5.88034e-05)\n"
          ]
        },
        {
          "name": "stderr",
          "output_type": "stream",
          "text": []
        },
        {
          "name": "stdout",
          "output_type": "stream",
          "text": [
            "Train Loss(加權): 2.0867 | Train Raw MAE: 2.0867 | Val MAE: 2.8548\n",
            "\n",
            "[FOLD 5] === Epoch 325/400 ===  (LR: 5.74663e-05)\n"
          ]
        },
        {
          "name": "stderr",
          "output_type": "stream",
          "text": []
        },
        {
          "name": "stdout",
          "output_type": "stream",
          "text": [
            "Train Loss(加權): 2.0705 | Train Raw MAE: 2.0705 | Val MAE: 2.9697\n",
            "\n",
            "[FOLD 5] === Epoch 326/400 ===  (LR: 5.6144e-05)\n"
          ]
        },
        {
          "name": "stderr",
          "output_type": "stream",
          "text": []
        },
        {
          "name": "stdout",
          "output_type": "stream",
          "text": [
            "Train Loss(加權): 2.0937 | Train Raw MAE: 2.0937 | Val MAE: 2.9415\n",
            "\n",
            "[FOLD 5] === Epoch 327/400 ===  (LR: 5.48367e-05)\n"
          ]
        },
        {
          "name": "stderr",
          "output_type": "stream",
          "text": []
        },
        {
          "name": "stdout",
          "output_type": "stream",
          "text": [
            "Train Loss(加權): 2.0822 | Train Raw MAE: 2.0822 | Val MAE: 2.9307\n",
            "\n",
            "[FOLD 5] === Epoch 328/400 ===  (LR: 5.35444e-05)\n"
          ]
        },
        {
          "name": "stderr",
          "output_type": "stream",
          "text": []
        },
        {
          "name": "stdout",
          "output_type": "stream",
          "text": [
            "Train Loss(加權): 2.0876 | Train Raw MAE: 2.0876 | Val MAE: 2.8505\n",
            "\n",
            "[FOLD 5] === Epoch 329/400 ===  (LR: 5.22673e-05)\n"
          ]
        },
        {
          "name": "stderr",
          "output_type": "stream",
          "text": []
        },
        {
          "name": "stdout",
          "output_type": "stream",
          "text": [
            "Train Loss(加權): 2.0669 | Train Raw MAE: 2.0669 | Val MAE: 2.9472\n",
            "\n",
            "[FOLD 5] === Epoch 330/400 ===  (LR: 5.10054e-05)\n"
          ]
        },
        {
          "name": "stderr",
          "output_type": "stream",
          "text": []
        },
        {
          "name": "stdout",
          "output_type": "stream",
          "text": [
            "Train Loss(加權): 2.0459 | Train Raw MAE: 2.0459 | Val MAE: 2.9615\n",
            "\n",
            "[FOLD 5] === Epoch 331/400 ===  (LR: 4.97589e-05)\n"
          ]
        },
        {
          "name": "stderr",
          "output_type": "stream",
          "text": []
        },
        {
          "name": "stdout",
          "output_type": "stream",
          "text": [
            "Train Loss(加權): 2.0733 | Train Raw MAE: 2.0733 | Val MAE: 2.8735\n",
            "\n",
            "[FOLD 5] === Epoch 332/400 ===  (LR: 4.85278e-05)\n"
          ]
        },
        {
          "name": "stderr",
          "output_type": "stream",
          "text": []
        },
        {
          "name": "stdout",
          "output_type": "stream",
          "text": [
            "Train Loss(加權): 2.0646 | Train Raw MAE: 2.0646 | Val MAE: 2.8918\n",
            "\n",
            "[FOLD 5] === Epoch 333/400 ===  (LR: 4.73123e-05)\n"
          ]
        },
        {
          "name": "stderr",
          "output_type": "stream",
          "text": []
        },
        {
          "name": "stdout",
          "output_type": "stream",
          "text": [
            "Train Loss(加權): 2.0504 | Train Raw MAE: 2.0504 | Val MAE: 2.9132\n",
            "\n",
            "[FOLD 5] === Epoch 334/400 ===  (LR: 4.61123e-05)\n"
          ]
        },
        {
          "name": "stderr",
          "output_type": "stream",
          "text": []
        },
        {
          "name": "stdout",
          "output_type": "stream",
          "text": [
            "Train Loss(加權): 2.0936 | Train Raw MAE: 2.0936 | Val MAE: 2.9428\n",
            "\n",
            "[FOLD 5] === Epoch 335/400 ===  (LR: 4.49281e-05)\n"
          ]
        },
        {
          "name": "stderr",
          "output_type": "stream",
          "text": []
        },
        {
          "name": "stdout",
          "output_type": "stream",
          "text": [
            "Train Loss(加權): 2.0703 | Train Raw MAE: 2.0703 | Val MAE: 2.9953\n",
            "\n",
            "[FOLD 5] === Epoch 336/400 ===  (LR: 4.37597e-05)\n"
          ]
        },
        {
          "name": "stderr",
          "output_type": "stream",
          "text": []
        },
        {
          "name": "stdout",
          "output_type": "stream",
          "text": [
            "Train Loss(加權): 2.0471 | Train Raw MAE: 2.0471 | Val MAE: 2.9033\n",
            "\n",
            "[FOLD 5] === Epoch 337/400 ===  (LR: 4.26072e-05)\n"
          ]
        },
        {
          "name": "stderr",
          "output_type": "stream",
          "text": []
        },
        {
          "name": "stdout",
          "output_type": "stream",
          "text": [
            "Train Loss(加權): 2.0343 | Train Raw MAE: 2.0343 | Val MAE: 2.8613\n",
            "\n",
            "[FOLD 5] === Epoch 338/400 ===  (LR: 4.14707e-05)\n"
          ]
        },
        {
          "name": "stderr",
          "output_type": "stream",
          "text": []
        },
        {
          "name": "stdout",
          "output_type": "stream",
          "text": [
            "Train Loss(加權): 2.0241 | Train Raw MAE: 2.0241 | Val MAE: 2.8790\n",
            "\n",
            "[FOLD 5] === Epoch 339/400 ===  (LR: 4.03502e-05)\n"
          ]
        },
        {
          "name": "stderr",
          "output_type": "stream",
          "text": []
        },
        {
          "name": "stdout",
          "output_type": "stream",
          "text": [
            "Train Loss(加權): 2.0204 | Train Raw MAE: 2.0204 | Val MAE: 2.8913\n",
            "\n",
            "[FOLD 5] === Epoch 340/400 ===  (LR: 3.92459e-05)\n"
          ]
        },
        {
          "name": "stderr",
          "output_type": "stream",
          "text": []
        },
        {
          "name": "stdout",
          "output_type": "stream",
          "text": [
            "Train Loss(加權): 2.0283 | Train Raw MAE: 2.0283 | Val MAE: 2.9089\n",
            "\n",
            "[FOLD 5] === Epoch 341/400 ===  (LR: 3.81579e-05)\n"
          ]
        },
        {
          "name": "stderr",
          "output_type": "stream",
          "text": []
        },
        {
          "name": "stdout",
          "output_type": "stream",
          "text": [
            "Train Loss(加權): 2.0309 | Train Raw MAE: 2.0309 | Val MAE: 2.8959\n",
            "\n",
            "[FOLD 5] === Epoch 342/400 ===  (LR: 3.70861e-05)\n"
          ]
        },
        {
          "name": "stderr",
          "output_type": "stream",
          "text": []
        },
        {
          "name": "stdout",
          "output_type": "stream",
          "text": [
            "Train Loss(加權): 2.0359 | Train Raw MAE: 2.0359 | Val MAE: 2.9447\n",
            "\n",
            "[FOLD 5] === Epoch 343/400 ===  (LR: 3.60308e-05)\n"
          ]
        },
        {
          "name": "stderr",
          "output_type": "stream",
          "text": []
        },
        {
          "name": "stdout",
          "output_type": "stream",
          "text": [
            "Train Loss(加權): 2.0303 | Train Raw MAE: 2.0303 | Val MAE: 2.8977\n",
            "\n",
            "[FOLD 5] === Epoch 344/400 ===  (LR: 3.4992e-05)\n"
          ]
        },
        {
          "name": "stderr",
          "output_type": "stream",
          "text": []
        },
        {
          "name": "stdout",
          "output_type": "stream",
          "text": [
            "Train Loss(加權): 2.0339 | Train Raw MAE: 2.0339 | Val MAE: 3.0778\n",
            "\n",
            "[FOLD 5] === Epoch 345/400 ===  (LR: 3.39697e-05)\n"
          ]
        },
        {
          "name": "stderr",
          "output_type": "stream",
          "text": []
        },
        {
          "name": "stdout",
          "output_type": "stream",
          "text": [
            "Train Loss(加權): 2.0309 | Train Raw MAE: 2.0309 | Val MAE: 2.8932\n",
            "\n",
            "[FOLD 5] === Epoch 346/400 ===  (LR: 3.29641e-05)\n"
          ]
        },
        {
          "name": "stderr",
          "output_type": "stream",
          "text": []
        },
        {
          "name": "stdout",
          "output_type": "stream",
          "text": [
            "Train Loss(加權): 2.0199 | Train Raw MAE: 2.0199 | Val MAE: 2.8640\n",
            "\n",
            "[FOLD 5] === Epoch 347/400 ===  (LR: 3.19751e-05)\n"
          ]
        },
        {
          "name": "stderr",
          "output_type": "stream",
          "text": []
        },
        {
          "name": "stdout",
          "output_type": "stream",
          "text": [
            "Train Loss(加權): 2.0283 | Train Raw MAE: 2.0283 | Val MAE: 2.8882\n",
            "\n",
            "[FOLD 5] === Epoch 348/400 ===  (LR: 3.1003e-05)\n"
          ]
        },
        {
          "name": "stderr",
          "output_type": "stream",
          "text": []
        },
        {
          "name": "stdout",
          "output_type": "stream",
          "text": [
            "Train Loss(加權): 2.0098 | Train Raw MAE: 2.0098 | Val MAE: 2.8890\n",
            "\n",
            "[FOLD 5] === Epoch 349/400 ===  (LR: 3.00477e-05)\n"
          ]
        },
        {
          "name": "stderr",
          "output_type": "stream",
          "text": []
        },
        {
          "name": "stdout",
          "output_type": "stream",
          "text": [
            "Train Loss(加權): 1.9998 | Train Raw MAE: 1.9998 | Val MAE: 2.8760\n",
            "\n",
            "[FOLD 5] === Epoch 350/400 ===  (LR: 2.91094e-05)\n"
          ]
        },
        {
          "name": "stderr",
          "output_type": "stream",
          "text": []
        },
        {
          "name": "stdout",
          "output_type": "stream",
          "text": [
            "Train Loss(加權): 2.0071 | Train Raw MAE: 2.0071 | Val MAE: 2.8748\n",
            "\n",
            "[FOLD 5] === Epoch 351/400 ===  (LR: 2.81881e-05)\n"
          ]
        },
        {
          "name": "stderr",
          "output_type": "stream",
          "text": []
        },
        {
          "name": "stdout",
          "output_type": "stream",
          "text": [
            "Train Loss(加權): 1.9878 | Train Raw MAE: 1.9878 | Val MAE: 2.8851\n",
            "\n",
            "[FOLD 5] === Epoch 352/400 ===  (LR: 2.72839e-05)\n"
          ]
        },
        {
          "name": "stderr",
          "output_type": "stream",
          "text": []
        },
        {
          "name": "stdout",
          "output_type": "stream",
          "text": [
            "Train Loss(加權): 1.9842 | Train Raw MAE: 1.9842 | Val MAE: 2.8869\n",
            "\n",
            "[FOLD 5] === Epoch 353/400 ===  (LR: 2.63968e-05)\n"
          ]
        },
        {
          "name": "stderr",
          "output_type": "stream",
          "text": []
        },
        {
          "name": "stdout",
          "output_type": "stream",
          "text": [
            "Train Loss(加權): 2.0014 | Train Raw MAE: 2.0014 | Val MAE: 2.8781\n",
            "\n",
            "[FOLD 5] === Epoch 354/400 ===  (LR: 2.5527e-05)\n"
          ]
        },
        {
          "name": "stderr",
          "output_type": "stream",
          "text": []
        },
        {
          "name": "stdout",
          "output_type": "stream",
          "text": [
            "Train Loss(加權): 2.0055 | Train Raw MAE: 2.0055 | Val MAE: 2.8978\n",
            "\n",
            "[FOLD 5] === Epoch 355/400 ===  (LR: 2.46744e-05)\n"
          ]
        },
        {
          "name": "stderr",
          "output_type": "stream",
          "text": []
        },
        {
          "name": "stdout",
          "output_type": "stream",
          "text": [
            "Train Loss(加權): 2.0087 | Train Raw MAE: 2.0087 | Val MAE: 2.8418\n",
            "\n",
            "[FOLD 5] === Epoch 356/400 ===  (LR: 2.38392e-05)\n"
          ]
        },
        {
          "name": "stderr",
          "output_type": "stream",
          "text": []
        },
        {
          "name": "stdout",
          "output_type": "stream",
          "text": [
            "Train Loss(加權): 1.9915 | Train Raw MAE: 1.9915 | Val MAE: 2.8734\n",
            "\n",
            "[FOLD 5] === Epoch 357/400 ===  (LR: 2.30214e-05)\n"
          ]
        },
        {
          "name": "stderr",
          "output_type": "stream",
          "text": []
        },
        {
          "name": "stdout",
          "output_type": "stream",
          "text": [
            "Train Loss(加權): 1.9698 | Train Raw MAE: 1.9698 | Val MAE: 2.8689\n",
            "\n",
            "[FOLD 5] === Epoch 358/400 ===  (LR: 2.2221e-05)\n"
          ]
        },
        {
          "name": "stderr",
          "output_type": "stream",
          "text": []
        },
        {
          "name": "stdout",
          "output_type": "stream",
          "text": [
            "Train Loss(加權): 2.0072 | Train Raw MAE: 2.0072 | Val MAE: 2.9056\n",
            "\n",
            "[FOLD 5] === Epoch 359/400 ===  (LR: 2.14382e-05)\n"
          ]
        },
        {
          "name": "stderr",
          "output_type": "stream",
          "text": []
        },
        {
          "name": "stdout",
          "output_type": "stream",
          "text": [
            "Train Loss(加權): 1.9868 | Train Raw MAE: 1.9868 | Val MAE: 2.8743\n",
            "\n",
            "[FOLD 5] === Epoch 360/400 ===  (LR: 2.06731e-05)\n"
          ]
        },
        {
          "name": "stderr",
          "output_type": "stream",
          "text": []
        },
        {
          "name": "stdout",
          "output_type": "stream",
          "text": [
            "Train Loss(加權): 2.0005 | Train Raw MAE: 2.0005 | Val MAE: 2.8939\n",
            "\n",
            "[FOLD 5] === Epoch 361/400 ===  (LR: 1.99255e-05)\n"
          ]
        },
        {
          "name": "stderr",
          "output_type": "stream",
          "text": []
        },
        {
          "name": "stdout",
          "output_type": "stream",
          "text": [
            "Train Loss(加權): 1.9822 | Train Raw MAE: 1.9822 | Val MAE: 2.9098\n",
            "\n",
            "[FOLD 5] === Epoch 362/400 ===  (LR: 1.91957e-05)\n"
          ]
        },
        {
          "name": "stderr",
          "output_type": "stream",
          "text": []
        },
        {
          "name": "stdout",
          "output_type": "stream",
          "text": [
            "Train Loss(加權): 2.0018 | Train Raw MAE: 2.0018 | Val MAE: 2.8872\n",
            "\n",
            "[FOLD 5] === Epoch 363/400 ===  (LR: 1.84836e-05)\n"
          ]
        },
        {
          "name": "stderr",
          "output_type": "stream",
          "text": []
        },
        {
          "name": "stdout",
          "output_type": "stream",
          "text": [
            "Train Loss(加權): 1.9866 | Train Raw MAE: 1.9866 | Val MAE: 2.9323\n",
            "\n",
            "[FOLD 5] === Epoch 364/400 ===  (LR: 1.77894e-05)\n"
          ]
        },
        {
          "name": "stderr",
          "output_type": "stream",
          "text": []
        },
        {
          "name": "stdout",
          "output_type": "stream",
          "text": [
            "Train Loss(加權): 1.9826 | Train Raw MAE: 1.9826 | Val MAE: 2.8685\n",
            "\n",
            "[FOLD 5] === Epoch 365/400 ===  (LR: 1.7113e-05)\n"
          ]
        },
        {
          "name": "stderr",
          "output_type": "stream",
          "text": []
        },
        {
          "name": "stdout",
          "output_type": "stream",
          "text": [
            "Train Loss(加權): 1.9623 | Train Raw MAE: 1.9623 | Val MAE: 2.8780\n",
            "\n",
            "[FOLD 5] === Epoch 366/400 ===  (LR: 1.64546e-05)\n"
          ]
        },
        {
          "name": "stderr",
          "output_type": "stream",
          "text": []
        },
        {
          "name": "stdout",
          "output_type": "stream",
          "text": [
            "Train Loss(加權): 1.9589 | Train Raw MAE: 1.9589 | Val MAE: 2.8585\n",
            "\n",
            "[FOLD 5] === Epoch 367/400 ===  (LR: 1.58141e-05)\n"
          ]
        },
        {
          "name": "stderr",
          "output_type": "stream",
          "text": []
        },
        {
          "name": "stdout",
          "output_type": "stream",
          "text": [
            "Train Loss(加權): 1.9729 | Train Raw MAE: 1.9729 | Val MAE: 2.8823\n",
            "\n",
            "[FOLD 5] === Epoch 368/400 ===  (LR: 1.51916e-05)\n"
          ]
        },
        {
          "name": "stderr",
          "output_type": "stream",
          "text": []
        },
        {
          "name": "stdout",
          "output_type": "stream",
          "text": [
            "Train Loss(加權): 1.9874 | Train Raw MAE: 1.9874 | Val MAE: 2.9128\n",
            "\n",
            "[FOLD 5] === Epoch 369/400 ===  (LR: 1.45873e-05)\n"
          ]
        },
        {
          "name": "stderr",
          "output_type": "stream",
          "text": []
        },
        {
          "name": "stdout",
          "output_type": "stream",
          "text": [
            "Train Loss(加權): 1.9533 | Train Raw MAE: 1.9533 | Val MAE: 2.8865\n",
            "\n",
            "[FOLD 5] === Epoch 370/400 ===  (LR: 1.4001e-05)\n"
          ]
        },
        {
          "name": "stderr",
          "output_type": "stream",
          "text": []
        },
        {
          "name": "stdout",
          "output_type": "stream",
          "text": [
            "Train Loss(加權): 1.9666 | Train Raw MAE: 1.9666 | Val MAE: 2.8726\n",
            "\n",
            "[FOLD 5] === Epoch 371/400 ===  (LR: 1.34329e-05)\n"
          ]
        },
        {
          "name": "stderr",
          "output_type": "stream",
          "text": []
        },
        {
          "name": "stdout",
          "output_type": "stream",
          "text": [
            "Train Loss(加權): 1.9715 | Train Raw MAE: 1.9715 | Val MAE: 2.8849\n",
            "\n",
            "[FOLD 5] === Epoch 372/400 ===  (LR: 1.2883e-05)\n"
          ]
        },
        {
          "name": "stderr",
          "output_type": "stream",
          "text": []
        },
        {
          "name": "stdout",
          "output_type": "stream",
          "text": [
            "Train Loss(加權): 1.9609 | Train Raw MAE: 1.9609 | Val MAE: 2.9093\n",
            "\n",
            "[FOLD 5] === Epoch 373/400 ===  (LR: 1.23514e-05)\n"
          ]
        },
        {
          "name": "stderr",
          "output_type": "stream",
          "text": []
        },
        {
          "name": "stdout",
          "output_type": "stream",
          "text": [
            "Train Loss(加權): 1.9706 | Train Raw MAE: 1.9706 | Val MAE: 2.9003\n",
            "\n",
            "[FOLD 5] === Epoch 374/400 ===  (LR: 1.18381e-05)\n"
          ]
        },
        {
          "name": "stderr",
          "output_type": "stream",
          "text": []
        },
        {
          "name": "stdout",
          "output_type": "stream",
          "text": [
            "Train Loss(加權): 1.9729 | Train Raw MAE: 1.9729 | Val MAE: 2.8774\n",
            "\n",
            "[FOLD 5] === Epoch 375/400 ===  (LR: 1.1343e-05)\n"
          ]
        },
        {
          "name": "stderr",
          "output_type": "stream",
          "text": []
        },
        {
          "name": "stdout",
          "output_type": "stream",
          "text": [
            "Train Loss(加權): 1.9439 | Train Raw MAE: 1.9439 | Val MAE: 2.8771\n",
            "\n",
            "[FOLD 5] === Epoch 376/400 ===  (LR: 1.08664e-05)\n"
          ]
        },
        {
          "name": "stderr",
          "output_type": "stream",
          "text": []
        },
        {
          "name": "stdout",
          "output_type": "stream",
          "text": [
            "Train Loss(加權): 1.9631 | Train Raw MAE: 1.9631 | Val MAE: 2.8901\n",
            "\n",
            "[FOLD 5] === Epoch 377/400 ===  (LR: 1.04081e-05)\n"
          ]
        },
        {
          "name": "stderr",
          "output_type": "stream",
          "text": []
        },
        {
          "name": "stdout",
          "output_type": "stream",
          "text": [
            "Train Loss(加權): 1.9545 | Train Raw MAE: 1.9545 | Val MAE: 2.8684\n",
            "\n",
            "[FOLD 5] === Epoch 378/400 ===  (LR: 9.9683e-06)\n"
          ]
        },
        {
          "name": "stderr",
          "output_type": "stream",
          "text": []
        },
        {
          "name": "stdout",
          "output_type": "stream",
          "text": [
            "Train Loss(加權): 1.9411 | Train Raw MAE: 1.9411 | Val MAE: 2.8793\n",
            "\n",
            "[FOLD 5] === Epoch 379/400 ===  (LR: 9.54696e-06)\n"
          ]
        },
        {
          "name": "stderr",
          "output_type": "stream",
          "text": []
        },
        {
          "name": "stdout",
          "output_type": "stream",
          "text": [
            "Train Loss(加權): 1.9823 | Train Raw MAE: 1.9823 | Val MAE: 2.8792\n",
            "\n",
            "[FOLD 5] === Epoch 380/400 ===  (LR: 9.14411e-06)\n"
          ]
        },
        {
          "name": "stderr",
          "output_type": "stream",
          "text": []
        },
        {
          "name": "stdout",
          "output_type": "stream",
          "text": [
            "Train Loss(加權): 1.9160 | Train Raw MAE: 1.9160 | Val MAE: 2.8852\n",
            "\n",
            "[FOLD 5] === Epoch 381/400 ===  (LR: 8.75979e-06)\n"
          ]
        },
        {
          "name": "stderr",
          "output_type": "stream",
          "text": []
        },
        {
          "name": "stdout",
          "output_type": "stream",
          "text": [
            "Train Loss(加權): 1.9824 | Train Raw MAE: 1.9824 | Val MAE: 2.8692\n",
            "\n",
            "[FOLD 5] === Epoch 382/400 ===  (LR: 8.39404e-06)\n"
          ]
        },
        {
          "name": "stderr",
          "output_type": "stream",
          "text": []
        },
        {
          "name": "stdout",
          "output_type": "stream",
          "text": [
            "Train Loss(加權): 1.9525 | Train Raw MAE: 1.9525 | Val MAE: 2.8773\n",
            "\n",
            "[FOLD 5] === Epoch 383/400 ===  (LR: 8.04688e-06)\n"
          ]
        },
        {
          "name": "stderr",
          "output_type": "stream",
          "text": []
        },
        {
          "name": "stdout",
          "output_type": "stream",
          "text": [
            "Train Loss(加權): 1.9307 | Train Raw MAE: 1.9307 | Val MAE: 2.8696\n",
            "\n",
            "[FOLD 5] === Epoch 384/400 ===  (LR: 7.71833e-06)\n"
          ]
        },
        {
          "name": "stderr",
          "output_type": "stream",
          "text": []
        },
        {
          "name": "stdout",
          "output_type": "stream",
          "text": [
            "Train Loss(加權): 1.9520 | Train Raw MAE: 1.9520 | Val MAE: 2.8972\n",
            "\n",
            "[FOLD 5] === Epoch 385/400 ===  (LR: 7.40842e-06)\n"
          ]
        },
        {
          "name": "stderr",
          "output_type": "stream",
          "text": []
        },
        {
          "name": "stdout",
          "output_type": "stream",
          "text": [
            "Train Loss(加權): 1.9574 | Train Raw MAE: 1.9574 | Val MAE: 2.8834\n",
            "\n",
            "[FOLD 5] === Epoch 386/400 ===  (LR: 7.11718e-06)\n"
          ]
        },
        {
          "name": "stderr",
          "output_type": "stream",
          "text": []
        },
        {
          "name": "stdout",
          "output_type": "stream",
          "text": [
            "Train Loss(加權): 1.9479 | Train Raw MAE: 1.9479 | Val MAE: 2.8774\n",
            "\n",
            "[FOLD 5] === Epoch 387/400 ===  (LR: 6.84463e-06)\n"
          ]
        },
        {
          "name": "stderr",
          "output_type": "stream",
          "text": []
        },
        {
          "name": "stdout",
          "output_type": "stream",
          "text": [
            "Train Loss(加權): 1.9663 | Train Raw MAE: 1.9663 | Val MAE: 2.8700\n",
            "\n",
            "[FOLD 5] === Epoch 388/400 ===  (LR: 6.59078e-06)\n"
          ]
        },
        {
          "name": "stderr",
          "output_type": "stream",
          "text": []
        },
        {
          "name": "stdout",
          "output_type": "stream",
          "text": [
            "Train Loss(加權): 1.9267 | Train Raw MAE: 1.9267 | Val MAE: 2.8715\n",
            "\n",
            "[FOLD 5] === Epoch 389/400 ===  (LR: 6.35566e-06)\n"
          ]
        },
        {
          "name": "stderr",
          "output_type": "stream",
          "text": []
        },
        {
          "name": "stdout",
          "output_type": "stream",
          "text": [
            "Train Loss(加權): 1.9422 | Train Raw MAE: 1.9422 | Val MAE: 2.8715\n",
            "\n",
            "[FOLD 5] === Epoch 390/400 ===  (LR: 6.13928e-06)\n"
          ]
        },
        {
          "name": "stderr",
          "output_type": "stream",
          "text": []
        },
        {
          "name": "stdout",
          "output_type": "stream",
          "text": [
            "Train Loss(加權): 1.9543 | Train Raw MAE: 1.9543 | Val MAE: 2.9137\n",
            "\n",
            "[FOLD 5] === Epoch 391/400 ===  (LR: 5.94167e-06)\n"
          ]
        },
        {
          "name": "stderr",
          "output_type": "stream",
          "text": []
        },
        {
          "name": "stdout",
          "output_type": "stream",
          "text": [
            "Train Loss(加權): 1.9325 | Train Raw MAE: 1.9325 | Val MAE: 2.8701\n",
            "\n",
            "[FOLD 5] === Epoch 392/400 ===  (LR: 5.76283e-06)\n"
          ]
        },
        {
          "name": "stderr",
          "output_type": "stream",
          "text": []
        },
        {
          "name": "stdout",
          "output_type": "stream",
          "text": [
            "Train Loss(加權): 1.9465 | Train Raw MAE: 1.9465 | Val MAE: 2.8522\n",
            "\n",
            "[FOLD 5] === Epoch 393/400 ===  (LR: 5.60278e-06)\n"
          ]
        },
        {
          "name": "stderr",
          "output_type": "stream",
          "text": []
        },
        {
          "name": "stdout",
          "output_type": "stream",
          "text": [
            "Train Loss(加權): 1.9247 | Train Raw MAE: 1.9247 | Val MAE: 2.8695\n",
            "\n",
            "[FOLD 5] === Epoch 394/400 ===  (LR: 5.46154e-06)\n"
          ]
        },
        {
          "name": "stderr",
          "output_type": "stream",
          "text": []
        },
        {
          "name": "stdout",
          "output_type": "stream",
          "text": [
            "Train Loss(加權): 1.9516 | Train Raw MAE: 1.9516 | Val MAE: 2.8601\n",
            "\n",
            "[FOLD 5] === Epoch 395/400 ===  (LR: 5.3391e-06)\n"
          ]
        },
        {
          "name": "stderr",
          "output_type": "stream",
          "text": []
        },
        {
          "name": "stdout",
          "output_type": "stream",
          "text": [
            "Train Loss(加權): 1.9337 | Train Raw MAE: 1.9337 | Val MAE: 2.8659\n",
            "\n",
            "[FOLD 5] === Epoch 396/400 ===  (LR: 5.23549e-06)\n"
          ]
        },
        {
          "name": "stderr",
          "output_type": "stream",
          "text": []
        },
        {
          "name": "stdout",
          "output_type": "stream",
          "text": [
            "Train Loss(加權): 1.9471 | Train Raw MAE: 1.9471 | Val MAE: 2.8596\n",
            "\n",
            "[FOLD 5] === Epoch 397/400 ===  (LR: 5.15071e-06)\n"
          ]
        },
        {
          "name": "stderr",
          "output_type": "stream",
          "text": []
        },
        {
          "name": "stdout",
          "output_type": "stream",
          "text": [
            "Train Loss(加權): 1.9369 | Train Raw MAE: 1.9369 | Val MAE: 2.8561\n",
            "\n",
            "[FOLD 5] === Epoch 398/400 ===  (LR: 5.08477e-06)\n"
          ]
        },
        {
          "name": "stderr",
          "output_type": "stream",
          "text": []
        },
        {
          "name": "stdout",
          "output_type": "stream",
          "text": [
            "Train Loss(加權): 1.9036 | Train Raw MAE: 1.9036 | Val MAE: 2.8514\n",
            "\n",
            "[FOLD 5] === Epoch 399/400 ===  (LR: 5.03767e-06)\n"
          ]
        },
        {
          "name": "stderr",
          "output_type": "stream",
          "text": []
        },
        {
          "name": "stdout",
          "output_type": "stream",
          "text": [
            "Train Loss(加權): 1.9220 | Train Raw MAE: 1.9220 | Val MAE: 2.9097\n",
            "\n",
            "[FOLD 5] === Epoch 400/400 ===  (LR: 5.00941e-06)\n"
          ]
        },
        {
          "name": "stderr",
          "output_type": "stream",
          "text": []
        },
        {
          "name": "stdout",
          "output_type": "stream",
          "text": [
            "Train Loss(加權): 1.9482 | Train Raw MAE: 1.9482 | Val MAE: 2.8695\n",
            "✅ Fold 5 最佳模型已儲存\n",
            "\n",
            "📊 分析 MAE 訓練結果...\n"
          ]
        },
        {
          "name": "stderr",
          "output_type": "stream",
          "text": [
            "Testing: 100%|██████████| 288/288 [00:01<00:00, 206.03it/s]\n"
          ]
        },
        {
          "name": "stdout",
          "output_type": "stream",
          "text": [
            "\n",
            "📊 年齡組詳細表現分析 (fold1_mae_best.pth):\n",
            " Age Group  Count      MAE     RMSE     Bias  Low Est %\n",
            "--------------------------------------------------------------\n",
            "       5-9    152    6.178    8.674    6.084       7.9%\n",
            "     10-14    133    4.955    7.144    4.319      21.1%\n",
            "     15-19    192    4.176    6.036    2.663      31.2%\n",
            "     20-24    291    3.969    5.709    0.714      51.2%\n",
            "     25-29     79    4.944    6.501   -0.740      63.3%\n",
            "     30-34     37    6.469    8.083   -1.660      67.6%\n",
            "     35-39     14    6.930    8.098   -6.930     100.0%\n",
            "     40-44     10    8.836    9.554   -8.836     100.0%\n",
            "     45-49     13   10.180   11.528   -9.918      92.3%\n",
            "     50-54     22   15.980   17.158  -15.897      95.5%\n",
            "     55-59     26   18.944   20.098  -18.944     100.0%\n",
            "     60-64     41   22.479   23.626  -22.343      97.6%\n",
            "     65-69     37   25.759   26.339  -25.759     100.0%\n",
            "     70-74     48   23.243   24.754  -23.243     100.0%\n",
            "     75-79     36   27.084   28.110  -27.084     100.0%\n",
            "     80-84     11   29.736   30.093  -29.736     100.0%\n",
            "     85-89      6   29.270   29.598  -29.270     100.0%\n",
            "     90-94      1   39.280   39.280  -39.280     100.0%\n",
            "--------------------------------------------------------------\n",
            "   Overall   1149    8.576   12.661   -3.098      51.0%\n",
            "\n",
            "🎯 老年組 (>=65歲) 特別分析:\n",
            "   樣本數: 139\n",
            "   MAE: 25.797\n",
            "   平均偏差: -25.797 (低估)\n",
            "   低估比例: 100.0%\n",
            "\n",
            "🎯 中年組 (40–64歲) 特別分析:\n",
            "   樣本數: 85\n",
            "   MAE: 13.669\n",
            "   平均偏差: -13.607 (低估)\n",
            "   低估比例: 97.6%\n"
          ]
        },
        {
          "name": "stderr",
          "output_type": "stream",
          "text": [
            "Testing: 100%|██████████| 288/288 [00:01<00:00, 201.65it/s]\n"
          ]
        },
        {
          "name": "stdout",
          "output_type": "stream",
          "text": [
            "\n",
            "📊 年齡組詳細表現分析 (fold2_mae_best.pth):\n",
            " Age Group  Count      MAE     RMSE     Bias  Low Est %\n",
            "--------------------------------------------------------------\n",
            "       5-9    152    1.492    2.300    1.072      25.7%\n",
            "     10-14    133    1.611    2.092   -0.033      52.6%\n",
            "     15-19    192    1.952    2.545    1.099      25.5%\n",
            "     20-24    291    1.908    3.367   -0.116      65.6%\n",
            "     25-29     79    3.863    4.983   -1.647      75.9%\n",
            "     30-34     37    6.541    8.176   -2.275      75.7%\n",
            "     35-39     14    7.929    8.760   -0.364      50.0%\n",
            "     40-44     10    9.128   10.826   -4.870      60.0%\n",
            "     45-49     13    8.308   10.871    1.283      30.8%\n",
            "     50-54     22    6.330    8.520    3.017      27.3%\n",
            "     55-59     26    6.695    9.360    0.335      38.5%\n",
            "     60-64     41    4.252    5.240    0.847      43.9%\n",
            "     65-69     37    4.437    5.677   -1.308      56.8%\n",
            "     70-74     48    4.118    5.070   -0.772      50.0%\n",
            "     75-79     36    3.312    4.458   -1.303      63.9%\n",
            "     80-84     11    6.558    8.395   -5.716      72.7%\n",
            "     85-89      6    6.903    7.471   -6.903     100.0%\n",
            "     90-94      1    8.828    8.828   -8.828     100.0%\n",
            "--------------------------------------------------------------\n",
            "   Overall   1149    2.889    4.520   -0.045      49.7%\n",
            "\n",
            "🎯 老年組 (>=65歲) 特別分析:\n",
            "   樣本數: 139\n",
            "   MAE: 4.341\n",
            "   平均偏差: -1.766 (低估)\n",
            "   低估比例: 59.7%\n",
            "\n",
            "🎯 中年組 (40–64歲) 特別分析:\n",
            "   樣本數: 85\n",
            "   MAE: 7.337\n",
            "   平均偏差: 0.447 (高估)\n",
            "   低估比例: 38.8%\n"
          ]
        },
        {
          "name": "stderr",
          "output_type": "stream",
          "text": [
            "Testing: 100%|██████████| 288/288 [00:01<00:00, 205.34it/s]\n"
          ]
        },
        {
          "name": "stdout",
          "output_type": "stream",
          "text": [
            "\n",
            "📊 年齡組詳細表現分析 (fold3_mae_best.pth):\n",
            " Age Group  Count      MAE     RMSE     Bias  Low Est %\n",
            "--------------------------------------------------------------\n",
            "       5-9    152    1.315    1.886    0.662      40.1%\n",
            "     10-14    133    1.568    1.978   -0.544      60.2%\n",
            "     15-19    192    1.941    2.651    0.892      22.9%\n",
            "     20-24    291    1.842    3.338   -0.206      67.0%\n",
            "     25-29     79    3.939    4.804   -1.891      79.7%\n",
            "     30-34     37    6.435    7.913   -2.853      70.3%\n",
            "     35-39     14    7.548    8.801   -1.445      57.1%\n",
            "     40-44     10    8.501   10.226   -4.810      60.0%\n",
            "     45-49     13   10.361   11.792    5.846      23.1%\n",
            "     50-54     22    7.521    9.425    4.181      22.7%\n",
            "     55-59     26    5.926    7.738    0.982      38.5%\n",
            "     60-64     41    3.986    5.310    0.977      36.6%\n",
            "     65-69     37    3.539    4.796   -0.958      59.5%\n",
            "     70-74     48    4.146    4.898   -0.345      45.8%\n",
            "     75-79     36    3.416    4.404   -0.627      52.8%\n",
            "     80-84     11    5.404    6.933   -3.478      72.7%\n",
            "     85-89      6    3.563    4.657   -3.563     100.0%\n",
            "     90-94      1   11.554   11.554  -11.554     100.0%\n",
            "--------------------------------------------------------------\n",
            "   Overall   1149    2.803    4.365   -0.083      51.7%\n",
            "\n",
            "🎯 老年組 (>=65歲) 特別分析:\n",
            "   樣本數: 139\n",
            "   MAE: 3.923\n",
            "   平均偏差: -1.049 (低估)\n",
            "   低估比例: 56.1%\n",
            "\n",
            "🎯 中年組 (40–64歲) 特別分析:\n",
            "   樣本數: 85\n",
            "   MAE: 7.587\n",
            "   平均偏差: 1.473 (高估)\n",
            "   低估比例: 37.6%\n"
          ]
        },
        {
          "name": "stderr",
          "output_type": "stream",
          "text": [
            "Testing: 100%|██████████| 288/288 [00:01<00:00, 198.73it/s]\n"
          ]
        },
        {
          "name": "stdout",
          "output_type": "stream",
          "text": [
            "\n",
            "📊 年齡組詳細表現分析 (fold4_mae_best.pth):\n",
            " Age Group  Count      MAE     RMSE     Bias  Low Est %\n",
            "--------------------------------------------------------------\n",
            "       5-9    152    1.308    2.046    0.554      36.8%\n",
            "     10-14    133    1.725    2.103   -0.787      69.9%\n",
            "     15-19    192    1.497    2.436    0.256      37.0%\n",
            "     20-24    291    2.210    3.179   -1.238      84.2%\n",
            "     25-29     79    4.283    5.232   -2.902      86.1%\n",
            "     30-34     37    7.178    8.116   -4.046      83.8%\n",
            "     35-39     14    7.661    8.895   -2.208      57.1%\n",
            "     40-44     10    7.451    8.963   -0.681      40.0%\n",
            "     45-49     13    6.043    7.789    1.625      46.2%\n",
            "     50-54     22    6.679    9.037    3.813      18.2%\n",
            "     55-59     26    6.104    8.341   -1.032      50.0%\n",
            "     60-64     41    3.732    4.970   -1.082      61.0%\n",
            "     65-69     37    3.760    4.606   -2.527      78.4%\n",
            "     70-74     48    3.992    4.958   -2.978      72.9%\n",
            "     75-79     36    4.582    5.798   -3.928      83.3%\n",
            "     80-84     11    6.406    7.600   -6.406     100.0%\n",
            "     85-89      6    7.550    8.738   -7.550     100.0%\n",
            "     90-94      1   15.671   15.671  -15.671     100.0%\n",
            "--------------------------------------------------------------\n",
            "   Overall   1149    2.880    4.349   -1.065      64.1%\n",
            "\n",
            "🎯 老年組 (>=65歲) 特別分析:\n",
            "   樣本數: 139\n",
            "   MAE: 4.512\n",
            "   平均偏差: -3.664 (低估)\n",
            "   低估比例: 80.6%\n",
            "\n",
            "🎯 中年組 (40–64歲) 特別分析:\n",
            "   樣本數: 85\n",
            "   MAE: 6.658\n",
            "   平均偏差: 0.476 (高估)\n",
            "   低估比例: 41.2%\n"
          ]
        },
        {
          "name": "stderr",
          "output_type": "stream",
          "text": [
            "Testing: 100%|██████████| 288/288 [00:01<00:00, 195.71it/s]"
          ]
        },
        {
          "name": "stdout",
          "output_type": "stream",
          "text": [
            "\n",
            "📊 年齡組詳細表現分析 (fold5_mae_best.pth):\n",
            " Age Group  Count      MAE     RMSE     Bias  Low Est %\n",
            "--------------------------------------------------------------\n",
            "       5-9    152    1.282    1.669    0.716      32.2%\n",
            "     10-14    133    1.565    1.991   -0.226      54.9%\n",
            "     15-19    192    1.960    2.445    1.035      21.9%\n",
            "     20-24    291    1.686    2.511   -0.158      64.3%\n",
            "     25-29     79    4.212    6.242   -1.219      77.2%\n",
            "     30-34     37    6.862    8.240   -2.306      70.3%\n",
            "     35-39     14    7.056    8.130   -3.480      85.7%\n",
            "     40-44     10    8.373    9.639   -5.730      80.0%\n",
            "     45-49     13    9.720   12.214    2.017      30.8%\n",
            "     50-54     22    7.322    8.835    3.228      36.4%\n",
            "     55-59     26    6.401    7.935   -0.586      42.3%\n",
            "     60-64     41    3.485    4.320    0.671      46.3%\n",
            "     65-69     37    4.097    5.160   -1.912      70.3%\n",
            "     70-74     48    3.796    4.659   -1.382      58.3%\n",
            "     75-79     36    3.445    4.360   -2.231      75.0%\n",
            "     80-84     11    5.257    6.449   -5.257     100.0%\n",
            "     85-89      6    6.865    7.951   -5.888      83.3%\n",
            "     90-94      1   14.123   14.123  -14.123     100.0%\n",
            "--------------------------------------------------------------\n",
            "   Overall   1149    2.791    4.294   -0.236      52.0%\n",
            "\n",
            "🎯 老年組 (>=65歲) 特別分析:\n",
            "   樣本數: 139\n",
            "   MAE: 4.107\n",
            "   平均偏差: -2.336 (低估)\n",
            "   低估比例: 70.5%\n",
            "\n",
            "🎯 中年組 (40–64歲) 特別分析:\n",
            "   樣本數: 85\n",
            "   MAE: 7.487\n",
            "   平均偏差: -0.283 (低估)\n",
            "   低估比例: 50.6%\n",
            "\n",
            "✅ 論文版本和MAE版本的加權訓練完成！\n"
          ]
        },
        {
          "name": "stderr",
          "output_type": "stream",
          "text": [
            "\n"
          ]
        }
      ],
      "source": [
        "if __name__ == \"__main__\":\n",
        "    loss_functions = ['mae']\n",
        "    for loss_type in loss_functions:\n",
        "        print(f\"\\n\" + \"=\"*60)\n",
        "        print(f\"開始 {loss_type.upper()} 訓練...\")\n",
        "        print(\"=\"*60)\n",
        "\n",
        "        train_with_weights(loss_type)\n",
        "\n",
        "        print(f\"\\n分析 {loss_type.upper()} 訓練結果...\")\n",
        "        best_models = glob.glob(f\"{cfg.SAVE_DIR}/fold*_{loss_type}_best.pth\")\n",
        "        for model_path in best_models:\n",
        "            analyze_age_group_performance(model_path, cfg.TEST_CSV, cfg.IMG_DIR)\n",
        "\n",
        "    print(\"\\nMAE版本的加權訓練完成！\")"
      ]
    },
    {
      "cell_type": "code",
      "execution_count": null,
      "metadata": {},
      "outputs": [],
      "source": [
        "# 測試程式 - 5 個 fold 在測試集上推論\n",
        "if __name__ == \"__main__\":\n",
        "    loss_type = 'mae'\n",
        "    \n",
        "    print(\"=\"*60)\n",
        "    print(f\"開始測試 - 使用 {loss_type.upper()} 訓練的 5 個 fold 模型\")\n",
        "    print(\"=\"*60)\n",
        "    \n",
        "    # 收集所有 fold 的最佳模型\n",
        "    best_models = glob.glob(f\"{cfg.SAVE_DIR}/fold*_{loss_type}_best.pth\")\n",
        "    best_models = sorted(best_models)\n",
        "    \n",
        "    if len(best_models) == 0:\n",
        "        print(f\"錯誤：找不到模型檔案於 {cfg.SAVE_DIR}\")\n",
        "        print(\"請確認模型已訓練完成\")\n",
        "    else:\n",
        "        print(f\"\\n找到 {len(best_models)} 個模型:\")\n",
        "        for model_path in best_models:\n",
        "            print(f\"  - {os.path.basename(model_path)}\")\n",
        "        \n",
        "        print(f\"\\n開始在測試集上評估...\")\n",
        "        print(f\"測試集: {cfg.TEST_CSV}\")\n",
        "        print(\"=\"*60)\n",
        "        \n",
        "        # 逐一分析每個 fold\n",
        "        for i, model_path in enumerate(best_models, 1):\n",
        "            print(f\"\\n[{i}/{len(best_models)}] 評估模型: {os.path.basename(model_path)}\")\n",
        "            print(\"-\"*60)\n",
        "            analyze_age_group_performance(model_path, cfg.TEST_CSV, cfg.IMG_DIR)\n",
        "            print(\"-\"*60)\n",
        "        \n",
        "        print(\"\\n所有 fold 測試完成！\")"
      ]
    },
    {
      "cell_type": "code",
      "execution_count": null,
      "metadata": {
        "id": "_vSz3737WGOC"
      },
      "outputs": [],
      "source": [
        "# 集成推論 - 平均 5 個 fold 模型\n",
        "if __name__ == \"__main__\":\n",
        "    loss_type = 'mae'\n",
        "    \n",
        "    print(\"=\"*60)\n",
        "    print(\"開始集成推論 - 5 個 fold 模型平均\")\n",
        "    print(\"=\"*60)\n",
        "    \n",
        "    # 自動收集訓練好的模型\n",
        "    weight_paths = sorted(glob.glob(f\"{cfg.SAVE_DIR}/fold*_{loss_type}_best.pth\"))\n",
        "    \n",
        "    if len(weight_paths) != cfg.N_SPLITS:\n",
        "        print(f\"警告：找到 {len(weight_paths)} 個模型，但需要 {cfg.N_SPLITS} 個\")\n",
        "        print(\"找到的模型:\")\n",
        "        for p in weight_paths:\n",
        "            print(f\"  - {os.path.basename(p)}\")\n",
        "        exit(1)\n",
        "    \n",
        "    print(f\"\\n使用的模型:\")\n",
        "    for i, p in enumerate(weight_paths, 1):\n",
        "        print(f\"  Fold {i}: {os.path.basename(p)}\")\n",
        "    \n",
        "    # 載入測試資料\n",
        "    test_df = pd.read_csv(cfg.TEST_CSV).reset_index(drop=True)\n",
        "    test_ds = GlobalOnlyDataset(test_df, cfg.IMG_DIR)\n",
        "    test_ld = DataLoader(test_ds, batch_size=cfg.BATCH_SIZE,\n",
        "                         shuffle=False, num_workers=2, pin_memory=True)\n",
        "    \n",
        "    print(f\"\\n測試集大小: {len(test_ds)}\")\n",
        "    print(\"=\"*60)\n",
        "    \n",
        "    # 準備儲存每個 fold 的預測\n",
        "    ensemble_preds = np.zeros((len(test_ds), cfg.N_SPLITS), dtype=np.float32)\n",
        "    \n",
        "    # 逐一載入模型並預測\n",
        "    for k, w_path in enumerate(weight_paths):\n",
        "        print(f\"\\n推論 Fold {k+1}: {os.path.basename(w_path)}\")\n",
        "        model = BrainAgeModelWithSex().to(device)\n",
        "        model.load_state_dict(torch.load(w_path, map_location=device))\n",
        "        model.eval()\n",
        "        \n",
        "        offset = 0\n",
        "        with torch.no_grad():\n",
        "            for imgs, _, sex, _ in tqdm(test_ld, desc=f\"Fold{k+1}\"):\n",
        "                bs = imgs.size(0)\n",
        "                preds = model(imgs.to(device), sex.to(device)).cpu().numpy()\n",
        "                ensemble_preds[offset:offset+bs, k] = preds\n",
        "                offset += bs\n",
        "    \n",
        "    # 計算平均預測\n",
        "    final_pred = ensemble_preds.mean(axis=1)\n",
        "    \n",
        "    # 計算每個樣本的標準差（模型間的不確定性）\n",
        "    pred_std = ensemble_preds.std(axis=1)\n",
        "    \n",
        "    # 儲存結果\n",
        "    result_df = pd.DataFrame({\n",
        "        \"NIfTI_ID\": test_df[\"NIfTI_ID\"],\n",
        "        \"True_Age\": test_df[\"AGE\"],\n",
        "        \"Predicted_Age\": final_pred,\n",
        "        \"Prediction_Std\": pred_std\n",
        "    })\n",
        "    \n",
        "    out_csv = f\"{cfg.SAVE_DIR}/ensemble_predictions.csv\"\n",
        "    result_df.to_csv(out_csv, index=False)\n",
        "    \n",
        "    # 計算整體指標\n",
        "    mae = np.mean(np.abs(final_pred - test_df[\"AGE\"]))\n",
        "    rmse = np.sqrt(np.mean((final_pred - test_df[\"AGE\"])**2))\n",
        "    \n",
        "    print(\"\\n\" + \"=\"*60)\n",
        "    print(\"集成推論完成！\")\n",
        "    print(\"=\"*60)\n",
        "    print(f\"測試集 MAE:  {mae:.3f}\")\n",
        "    print(f\"測試集 RMSE: {rmse:.3f}\")\n",
        "    print(f\"平均預測標準差: {pred_std.mean():.3f}\")\n",
        "    print(f\"\\n結果已儲存: {out_csv}\")"
      ]
    }
  ],
  "metadata": {
    "accelerator": "GPU",
    "colab": {
      "gpuType": "A100",
      "machine_shape": "hm",
      "provenance": []
    },
    "kernelspec": {
      "display_name": "Python 3",
      "name": "python3"
    },
    "language_info": {
      "name": "python"
    }
  },
  "nbformat": 4,
  "nbformat_minor": 0
}
